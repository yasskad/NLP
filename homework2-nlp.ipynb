{
 "cells": [
  {
   "cell_type": "markdown",
   "metadata": {},
   "source": [
    "# Preparing the data and useful functions"
   ]
  },
  {
   "cell_type": "markdown",
   "metadata": {},
   "source": [
    "## Import the usual suspects"
   ]
  },
  {
   "cell_type": "code",
   "execution_count": 1,
   "metadata": {
    "collapsed": true,
    "deletable": true,
    "editable": true
   },
   "outputs": [],
   "source": [
    "import numpy as np\n",
    "import pandas as pd\n",
    "import torch\n",
    "import torch.nn as nn\n",
    "import torch.nn.functional as F\n",
    "from torch.utils.data import Dataset\n",
    "from collections import Counter\n",
    "import pickle as pkl\n",
    "import random\n",
    "import pdb\n",
    "import io\n",
    "import smtplib\n",
    "import string\n",
    "import spacy\n",
    "import pickle as pkl\n",
    "\n",
    "PAD_IDX = 0\n",
    "UNK_IDX = 1\n",
    "BATCH_SIZE = 32"
   ]
  },
  {
   "cell_type": "markdown",
   "metadata": {},
   "source": [
    "## Function to tell us when our jobs are done"
   ]
  },
  {
   "cell_type": "code",
   "execution_count": 2,
   "metadata": {
    "collapsed": true,
    "deletable": true,
    "editable": true
   },
   "outputs": [],
   "source": [
    "#created this function to notify me when a job is done or almost done\n",
    "def sendmail(job='',percentage=100):\n",
    "    mail='yk1859@nyu.edu'\n",
    "    server = smtplib.SMTP('smtp.gmail.com:587')\n",
    "    server.ehlo()\n",
    "    server.starttls()\n",
    "    server.login(\"notificationmta@gmail.com\", \"PyProject1859\")\n",
    "    #Send the mail\n",
    "    msg = \"\\r\\n\".join([\n",
    "            \"From: subwayhelper@gmail.com\",\n",
    "            \"To: \"+mail,\n",
    "            \"Subject: NLP notification: \"+job+str(percentage)+\"% complete\",\n",
    "            \"\",\n",
    "            'Your NLP job is on its way'\n",
    "            ])\n",
    "        # The /n separates the message from the headers\n",
    "    server.sendmail(\"subwayhelper@gmail.com\", mail, msg)\n",
    "    server.quit()"
   ]
  },
  {
   "cell_type": "code",
   "execution_count": 3,
   "metadata": {
    "collapsed": false,
    "deletable": true,
    "editable": true
   },
   "outputs": [],
   "source": [
    "sendmail()"
   ]
  },
  {
   "cell_type": "markdown",
   "metadata": {},
   "source": [
    "# Load and tokenize the Data"
   ]
  },
  {
   "cell_type": "code",
   "execution_count": 4,
   "metadata": {
    "collapsed": true
   },
   "outputs": [],
   "source": [
    "train_data=pd.read_csv('snli_train.tsv',sep='\\t')\n",
    "val_data=pd.read_csv('snli_val.tsv',sep='\\t')"
   ]
  },
  {
   "cell_type": "code",
   "execution_count": 5,
   "metadata": {
    "collapsed": false
   },
   "outputs": [],
   "source": [
    "punctuations = string.punctuation\n",
    "tokenizer = spacy.load('en_core_web_sm')\n",
    "\n",
    "def tokenize(sent):\n",
    "    tokens = tokenizer(sent)\n",
    "    return [token.text.lower() for token in tokens if (token.text not in punctuations)]\n",
    "\n",
    "def tokenize_dataset(dataset):\n",
    "    dataset_premise=dataset['sentence1']\n",
    "    dataset_hypothesis=dataset['sentence2']\n",
    "    # we are keeping track of all tokens in dataset \n",
    "    # in order to create vocabulary later\n",
    "    all_tokens = []\n",
    "    token_dataset_premise=[]\n",
    "    token_dataset_hypothesis=[]\n",
    "    for i in range(len(dataset_premise)):\n",
    "        tokens_premise=tokenize(dataset_premise[i])\n",
    "        tokens_hypothesis=tokenize(dataset_hypothesis[i])\n",
    "        \n",
    "        token_dataset_premise.append(tokens_premise)\n",
    "        token_dataset_hypothesis.append(tokens_hypothesis)\n",
    "        \n",
    "        all_tokens += tokens_premise\n",
    "        all_tokens += tokens_hypothesis\n",
    "        \n",
    "    token_dataset=[token_dataset_premise,token_dataset_hypothesis]\n",
    "    return token_dataset, all_tokens\n",
    "\n"
   ]
  },
  {
   "cell_type": "code",
   "execution_count": 6,
   "metadata": {
    "collapsed": false
   },
   "outputs": [],
   "source": [
    "#train_tokens,all_tokens_train=tokenize_dataset(train_data)"
   ]
  },
  {
   "cell_type": "code",
   "execution_count": 7,
   "metadata": {
    "collapsed": false
   },
   "outputs": [],
   "source": [
    "\n",
    "#pkl.dump(train_tokens,open('train_tokens.p','wb'))\n",
    "#pkl.dump(all_tokens_train,open('all_tokens_train.p','wb'))\n",
    "#Words tokenized with spacy\n",
    "train_tokens=pkl.load(open('train_tokens.p','rb'))\n",
    "all_tokens_train=pkl.load(open('all_tokens_train.p','rb'))"
   ]
  },
  {
   "cell_type": "code",
   "execution_count": 8,
   "metadata": {
    "collapsed": false
   },
   "outputs": [],
   "source": [
    "#val_tokens, _=tokenize_dataset(val_data)"
   ]
  },
  {
   "cell_type": "code",
   "execution_count": 9,
   "metadata": {
    "collapsed": true
   },
   "outputs": [],
   "source": [
    "#pkl.dump(val_tokens,open('val_tokens.p','wb'))\n",
    "#Words tokenized with spacy\n",
    "val_tokens=pkl.load(open('val_tokens.p','rb'))"
   ]
  },
  {
   "cell_type": "markdown",
   "metadata": {},
   "source": [
    "## Verify our output"
   ]
  },
  {
   "cell_type": "code",
   "execution_count": 10,
   "metadata": {
    "collapsed": false
   },
   "outputs": [
    {
     "name": "stdout",
     "output_type": "stream",
     "text": [
      "['a', 'little', 'girl', 'in', 'a', 'red', 'shirt', 'playing', 'on', 'a', 'jungle', 'gym']\n",
      "['a', 'boy', 'feeding', 'his', 'dog']\n",
      "sentence1    A little girl in a red shirt playing on a jung...\n",
      "sentence2                              A boy feeding his dog .\n",
      "label                                            contradiction\n",
      "Name: 33575, dtype: object\n"
     ]
    }
   ],
   "source": [
    "r=random.randint(0,len(train_tokens[0]))\n",
    "print(train_tokens[0][r])\n",
    "print(train_tokens[1][r])\n",
    "print(train_data.iloc[r])"
   ]
  },
  {
   "cell_type": "code",
   "execution_count": 11,
   "metadata": {
    "collapsed": false
   },
   "outputs": [],
   "source": [
    "train_target=train_data['label']\n",
    "val_target=val_data['label']"
   ]
  },
  {
   "cell_type": "code",
   "execution_count": 12,
   "metadata": {
    "collapsed": false
   },
   "outputs": [
    {
     "name": "stdout",
     "output_type": "stream",
     "text": [
      "contradiction\n"
     ]
    }
   ],
   "source": [
    "print(train_target[r])"
   ]
  },
  {
   "cell_type": "markdown",
   "metadata": {},
   "source": [
    "## We take 0 for neutral, 1 for entailment and 2 for contradiction"
   ]
  },
  {
   "cell_type": "code",
   "execution_count": 13,
   "metadata": {
    "collapsed": false,
    "deletable": true,
    "editable": true
   },
   "outputs": [],
   "source": [
    "train_target=np.array(train_target.replace('neutral',0).replace('entailment',1).replace('contradiction',2))"
   ]
  },
  {
   "cell_type": "code",
   "execution_count": 14,
   "metadata": {
    "collapsed": false,
    "deletable": true,
    "editable": true
   },
   "outputs": [],
   "source": [
    "val_target=np.array(val_target.replace('neutral',0).replace('entailment',1).replace('contradiction',2))"
   ]
  },
  {
   "cell_type": "markdown",
   "metadata": {},
   "source": [
    "## Load the Fast Text vectors"
   ]
  },
  {
   "cell_type": "code",
   "execution_count": 15,
   "metadata": {
    "collapsed": false
   },
   "outputs": [],
   "source": [
    "def load_vectors(fname):\n",
    "    fin = io.open(fname, 'r', encoding='utf-8', newline='\\n', errors='ignore')\n",
    "    n, d = map(int, fin.readline().split())\n",
    "    data = {}\n",
    "    for line in fin:\n",
    "        tokens = line.rstrip().split(' ')\n",
    "        data[tokens[0]] = np.array(tokens[1:])\n",
    "    return data\n",
    "ft_vectors=load_vectors('wiki-news-300d-1M.vec')\n",
    "sendmail(job='FT vectors ')\n",
    "\n"
   ]
  },
  {
   "cell_type": "markdown",
   "metadata": {},
   "source": [
    "## Build the vocabulary"
   ]
  },
  {
   "cell_type": "code",
   "execution_count": 16,
   "metadata": {
    "collapsed": false,
    "deletable": true,
    "editable": true
   },
   "outputs": [],
   "source": [
    "vocab_size=5000\n",
    "\n",
    "def build_vocab(all_tokens):\n",
    "    # Returns:\n",
    "    # id2token: list of tokens, where id2token[i] returns token that corresponds to token i\n",
    "    # token2id: dictionary where keys represent tokens and corresponding values represent indices\n",
    "    token_counter = Counter(all_tokens)\n",
    "    vocab, count = zip(*token_counter.most_common(vocab_size))\n",
    "    new_vocab=[]\n",
    "    for word in vocab:\n",
    "        if word in ft_vectors:\n",
    "            new_vocab.append(word)\n",
    "    vocab=new_vocab\n",
    "    id2token = list(vocab)\n",
    "    token2id = dict(zip(vocab, range(2,2+len(vocab)))) \n",
    "    id2token = ['<pad>', '<unk>'] + id2token\n",
    "    token2id['<pad>'] = PAD_IDX \n",
    "    token2id['<unk>'] = UNK_IDX\n",
    "    return token2id, id2token\n",
    "\n",
    "def token2index_dataset(tokens_data):\n",
    "    indices_data = []\n",
    "    for tokens in tokens_data:\n",
    "        index_list = [token2id[token] if token in token2id else UNK_IDX for token in tokens]\n",
    "        indices_data.append(index_list)\n",
    "    return indices_data\n",
    "\n"
   ]
  },
  {
   "cell_type": "code",
   "execution_count": null,
   "metadata": {
    "collapsed": false
   },
   "outputs": [],
   "source": []
  },
  {
   "cell_type": "code",
   "execution_count": 17,
   "metadata": {
    "collapsed": false,
    "deletable": true,
    "editable": true
   },
   "outputs": [
    {
     "data": {
      "text/plain": [
       "4997"
      ]
     },
     "execution_count": 17,
     "metadata": {},
     "output_type": "execute_result"
    }
   ],
   "source": [
    "token2id, id2token = build_vocab(all_tokens_train)\n",
    "# convert token to id in the dataset\n",
    "len(id2token)"
   ]
  },
  {
   "cell_type": "code",
   "execution_count": 18,
   "metadata": {
    "collapsed": false
   },
   "outputs": [
    {
     "data": {
      "text/plain": [
       "19643"
      ]
     },
     "execution_count": 18,
     "metadata": {},
     "output_type": "execute_result"
    }
   ],
   "source": [
    "len(Counter(all_tokens_train).most_common())"
   ]
  },
  {
   "cell_type": "code",
   "execution_count": 19,
   "metadata": {
    "collapsed": false
   },
   "outputs": [
    {
     "data": {
      "text/plain": [
       "{1000: 1003, 2500: 2503, 5000: 5005, 7500: 7525, 10000: 10099, 15000: 15819}"
      ]
     },
     "execution_count": 19,
     "metadata": {},
     "output_type": "execute_result"
    }
   ],
   "source": [
    "k=0\n",
    "p=0\n",
    "marks=[1000,2500,5000,7500,10000,15000,20000]\n",
    "corresponding_vocab_marks={}\n",
    "for i in Counter(all_tokens_train).most_common():\n",
    "    if i[0] in ft_vectors:\n",
    "        k+=1\n",
    "        p+=1\n",
    "    else:\n",
    "        p+=1\n",
    "    if k in marks:\n",
    "        corresponding_vocab_marks[k]=p\n",
    "corresponding_vocab_marks"
   ]
  },
  {
   "cell_type": "markdown",
   "metadata": {},
   "source": [
    "## We will use the whole intersection between our vocabulary and the Fast Text dictionary"
   ]
  },
  {
   "cell_type": "code",
   "execution_count": 20,
   "metadata": {
    "collapsed": false
   },
   "outputs": [
    {
     "data": {
      "text/plain": [
       "18107"
      ]
     },
     "execution_count": 20,
     "metadata": {},
     "output_type": "execute_result"
    }
   ],
   "source": [
    "vocab_size=None # We will take the whole intersection of our vocabulary with FastText\n",
    "token2id, id2token = build_vocab(all_tokens_train)\n",
    "# convert token to id in the dataset\n",
    "len(id2token)\n"
   ]
  },
  {
   "cell_type": "code",
   "execution_count": 21,
   "metadata": {
    "collapsed": false
   },
   "outputs": [],
   "source": [
    "train_premise_indices = token2index_dataset(train_tokens[0])"
   ]
  },
  {
   "cell_type": "code",
   "execution_count": 22,
   "metadata": {
    "collapsed": false,
    "deletable": true,
    "editable": true
   },
   "outputs": [],
   "source": [
    "train_hypothesis_indices = token2index_dataset(train_tokens[1])"
   ]
  },
  {
   "cell_type": "code",
   "execution_count": 23,
   "metadata": {
    "collapsed": true
   },
   "outputs": [],
   "source": [
    "val_premise_indices=token2index_dataset(val_tokens[0])"
   ]
  },
  {
   "cell_type": "code",
   "execution_count": 24,
   "metadata": {
    "collapsed": true
   },
   "outputs": [],
   "source": [
    "val_hypothesis_indices=token2index_dataset(val_tokens[1])"
   ]
  },
  {
   "cell_type": "markdown",
   "metadata": {},
   "source": [
    "# Let's check the distribution of the sentences' length"
   ]
  },
  {
   "cell_type": "code",
   "execution_count": 25,
   "metadata": {
    "collapsed": false
   },
   "outputs": [],
   "source": [
    "lengths_sentences=[]\n",
    "for i in range(len(train_premise_indices)):\n",
    "    l1=len(train_premise_indices[i])\n",
    "    l2=len(train_hypothesis_indices[i])\n",
    "    lengths_sentences.append(l1)\n",
    "    lengths_sentences.append(l2)"
   ]
  },
  {
   "cell_type": "code",
   "execution_count": 26,
   "metadata": {
    "collapsed": false
   },
   "outputs": [
    {
     "data": {
      "text/plain": [
       "count    200000.000000\n",
       "mean         10.191405\n",
       "std           5.385070\n",
       "min           1.000000\n",
       "25%           6.000000\n",
       "50%           9.000000\n",
       "75%          13.000000\n",
       "max          78.000000\n",
       "dtype: float64"
      ]
     },
     "execution_count": 26,
     "metadata": {},
     "output_type": "execute_result"
    }
   ],
   "source": [
    "pd.Series(lengths_sentences).describe()"
   ]
  },
  {
   "cell_type": "code",
   "execution_count": 27,
   "metadata": {
    "collapsed": false
   },
   "outputs": [
    {
     "name": "stdout",
     "output_type": "stream",
     "text": [
      "Quantile 0.8: 14.0\n",
      "Quantile 0.85: 15.0\n",
      "Quantile 0.9: 17.0\n",
      "Quantile 0.95: 21.0\n",
      "Quantile 0.96: 22.0\n",
      "Quantile 0.97: 23.0\n",
      "Quantile 0.98: 25.0\n",
      "Quantile 0.99: 28.0\n"
     ]
    }
   ],
   "source": [
    "for q in [0.8,0.85,0.9,0.95,0.96,0.97,0.98,0.99]:\n",
    "    print('Quantile '+str(q)+': '+str(pd.Series(lengths_sentences).quantile(q)))"
   ]
  },
  {
   "cell_type": "code",
   "execution_count": 28,
   "metadata": {
    "collapsed": true
   },
   "outputs": [],
   "source": [
    "MAX_SENTENCE_LENGTH=pd.Series(lengths_sentences).max()"
   ]
  },
  {
   "cell_type": "code",
   "execution_count": 29,
   "metadata": {
    "collapsed": false
   },
   "outputs": [
    {
     "data": {
      "text/plain": [
       "78"
      ]
     },
     "execution_count": 29,
     "metadata": {},
     "output_type": "execute_result"
    }
   ],
   "source": [
    "MAX_SENTENCE_LENGTH"
   ]
  },
  {
   "cell_type": "markdown",
   "metadata": {},
   "source": [
    "# We create the Dataset and the collate function"
   ]
  },
  {
   "cell_type": "code",
   "execution_count": 30,
   "metadata": {
    "collapsed": false,
    "deletable": true,
    "editable": true
   },
   "outputs": [],
   "source": [
    "class NewsGroupDataset(Dataset):\n",
    "    \"\"\"\n",
    "    Class that represents a train/validation/test dataset that's readable for PyTorch\n",
    "    Note that this class inherits torch.utils.data.Dataset\n",
    "    \"\"\"\n",
    "\n",
    "    def __init__(self, data_list, target_list):\n",
    "        \"\"\"\n",
    "        @param data_list: list of newsgroup tokens \n",
    "        @param target_list: list of newsgroup targets \n",
    "\n",
    "        \"\"\"\n",
    "        self.data_list = data_list\n",
    "        self.target_list = target_list\n",
    "        assert (len(self.data_list) == len(self.target_list))\n",
    "\n",
    "    def __len__(self):\n",
    "        return len(self.data_list)\n",
    "\n",
    "    def __getitem__(self, key):\n",
    "        \"\"\"\n",
    "        Triggered when you call dataset[i]\n",
    "        \"\"\"\n",
    "\n",
    "        premise_idx = self.data_list[key][0][:MAX_SENTENCE_LENGTH]\n",
    "        hypothesis_idx = self.data_list[key][1][:MAX_SENTENCE_LENGTH]\n",
    "        label = self.target_list[key]\n",
    "        lengths_premise_hypothesis=[len(premise_idx),len(hypothesis_idx)]\n",
    "        return [premise_idx,hypothesis_idx, lengths_premise_hypothesis, label]\n",
    "\n",
    "def newsgroup_collate_func(batch):\n",
    "    \"\"\"\n",
    "    Customized function for DataLoader that dynamically pads the batch so that all \n",
    "    data have the same length\n",
    "    \"\"\"\n",
    "    data_premise_list = []\n",
    "    data_hypothesis_list = []\n",
    "    label_list = []\n",
    "    length_premise_list = []\n",
    "    length_hypothesis_list = []\n",
    "    #print(\"collate batch: \", batch[0][0])\n",
    "    #batch[0][0] = batch[0][0][:MAX_SENTENCE_LENGTH]\n",
    "    for datum in batch:\n",
    "        label_list.append(datum[3])\n",
    "        length_premise_list.append(datum[2][0])\n",
    "        length_hypothesis_list.append(datum[2][1])\n",
    "    # padding\n",
    "        padded_premise_vec = np.pad(np.array(datum[0]), \n",
    "                                pad_width=((0,MAX_SENTENCE_LENGTH-datum[2][0])), \n",
    "                                mode=\"constant\", constant_values=0)\n",
    "        \n",
    "        data_premise_list.append(padded_premise_vec)\n",
    "        \n",
    "        padded_hypothesis_vec = np.pad(np.array(datum[1]), \n",
    "                                pad_width=((0,MAX_SENTENCE_LENGTH-datum[2][1])), \n",
    "                                mode=\"constant\", constant_values=0)\n",
    "        \n",
    "        data_hypothesis_list.append(padded_hypothesis_vec)\n",
    "        \n",
    "    return [torch.from_numpy(np.array(data_premise_list)),\n",
    "            torch.from_numpy(np.array(data_hypothesis_list)), \n",
    "            torch.LongTensor(length_premise_list),\n",
    "            torch.LongTensor(length_hypothesis_list),\n",
    "            torch.LongTensor(label_list)]\n",
    "\n"
   ]
  },
  {
   "cell_type": "markdown",
   "metadata": {},
   "source": [
    "### We rearrange our data to fit with the functions built"
   ]
  },
  {
   "cell_type": "markdown",
   "metadata": {},
   "source": [
    "i.e. a list of size $\\text{num_instances}\\times2$ "
   ]
  },
  {
   "cell_type": "code",
   "execution_count": 31,
   "metadata": {
    "collapsed": false
   },
   "outputs": [],
   "source": [
    "train_data_indices=[]\n",
    "for i in range(len(train_premise_indices)):\n",
    "    t_i=[train_premise_indices[i],train_hypothesis_indices[i]]\n",
    "    train_data_indices.append(t_i)\n",
    "    "
   ]
  },
  {
   "cell_type": "code",
   "execution_count": 32,
   "metadata": {
    "collapsed": false,
    "deletable": true,
    "editable": true
   },
   "outputs": [],
   "source": [
    "train_dataset = NewsGroupDataset(train_data_indices, train_target)"
   ]
  },
  {
   "cell_type": "code",
   "execution_count": 33,
   "metadata": {
    "collapsed": false,
    "deletable": true,
    "editable": true
   },
   "outputs": [],
   "source": [
    "val_data_indices=[]\n",
    "for i in range(len(val_premise_indices)):\n",
    "    t_i=[val_premise_indices[i],val_hypothesis_indices[i]]\n",
    "    val_data_indices.append(t_i)\n",
    "    \n",
    "val_dataset = NewsGroupDataset(val_data_indices, val_target)"
   ]
  },
  {
   "cell_type": "markdown",
   "metadata": {},
   "source": [
    "### Build the loaders"
   ]
  },
  {
   "cell_type": "code",
   "execution_count": 34,
   "metadata": {
    "collapsed": false,
    "deletable": true,
    "editable": true
   },
   "outputs": [],
   "source": [
    "train_loader = torch.utils.data.DataLoader(dataset=train_dataset, \n",
    "                                           batch_size=BATCH_SIZE,\n",
    "                                           collate_fn=newsgroup_collate_func,\n",
    "                                           shuffle=True)"
   ]
  },
  {
   "cell_type": "code",
   "execution_count": 35,
   "metadata": {
    "collapsed": true,
    "deletable": true,
    "editable": true
   },
   "outputs": [],
   "source": [
    "val_loader=torch.utils.data.DataLoader(dataset=val_dataset, \n",
    "                                               batch_size=BATCH_SIZE,\n",
    "                                               collate_fn=newsgroup_collate_func,\n",
    "                                               shuffle=False)"
   ]
  },
  {
   "cell_type": "markdown",
   "metadata": {},
   "source": [
    "### We want to build an embedding for the $<unk>$ token"
   ]
  },
  {
   "cell_type": "markdown",
   "metadata": {},
   "source": [
    "We will simply use a random vector, with values between -1 and 1. Let's just check that our embeddings don't have any kind of normalization."
   ]
  },
  {
   "cell_type": "code",
   "execution_count": 36,
   "metadata": {
    "collapsed": false
   },
   "outputs": [
    {
     "data": {
      "text/plain": [
       "count    10000.000000\n",
       "mean         1.853321\n",
       "std          0.465334\n",
       "min          0.931184\n",
       "25%          1.477065\n",
       "50%          1.737407\n",
       "75%          2.196820\n",
       "max          8.000352\n",
       "dtype: float64"
      ]
     },
     "execution_count": 36,
     "metadata": {},
     "output_type": "execute_result"
    }
   ],
   "source": [
    "n=[]\n",
    "iterations=0\n",
    "for key in ft_vectors:\n",
    "    if iterations==10000:\n",
    "        break\n",
    "    norm=np.linalg.norm(ft_vectors[key])\n",
    "    n.append(norm)\n",
    "    iterations+=1\n",
    "pd.Series(n).describe()"
   ]
  },
  {
   "cell_type": "markdown",
   "metadata": {},
   "source": [
    "No normalization apparently so let's just go for a random vector for now and see if the results are satisying enough"
   ]
  },
  {
   "cell_type": "code",
   "execution_count": 37,
   "metadata": {
    "collapsed": true,
    "deletable": true,
    "editable": true
   },
   "outputs": [],
   "source": [
    "embedding_words=[[0]*300,list(np.random.uniform(low=-1.0,high=1.0,size=(1,300))[0])]\n",
    "for word in id2token[2:]:\n",
    "    embedding_words.append(ft_vectors[word])\n",
    "embedding_words=np.array(embedding_words,dtype=float)"
   ]
  },
  {
   "cell_type": "code",
   "execution_count": 38,
   "metadata": {
    "collapsed": true
   },
   "outputs": [],
   "source": [
    "#pkl.dump(embedding_words,open('embedding_words.p','wb'))\n",
    "#embedding_words=pkl.load(open('embedding_words.p','rb'))"
   ]
  },
  {
   "cell_type": "code",
   "execution_count": 39,
   "metadata": {
    "collapsed": false
   },
   "outputs": [
    {
     "name": "stdout",
     "output_type": "stream",
     "text": [
      "schnauzer\n",
      "[-0.129  -0.0413  0.0452  0.1612 -0.0686 -0.1957 -0.1789  0.0323  0.2056\n",
      " -0.0801  0.0361 -0.1122  0.0859 -0.0569  0.1333  0.0227  0.1415 -0.008\n",
      " -0.0118 -0.162 ]\n",
      "['-0.1290' '-0.0413' '0.0452' '0.1612' '-0.0686' '-0.1957' '-0.1789'\n",
      " '0.0323' '0.2056' '-0.0801' '0.0361' '-0.1122' '0.0859' '-0.0569'\n",
      " '0.1333' '0.0227' '0.1415' '-0.0080' '-0.0118' '-0.1620']\n"
     ]
    }
   ],
   "source": [
    "r=random.randint(0,len(id2token))\n",
    "print(id2token[r])\n",
    "print(embedding_words[r][:20])\n",
    "print(ft_vectors[id2token[r]][:20])"
   ]
  },
  {
   "cell_type": "markdown",
   "metadata": {},
   "source": [
    "## We check that our loader has the appropriate types and is correctly built"
   ]
  },
  {
   "cell_type": "code",
   "execution_count": 40,
   "metadata": {
    "collapsed": false
   },
   "outputs": [
    {
     "name": "stdout",
     "output_type": "stream",
     "text": [
      "premise \n",
      "\n",
      "tensor([[ 680,    6,    4,  ...,    0,    0,    0],\n",
      "        [  13,   25,   81,  ...,    0,    0,    0],\n",
      "        [   2,    6,  429,  ...,    0,    0,    0],\n",
      "        ...,\n",
      "        [   2,    6,   75,  ...,    0,    0,    0],\n",
      "        [2988,    4,   18,  ...,    0,    0,    0],\n",
      "        [   2,    6,    4,  ...,    0,    0,    0]])\n",
      "torch.LongTensor\n",
      "hypothesis \n",
      "\n",
      "tensor([[   2,    6,   11,  ...,    0,    0,    0],\n",
      "        [  13,  903,    4,  ...,    0,    0,    0],\n",
      "        [   3,    6,    5,  ...,    0,    0,    0],\n",
      "        ...,\n",
      "        [   3,    6,    5,  ...,    0,    0,    0],\n",
      "        [   3, 2988,    5,  ...,    0,    0,    0],\n",
      "        [   3,    6,    4,  ...,    0,    0,    0]])\n",
      "torch.LongTensor\n",
      "len premise \n",
      "\n",
      "tensor([13,  8,  6, 13, 13, 12, 14, 10, 23, 12, 32, 10, 13,  7,  7, 17,  8,  8,\n",
      "        10, 12, 15, 13, 17, 21,  8, 18,  9, 19, 17, 11, 12, 10])\n",
      "torch.LongTensor\n",
      "len hypothesis \n",
      "\n",
      "tensor([13,  5,  5,  6,  4,  9,  3, 10,  8, 11, 10,  9,  6,  6, 13,  7,  7, 10,\n",
      "         6,  7,  6, 10,  9,  5,  3,  9,  7, 14,  5,  5,  4, 12])\n",
      "torch.LongTensor\n",
      "labels \n",
      "\n",
      "tensor([0, 2, 0, 1, 0, 0, 1, 2, 0, 0, 0, 1, 1, 0, 2, 2, 1, 2, 0, 1, 0, 2, 2, 2,\n",
      "        1, 2, 1, 1, 1, 2, 1, 2])\n",
      "torch.LongTensor\n",
      "premise \n",
      "\n",
      "tensor([[  2,  12,  44,  ...,   0,   0,   0],\n",
      "        [  2,  12,  53,  ...,   0,   0,   0],\n",
      "        [  2,   6,   5,  ...,   0,   0,   0],\n",
      "        ...,\n",
      "        [  2, 197,  24,  ...,   0,   0,   0],\n",
      "        [295,  14, 307,  ...,   0,   0,   0],\n",
      "        [ 18, 564, 370,  ...,   0,   0,   0]])\n",
      "torch.LongTensor\n",
      "hypothesis \n",
      "\n",
      "tensor([[  2,  12,   5,  ...,   0,   0,   0],\n",
      "        [  3,  12,   5,  ...,   0,   0,   0],\n",
      "        [  3,   6,   5,  ...,   0,   0,   0],\n",
      "        ...,\n",
      "        [ 14,   9, 178,  ...,   0,   0,   0],\n",
      "        [295,  14, 307,  ...,   0,   0,   0],\n",
      "        [135,   5,  95,  ...,   0,   0,   0]])\n",
      "torch.LongTensor\n",
      "len premise \n",
      "\n",
      "tensor([22, 12,  7,  6, 21, 22, 12, 13, 13, 13, 45, 17, 10,  9, 14, 21, 14, 18,\n",
      "         5, 18, 12, 18,  6, 13, 11, 15,  5, 17, 15, 17,  9,  7])\n",
      "torch.LongTensor\n",
      "len hypothesis \n",
      "\n",
      "tensor([ 9,  4,  6,  7,  4,  9, 10,  7,  7,  7,  5,  7,  8, 13,  5,  8,  4, 20,\n",
      "         7, 16,  5,  4,  6,  6,  7,  6,  7,  7, 13,  4,  8,  6])\n",
      "torch.LongTensor\n",
      "labels \n",
      "\n",
      "tensor([0, 2, 0, 2, 0, 2, 2, 1, 0, 1, 1, 2, 2, 2, 1, 0, 2, 0, 0, 1, 1, 0, 2, 1,\n",
      "        1, 1, 2, 1, 1, 1, 1, 0])\n",
      "torch.LongTensor\n"
     ]
    }
   ],
   "source": [
    "iterations=0\n",
    "for batch in train_loader:\n",
    "    if iterations==2:\n",
    "        break\n",
    "    test_data_premise_list=batch[0]\n",
    "    test_data_hypothesis_list=batch[1]\n",
    "    test_length_premise_list=batch[2]\n",
    "    test_length_hypothesis_list=batch[3]\n",
    "    test_label_list=batch[4]\n",
    "    print('premise \\n')\n",
    "    print(test_data_premise_list)\n",
    "    print(test_data_premise_list.type())\n",
    "    print('hypothesis \\n')\n",
    "    print(test_data_hypothesis_list)\n",
    "    print(test_data_hypothesis_list.type())\n",
    "    print('len premise \\n')\n",
    "    print(test_length_premise_list)\n",
    "    print(test_length_premise_list.type())\n",
    "    print('len hypothesis \\n')\n",
    "    print(test_length_hypothesis_list)\n",
    "    print(test_length_hypothesis_list.type())\n",
    "    print('labels \\n')\n",
    "    print(test_label_list)\n",
    "    print(test_label_list.type())\n",
    "    iterations+=1"
   ]
  },
  {
   "cell_type": "code",
   "execution_count": 41,
   "metadata": {
    "collapsed": true
   },
   "outputs": [],
   "source": [
    "sendmail('Preprocessing jobs ')"
   ]
  },
  {
   "cell_type": "markdown",
   "metadata": {},
   "source": [
    "# Testing schemes to sort tensors (will be useful for the pack_padded_seq in the forward function)"
   ]
  },
  {
   "cell_type": "code",
   "execution_count": 42,
   "metadata": {
    "collapsed": false
   },
   "outputs": [
    {
     "data": {
      "text/plain": [
       "Int64Index([10,  0,  5,  4, 15, 17, 19, 21, 27, 11, 29, 25, 28, 16, 14,  7, 23,\n",
       "             9,  8,  6, 20,  1, 24, 12, 13, 30,  2, 31,  3, 22, 18, 26],\n",
       "           dtype='int64')"
      ]
     },
     "execution_count": 42,
     "metadata": {},
     "output_type": "execute_result"
    }
   ],
   "source": [
    "ind=pd.Series(test_length_premise_list).sort_values(ascending=False).index\n",
    "ind"
   ]
  },
  {
   "cell_type": "code",
   "execution_count": 43,
   "metadata": {
    "collapsed": false
   },
   "outputs": [
    {
     "data": {
      "text/plain": [
       "tensor([[  2,  21, 817,  ...,   0,   0,   0],\n",
       "        [  2,  12,  44,  ...,   0,   0,   0],\n",
       "        [  2, 626,  11,  ...,   0,   0,   0],\n",
       "        ...,\n",
       "        [  2,  12,   5,  ...,   0,   0,   0],\n",
       "        [ 14, 122,   4,  ...,   0,   0,   0],\n",
       "        [ 47,  14,   9,  ...,   0,   0,   0]])"
      ]
     },
     "execution_count": 43,
     "metadata": {},
     "output_type": "execute_result"
    }
   ],
   "source": [
    "permutated_premise=test_data_premise_list[pd.Series(test_length_premise_list).sort_values(ascending=False).index]\n",
    "permutated_premise"
   ]
  },
  {
   "cell_type": "code",
   "execution_count": 44,
   "metadata": {
    "collapsed": false
   },
   "outputs": [
    {
     "data": {
      "text/plain": [
       "tensor([   2,   28,    8,   25,   29,    5,   93,   78,    2, 1404,    0,    0,\n",
       "           0,    0,    0,    0,    0,    0,    0,    0,    0,    0,    0,    0,\n",
       "           0,    0,    0,    0,    0,    0,    0,    0,    0,    0,    0,    0,\n",
       "           0,    0,    0,    0,    0,    0,    0,    0,    0,    0,    0,    0,\n",
       "           0,    0,    0,    0,    0,    0,    0,    0,    0,    0,    0,    0,\n",
       "           0,    0,    0,    0,    0,    0,    0,    0,    0,    0,    0,    0,\n",
       "           0,    0,    0,    0,    0,    0])"
      ]
     },
     "execution_count": 44,
     "metadata": {},
     "output_type": "execute_result"
    }
   ],
   "source": [
    "test_data_premise_list[12]"
   ]
  },
  {
   "cell_type": "code",
   "execution_count": 45,
   "metadata": {
    "collapsed": false
   },
   "outputs": [
    {
     "data": {
      "text/plain": [
       "0     10\n",
       "1      0\n",
       "2      5\n",
       "3      4\n",
       "4     15\n",
       "5     17\n",
       "6     19\n",
       "7     21\n",
       "8     27\n",
       "9     11\n",
       "10    29\n",
       "11    25\n",
       "12    28\n",
       "13    16\n",
       "14    14\n",
       "15     7\n",
       "16    23\n",
       "17     9\n",
       "18     8\n",
       "19     6\n",
       "20    20\n",
       "21     1\n",
       "22    24\n",
       "23    12\n",
       "24    13\n",
       "25    30\n",
       "26     2\n",
       "27    31\n",
       "28     3\n",
       "29    22\n",
       "30    18\n",
       "31    26\n",
       "dtype: int64"
      ]
     },
     "execution_count": 45,
     "metadata": {},
     "output_type": "execute_result"
    }
   ],
   "source": [
    "pd.Series(ind)"
   ]
  },
  {
   "cell_type": "code",
   "execution_count": 46,
   "metadata": {
    "collapsed": false
   },
   "outputs": [
    {
     "data": {
      "text/plain": [
       "Int64Index([ 1, 21, 26, 28,  3,  2, 19, 15, 18, 17,  0,  9, 23, 24, 14,  4, 13,\n",
       "             5, 30,  6, 20,  7, 29, 16, 22, 11, 31,  8, 12, 10, 25, 27],\n",
       "           dtype='int64')"
      ]
     },
     "execution_count": 46,
     "metadata": {},
     "output_type": "execute_result"
    }
   ],
   "source": [
    "inverse_permutation=pd.Series(ind).sort_values(ascending=True).index\n",
    "inverse_permutation"
   ]
  },
  {
   "cell_type": "code",
   "execution_count": 47,
   "metadata": {
    "collapsed": false
   },
   "outputs": [
    {
     "data": {
      "text/plain": [
       "tensor([[  2,  12,  44,  ...,   0,   0,   0],\n",
       "        [  2,  12,  53,  ...,   0,   0,   0],\n",
       "        [  2,   6,   5,  ...,   0,   0,   0],\n",
       "        ...,\n",
       "        [  2, 197,  24,  ...,   0,   0,   0],\n",
       "        [295,  14, 307,  ...,   0,   0,   0],\n",
       "        [ 18, 564, 370,  ...,   0,   0,   0]])"
      ]
     },
     "execution_count": 47,
     "metadata": {},
     "output_type": "execute_result"
    }
   ],
   "source": [
    "permutated_premise[inverse_permutation]"
   ]
  },
  {
   "cell_type": "code",
   "execution_count": 48,
   "metadata": {
    "collapsed": false
   },
   "outputs": [
    {
     "data": {
      "text/plain": [
       "tensor([[  2,  12,  44,  ...,   0,   0,   0],\n",
       "        [  2,  12,  53,  ...,   0,   0,   0],\n",
       "        [  2,   6,   5,  ...,   0,   0,   0],\n",
       "        ...,\n",
       "        [  2, 197,  24,  ...,   0,   0,   0],\n",
       "        [295,  14, 307,  ...,   0,   0,   0],\n",
       "        [ 18, 564, 370,  ...,   0,   0,   0]])"
      ]
     },
     "execution_count": 48,
     "metadata": {},
     "output_type": "execute_result"
    }
   ],
   "source": [
    "test_data_premise_list"
   ]
  },
  {
   "cell_type": "code",
   "execution_count": 49,
   "metadata": {
    "collapsed": false
   },
   "outputs": [
    {
     "data": {
      "text/plain": [
       "tensor([[ 1,  2, 10, 20],\n",
       "        [ 2,  3, 20, 30]])"
      ]
     },
     "execution_count": 49,
     "metadata": {},
     "output_type": "execute_result"
    }
   ],
   "source": [
    "torch.cat(((torch.from_numpy(np.array([[1,2],[2,3]]))),(torch.from_numpy(np.array([[10,20],[20,30]])))),dim=1)"
   ]
  },
  {
   "cell_type": "markdown",
   "metadata": {},
   "source": [
    "#### The idea is simply to record the sorting permutation and then use the inverse permutation to get back to the starting point"
   ]
  },
  {
   "cell_type": "markdown",
   "metadata": {
    "collapsed": true,
    "deletable": true,
    "editable": true
   },
   "source": [
    "# Create the RNN"
   ]
  },
  {
   "cell_type": "code",
   "execution_count": 50,
   "metadata": {
    "collapsed": false
   },
   "outputs": [],
   "source": [
    "class GRU(nn.Module):\n",
    "    def __init__(self, ft_embeddings, hidden_size, num_layers):\n",
    "        super(GRU, self).__init__()\n",
    "\n",
    "        self.num_layers, self.hidden_size = num_layers, hidden_size\n",
    "        self.embedding = nn.Embedding.from_pretrained(torch.from_numpy(ft_embeddings).float())\n",
    "        self.gru = nn.GRU(300, hidden_size, num_layers,bidirectional=True, batch_first=True)\n",
    "        \n",
    "        \n",
    "    def init_hidden(self, batch_size):\n",
    "        # Function initializes the activation of recurrent neural net at timestep 0\n",
    "        # Needs to be in format (num_layers, batch_size, hidden_size)\n",
    "        hidden = torch.randn(2*self.num_layers, batch_size, self.hidden_size)\n",
    "        return hidden\n",
    "\n",
    "    def forward(self, x, lengths):\n",
    "        # reset hidden state\n",
    "\n",
    "        batch_size, seq_len = x.size()\n",
    "        self.hidden = self.init_hidden(batch_size)\n",
    "\n",
    "        # get embedding of characters\n",
    "        embed = self.embedding(x)\n",
    "        #sorting the lengths\n",
    "        indices=pd.Series(lengths).sort_values(ascending=False).index\n",
    "        embed=embed[indices]\n",
    "        lengths=lengths[indices]\n",
    "        # pack padded sequence\n",
    "        embed = torch.nn.utils.rnn.pack_padded_sequence(embed, (lengths.numpy()), batch_first=True)\n",
    "        # fprop though RNN\n",
    "        gru_out, self.hidden = self.gru(embed, self.hidden)\n",
    "        # undo packing\n",
    "        gru_out = self.hidden\n",
    "        #reorder output\n",
    "        inverse_permutation=pd.Series(indices).sort_values(ascending=True).index\n",
    "        forward_output=gru_out[0]\n",
    "        backward_output=gru_out[1]\n",
    "        output=torch.cat((forward_output,backward_output),dim=1)\n",
    "        output=output[inverse_permutation]\n",
    "        return output\n",
    "\n"
   ]
  },
  {
   "cell_type": "markdown",
   "metadata": {},
   "source": [
    "# Let's now build the full architecture"
   ]
  },
  {
   "cell_type": "code",
   "execution_count": 51,
   "metadata": {
    "collapsed": false
   },
   "outputs": [],
   "source": [
    "class TwoFullyConnectedLayers(nn.Module):\n",
    "    def __init__(self, ft_embeddings, hidden_size_GRU,hidden_size_linear, num_layers,num_classes=3):\n",
    "        super(TwoFullyConnectedLayers, self).__init__()\n",
    "\n",
    "        self.gru_premise=GRU(ft_embeddings,hidden_size_GRU,num_layers)\n",
    "        self.gru_hypothesis=GRU(ft_embeddings,hidden_size_GRU,num_layers)\n",
    "        \n",
    "        self.linear1=nn.Linear(2*(2*hidden_size_GRU),hidden_size_linear)  #concatenate the two outputs of size 2*hidden_size\n",
    "        self.linear2=nn.Linear(hidden_size_linear,num_classes)\n",
    "        \n",
    "        \n",
    "    def forward(self, premise,length_premise,hypothesis,length_hypothesis):\n",
    "        # reset hidden state\n",
    "        \n",
    "        output_premise=self.gru_premise(premise,length_premise)\n",
    "        output_hypothesis=self.gru_hypothesis(hypothesis,length_hypothesis)\n",
    "        \n",
    "        output=torch.cat((output_premise,output_hypothesis),dim=1)\n",
    "        \n",
    "        x=self.linear1(output)\n",
    "        x=nn.functional.relu(x)\n",
    "        x=self.linear2(x)\n",
    "        \n",
    "        return x"
   ]
  },
  {
   "cell_type": "markdown",
   "metadata": {},
   "source": [
    "# Now ready for our first run"
   ]
  },
  {
   "cell_type": "markdown",
   "metadata": {},
   "source": [
    "## Define the model, learning rate, number of epochs, criterion, optimizer"
   ]
  },
  {
   "cell_type": "code",
   "execution_count": 52,
   "metadata": {
    "collapsed": false
   },
   "outputs": [],
   "source": [
    "model = TwoFullyConnectedLayers(embedding_words, hidden_size_GRU=200, hidden_size_linear=50, num_layers=1)"
   ]
  },
  {
   "cell_type": "code",
   "execution_count": 53,
   "metadata": {
    "collapsed": false
   },
   "outputs": [],
   "source": [
    "learning_rate = 3e-4\n",
    "num_epochs = 10 # number epoch to train"
   ]
  },
  {
   "cell_type": "code",
   "execution_count": 54,
   "metadata": {
    "collapsed": false
   },
   "outputs": [],
   "source": [
    "criterion = torch.nn.CrossEntropyLoss()\n",
    "optimizer = torch.optim.Adam(model.parameters(), lr=learning_rate)\n",
    "\n",
    "# Train the model\n",
    "total_step = len(train_loader)"
   ]
  },
  {
   "cell_type": "markdown",
   "metadata": {},
   "source": [
    "## Build a test model function"
   ]
  },
  {
   "cell_type": "code",
   "execution_count": 55,
   "metadata": {
    "collapsed": true
   },
   "outputs": [],
   "source": [
    "def test_model(loader, model,loss_t):\n",
    "    \"\"\"\n",
    "    Help function that tests the model's performance on a dataset\n",
    "    @param: loader - data loader for the dataset to test against\n",
    "    \"\"\"\n",
    "    correct = 0\n",
    "    total = 0\n",
    "    model.eval()\n",
    "    for batch in loader:\n",
    "        data_premise=batch[0]\n",
    "        data_hypothesis=batch[1]\n",
    "        length_premise=batch[2]\n",
    "        length_hypothesis=batch[3]\n",
    "        labels=batch[4]\n",
    "        outputs = model(data_premise, length_premise,data_hypothesis,length_hypothesis)\n",
    "        loss_t=loss_t+criterion(outputs,labels).item()\n",
    "        predicted = outputs.max(1, keepdim=True)[1]\n",
    "\n",
    "        total += labels.size(0)\n",
    "        \n",
    "        correct += predicted.eq(labels.view_as(predicted)).sum().item()\n",
    "    return (100 * correct / total),loss_t/len(loader)\n",
    "\n"
   ]
  },
  {
   "cell_type": "markdown",
   "metadata": {},
   "source": [
    "## Build a function to run our model"
   ]
  },
  {
   "cell_type": "code",
   "execution_count": 56,
   "metadata": {
    "collapsed": true
   },
   "outputs": [],
   "source": [
    "def run_GRU(num_epochs,train_loader,val_loader,model,optimizer,criterion,\n",
    "            val_loss_hist,train_loss_hist,val_acc_hist,train_acc_hist,epochs_already_made=0):\n",
    "    train_loss=0\n",
    "    val_loss=0\n",
    "    for epoch in range(num_epochs):\n",
    "        total=0\n",
    "        correct=0\n",
    "        for i, batch in enumerate(train_loader):\n",
    "            data_premise=batch[0]\n",
    "            data_hypothesis=batch[1]\n",
    "            length_premise=batch[2]\n",
    "            length_hypothesis=batch[3]\n",
    "            labels=batch[4]\n",
    "        \n",
    "        \n",
    "            model.train()\n",
    "            optimizer.zero_grad()\n",
    "        \n",
    "\n",
    "            # Forward pass\n",
    "            outputs = model(data_premise, length_premise,data_hypothesis,length_hypothesis)\n",
    "            loss=criterion(outputs,labels)\n",
    "            loss.backward()\n",
    "            optimizer.step()\n",
    "            train_loss+=loss.item()\n",
    "            predicted = outputs.max(1, keepdim=True)[1]\n",
    "\n",
    "            total += labels.size(0)\n",
    "            correct += predicted.eq(labels.view_as(predicted)).sum().item()\n",
    "            \n",
    "            if i > 0 and i % 625 == 0:\n",
    "    \n",
    "                # validate\n",
    "                print('Epoch: [{}/{}], Step: [{}/{}], {}% complete, Train Loss: {}'.format(\n",
    "                    epoch+epochs_already_made+1, num_epochs+epochs_already_made, \n",
    "                    i+1, len(train_loader),100*i/len(train_loader), train_loss/i))\n",
    "    \n",
    "        val_acc,val_loss= test_model(val_loader, model,val_loss)\n",
    "        train_acc=(100 * correct / total)\n",
    "    \n",
    "        print('Train loss: '+str(train_loss/len(train_loader)))\n",
    "        print('Val loss: '+str(val_loss))\n",
    "        print('Train acc: '+str(train_acc))\n",
    "        print('Val acc: '+str(val_acc))\n",
    "        val_loss_hist.append(val_loss/len(val_loader))\n",
    "        train_loss_hist.append(train_loss/len(train_loader))\n",
    "        val_acc_hist.append(val_acc)\n",
    "        train_acc_hist.append(train_acc)\n",
    "    \n",
    "        train_loss=0\n",
    "        val_loss=0"
   ]
  },
  {
   "cell_type": "markdown",
   "metadata": {},
   "source": [
    "## First run, to check how our model performs"
   ]
  },
  {
   "cell_type": "code",
   "execution_count": 56,
   "metadata": {
    "collapsed": false
   },
   "outputs": [
    {
     "name": "stdout",
     "output_type": "stream",
     "text": [
      "Epoch: [1/10], Step: [626/3125], 20.0% complete, Train Loss: 1.0169026294708252\n",
      "Epoch: [1/10], Step: [1251/3125], 40.0% complete, Train Loss: 0.9755664244651795\n",
      "Epoch: [1/10], Step: [1876/3125], 60.0% complete, Train Loss: 0.953757390944163\n",
      "Epoch: [1/10], Step: [2501/3125], 80.0% complete, Train Loss: 0.9377800416946411\n",
      "Train loss: 0.9259276754379272\n",
      "Val loss: 0.8764385282993317\n",
      "Train acc: 55.956\n",
      "Val acc: 59.8\n",
      "Epoch: [2/10], Step: [626/3125], 20.0% complete, Train Loss: 0.8639950064659119\n",
      "Epoch: [2/10], Step: [1251/3125], 40.0% complete, Train Loss: 0.8563135137081146\n",
      "Epoch: [2/10], Step: [1876/3125], 60.0% complete, Train Loss: 0.8510061125119527\n",
      "Epoch: [2/10], Step: [2501/3125], 80.0% complete, Train Loss: 0.845882739853859\n",
      "Train loss: 0.8426651285362243\n",
      "Val loss: 0.8232246562838554\n",
      "Train acc: 61.646\n",
      "Val acc: 62.2\n",
      "Epoch: [3/10], Step: [626/3125], 20.0% complete, Train Loss: 0.8029622702598572\n",
      "Epoch: [3/10], Step: [1251/3125], 40.0% complete, Train Loss: 0.8011667123794556\n",
      "Epoch: [3/10], Step: [1876/3125], 60.0% complete, Train Loss: 0.800893664487203\n",
      "Epoch: [3/10], Step: [2501/3125], 80.0% complete, Train Loss: 0.799050075340271\n",
      "Train loss: 0.7959459627914429\n",
      "Val loss: 0.784664586186409\n",
      "Train acc: 64.347\n",
      "Val acc: 65.8\n",
      "Epoch: [4/10], Step: [626/3125], 20.0% complete, Train Loss: 0.766471589899063\n",
      "Epoch: [4/10], Step: [1251/3125], 40.0% complete, Train Loss: 0.7587422581195832\n",
      "Epoch: [4/10], Step: [1876/3125], 60.0% complete, Train Loss: 0.7575038083235422\n",
      "Epoch: [4/10], Step: [2501/3125], 80.0% complete, Train Loss: 0.7548537302494049\n",
      "Train loss: 0.7540144039726258\n",
      "Val loss: 0.7842470444738865\n",
      "Train acc: 66.838\n",
      "Val acc: 65.9\n",
      "Epoch: [5/10], Step: [626/3125], 20.0% complete, Train Loss: 0.7192192663669587\n",
      "Epoch: [5/10], Step: [1251/3125], 40.0% complete, Train Loss: 0.7219810810565949\n",
      "Epoch: [5/10], Step: [1876/3125], 60.0% complete, Train Loss: 0.7263569915612539\n",
      "Epoch: [5/10], Step: [2501/3125], 80.0% complete, Train Loss: 0.7250388664841652\n",
      "Train loss: 0.7235083323383331\n",
      "Val loss: 0.7724323570728302\n",
      "Train acc: 68.782\n",
      "Val acc: 66.2\n",
      "Epoch: [6/10], Step: [626/3125], 20.0% complete, Train Loss: 0.7041659028053283\n",
      "Epoch: [6/10], Step: [1251/3125], 40.0% complete, Train Loss: 0.7056829782485962\n",
      "Epoch: [6/10], Step: [1876/3125], 60.0% complete, Train Loss: 0.7023316544055939\n",
      "Epoch: [6/10], Step: [2501/3125], 80.0% complete, Train Loss: 0.700023257291317\n",
      "Train loss: 0.6978587761592865\n",
      "Val loss: 0.7687581805512309\n",
      "Train acc: 69.949\n",
      "Val acc: 67.1\n",
      "Epoch: [7/10], Step: [626/3125], 20.0% complete, Train Loss: 0.6719388511657715\n",
      "Epoch: [7/10], Step: [1251/3125], 40.0% complete, Train Loss: 0.6763223132371903\n",
      "Epoch: [7/10], Step: [1876/3125], 60.0% complete, Train Loss: 0.6731011702219645\n",
      "Epoch: [7/10], Step: [2501/3125], 80.0% complete, Train Loss: 0.6751313927531243\n",
      "Train loss: 0.6747673868560791\n",
      "Val loss: 0.7634020298719406\n",
      "Train acc: 71.183\n",
      "Val acc: 68.0\n",
      "Epoch: [8/10], Step: [626/3125], 20.0% complete, Train Loss: 0.6512763698101044\n",
      "Epoch: [8/10], Step: [1251/3125], 40.0% complete, Train Loss: 0.6542172521352768\n",
      "Epoch: [8/10], Step: [1876/3125], 60.0% complete, Train Loss: 0.6544678783098856\n",
      "Epoch: [8/10], Step: [2501/3125], 80.0% complete, Train Loss: 0.6519963873267174\n",
      "Train loss: 0.6524328286266327\n",
      "Val loss: 0.7536471746861935\n",
      "Train acc: 72.392\n",
      "Val acc: 68.4\n",
      "Epoch: [9/10], Step: [626/3125], 20.0% complete, Train Loss: 0.6185496628761291\n",
      "Epoch: [9/10], Step: [1251/3125], 40.0% complete, Train Loss: 0.6245494239807129\n",
      "Epoch: [9/10], Step: [1876/3125], 60.0% complete, Train Loss: 0.6267587249279022\n",
      "Epoch: [9/10], Step: [2501/3125], 80.0% complete, Train Loss: 0.6283399125576019\n",
      "Train loss: 0.6300047695064545\n",
      "Val loss: 0.7359785148873925\n",
      "Train acc: 73.495\n",
      "Val acc: 68.0\n",
      "Epoch: [10/10], Step: [626/3125], 20.0% complete, Train Loss: 0.6059469122886658\n",
      "Epoch: [10/10], Step: [1251/3125], 40.0% complete, Train Loss: 0.6056171041488647\n",
      "Epoch: [10/10], Step: [1876/3125], 60.0% complete, Train Loss: 0.6063095883846283\n",
      "Epoch: [10/10], Step: [2501/3125], 80.0% complete, Train Loss: 0.6076349231600762\n",
      "Train loss: 0.6085776771259308\n",
      "Val loss: 0.7480708621442318\n",
      "Train acc: 74.578\n",
      "Val acc: 68.3\n"
     ]
    }
   ],
   "source": [
    "train_acc_hist=[]\n",
    "val_acc_hist=[]\n",
    "train_loss_hist=[]\n",
    "val_loss_hist=[]\n",
    "run_GRU(10,train_loader,val_loader,model,optimizer,criterion,\n",
    "        val_loss_hist,train_loss_hist,val_acc_hist,train_acc_hist)\n",
    "\n",
    "sendmail(job='GRU Initial run')"
   ]
  },
  {
   "cell_type": "code",
   "execution_count": 57,
   "metadata": {
    "collapsed": false
   },
   "outputs": [],
   "source": [
    "import matplotlib.pyplot as plt\n",
    "%matplotlib inline"
   ]
  },
  {
   "cell_type": "markdown",
   "metadata": {},
   "source": [
    "## Plots for accuracy and loss"
   ]
  },
  {
   "cell_type": "code",
   "execution_count": 128,
   "metadata": {
    "collapsed": false
   },
   "outputs": [
    {
     "data": {
      "image/png": "[encoded data removed]",
      "text/plain": [
       "<matplotlib.figure.Figure at 0x1816b4128>"
      ]
     },
     "metadata": {},
     "output_type": "display_data"
    }
   ],
   "source": [
    "plt.plot(val_acc_hist,label='Validation')\n",
    "plt.plot(train_acc_hist,label='Training')\n",
    "plt.legend(bbox_to_anchor=(1.3, 1))\n",
    "plt.xlabel('Epochs')\n",
    "plt.ylabel('Loss')\n",
    "plt.title('Accuracy curves')\n",
    "plt.show()    "
   ]
  },
  {
   "cell_type": "markdown",
   "metadata": {},
   "source": [
    "#### (I realized that I made a mistake in my function where I divided unnecessarily by len(val_loader)) so this explains this part"
   ]
  },
  {
   "cell_type": "code",
   "execution_count": 71,
   "metadata": {
    "collapsed": false
   },
   "outputs": [],
   "source": [
    "for i in range(len(val_loss_hist)):\n",
    "    val_loss_hist[i]=len(val_loader)*val_loss_hist[i]\n"
   ]
  },
  {
   "cell_type": "markdown",
   "metadata": {},
   "source": [
    "## Plots"
   ]
  },
  {
   "cell_type": "code",
   "execution_count": 127,
   "metadata": {
    "collapsed": false
   },
   "outputs": [
    {
     "data": {
      "image/png": "[encoded data removed]",
      "text/plain": [
       "<matplotlib.figure.Figure at 0x18bab34a8>"
      ]
     },
     "metadata": {},
     "output_type": "display_data"
    }
   ],
   "source": [
    "plt.plot(val_loss_hist,label='validation loss')\n",
    "plt.plot(train_loss_hist,label='training loss')\n",
    "plt.legend(bbox_to_anchor=(1.3, 1))\n",
    "plt.xlabel('Epochs')\n",
    "plt.ylabel('Loss')\n",
    "plt.title('Loss curves')\n",
    "plt.show()    "
   ]
  },
  {
   "cell_type": "markdown",
   "metadata": {},
   "source": [
    "## Let's add two more epochs, see what it yields"
   ]
  },
  {
   "cell_type": "code",
   "execution_count": 77,
   "metadata": {
    "collapsed": false
   },
   "outputs": [
    {
     "name": "stdout",
     "output_type": "stream",
     "text": [
      "Epoch: [11/12], Step: [626/3125], 20.0% complete, Train Loss: 0.5822132798194886\n",
      "Epoch: [11/12], Step: [1251/3125], 40.0% complete, Train Loss: 0.5787776690721512\n",
      "Epoch: [11/12], Step: [1876/3125], 60.0% complete, Train Loss: 0.5844023666540782\n",
      "Epoch: [11/12], Step: [2501/3125], 80.0% complete, Train Loss: 0.5861707503914833\n",
      "Train loss: 0.5848422491741181\n",
      "Val loss: 0.7432736055925488\n",
      "Train acc: 75.688\n",
      "Val acc: 68.8\n",
      "Epoch: [12/12], Step: [626/3125], 20.0% complete, Train Loss: 0.5489340211868287\n",
      "Epoch: [12/12], Step: [1251/3125], 40.0% complete, Train Loss: 0.5530880249738693\n",
      "Epoch: [12/12], Step: [1876/3125], 60.0% complete, Train Loss: 0.5580213640530904\n",
      "Epoch: [12/12], Step: [2501/3125], 80.0% complete, Train Loss: 0.5608117134034634\n",
      "Train loss: 0.5616347882604599\n",
      "Val loss: 0.7506650853902102\n",
      "Train acc: 76.814\n",
      "Val acc: 69.1\n"
     ]
    }
   ],
   "source": [
    "run_GRU(2,train_loader,val_loader,model,optimizer,criterion,\n",
    "        val_loss_hist,train_loss_hist,val_acc_hist,train_acc_hist,epochs_already_made=10)"
   ]
  },
  {
   "cell_type": "code",
   "execution_count": 131,
   "metadata": {
    "collapsed": false,
    "deletable": true,
    "editable": true
   },
   "outputs": [
    {
     "data": {
      "image/png": "[encoded data removed]",
      "text/plain": [
       "<matplotlib.figure.Figure at 0x18baaacc0>"
      ]
     },
     "metadata": {},
     "output_type": "display_data"
    }
   ],
   "source": [
    "plt.plot(val_acc_hist,label='Validation')\n",
    "plt.plot(train_acc_hist,label='Training')\n",
    "plt.legend(bbox_to_anchor=(1.3, 1))\n",
    "plt.xlabel('Epochs')\n",
    "plt.ylabel('Accuracy')\n",
    "plt.title('Accuracy curves')\n",
    "plt.show()    "
   ]
  },
  {
   "cell_type": "code",
   "execution_count": 133,
   "metadata": {
    "collapsed": true
   },
   "outputs": [],
   "source": [
    "for i in range(len(val_loss_hist[10:])):\n",
    "    val_loss_hist[i]=len(val_loader)*val_loss_hist[i]"
   ]
  },
  {
   "cell_type": "code",
   "execution_count": 134,
   "metadata": {
    "collapsed": false
   },
   "outputs": [
    {
     "data": {
      "image/png": "[encoded data removed]",
      "text/plain": [
       "<matplotlib.figure.Figure at 0x170be98d0>"
      ]
     },
     "metadata": {},
     "output_type": "display_data"
    }
   ],
   "source": [
    "plt.plot(val_loss_hist,label='Validation')\n",
    "plt.plot(train_loss_hist,label='Training')\n",
    "plt.legend(bbox_to_anchor=(1.3, 1))\n",
    "plt.xlabel('Epochs')\n",
    "plt.ylabel('Loss')\n",
    "plt.title('Loss curves')\n",
    "plt.show()    "
   ]
  },
  {
   "cell_type": "markdown",
   "metadata": {},
   "source": [
    "#### Therefore, 10 epochs are enough to reach the minimal validation loss, so this way we won't overfit"
   ]
  },
  {
   "cell_type": "markdown",
   "metadata": {},
   "source": [
    "# Hyperparameter search for GRU"
   ]
  },
  {
   "cell_type": "markdown",
   "metadata": {},
   "source": [
    "## Let's try different hidden sizes for the GRU and the Linear part of our architecture"
   ]
  },
  {
   "cell_type": "code",
   "execution_count": 92,
   "metadata": {
    "collapsed": false,
    "scrolled": true
   },
   "outputs": [
    {
     "name": "stdout",
     "output_type": "stream",
     "text": [
      "Epoch: [1/10], Step: [626/3125], 20.0% complete, Train Loss: 1.0370334352493287\n",
      "Epoch: [1/10], Step: [1251/3125], 40.0% complete, Train Loss: 0.989620902299881\n",
      "Epoch: [1/10], Step: [1876/3125], 60.0% complete, Train Loss: 0.9657803978919983\n",
      "Epoch: [1/10], Step: [2501/3125], 80.0% complete, Train Loss: 0.9502657133102417\n",
      "Train loss: 0.9364986214828491\n",
      "Val loss: 0.8905322253704071\n",
      "Train acc: 55.044\n",
      "Val acc: 59.1\n",
      "Epoch: [2/10], Step: [626/3125], 20.0% complete, Train Loss: 0.8719392838478088\n",
      "Epoch: [2/10], Step: [1251/3125], 40.0% complete, Train Loss: 0.86592669839859\n",
      "Epoch: [2/10], Step: [1876/3125], 60.0% complete, Train Loss: 0.861289337348938\n",
      "Epoch: [2/10], Step: [2501/3125], 80.0% complete, Train Loss: 0.8589098029613494\n",
      "Train loss: 0.8552949146270752\n",
      "Val loss: 0.8411054778844118\n",
      "Train acc: 61.041\n",
      "Val acc: 61.8\n",
      "Epoch: [3/10], Step: [626/3125], 20.0% complete, Train Loss: 0.8332415658950806\n",
      "Epoch: [3/10], Step: [1251/3125], 40.0% complete, Train Loss: 0.8284549296140671\n",
      "Epoch: [3/10], Step: [1876/3125], 60.0% complete, Train Loss: 0.8272241179625194\n",
      "Epoch: [3/10], Step: [2501/3125], 80.0% complete, Train Loss: 0.8243090144991875\n",
      "Train loss: 0.8220085551929474\n",
      "Val loss: 0.8339301459491253\n",
      "Train acc: 62.891\n",
      "Val acc: 62.2\n",
      "Epoch: [4/10], Step: [626/3125], 20.0% complete, Train Loss: 0.7995647238254547\n",
      "Epoch: [4/10], Step: [1251/3125], 40.0% complete, Train Loss: 0.7949827661037445\n",
      "Epoch: [4/10], Step: [1876/3125], 60.0% complete, Train Loss: 0.7928207356770833\n",
      "Epoch: [4/10], Step: [2501/3125], 80.0% complete, Train Loss: 0.7935337138414383\n",
      "Train loss: 0.792421148967743\n",
      "Val loss: 0.799884732812643\n",
      "Train acc: 64.703\n",
      "Val acc: 65.0\n",
      "Epoch: [5/10], Step: [626/3125], 20.0% complete, Train Loss: 0.7684264940261841\n",
      "Epoch: [5/10], Step: [1251/3125], 40.0% complete, Train Loss: 0.7649751237869262\n",
      "Epoch: [5/10], Step: [1876/3125], 60.0% complete, Train Loss: 0.7636492825984955\n",
      "Epoch: [5/10], Step: [2501/3125], 80.0% complete, Train Loss: 0.7647155917286873\n",
      "Train loss: 0.7627284269428253\n",
      "Val loss: 0.8024731874465942\n",
      "Train acc: 66.566\n",
      "Val acc: 64.8\n",
      "Epoch: [6/10], Step: [626/3125], 20.0% complete, Train Loss: 0.7440459712982178\n",
      "Epoch: [6/10], Step: [1251/3125], 40.0% complete, Train Loss: 0.7422055690288544\n",
      "Epoch: [6/10], Step: [1876/3125], 60.0% complete, Train Loss: 0.7397433588345845\n",
      "Epoch: [6/10], Step: [2501/3125], 80.0% complete, Train Loss: 0.7412332944750786\n",
      "Train loss: 0.7407838788890838\n",
      "Val loss: 0.7799727004021406\n",
      "Train acc: 67.675\n",
      "Val acc: 66.8\n",
      "Epoch: [7/10], Step: [626/3125], 20.0% complete, Train Loss: 0.7198936866760254\n",
      "Epoch: [7/10], Step: [1251/3125], 40.0% complete, Train Loss: 0.7199335283994674\n",
      "Epoch: [7/10], Step: [1876/3125], 60.0% complete, Train Loss: 0.718802208550771\n",
      "Epoch: [7/10], Step: [2501/3125], 80.0% complete, Train Loss: 0.718671097433567\n",
      "Train loss: 0.7169687777805328\n",
      "Val loss: 0.769411439076066\n",
      "Train acc: 69.135\n",
      "Val acc: 66.8\n",
      "Epoch: [8/10], Step: [626/3125], 20.0% complete, Train Loss: 0.6900282084465027\n",
      "Epoch: [8/10], Step: [1251/3125], 40.0% complete, Train Loss: 0.69425106215477\n",
      "Epoch: [8/10], Step: [1876/3125], 60.0% complete, Train Loss: 0.6963050087769826\n",
      "Epoch: [8/10], Step: [2501/3125], 80.0% complete, Train Loss: 0.6958651744604111\n",
      "Train loss: 0.6958290634346008\n",
      "Val loss: 0.772193156182766\n",
      "Train acc: 70.213\n",
      "Val acc: 66.6\n",
      "Epoch: [9/10], Step: [626/3125], 20.0% complete, Train Loss: 0.6787240713596344\n",
      "Epoch: [9/10], Step: [1251/3125], 40.0% complete, Train Loss: 0.6769410105466843\n",
      "Epoch: [9/10], Step: [1876/3125], 60.0% complete, Train Loss: 0.6785286904652913\n",
      "Epoch: [9/10], Step: [2501/3125], 80.0% complete, Train Loss: 0.6779103124856949\n",
      "Train loss: 0.6773295659446716\n",
      "Val loss: 0.7894876953214407\n",
      "Train acc: 71.209\n",
      "Val acc: 66.7\n",
      "Epoch: [10/10], Step: [626/3125], 20.0% complete, Train Loss: 0.6603416184425354\n",
      "Epoch: [10/10], Step: [1251/3125], 40.0% complete, Train Loss: 0.6641561949968338\n",
      "Epoch: [10/10], Step: [1876/3125], 60.0% complete, Train Loss: 0.6620412699699402\n",
      "Epoch: [10/10], Step: [2501/3125], 80.0% complete, Train Loss: 0.6601717784047126\n",
      "Train loss: 0.6594925843811035\n",
      "Val loss: 0.7826483184471726\n",
      "Train acc: 72.147\n",
      "Val acc: 66.0\n",
      "Epoch: [1/10], Step: [626/3125], 20.0% complete, Train Loss: 1.0258034675598144\n",
      "Epoch: [1/10], Step: [1251/3125], 40.0% complete, Train Loss: 0.9839916463375091\n",
      "Epoch: [1/10], Step: [1876/3125], 60.0% complete, Train Loss: 0.9622652594884237\n",
      "Epoch: [1/10], Step: [2501/3125], 80.0% complete, Train Loss: 0.9467711281776429\n",
      "Train loss: 0.9340383645629883\n",
      "Val loss: 0.888115905225277\n",
      "Train acc: 55.327\n",
      "Val acc: 59.1\n",
      "Epoch: [2/10], Step: [626/3125], 20.0% complete, Train Loss: 0.8663326855659484\n",
      "Epoch: [2/10], Step: [1251/3125], 40.0% complete, Train Loss: 0.8603418801784516\n",
      "Epoch: [2/10], Step: [1876/3125], 60.0% complete, Train Loss: 0.858599177424113\n",
      "Epoch: [2/10], Step: [2501/3125], 80.0% complete, Train Loss: 0.8548982838153839\n",
      "Train loss: 0.8527525697898864\n",
      "Val loss: 0.844785625115037\n",
      "Train acc: 60.937\n",
      "Val acc: 61.8\n",
      "Epoch: [3/10], Step: [626/3125], 20.0% complete, Train Loss: 0.8252203727722168\n",
      "Epoch: [3/10], Step: [1251/3125], 40.0% complete, Train Loss: 0.8210553616046905\n",
      "Epoch: [3/10], Step: [1876/3125], 60.0% complete, Train Loss: 0.8202635307947794\n",
      "Epoch: [3/10], Step: [2501/3125], 80.0% complete, Train Loss: 0.817648286819458\n",
      "Train loss: 0.8159954613494873\n",
      "Val loss: 0.827582685276866\n",
      "Train acc: 63.177\n",
      "Val acc: 63.0\n",
      "Epoch: [4/10], Step: [626/3125], 20.0% complete, Train Loss: 0.7900429797649383\n",
      "Epoch: [4/10], Step: [1251/3125], 40.0% complete, Train Loss: 0.7829735195398331\n",
      "Epoch: [4/10], Step: [1876/3125], 60.0% complete, Train Loss: 0.7822777060031891\n",
      "Epoch: [4/10], Step: [2501/3125], 80.0% complete, Train Loss: 0.7820738351225853\n",
      "Train loss: 0.780594188785553\n",
      "Val loss: 0.8023775797337294\n",
      "Train acc: 65.351\n",
      "Val acc: 64.6\n",
      "Epoch: [5/10], Step: [626/3125], 20.0% complete, Train Loss: 0.7621911004543305\n",
      "Epoch: [5/10], Step: [1251/3125], 40.0% complete, Train Loss: 0.7518788712263107\n",
      "Epoch: [5/10], Step: [1876/3125], 60.0% complete, Train Loss: 0.7506990026315054\n",
      "Epoch: [5/10], Step: [2501/3125], 80.0% complete, Train Loss: 0.7485099852323532\n",
      "Train loss: 0.746550252571106\n",
      "Val loss: 0.7976939249783754\n",
      "Train acc: 67.414\n",
      "Val acc: 63.7\n",
      "Epoch: [6/10], Step: [626/3125], 20.0% complete, Train Loss: 0.7194299920082092\n",
      "Epoch: [6/10], Step: [1251/3125], 40.0% complete, Train Loss: 0.7185853902816772\n",
      "Epoch: [6/10], Step: [1876/3125], 60.0% complete, Train Loss: 0.7190151153087616\n",
      "Epoch: [6/10], Step: [2501/3125], 80.0% complete, Train Loss: 0.7187848118662834\n",
      "Train loss: 0.7207559309101105\n",
      "Val loss: 0.7679826263338327\n",
      "Train acc: 68.876\n",
      "Val acc: 65.4\n",
      "Epoch: [7/10], Step: [626/3125], 20.0% complete, Train Loss: 0.6987733630657196\n",
      "Epoch: [7/10], Step: [1251/3125], 40.0% complete, Train Loss: 0.6997298568964004\n",
      "Epoch: [7/10], Step: [1876/3125], 60.0% complete, Train Loss: 0.6993591153462728\n",
      "Epoch: [7/10], Step: [2501/3125], 80.0% complete, Train Loss: 0.6986062829732895\n",
      "Train loss: 0.6993174193382263\n",
      "Val loss: 0.7584448335692286\n",
      "Train acc: 70.109\n",
      "Val acc: 66.7\n",
      "Epoch: [8/10], Step: [626/3125], 20.0% complete, Train Loss: 0.6776894496440887\n",
      "Epoch: [8/10], Step: [1251/3125], 40.0% complete, Train Loss: 0.6754051396131515\n",
      "Epoch: [8/10], Step: [1876/3125], 60.0% complete, Train Loss: 0.6788222954591115\n",
      "Epoch: [8/10], Step: [2501/3125], 80.0% complete, Train Loss: 0.6780910059094429\n",
      "Train loss: 0.6797346491336822\n",
      "Val loss: 0.750342670828104\n",
      "Train acc: 71.212\n",
      "Val acc: 66.4\n",
      "Epoch: [9/10], Step: [626/3125], 20.0% complete, Train Loss: 0.6549509077548981\n",
      "Epoch: [9/10], Step: [1251/3125], 40.0% complete, Train Loss: 0.6610552762746811\n",
      "Epoch: [9/10], Step: [1876/3125], 60.0% complete, Train Loss: 0.660990634393692\n",
      "Epoch: [9/10], Step: [2501/3125], 80.0% complete, Train Loss: 0.6604432842493058\n",
      "Train loss: 0.6607197170829773\n",
      "Val loss: 0.7655877051874995\n",
      "Train acc: 72.036\n",
      "Val acc: 65.9\n",
      "Epoch: [10/10], Step: [626/3125], 20.0% complete, Train Loss: 0.6376811460971832\n",
      "Epoch: [10/10], Step: [1251/3125], 40.0% complete, Train Loss: 0.6439875067234039\n",
      "Epoch: [10/10], Step: [1876/3125], 60.0% complete, Train Loss: 0.6443141058127085\n",
      "Epoch: [10/10], Step: [2501/3125], 80.0% complete, Train Loss: 0.6443308550596237\n",
      "Train loss: 0.6419604935932159\n",
      "Val loss: 0.7748585641384125\n",
      "Train acc: 72.933\n",
      "Val acc: 67.2\n",
      "Epoch: [1/10], Step: [626/3125], 20.0% complete, Train Loss: 1.017598289012909\n",
      "Epoch: [1/10], Step: [1251/3125], 40.0% complete, Train Loss: 0.977421629190445\n",
      "Epoch: [1/10], Step: [1876/3125], 60.0% complete, Train Loss: 0.9568719005584717\n",
      "Epoch: [1/10], Step: [2501/3125], 80.0% complete, Train Loss: 0.941758539390564\n",
      "Train loss: 0.9286196525192261\n",
      "Val loss: 0.8744544479995966\n",
      "Train acc: 55.619\n",
      "Val acc: 58.7\n",
      "Epoch: [2/10], Step: [626/3125], 20.0% complete, Train Loss: 0.8592094314575195\n",
      "Epoch: [2/10], Step: [1251/3125], 40.0% complete, Train Loss: 0.854013186788559\n",
      "Epoch: [2/10], Step: [1876/3125], 60.0% complete, Train Loss: 0.8503183224360148\n",
      "Epoch: [2/10], Step: [2501/3125], 80.0% complete, Train Loss: 0.847237170958519\n",
      "Train loss: 0.8435472387504578\n",
      "Val loss: 0.82975391484797\n",
      "Train acc: 61.416\n",
      "Val acc: 62.4\n",
      "Epoch: [3/10], Step: [626/3125], 20.0% complete, Train Loss: 0.8147858752250672\n",
      "Epoch: [3/10], Step: [1251/3125], 40.0% complete, Train Loss: 0.8075081004381179\n",
      "Epoch: [3/10], Step: [1876/3125], 60.0% complete, Train Loss: 0.8057161304791768\n",
      "Epoch: [3/10], Step: [2501/3125], 80.0% complete, Train Loss: 0.8015468097567559\n",
      "Train loss: 0.7979522835826873\n",
      "Val loss: 0.7969481199979782\n",
      "Train acc: 64.289\n",
      "Val acc: 64.8\n",
      "Epoch: [4/10], Step: [626/3125], 20.0% complete, Train Loss: 0.7612856063842773\n",
      "Epoch: [4/10], Step: [1251/3125], 40.0% complete, Train Loss: 0.7598592798233033\n",
      "Epoch: [4/10], Step: [1876/3125], 60.0% complete, Train Loss: 0.7612355571428935\n",
      "Epoch: [4/10], Step: [2501/3125], 80.0% complete, Train Loss: 0.7610707149982452\n",
      "Train loss: 0.7600885855674744\n",
      "Val loss: 0.7936289068311453\n",
      "Train acc: 66.573\n",
      "Val acc: 65.6\n",
      "Epoch: [5/10], Step: [626/3125], 20.0% complete, Train Loss: 0.7195240071296692\n",
      "Epoch: [5/10], Step: [1251/3125], 40.0% complete, Train Loss: 0.7267953315258026\n",
      "Epoch: [5/10], Step: [1876/3125], 60.0% complete, Train Loss: 0.7276909822305043\n",
      "Epoch: [5/10], Step: [2501/3125], 80.0% complete, Train Loss: 0.7282572657465934\n",
      "Train loss: 0.7278778358650208\n",
      "Val loss: 0.7620929703116417\n",
      "Train acc: 68.485\n",
      "Val acc: 66.7\n",
      "Epoch: [6/10], Step: [626/3125], 20.0% complete, Train Loss: 0.7108562973976136\n",
      "Epoch: [6/10], Step: [1251/3125], 40.0% complete, Train Loss: 0.7077008925914764\n",
      "Epoch: [6/10], Step: [1876/3125], 60.0% complete, Train Loss: 0.7057741505463918\n",
      "Epoch: [6/10], Step: [2501/3125], 80.0% complete, Train Loss: 0.7038342147469521\n",
      "Train loss: 0.7020913933372498\n",
      "Val loss: 0.7602884508669376\n",
      "Train acc: 69.795\n",
      "Val acc: 67.2\n",
      "Epoch: [7/10], Step: [626/3125], 20.0% complete, Train Loss: 0.6761883359909058\n",
      "Epoch: [7/10], Step: [1251/3125], 40.0% complete, Train Loss: 0.6758248474121094\n",
      "Epoch: [7/10], Step: [1876/3125], 60.0% complete, Train Loss: 0.6804692658265432\n",
      "Epoch: [7/10], Step: [2501/3125], 80.0% complete, Train Loss: 0.6794461598515511\n",
      "Train loss: 0.6801298468399047\n",
      "Val loss: 0.7551090409979224\n",
      "Train acc: 70.867\n",
      "Val acc: 67.3\n",
      "Epoch: [8/10], Step: [626/3125], 20.0% complete, Train Loss: 0.6541714528083801\n",
      "Epoch: [8/10], Step: [1251/3125], 40.0% complete, Train Loss: 0.6577773811340332\n",
      "Epoch: [8/10], Step: [1876/3125], 60.0% complete, Train Loss: 0.6589782884120942\n",
      "Epoch: [8/10], Step: [2501/3125], 80.0% complete, Train Loss: 0.6599739351987839\n",
      "Train loss: 0.658340964679718\n",
      "Val loss: 0.7659774282947183\n",
      "Train acc: 72.08\n",
      "Val acc: 66.0\n",
      "Epoch: [9/10], Step: [626/3125], 20.0% complete, Train Loss: 0.6340729095458985\n",
      "Epoch: [9/10], Step: [1251/3125], 40.0% complete, Train Loss: 0.6346972206115723\n",
      "Epoch: [9/10], Step: [1876/3125], 60.0% complete, Train Loss: 0.637655032602946\n",
      "Epoch: [9/10], Step: [2501/3125], 80.0% complete, Train Loss: 0.638870932006836\n",
      "Train loss: 0.6380495040225983\n",
      "Val loss: 0.7415453568100929\n",
      "Train acc: 72.97\n",
      "Val acc: 68.1\n",
      "Epoch: [10/10], Step: [626/3125], 20.0% complete, Train Loss: 0.6108526031017304\n",
      "Epoch: [10/10], Step: [1251/3125], 40.0% complete, Train Loss: 0.615137622308731\n",
      "Epoch: [10/10], Step: [1876/3125], 60.0% complete, Train Loss: 0.615427454106013\n",
      "Epoch: [10/10], Step: [2501/3125], 80.0% complete, Train Loss: 0.6178073527336121\n",
      "Train loss: 0.6167871587181092\n",
      "Val loss: 0.7673245575278997\n",
      "Train acc: 74.088\n",
      "Val acc: 67.3\n",
      "Epoch: [1/10], Step: [626/3125], 20.0% complete, Train Loss: 1.0130357945442199\n",
      "Epoch: [1/10], Step: [1251/3125], 40.0% complete, Train Loss: 0.9730343085289002\n",
      "Epoch: [1/10], Step: [1876/3125], 60.0% complete, Train Loss: 0.9538430238087972\n",
      "Epoch: [1/10], Step: [2501/3125], 80.0% complete, Train Loss: 0.9376481942653656\n",
      "Train loss: 0.9263837063789367\n",
      "Val loss: 0.8789148796349764\n",
      "Train acc: 55.943\n",
      "Val acc: 60.1\n",
      "Epoch: [2/10], Step: [626/3125], 20.0% complete, Train Loss: 0.8598432158470154\n",
      "Epoch: [2/10], Step: [1251/3125], 40.0% complete, Train Loss: 0.8573059584140778\n",
      "Epoch: [2/10], Step: [1876/3125], 60.0% complete, Train Loss: 0.8502956898053488\n",
      "Epoch: [2/10], Step: [2501/3125], 80.0% complete, Train Loss: 0.8467405981063842\n",
      "Train loss: 0.8404164791297912\n",
      "Val loss: 0.8289583828300238\n",
      "Train acc: 61.634\n",
      "Val acc: 62.5\n",
      "Epoch: [3/10], Step: [626/3125], 20.0% complete, Train Loss: 0.8117519068717957\n",
      "Epoch: [3/10], Step: [1251/3125], 40.0% complete, Train Loss: 0.8019821900844574\n",
      "Epoch: [3/10], Step: [1876/3125], 60.0% complete, Train Loss: 0.7964647092660269\n",
      "Epoch: [3/10], Step: [2501/3125], 80.0% complete, Train Loss: 0.7940846771359443\n",
      "Train loss: 0.788804872341156\n",
      "Val loss: 0.8135048486292362\n",
      "Train acc: 64.84\n",
      "Val acc: 63.1\n",
      "Epoch: [4/10], Step: [626/3125], 20.0% complete, Train Loss: 0.7517512073040008\n",
      "Epoch: [4/10], Step: [1251/3125], 40.0% complete, Train Loss: 0.7525537161827087\n",
      "Epoch: [4/10], Step: [1876/3125], 60.0% complete, Train Loss: 0.7510742502689361\n",
      "Epoch: [4/10], Step: [2501/3125], 80.0% complete, Train Loss: 0.7498927820324898\n",
      "Train loss: 0.7485030922889709\n",
      "Val loss: 0.7769616972655058\n",
      "Train acc: 67.409\n",
      "Val acc: 65.8\n",
      "Epoch: [5/10], Step: [626/3125], 20.0% complete, Train Loss: 0.716691621541977\n",
      "Epoch: [5/10], Step: [1251/3125], 40.0% complete, Train Loss: 0.7220158682107926\n",
      "Epoch: [5/10], Step: [1876/3125], 60.0% complete, Train Loss: 0.7212102063814799\n",
      "Epoch: [5/10], Step: [2501/3125], 80.0% complete, Train Loss: 0.7214129795074463\n",
      "Train loss: 0.7198144729423523\n",
      "Val loss: 0.7868765192106366\n",
      "Train acc: 68.74\n",
      "Val acc: 63.7\n",
      "Epoch: [6/10], Step: [626/3125], 20.0% complete, Train Loss: 0.687947766494751\n",
      "Epoch: [6/10], Step: [1251/3125], 40.0% complete, Train Loss: 0.6946400820016861\n",
      "Epoch: [6/10], Step: [1876/3125], 60.0% complete, Train Loss: 0.6947571678479513\n",
      "Epoch: [6/10], Step: [2501/3125], 80.0% complete, Train Loss: 0.6960825569152832\n",
      "Train loss: 0.6943105712509156\n",
      "Val loss: 0.7595668556168675\n",
      "Train acc: 70.156\n",
      "Val acc: 67.3\n",
      "Epoch: [7/10], Step: [626/3125], 20.0% complete, Train Loss: 0.6632605442047119\n",
      "Epoch: [7/10], Step: [1251/3125], 40.0% complete, Train Loss: 0.6673382572412491\n",
      "Epoch: [7/10], Step: [1876/3125], 60.0% complete, Train Loss: 0.6688789970239003\n",
      "Epoch: [7/10], Step: [2501/3125], 80.0% complete, Train Loss: 0.671517221736908\n",
      "Train loss: 0.6705143866443634\n",
      "Val loss: 0.7646159799769521\n",
      "Train acc: 71.335\n",
      "Val acc: 66.9\n",
      "Epoch: [8/10], Step: [626/3125], 20.0% complete, Train Loss: 0.6497678529262543\n",
      "Epoch: [8/10], Step: [1251/3125], 40.0% complete, Train Loss: 0.645729482293129\n",
      "Epoch: [8/10], Step: [1876/3125], 60.0% complete, Train Loss: 0.646627380212148\n",
      "Epoch: [8/10], Step: [2501/3125], 80.0% complete, Train Loss: 0.6474404455065728\n",
      "Train loss: 0.6474235507678986\n",
      "Val loss: 0.747285719960928\n",
      "Train acc: 72.465\n",
      "Val acc: 68.4\n",
      "Epoch: [9/10], Step: [626/3125], 20.0% complete, Train Loss: 0.6203733172416687\n",
      "Epoch: [9/10], Step: [1251/3125], 40.0% complete, Train Loss: 0.6228719550848008\n",
      "Epoch: [9/10], Step: [1876/3125], 60.0% complete, Train Loss: 0.6249689774831136\n",
      "Epoch: [9/10], Step: [2501/3125], 80.0% complete, Train Loss: 0.6256848217606544\n",
      "Train loss: 0.6243781768608093\n",
      "Val loss: 0.7451980309560895\n",
      "Train acc: 73.657\n",
      "Val acc: 68.3\n",
      "Epoch: [10/10], Step: [626/3125], 20.0% complete, Train Loss: 0.5988362907886505\n",
      "Epoch: [10/10], Step: [1251/3125], 40.0% complete, Train Loss: 0.5995995031833649\n",
      "Epoch: [10/10], Step: [1876/3125], 60.0% complete, Train Loss: 0.6016020163059235\n",
      "Epoch: [10/10], Step: [2501/3125], 80.0% complete, Train Loss: 0.6030764625012874\n",
      "Train loss: 0.6021604982995987\n",
      "Val loss: 0.7513866005465388\n",
      "Train acc: 74.835\n",
      "Val acc: 68.9\n",
      "Epoch: [1/10], Step: [626/3125], 20.0% complete, Train Loss: 1.0198333421707153\n",
      "Epoch: [1/10], Step: [1251/3125], 40.0% complete, Train Loss: 0.9767748564243317\n",
      "Epoch: [1/10], Step: [1876/3125], 60.0% complete, Train Loss: 0.9543327662467956\n",
      "Epoch: [1/10], Step: [2501/3125], 80.0% complete, Train Loss: 0.9394332581996918\n",
      "Train loss: 0.9277244774627685\n",
      "Val loss: 0.8912467863410711\n",
      "Train acc: 55.835\n",
      "Val acc: 58.5\n",
      "Epoch: [2/10], Step: [626/3125], 20.0% complete, Train Loss: 0.861614531993866\n",
      "Epoch: [2/10], Step: [1251/3125], 40.0% complete, Train Loss: 0.8611440361499786\n",
      "Epoch: [2/10], Step: [1876/3125], 60.0% complete, Train Loss: 0.8567234052022298\n",
      "Epoch: [2/10], Step: [2501/3125], 80.0% complete, Train Loss: 0.850730808186531\n",
      "Train loss: 0.8467173857784271\n",
      "Val loss: 0.8419331461191177\n",
      "Train acc: 61.507\n",
      "Val acc: 61.4\n",
      "Epoch: [3/10], Step: [626/3125], 20.0% complete, Train Loss: 0.8209738363265991\n",
      "Epoch: [3/10], Step: [1251/3125], 40.0% complete, Train Loss: 0.8171420075416564\n",
      "Epoch: [3/10], Step: [1876/3125], 60.0% complete, Train Loss: 0.8121184316953023\n",
      "Epoch: [3/10], Step: [2501/3125], 80.0% complete, Train Loss: 0.8084227899312973\n",
      "Train loss: 0.8056452914905549\n",
      "Val loss: 0.8178942166268826\n",
      "Train acc: 63.746\n",
      "Val acc: 62.4\n",
      "Epoch: [4/10], Step: [626/3125], 20.0% complete, Train Loss: 0.7734651059627533\n",
      "Epoch: [4/10], Step: [1251/3125], 40.0% complete, Train Loss: 0.7744983583211899\n",
      "Epoch: [4/10], Step: [1876/3125], 60.0% complete, Train Loss: 0.7708671365261078\n",
      "Epoch: [4/10], Step: [2501/3125], 80.0% complete, Train Loss: 0.7678031181693077\n",
      "Train loss: 0.7674917061042785\n",
      "Val loss: 0.7860953360795975\n",
      "Train acc: 66.03\n",
      "Val acc: 64.7\n",
      "Epoch: [5/10], Step: [626/3125], 20.0% complete, Train Loss: 0.7389964928150177\n",
      "Epoch: [5/10], Step: [1251/3125], 40.0% complete, Train Loss: 0.7405520127534866\n",
      "Epoch: [5/10], Step: [1876/3125], 60.0% complete, Train Loss: 0.7371071732203166\n",
      "Epoch: [5/10], Step: [2501/3125], 80.0% complete, Train Loss: 0.7354054684400558\n",
      "Train loss: 0.7345783145332336\n",
      "Val loss: 0.7863118406385183\n",
      "Train acc: 68.187\n",
      "Val acc: 66.2\n",
      "Epoch: [6/10], Step: [626/3125], 20.0% complete, Train Loss: 0.71063825507164\n",
      "Epoch: [6/10], Step: [1251/3125], 40.0% complete, Train Loss: 0.7143048913478851\n",
      "Epoch: [6/10], Step: [1876/3125], 60.0% complete, Train Loss: 0.7128706563313802\n",
      "Epoch: [6/10], Step: [2501/3125], 80.0% complete, Train Loss: 0.7126556554913521\n",
      "Train loss: 0.7105677156066894\n",
      "Val loss: 0.7686227038502693\n",
      "Train acc: 69.416\n",
      "Val acc: 66.2\n",
      "Epoch: [7/10], Step: [626/3125], 20.0% complete, Train Loss: 0.6855683368682861\n",
      "Epoch: [7/10], Step: [1251/3125], 40.0% complete, Train Loss: 0.6833068180084229\n",
      "Epoch: [7/10], Step: [1876/3125], 60.0% complete, Train Loss: 0.6871132762273152\n",
      "Epoch: [7/10], Step: [2501/3125], 80.0% complete, Train Loss: 0.690290374982357\n",
      "Train loss: 0.6894614161777496\n",
      "Val loss: 0.7666679946705699\n",
      "Train acc: 70.525\n",
      "Val acc: 65.7\n",
      "Epoch: [8/10], Step: [626/3125], 20.0% complete, Train Loss: 0.6643409559726715\n",
      "Epoch: [8/10], Step: [1251/3125], 40.0% complete, Train Loss: 0.6626643696069717\n",
      "Epoch: [8/10], Step: [1876/3125], 60.0% complete, Train Loss: 0.6638101276079814\n",
      "Epoch: [8/10], Step: [2501/3125], 80.0% complete, Train Loss: 0.6653885172128677\n",
      "Train loss: 0.66703253033638\n",
      "Val loss: 0.7586123179644346\n",
      "Train acc: 71.706\n",
      "Val acc: 69.1\n",
      "Epoch: [9/10], Step: [626/3125], 20.0% complete, Train Loss: 0.6422976804733276\n",
      "Epoch: [9/10], Step: [1251/3125], 40.0% complete, Train Loss: 0.6469187592744827\n",
      "Epoch: [9/10], Step: [1876/3125], 60.0% complete, Train Loss: 0.6480298923015595\n",
      "Epoch: [9/10], Step: [2501/3125], 80.0% complete, Train Loss: 0.6490632437229157\n",
      "Train loss: 0.6488033560752868\n",
      "Val loss: 0.7788971466943622\n",
      "Train acc: 72.533\n",
      "Val acc: 66.6\n",
      "Epoch: [10/10], Step: [626/3125], 20.0% complete, Train Loss: 0.614862201499939\n",
      "Epoch: [10/10], Step: [1251/3125], 40.0% complete, Train Loss: 0.6226165206670761\n",
      "Epoch: [10/10], Step: [1876/3125], 60.0% complete, Train Loss: 0.6267550526460012\n",
      "Epoch: [10/10], Step: [2501/3125], 80.0% complete, Train Loss: 0.6268836249232292\n",
      "Train loss: 0.6277294410705566\n",
      "Val loss: 0.7542284317314625\n",
      "Train acc: 73.751\n",
      "Val acc: 68.1\n",
      "Epoch: [1/10], Step: [626/3125], 20.0% complete, Train Loss: 1.0092684693336487\n",
      "Epoch: [1/10], Step: [1251/3125], 40.0% complete, Train Loss: 0.9730691277980804\n",
      "Epoch: [1/10], Step: [1876/3125], 60.0% complete, Train Loss: 0.9533470999399821\n",
      "Epoch: [1/10], Step: [2501/3125], 80.0% complete, Train Loss: 0.9378456388473511\n",
      "Train loss: 0.9261764079856872\n",
      "Val loss: 0.8882548902183771\n",
      "Train acc: 56.069\n",
      "Val acc: 59.8\n",
      "Epoch: [2/10], Step: [626/3125], 20.0% complete, Train Loss: 0.8604484221458435\n",
      "Epoch: [2/10], Step: [1251/3125], 40.0% complete, Train Loss: 0.8582996404647827\n",
      "Epoch: [2/10], Step: [1876/3125], 60.0% complete, Train Loss: 0.854735808245341\n",
      "Epoch: [2/10], Step: [2501/3125], 80.0% complete, Train Loss: 0.8502639398097992\n",
      "Train loss: 0.8455326215744019\n",
      "Val loss: 0.8448992688208818\n",
      "Train acc: 61.26\n",
      "Val acc: 61.4\n",
      "Epoch: [3/10], Step: [626/3125], 20.0% complete, Train Loss: 0.8119211385726929\n",
      "Epoch: [3/10], Step: [1251/3125], 40.0% complete, Train Loss: 0.8107756287097931\n",
      "Epoch: [3/10], Step: [1876/3125], 60.0% complete, Train Loss: 0.809073748588562\n",
      "Epoch: [3/10], Step: [2501/3125], 80.0% complete, Train Loss: 0.8070025850534439\n",
      "Train loss: 0.8046022079277039\n",
      "Val loss: 0.8055995237082243\n",
      "Train acc: 63.7\n",
      "Val acc: 65.0\n",
      "Epoch: [4/10], Step: [626/3125], 20.0% complete, Train Loss: 0.7748000988960266\n",
      "Epoch: [4/10], Step: [1251/3125], 40.0% complete, Train Loss: 0.7706733950376511\n",
      "Epoch: [4/10], Step: [1876/3125], 60.0% complete, Train Loss: 0.7678616226355235\n",
      "Epoch: [4/10], Step: [2501/3125], 80.0% complete, Train Loss: 0.7696488158583641\n",
      "Train loss: 0.7680156580734253\n",
      "Val loss: 0.7847317010164261\n",
      "Train acc: 66.15\n",
      "Val acc: 65.9\n",
      "Epoch: [5/10], Step: [626/3125], 20.0% complete, Train Loss: 0.7413636551856995\n",
      "Epoch: [5/10], Step: [1251/3125], 40.0% complete, Train Loss: 0.7379885009765625\n",
      "Epoch: [5/10], Step: [1876/3125], 60.0% complete, Train Loss: 0.738431744925181\n",
      "Epoch: [5/10], Step: [2501/3125], 80.0% complete, Train Loss: 0.7357370316386223\n",
      "Train loss: 0.7338090337562561\n",
      "Val loss: 0.7744720745831728\n",
      "Train acc: 68.051\n",
      "Val acc: 67.2\n",
      "Epoch: [6/10], Step: [626/3125], 20.0% complete, Train Loss: 0.7101156215190887\n",
      "Epoch: [6/10], Step: [1251/3125], 40.0% complete, Train Loss: 0.7091009650468826\n",
      "Epoch: [6/10], Step: [1876/3125], 60.0% complete, Train Loss: 0.7066476162433625\n",
      "Epoch: [6/10], Step: [2501/3125], 80.0% complete, Train Loss: 0.7091614990949631\n",
      "Train loss: 0.7090423667812348\n",
      "Val loss: 0.7686360646039248\n",
      "Train acc: 69.479\n",
      "Val acc: 66.4\n",
      "Epoch: [7/10], Step: [626/3125], 20.0% complete, Train Loss: 0.6820604540348053\n",
      "Epoch: [7/10], Step: [1251/3125], 40.0% complete, Train Loss: 0.687935615992546\n",
      "Epoch: [7/10], Step: [1876/3125], 60.0% complete, Train Loss: 0.685514436006546\n",
      "Epoch: [7/10], Step: [2501/3125], 80.0% complete, Train Loss: 0.6856104324817658\n",
      "Train loss: 0.6849215376853943\n",
      "Val loss: 0.7594710662961006\n",
      "Train acc: 70.724\n",
      "Val acc: 67.4\n",
      "Epoch: [8/10], Step: [626/3125], 20.0% complete, Train Loss: 0.6652086243629456\n",
      "Epoch: [8/10], Step: [1251/3125], 40.0% complete, Train Loss: 0.6637732485294342\n",
      "Epoch: [8/10], Step: [1876/3125], 60.0% complete, Train Loss: 0.6638548065185547\n",
      "Epoch: [8/10], Step: [2501/3125], 80.0% complete, Train Loss: 0.6633703590393066\n",
      "Train loss: 0.6632413573551178\n",
      "Val loss: 0.7587303351610899\n",
      "Train acc: 71.771\n",
      "Val acc: 67.4\n",
      "Epoch: [9/10], Step: [626/3125], 20.0% complete, Train Loss: 0.6383981647491455\n",
      "Epoch: [9/10], Step: [1251/3125], 40.0% complete, Train Loss: 0.6450099074363709\n",
      "Epoch: [9/10], Step: [1876/3125], 60.0% complete, Train Loss: 0.6422231520811716\n",
      "Epoch: [9/10], Step: [2501/3125], 80.0% complete, Train Loss: 0.6408052659988404\n",
      "Train loss: 0.6414929621696472\n",
      "Val loss: 0.7497054524719715\n",
      "Train acc: 72.866\n",
      "Val acc: 66.4\n",
      "Epoch: [10/10], Step: [626/3125], 20.0% complete, Train Loss: 0.6129012425422669\n",
      "Epoch: [10/10], Step: [1251/3125], 40.0% complete, Train Loss: 0.6168382281303406\n",
      "Epoch: [10/10], Step: [1876/3125], 60.0% complete, Train Loss: 0.6152746819814047\n",
      "Epoch: [10/10], Step: [2501/3125], 80.0% complete, Train Loss: 0.616408382833004\n",
      "Train loss: 0.618164155960083\n",
      "Val loss: 0.7484552590176463\n",
      "Train acc: 73.99\n",
      "Val acc: 68.0\n",
      "Epoch: [1/10], Step: [626/3125], 20.0% complete, Train Loss: 1.010995409011841\n",
      "Epoch: [1/10], Step: [1251/3125], 40.0% complete, Train Loss: 0.9740440062999726\n",
      "Epoch: [1/10], Step: [1876/3125], 60.0% complete, Train Loss: 0.9542036097844442\n",
      "Epoch: [1/10], Step: [2501/3125], 80.0% complete, Train Loss: 0.9388822785377502\n",
      "Train loss: 0.9249507551193237\n",
      "Val loss: 0.8663415312767029\n",
      "Train acc: 55.862\n",
      "Val acc: 59.9\n",
      "Epoch: [2/10], Step: [626/3125], 20.0% complete, Train Loss: 0.8534913726806641\n",
      "Epoch: [2/10], Step: [1251/3125], 40.0% complete, Train Loss: 0.8478748164176941\n",
      "Epoch: [2/10], Step: [1876/3125], 60.0% complete, Train Loss: 0.8461164137204488\n",
      "Epoch: [2/10], Step: [2501/3125], 80.0% complete, Train Loss: 0.8417528325796128\n",
      "Train loss: 0.8357668974685669\n",
      "Val loss: 0.8316128980368376\n",
      "Train acc: 61.952\n",
      "Val acc: 63.1\n",
      "Epoch: [3/10], Step: [626/3125], 20.0% complete, Train Loss: 0.7962199671268463\n",
      "Epoch: [3/10], Step: [1251/3125], 40.0% complete, Train Loss: 0.7985109774112702\n",
      "Epoch: [3/10], Step: [1876/3125], 60.0% complete, Train Loss: 0.7934641904830932\n",
      "Epoch: [3/10], Step: [2501/3125], 80.0% complete, Train Loss: 0.7897691644191742\n",
      "Train loss: 0.785973649520874\n",
      "Val loss: 0.7853269148617983\n",
      "Train acc: 65.076\n",
      "Val acc: 64.6\n",
      "Epoch: [4/10], Step: [626/3125], 20.0% complete, Train Loss: 0.7568236382007599\n",
      "Epoch: [4/10], Step: [1251/3125], 40.0% complete, Train Loss: 0.7506564043283462\n",
      "Epoch: [4/10], Step: [1876/3125], 60.0% complete, Train Loss: 0.7477518694877624\n",
      "Epoch: [4/10], Step: [2501/3125], 80.0% complete, Train Loss: 0.7465974034309387\n",
      "Train loss: 0.7455130807113648\n",
      "Val loss: 0.7830270081758499\n",
      "Train acc: 67.523\n",
      "Val acc: 65.9\n",
      "Epoch: [5/10], Step: [626/3125], 20.0% complete, Train Loss: 0.7247591959953308\n",
      "Epoch: [5/10], Step: [1251/3125], 40.0% complete, Train Loss: 0.7196207105875015\n",
      "Epoch: [5/10], Step: [1876/3125], 60.0% complete, Train Loss: 0.7146968115488688\n",
      "Epoch: [5/10], Step: [2501/3125], 80.0% complete, Train Loss: 0.7154300795197487\n",
      "Train loss: 0.7155078975296021\n",
      "Val loss: 0.7607871685177088\n",
      "Train acc: 69.019\n",
      "Val acc: 66.7\n",
      "Epoch: [6/10], Step: [626/3125], 20.0% complete, Train Loss: 0.6826996559143066\n",
      "Epoch: [6/10], Step: [1251/3125], 40.0% complete, Train Loss: 0.6883896601915359\n",
      "Epoch: [6/10], Step: [1876/3125], 60.0% complete, Train Loss: 0.6893260299841563\n",
      "Epoch: [6/10], Step: [2501/3125], 80.0% complete, Train Loss: 0.6888763908147811\n",
      "Train loss: 0.6884413544368744\n",
      "Val loss: 0.7522449046373367\n",
      "Train acc: 70.457\n",
      "Val acc: 67.5\n",
      "Epoch: [7/10], Step: [626/3125], 20.0% complete, Train Loss: 0.6675205701351166\n",
      "Epoch: [7/10], Step: [1251/3125], 40.0% complete, Train Loss: 0.6635878087282181\n",
      "Epoch: [7/10], Step: [1876/3125], 60.0% complete, Train Loss: 0.6631420998732249\n",
      "Epoch: [7/10], Step: [2501/3125], 80.0% complete, Train Loss: 0.6638707447886467\n",
      "Train loss: 0.6635795262050629\n",
      "Val loss: 0.7496421644464135\n",
      "Train acc: 71.851\n",
      "Val acc: 68.7\n",
      "Epoch: [8/10], Step: [626/3125], 20.0% complete, Train Loss: 0.6375393109798432\n",
      "Epoch: [8/10], Step: [1251/3125], 40.0% complete, Train Loss: 0.635256941986084\n",
      "Epoch: [8/10], Step: [1876/3125], 60.0% complete, Train Loss: 0.6376900340716044\n",
      "Epoch: [8/10], Step: [2501/3125], 80.0% complete, Train Loss: 0.6389104466795922\n",
      "Train loss: 0.6406692474746704\n",
      "Val loss: 0.7423434555530548\n",
      "Train acc: 72.826\n",
      "Val acc: 67.5\n",
      "Epoch: [9/10], Step: [626/3125], 20.0% complete, Train Loss: 0.608389165878296\n",
      "Epoch: [9/10], Step: [1251/3125], 40.0% complete, Train Loss: 0.6133210223913192\n",
      "Epoch: [9/10], Step: [1876/3125], 60.0% complete, Train Loss: 0.6127343020280203\n",
      "Epoch: [9/10], Step: [2501/3125], 80.0% complete, Train Loss: 0.6156806932926178\n",
      "Train loss: 0.6161679016399384\n",
      "Val loss: 0.7450940432026982\n",
      "Train acc: 74.165\n",
      "Val acc: 68.3\n",
      "Epoch: [10/10], Step: [626/3125], 20.0% complete, Train Loss: 0.5799466845035552\n",
      "Epoch: [10/10], Step: [1251/3125], 40.0% complete, Train Loss: 0.5848882214784622\n",
      "Epoch: [10/10], Step: [1876/3125], 60.0% complete, Train Loss: 0.5879818064053853\n",
      "Epoch: [10/10], Step: [2501/3125], 80.0% complete, Train Loss: 0.5908328939437866\n",
      "Train loss: 0.5917298440074921\n",
      "Val loss: 0.7314333934336901\n",
      "Train acc: 75.249\n",
      "Val acc: 67.5\n",
      "Epoch: [1/10], Step: [626/3125], 20.0% complete, Train Loss: 1.008753417778015\n",
      "Epoch: [1/10], Step: [1251/3125], 40.0% complete, Train Loss: 0.9704447415828705\n",
      "Epoch: [1/10], Step: [1876/3125], 60.0% complete, Train Loss: 0.949285815747579\n",
      "Epoch: [1/10], Step: [2501/3125], 80.0% complete, Train Loss: 0.9331047216415406\n",
      "Train loss: 0.9208880472755432\n",
      "Val loss: 0.860754482448101\n",
      "Train acc: 56.308\n",
      "Val acc: 60.0\n",
      "Epoch: [2/10], Step: [626/3125], 20.0% complete, Train Loss: 0.8536338785171509\n",
      "Epoch: [2/10], Step: [1251/3125], 40.0% complete, Train Loss: 0.846904640340805\n",
      "Epoch: [2/10], Step: [1876/3125], 60.0% complete, Train Loss: 0.8380297811190287\n",
      "Epoch: [2/10], Step: [2501/3125], 80.0% complete, Train Loss: 0.8343221724152565\n",
      "Train loss: 0.8305163480663299\n",
      "Val loss: 0.8347023315727711\n",
      "Train acc: 62.249\n",
      "Val acc: 61.7\n",
      "Epoch: [3/10], Step: [626/3125], 20.0% complete, Train Loss: 0.7895952027320862\n",
      "Epoch: [3/10], Step: [1251/3125], 40.0% complete, Train Loss: 0.7879624279499053\n",
      "Epoch: [3/10], Step: [1876/3125], 60.0% complete, Train Loss: 0.7871564264615377\n",
      "Epoch: [3/10], Step: [2501/3125], 80.0% complete, Train Loss: 0.7833484391331673\n",
      "Train loss: 0.7796267414569855\n",
      "Val loss: 0.8221268635243177\n",
      "Train acc: 65.44\n",
      "Val acc: 62.5\n",
      "Epoch: [4/10], Step: [626/3125], 20.0% complete, Train Loss: 0.7438146736145019\n",
      "Epoch: [4/10], Step: [1251/3125], 40.0% complete, Train Loss: 0.7414677881240844\n",
      "Epoch: [4/10], Step: [1876/3125], 60.0% complete, Train Loss: 0.7403588012695312\n",
      "Epoch: [4/10], Step: [2501/3125], 80.0% complete, Train Loss: 0.7405849241137504\n",
      "Train loss: 0.7393453663444519\n",
      "Val loss: 0.7701853401958942\n",
      "Train acc: 67.772\n",
      "Val acc: 67.0\n",
      "Epoch: [5/10], Step: [626/3125], 20.0% complete, Train Loss: 0.7090014025211334\n",
      "Epoch: [5/10], Step: [1251/3125], 40.0% complete, Train Loss: 0.7113840420246125\n",
      "Epoch: [5/10], Step: [1876/3125], 60.0% complete, Train Loss: 0.7113050679365794\n",
      "Epoch: [5/10], Step: [2501/3125], 80.0% complete, Train Loss: 0.7100615542769432\n",
      "Train loss: 0.7075551485347747\n",
      "Val loss: 0.7643550969660282\n",
      "Train acc: 69.547\n",
      "Val acc: 65.9\n",
      "Epoch: [6/10], Step: [626/3125], 20.0% complete, Train Loss: 0.6768393053531647\n",
      "Epoch: [6/10], Step: [1251/3125], 40.0% complete, Train Loss: 0.6815610953569412\n",
      "Epoch: [6/10], Step: [1876/3125], 60.0% complete, Train Loss: 0.6787880491733551\n",
      "Epoch: [6/10], Step: [2501/3125], 80.0% complete, Train Loss: 0.6788805353164673\n",
      "Train loss: 0.6789783337020874\n",
      "Val loss: 0.7589308992028236\n",
      "Train acc: 71.05\n",
      "Val acc: 66.1\n",
      "Epoch: [7/10], Step: [626/3125], 20.0% complete, Train Loss: 0.6495586691379547\n",
      "Epoch: [7/10], Step: [1251/3125], 40.0% complete, Train Loss: 0.6525072333812714\n",
      "Epoch: [7/10], Step: [1876/3125], 60.0% complete, Train Loss: 0.6480142854213714\n",
      "Epoch: [7/10], Step: [2501/3125], 80.0% complete, Train Loss: 0.6516704070091247\n",
      "Train loss: 0.6503014342880249\n",
      "Val loss: 0.7586068650707603\n",
      "Train acc: 72.528\n",
      "Val acc: 68.3\n",
      "Epoch: [8/10], Step: [626/3125], 20.0% complete, Train Loss: 0.6143943112373352\n",
      "Epoch: [8/10], Step: [1251/3125], 40.0% complete, Train Loss: 0.6176854726314545\n",
      "Epoch: [8/10], Step: [1876/3125], 60.0% complete, Train Loss: 0.6198801746527354\n",
      "Epoch: [8/10], Step: [2501/3125], 80.0% complete, Train Loss: 0.6220157077670098\n",
      "Train loss: 0.6230869491291046\n",
      "Val loss: 0.749044019728899\n",
      "Train acc: 73.868\n",
      "Val acc: 67.3\n",
      "Epoch: [9/10], Step: [626/3125], 20.0% complete, Train Loss: 0.5845364611148834\n",
      "Epoch: [9/10], Step: [1251/3125], 40.0% complete, Train Loss: 0.592189785027504\n",
      "Epoch: [9/10], Step: [1876/3125], 60.0% complete, Train Loss: 0.5926966237862905\n",
      "Epoch: [9/10], Step: [2501/3125], 80.0% complete, Train Loss: 0.593950403046608\n",
      "Train loss: 0.5951164931583405\n",
      "Val loss: 0.7453086106106639\n",
      "Train acc: 75.049\n",
      "Val acc: 67.1\n",
      "Epoch: [10/10], Step: [626/3125], 20.0% complete, Train Loss: 0.5511634474754333\n",
      "Epoch: [10/10], Step: [1251/3125], 40.0% complete, Train Loss: 0.5541220925807953\n",
      "Epoch: [10/10], Step: [1876/3125], 60.0% complete, Train Loss: 0.5583992319186528\n",
      "Epoch: [10/10], Step: [2501/3125], 80.0% complete, Train Loss: 0.5620347999870777\n",
      "Train loss: 0.5658597196531295\n",
      "Val loss: 0.751274979673326\n",
      "Train acc: 76.572\n",
      "Val acc: 67.7\n",
      "Epoch: [1/10], Step: [626/3125], 20.0% complete, Train Loss: 1.014209265422821\n",
      "Epoch: [1/10], Step: [1251/3125], 40.0% complete, Train Loss: 0.9742218327045441\n",
      "Epoch: [1/10], Step: [1876/3125], 60.0% complete, Train Loss: 0.9561209463437398\n",
      "Epoch: [1/10], Step: [2501/3125], 80.0% complete, Train Loss: 0.9418181673765182\n",
      "Train loss: 0.9297862584495544\n",
      "Val loss: 0.8801877647638321\n",
      "Train acc: 55.85\n",
      "Val acc: 58.7\n",
      "Epoch: [2/10], Step: [626/3125], 20.0% complete, Train Loss: 0.8576610204696655\n",
      "Epoch: [2/10], Step: [1251/3125], 40.0% complete, Train Loss: 0.852394095659256\n",
      "Epoch: [2/10], Step: [1876/3125], 60.0% complete, Train Loss: 0.8513633313814799\n",
      "Epoch: [2/10], Step: [2501/3125], 80.0% complete, Train Loss: 0.850405204463005\n",
      "Train loss: 0.846412163696289\n",
      "Val loss: 0.8472482096403837\n",
      "Train acc: 61.19\n",
      "Val acc: 61.1\n",
      "Epoch: [3/10], Step: [626/3125], 20.0% complete, Train Loss: 0.8114898724555969\n",
      "Epoch: [3/10], Step: [1251/3125], 40.0% complete, Train Loss: 0.810924621796608\n",
      "Epoch: [3/10], Step: [1876/3125], 60.0% complete, Train Loss: 0.8074050490379333\n",
      "Epoch: [3/10], Step: [2501/3125], 80.0% complete, Train Loss: 0.8056915694713592\n",
      "Train loss: 0.8026315717697143\n",
      "Val loss: 0.8217408396303654\n",
      "Train acc: 63.849\n",
      "Val acc: 63.6\n",
      "Epoch: [4/10], Step: [626/3125], 20.0% complete, Train Loss: 0.7826437274932861\n",
      "Epoch: [4/10], Step: [1251/3125], 40.0% complete, Train Loss: 0.7791649310112\n",
      "Epoch: [4/10], Step: [1876/3125], 60.0% complete, Train Loss: 0.7739910251935324\n",
      "Epoch: [4/10], Step: [2501/3125], 80.0% complete, Train Loss: 0.7714869912385941\n",
      "Train loss: 0.7684254442214966\n",
      "Val loss: 0.7935005445033312\n",
      "Train acc: 66.039\n",
      "Val acc: 65.0\n",
      "Epoch: [5/10], Step: [626/3125], 20.0% complete, Train Loss: 0.7456717121124268\n",
      "Epoch: [5/10], Step: [1251/3125], 40.0% complete, Train Loss: 0.7458960621118546\n",
      "Epoch: [5/10], Step: [1876/3125], 60.0% complete, Train Loss: 0.7402978562513988\n",
      "Epoch: [5/10], Step: [2501/3125], 80.0% complete, Train Loss: 0.7379609853386879\n",
      "Train loss: 0.736837338552475\n",
      "Val loss: 0.7864878624677658\n",
      "Train acc: 67.72\n",
      "Val acc: 67.2\n",
      "Epoch: [6/10], Step: [626/3125], 20.0% complete, Train Loss: 0.7173382138729095\n",
      "Epoch: [6/10], Step: [1251/3125], 40.0% complete, Train Loss: 0.7139211250782013\n",
      "Epoch: [6/10], Step: [1876/3125], 60.0% complete, Train Loss: 0.7102654572486877\n",
      "Epoch: [6/10], Step: [2501/3125], 80.0% complete, Train Loss: 0.7079184057116509\n",
      "Train loss: 0.706115157661438\n",
      "Val loss: 0.8034038208425045\n",
      "Train acc: 69.49\n",
      "Val acc: 65.3\n",
      "Epoch: [7/10], Step: [626/3125], 20.0% complete, Train Loss: 0.6752111711978912\n",
      "Epoch: [7/10], Step: [1251/3125], 40.0% complete, Train Loss: 0.6785810811281204\n",
      "Epoch: [7/10], Step: [1876/3125], 60.0% complete, Train Loss: 0.679977317349116\n",
      "Epoch: [7/10], Step: [2501/3125], 80.0% complete, Train Loss: 0.6805475481152534\n",
      "Train loss: 0.681317379322052\n",
      "Val loss: 0.7690360341221094\n",
      "Train acc: 70.787\n",
      "Val acc: 66.4\n",
      "Epoch: [8/10], Step: [626/3125], 20.0% complete, Train Loss: 0.657526630783081\n",
      "Epoch: [8/10], Step: [1251/3125], 40.0% complete, Train Loss: 0.6558763328790664\n",
      "Epoch: [8/10], Step: [1876/3125], 60.0% complete, Train Loss: 0.6561849531014761\n",
      "Epoch: [8/10], Step: [2501/3125], 80.0% complete, Train Loss: 0.6576027393579483\n",
      "Train loss: 0.6590164535427093\n",
      "Val loss: 0.772155249491334\n",
      "Train acc: 71.978\n",
      "Val acc: 67.6\n",
      "Epoch: [9/10], Step: [626/3125], 20.0% complete, Train Loss: 0.6346011935234069\n",
      "Epoch: [9/10], Step: [1251/3125], 40.0% complete, Train Loss: 0.6350351657152176\n",
      "Epoch: [9/10], Step: [1876/3125], 60.0% complete, Train Loss: 0.6352227084477743\n",
      "Epoch: [9/10], Step: [2501/3125], 80.0% complete, Train Loss: 0.634389690542221\n",
      "Train loss: 0.6351580643653869\n",
      "Val loss: 0.7819064017385244\n",
      "Train acc: 73.085\n",
      "Val acc: 66.4\n",
      "Epoch: [10/10], Step: [626/3125], 20.0% complete, Train Loss: 0.6030085600376129\n",
      "Epoch: [10/10], Step: [1251/3125], 40.0% complete, Train Loss: 0.6017780849218368\n",
      "Epoch: [10/10], Step: [1876/3125], 60.0% complete, Train Loss: 0.607621719789505\n",
      "Epoch: [10/10], Step: [2501/3125], 80.0% complete, Train Loss: 0.6098468032002449\n",
      "Train loss: 0.6116621657085418\n",
      "Val loss: 0.7876603659242392\n",
      "Train acc: 74.198\n",
      "Val acc: 67.5\n",
      "Epoch: [1/10], Step: [626/3125], 20.0% complete, Train Loss: 1.00812531414032\n"
     ]
    },
    {
     "ename": "KeyboardInterrupt",
     "evalue": "",
     "output_type": "error",
     "traceback": [
      "\u001b[0;31m---------------------------------------------------------------------------\u001b[0m",
      "\u001b[0;31mKeyboardInterrupt\u001b[0m                         Traceback (most recent call last)",
      "\u001b[0;32m<ipython-input-92-b2f38b9971db>\u001b[0m in \u001b[0;36m<module>\u001b[0;34m()\u001b[0m\n\u001b[1;32m     19\u001b[0m         \u001b[0moptimizer2\u001b[0m \u001b[0;34m=\u001b[0m \u001b[0mtorch\u001b[0m\u001b[0;34m.\u001b[0m\u001b[0moptim\u001b[0m\u001b[0;34m.\u001b[0m\u001b[0mAdam\u001b[0m\u001b[0;34m(\u001b[0m\u001b[0mmodel2\u001b[0m\u001b[0;34m.\u001b[0m\u001b[0mparameters\u001b[0m\u001b[0;34m(\u001b[0m\u001b[0;34m)\u001b[0m\u001b[0;34m,\u001b[0m \u001b[0mlr\u001b[0m\u001b[0;34m=\u001b[0m\u001b[0mlearning_rate\u001b[0m\u001b[0;34m)\u001b[0m\u001b[0;34m\u001b[0m\u001b[0m\n\u001b[1;32m     20\u001b[0m         run_GRU(10,train_loader,val_loader,model2,optimizer2,criterion,val_loss_hist_hidden_size_i,\n\u001b[0;32m---> 21\u001b[0;31m                 train_loss_hist_hidden_size_i,val_acc_hist_hidden_size_i,train_acc_hist_hidden_size_i)\n\u001b[0m\u001b[1;32m     22\u001b[0m \u001b[0;34m\u001b[0m\u001b[0m\n\u001b[1;32m     23\u001b[0m         \u001b[0mtrain_loss_hist_dict\u001b[0m\u001b[0;34m[\u001b[0m\u001b[0;34m(\u001b[0m\u001b[0mhidden_size_i\u001b[0m\u001b[0;34m,\u001b[0m\u001b[0mlinear_hidden_size_j\u001b[0m\u001b[0;34m)\u001b[0m\u001b[0;34m]\u001b[0m\u001b[0;34m=\u001b[0m\u001b[0mtrain_loss_hist_hidden_size_i\u001b[0m\u001b[0;34m\u001b[0m\u001b[0m\n",
      "\u001b[0;32m<ipython-input-75-5cda24a54eef>\u001b[0m in \u001b[0;36mrun_GRU\u001b[0;34m(num_epochs, train_loader, val_loader, model, optimizer, criterion, val_loss_hist, train_loss_hist, val_acc_hist, train_acc_hist, epochs_already_made)\u001b[0m\n\u001b[1;32m     21\u001b[0m             \u001b[0moutputs\u001b[0m \u001b[0;34m=\u001b[0m \u001b[0mmodel\u001b[0m\u001b[0;34m(\u001b[0m\u001b[0mdata_premise\u001b[0m\u001b[0;34m,\u001b[0m \u001b[0mlength_premise\u001b[0m\u001b[0;34m,\u001b[0m\u001b[0mdata_hypothesis\u001b[0m\u001b[0;34m,\u001b[0m\u001b[0mlength_hypothesis\u001b[0m\u001b[0;34m)\u001b[0m\u001b[0;34m\u001b[0m\u001b[0m\n\u001b[1;32m     22\u001b[0m             \u001b[0mloss\u001b[0m\u001b[0;34m=\u001b[0m\u001b[0mcriterion\u001b[0m\u001b[0;34m(\u001b[0m\u001b[0moutputs\u001b[0m\u001b[0;34m,\u001b[0m\u001b[0mlabels\u001b[0m\u001b[0;34m)\u001b[0m\u001b[0;34m\u001b[0m\u001b[0m\n\u001b[0;32m---> 23\u001b[0;31m             \u001b[0mloss\u001b[0m\u001b[0;34m.\u001b[0m\u001b[0mbackward\u001b[0m\u001b[0;34m(\u001b[0m\u001b[0;34m)\u001b[0m\u001b[0;34m\u001b[0m\u001b[0m\n\u001b[0m\u001b[1;32m     24\u001b[0m             \u001b[0moptimizer\u001b[0m\u001b[0;34m.\u001b[0m\u001b[0mstep\u001b[0m\u001b[0;34m(\u001b[0m\u001b[0;34m)\u001b[0m\u001b[0;34m\u001b[0m\u001b[0m\n\u001b[1;32m     25\u001b[0m             \u001b[0mtrain_loss\u001b[0m\u001b[0;34m+=\u001b[0m\u001b[0mloss\u001b[0m\u001b[0;34m.\u001b[0m\u001b[0mitem\u001b[0m\u001b[0;34m(\u001b[0m\u001b[0;34m)\u001b[0m\u001b[0;34m\u001b[0m\u001b[0m\n",
      "\u001b[0;32m//anaconda/lib/python3.5/site-packages/torch/tensor.py\u001b[0m in \u001b[0;36mbackward\u001b[0;34m(self, gradient, retain_graph, create_graph)\u001b[0m\n\u001b[1;32m     91\u001b[0m                 \u001b[0mproducts\u001b[0m\u001b[0;34m.\u001b[0m \u001b[0mDefaults\u001b[0m \u001b[0mto\u001b[0m\u001b[0;31m \u001b[0m\u001b[0;31m`\u001b[0m\u001b[0;31m`\u001b[0m\u001b[0;32mFalse\u001b[0m\u001b[0;31m`\u001b[0m\u001b[0;31m`\u001b[0m\u001b[0;34m.\u001b[0m\u001b[0;34m\u001b[0m\u001b[0m\n\u001b[1;32m     92\u001b[0m         \"\"\"\n\u001b[0;32m---> 93\u001b[0;31m         \u001b[0mtorch\u001b[0m\u001b[0;34m.\u001b[0m\u001b[0mautograd\u001b[0m\u001b[0;34m.\u001b[0m\u001b[0mbackward\u001b[0m\u001b[0;34m(\u001b[0m\u001b[0mself\u001b[0m\u001b[0;34m,\u001b[0m \u001b[0mgradient\u001b[0m\u001b[0;34m,\u001b[0m \u001b[0mretain_graph\u001b[0m\u001b[0;34m,\u001b[0m \u001b[0mcreate_graph\u001b[0m\u001b[0;34m)\u001b[0m\u001b[0;34m\u001b[0m\u001b[0m\n\u001b[0m\u001b[1;32m     94\u001b[0m \u001b[0;34m\u001b[0m\u001b[0m\n\u001b[1;32m     95\u001b[0m     \u001b[0;32mdef\u001b[0m \u001b[0mregister_hook\u001b[0m\u001b[0;34m(\u001b[0m\u001b[0mself\u001b[0m\u001b[0;34m,\u001b[0m \u001b[0mhook\u001b[0m\u001b[0;34m)\u001b[0m\u001b[0;34m:\u001b[0m\u001b[0;34m\u001b[0m\u001b[0m\n",
      "\u001b[0;32m//anaconda/lib/python3.5/site-packages/torch/autograd/__init__.py\u001b[0m in \u001b[0;36mbackward\u001b[0;34m(tensors, grad_tensors, retain_graph, create_graph, grad_variables)\u001b[0m\n\u001b[1;32m     88\u001b[0m     Variable._execution_engine.run_backward(\n\u001b[1;32m     89\u001b[0m         \u001b[0mtensors\u001b[0m\u001b[0;34m,\u001b[0m \u001b[0mgrad_tensors\u001b[0m\u001b[0;34m,\u001b[0m \u001b[0mretain_graph\u001b[0m\u001b[0;34m,\u001b[0m \u001b[0mcreate_graph\u001b[0m\u001b[0;34m,\u001b[0m\u001b[0;34m\u001b[0m\u001b[0m\n\u001b[0;32m---> 90\u001b[0;31m         allow_unreachable=True)  # allow_unreachable flag\n\u001b[0m\u001b[1;32m     91\u001b[0m \u001b[0;34m\u001b[0m\u001b[0m\n\u001b[1;32m     92\u001b[0m \u001b[0;34m\u001b[0m\u001b[0m\n",
      "\u001b[0;31mKeyboardInterrupt\u001b[0m: "
     ]
    }
   ],
   "source": [
    "hidden_size=[128,256,512]\n",
    "linear_hidden_size=[16,32,64,128]\n",
    "train_loss_hist_dict={}\n",
    "val_loss_hist_dict={}\n",
    "train_acc_hist_dict={}\n",
    "val_acc_hist_dict={}\n",
    "\n",
    "iteration=0\n",
    "for hidden_size_i in hidden_size:\n",
    "    for linear_hidden_size_j in linear_hidden_size:\n",
    "        train_loss_hist_hidden_size_i=[]\n",
    "        val_loss_hist_hidden_size_i=[]\n",
    "        train_acc_hist_hidden_size_i=[]\n",
    "        val_acc_hist_hidden_size_i=[]\n",
    "\n",
    "\n",
    "        model2 = TwoFullyConnectedLayers(embedding_words, hidden_size_GRU=hidden_size_i, \n",
    "                                     hidden_size_linear=linear_hidden_size_j, num_layers=1)\n",
    "        optimizer2 = torch.optim.Adam(model2.parameters(), lr=learning_rate)\n",
    "        run_GRU(10,train_loader,val_loader,model2,optimizer2,criterion,val_loss_hist_hidden_size_i,\n",
    "                train_loss_hist_hidden_size_i,val_acc_hist_hidden_size_i,train_acc_hist_hidden_size_i)\n",
    "    \n",
    "        train_loss_hist_dict[(hidden_size_i,linear_hidden_size_j)]=train_loss_hist_hidden_size_i\n",
    "        val_loss_hist_dict[(hidden_size_i,linear_hidden_size_j)]=val_loss_hist_hidden_size_i\n",
    "        train_acc_hist_dict[(hidden_size_i,linear_hidden_size_j)]=train_acc_hist_hidden_size_i\n",
    "        val_acc_hist_dict[(hidden_size_i,linear_hidden_size_j)]=val_acc_hist_hidden_size_i\n",
    "    \n",
    "    sendmail(job='GRU for hidden_size='+str(hidden_size_i),percentage=100*(iteration+1)/len(hidden_size))\n",
    "    iteration+=1"
   ]
  },
  {
   "cell_type": "markdown",
   "metadata": {},
   "source": [
    "#### Due to the algorithm taking too long to compute, I stopped at 512 and only did one linear embedding size there, meaning I tested 9 different sizes"
   ]
  },
  {
   "cell_type": "markdown",
   "metadata": {},
   "source": [
    "### Let's see the impact of hidden sizes"
   ]
  },
  {
   "cell_type": "code",
   "execution_count": 94,
   "metadata": {
    "collapsed": false
   },
   "outputs": [],
   "source": [
    "pkl.dump(train_loss_hist_dict,open('train_loss_hist_dict.p','wb'))\n",
    "pkl.dump(val_loss_hist_dict,open('val_loss_hist_dict.p','wb'))\n",
    "pkl.dump(train_acc_hist_dict,open('train_acc_hist_dict.p','wb'))\n",
    "pkl.dump(val_acc_hist_dict,open('val_acc_hist_dict.p','wb'))"
   ]
  },
  {
   "cell_type": "code",
   "execution_count": 78,
   "metadata": {
    "collapsed": true
   },
   "outputs": [],
   "source": [
    "train_loss_hist_dict=pkl.load(open('train_loss_hist_dict.p','rb'))\n",
    "val_loss_hist_dict=pkl.load(open('val_loss_hist_dict.p','rb'))\n",
    "train_acc_hist_dict=pkl.load(open('train_acc_hist_dict.p','rb'))\n",
    "val_acc_hist_dict=pkl.load(open('val_acc_hist_dict.p','rb'))"
   ]
  },
  {
   "cell_type": "code",
   "execution_count": 79,
   "metadata": {
    "collapsed": false
   },
   "outputs": [
    {
     "data": {
      "image/png": "[encoded data removed]",
      "text/plain": [
       "<matplotlib.figure.Figure at 0x138a23a20>"
      ]
     },
     "metadata": {},
     "output_type": "display_data"
    }
   ],
   "source": [
    "epochs_tab=[i+1 for i in range(10)]\n",
    "for i in val_acc_hist_dict:\n",
    "    plt.plot(epochs_tab,val_acc_hist_dict[i],label=str(i))\n",
    "plt.legend(bbox_to_anchor=(1.3, 1))\n",
    "plt.xlabel('Epochs')\n",
    "plt.ylabel('Accuracy')\n",
    "plt.title('Validation curves for different embedding sizes')\n",
    "plt.show()    "
   ]
  },
  {
   "cell_type": "code",
   "execution_count": 88,
   "metadata": {
    "collapsed": false
   },
   "outputs": [
    {
     "data": {
      "image/png": "[encoded data removed]",
      "text/plain": [
       "<matplotlib.figure.Figure at 0x1389d1e48>"
      ]
     },
     "metadata": {},
     "output_type": "display_data"
    }
   ],
   "source": [
    "epochs_tab=[i+1 for i in range(10)]\n",
    "for i in val_acc_hist_dict:\n",
    "    plt.plot(epochs_tab,val_loss_hist_dict[i],label=str(i))\n",
    "plt.legend(bbox_to_anchor=(1.3, 1))\n",
    "plt.xlabel('Epochs')\n",
    "plt.ylabel('Loss')\n",
    "plt.title('Validation loss curves for different embedding sizes')\n",
    "plt.show()    "
   ]
  },
  {
   "cell_type": "code",
   "execution_count": 102,
   "metadata": {
    "collapsed": false
   },
   "outputs": [
    {
     "data": {
      "text/plain": [
       "[((128, 128), 68.9),\n",
       " ((256, 16), 68.1),\n",
       " ((256, 32), 68.0),\n",
       " ((256, 128), 67.7),\n",
       " ((256, 64), 67.5),\n",
       " ((512, 16), 67.5),\n",
       " ((128, 64), 67.3),\n",
       " ((128, 32), 67.2),\n",
       " ((128, 16), 66.0)]"
      ]
     },
     "execution_count": 102,
     "metadata": {},
     "output_type": "execute_result"
    }
   ],
   "source": [
    "import operator\n",
    "val_comparison={}\n",
    "for key in val_acc_hist_dict:\n",
    "    val_comparison[key] = val_acc_hist_dict[key][-1]\n",
    "sorted_val_comparison = sorted(val_comparison.items(), key=lambda x: -x[1])\n",
    "sorted_val_comparison"
   ]
  },
  {
   "cell_type": "code",
   "execution_count": 105,
   "metadata": {
    "collapsed": false
   },
   "outputs": [
    {
     "data": {
      "image/png": "[encoded data removed]",
      "text/plain": [
       "<matplotlib.figure.Figure at 0x152748550>"
      ]
     },
     "metadata": {},
     "output_type": "display_data"
    }
   ],
   "source": [
    "iterations=0\n",
    "for key in sorted_val_comparison:\n",
    "    plt.plot(epochs_tab,val_acc_hist_dict[key[0]],label=str(key[0]))\n",
    "    iterations+=1\n",
    "    if iterations==3:\n",
    "        break\n",
    "plt.legend(bbox_to_anchor=(1.3, 1))\n",
    "plt.xlabel('Epochs')\n",
    "plt.ylabel('Accuracy')\n",
    "plt.title('Validation curves for top 3 embedding sizes performers')\n",
    "plt.show()    \n",
    "    "
   ]
  },
  {
   "cell_type": "code",
   "execution_count": 107,
   "metadata": {
    "collapsed": false
   },
   "outputs": [
    {
     "data": {
      "image/png": "[encoded data removed]",
      "text/plain": [
       "<matplotlib.figure.Figure at 0x1553ed5f8>"
      ]
     },
     "metadata": {},
     "output_type": "display_data"
    }
   ],
   "source": [
    "iterations=0\n",
    "for key in sorted_val_comparison:\n",
    "    plt.plot(epochs_tab,val_loss_hist_dict[key[0]],label=str(key[0]))\n",
    "    iterations+=1\n",
    "    if iterations==3:\n",
    "        break\n",
    "plt.legend(bbox_to_anchor=(1.3, 1))\n",
    "plt.xlabel('Epochs')\n",
    "plt.ylabel('Loss')\n",
    "plt.title('Validation loss curves for top 3 embedding sizes performers')\n",
    "plt.show()    \n",
    "    "
   ]
  },
  {
   "cell_type": "code",
   "execution_count": 114,
   "metadata": {
    "collapsed": false
   },
   "outputs": [
    {
     "data": {
      "image/png": "[encoded data removed]",
      "text/plain": [
       "<matplotlib.figure.Figure at 0x15ae8c2b0>"
      ]
     },
     "metadata": {},
     "output_type": "display_data"
    }
   ],
   "source": [
    "iterations=0\n",
    "for key in sorted_val_comparison:\n",
    "    plt.plot(epochs_tab,train_loss_hist_dict[key[0]],label=str(key[0]))\n",
    "    iterations+=1\n",
    "    if iterations==3:\n",
    "        break\n",
    "plt.legend(bbox_to_anchor=(1.3, 1))\n",
    "plt.xlabel('Epochs')\n",
    "plt.ylabel('Loss')\n",
    "plt.title('Training loss curves for top 3 embedding sizes performers')\n",
    "plt.show()    \n",
    "    "
   ]
  },
  {
   "cell_type": "code",
   "execution_count": 113,
   "metadata": {
    "collapsed": false
   },
   "outputs": [
    {
     "data": {
      "image/png": "[encoded data removed]",
      "text/plain": [
       "<matplotlib.figure.Figure at 0x155e9bda0>"
      ]
     },
     "metadata": {},
     "output_type": "display_data"
    }
   ],
   "source": [
    "iterations=0\n",
    "for key in sorted_val_comparison:\n",
    "    plt.plot(epochs_tab,train_acc_hist_dict[key[0]],label=str(key[0]))\n",
    "    iterations+=1\n",
    "    if iterations==3:\n",
    "        break\n",
    "plt.legend(bbox_to_anchor=(1.3, 1))\n",
    "plt.xlabel('Epochs')\n",
    "plt.ylabel('Accuracy')\n",
    "plt.title('Training accuracy curves for top 3 embedding sizes performers')\n",
    "plt.show()    \n",
    "    "
   ]
  },
  {
   "cell_type": "code",
   "execution_count": 117,
   "metadata": {
    "collapsed": false
   },
   "outputs": [
    {
     "data": {
      "image/png": "[encoded data removed]",
      "text/plain": [
       "<matplotlib.figure.Figure at 0x15b10af60>"
      ]
     },
     "metadata": {},
     "output_type": "display_data"
    }
   ],
   "source": [
    "for key in sorted_val_comparison:\n",
    "    plt.plot(epochs_tab,train_loss_hist_dict[key[0]],label=str(key[0]))\n",
    "plt.legend(bbox_to_anchor=(1.3, 1))\n",
    "plt.xlabel('Epochs')\n",
    "plt.ylabel('Accuracy')\n",
    "plt.title('Training accuracy curves for top 3 embedding sizes performers')\n",
    "plt.show()    \n",
    "    "
   ]
  },
  {
   "cell_type": "markdown",
   "metadata": {},
   "source": [
    "The best choice is 128 for both hidden sizes"
   ]
  },
  {
   "cell_type": "markdown",
   "metadata": {},
   "source": [
    "## Let's test the dropout"
   ]
  },
  {
   "cell_type": "code",
   "execution_count": 58,
   "metadata": {
    "collapsed": true
   },
   "outputs": [],
   "source": [
    "class GRU_dropout(nn.Module):\n",
    "    def __init__(self, ft_embeddings, hidden_size, num_layers,dropout):\n",
    "        super().__init__()\n",
    "\n",
    "        self.num_layers, self.hidden_size = num_layers, hidden_size\n",
    "        self.embedding = nn.Embedding.from_pretrained(torch.from_numpy(ft_embeddings).float())\n",
    "        self.gru = nn.GRU(300, hidden_size, num_layers,dropout=dropout,bidirectional=True, batch_first=True)\n",
    "        \n",
    "        \n",
    "    def init_hidden(self, batch_size):\n",
    "        # Function initializes the activation of recurrent neural net at timestep 0\n",
    "        # Needs to be in format (num_layers, batch_size, hidden_size)\n",
    "        hidden = torch.randn(2*self.num_layers, batch_size, self.hidden_size)\n",
    "        return hidden\n",
    "\n",
    "    def forward(self, x, lengths):\n",
    "        # reset hidden state\n",
    "\n",
    "        batch_size, seq_len = x.size()\n",
    "        self.hidden = self.init_hidden(batch_size)\n",
    "\n",
    "        # get embedding of characters\n",
    "        embed = self.embedding(x)\n",
    "        #sorting the lengths\n",
    "        indices=pd.Series(lengths).sort_values(ascending=False).index\n",
    "        embed=embed[indices]\n",
    "        lengths=lengths[indices]\n",
    "        # pack padded sequence\n",
    "        embed = torch.nn.utils.rnn.pack_padded_sequence(embed, (lengths.numpy()), batch_first=True)\n",
    "        # fprop though RNN\n",
    "        gru_out, self.hidden = self.gru(embed, self.hidden)\n",
    "        # undo packing\n",
    "        gru_out = self.hidden\n",
    "        #reorder output\n",
    "        inverse_permutation=pd.Series(indices).sort_values(ascending=True).index\n",
    "        forward_output=gru_out[0]\n",
    "        backward_output=gru_out[1]\n",
    "        output=torch.cat((forward_output,backward_output),dim=1)\n",
    "        output=output[inverse_permutation]\n",
    "        return output\n",
    "\n",
    "\n"
   ]
  },
  {
   "cell_type": "code",
   "execution_count": 59,
   "metadata": {
    "collapsed": true
   },
   "outputs": [],
   "source": [
    "class TwoFullyConnectedLayers_dropout(nn.Module):\n",
    "    def __init__(self, ft_embeddings, hidden_size_GRU,hidden_size_linear, dropout, num_layers,num_classes=3):\n",
    "        super().__init__()\n",
    "\n",
    "        self.gru_premise=GRU_dropout(ft_embeddings,hidden_size_GRU,num_layers,dropout=dropout)\n",
    "        self.gru_hypothesis=GRU_dropout(ft_embeddings,hidden_size_GRU,num_layers,dropout=dropout)\n",
    "        #concatenate the two outputs of size 2*hidden_size\n",
    "        self.linear1=nn.Linear(2*(2*hidden_size_GRU),hidden_size_linear)  \n",
    "        self.linear2=nn.Linear(hidden_size_linear,num_classes)\n",
    "        \n",
    "        \n",
    "    def forward(self, premise,length_premise,hypothesis,length_hypothesis):\n",
    "        # reset hidden state\n",
    "        \n",
    "        output_premise=self.gru_premise(premise,length_premise)\n",
    "        output_hypothesis=self.gru_hypothesis(hypothesis,length_hypothesis)\n",
    "        \n",
    "        output=torch.cat((output_premise,output_hypothesis),dim=1)\n",
    "        \n",
    "        x=self.linear1(output)\n",
    "        x=nn.functional.relu(x)\n",
    "        x=self.linear2(x)\n",
    "        \n",
    "        return x"
   ]
  },
  {
   "cell_type": "code",
   "execution_count": 119,
   "metadata": {
    "collapsed": false
   },
   "outputs": [
    {
     "name": "stdout",
     "output_type": "stream",
     "text": [
      "Epoch: [1/10], Step: [626/3125], 20.0% complete, Train Loss: 1.0134870886802674\n",
      "Epoch: [1/10], Step: [1251/3125], 40.0% complete, Train Loss: 0.973672735786438\n",
      "Epoch: [1/10], Step: [1876/3125], 60.0% complete, Train Loss: 0.9506432129542033\n",
      "Epoch: [1/10], Step: [2501/3125], 80.0% complete, Train Loss: 0.9360220637559891\n",
      "Train loss: 0.9247695468521118\n",
      "Val loss: 0.876868799328804\n",
      "Train acc: 56.075\n",
      "Val acc: 59.3\n",
      "Epoch: [2/10], Step: [626/3125], 20.0% complete, Train Loss: 0.8564696901321411\n",
      "Epoch: [2/10], Step: [1251/3125], 40.0% complete, Train Loss: 0.852050843667984\n",
      "Epoch: [2/10], Step: [1876/3125], 60.0% complete, Train Loss: 0.8477626754919688\n",
      "Epoch: [2/10], Step: [2501/3125], 80.0% complete, Train Loss: 0.8425393963575363\n",
      "Train loss: 0.8381547678279877\n",
      "Val loss: 0.8178883604705334\n",
      "Train acc: 61.903\n",
      "Val acc: 63.2\n",
      "Epoch: [3/10], Step: [626/3125], 20.0% complete, Train Loss: 0.793329447555542\n",
      "Epoch: [3/10], Step: [1251/3125], 40.0% complete, Train Loss: 0.7974343042850495\n",
      "Epoch: [3/10], Step: [1876/3125], 60.0% complete, Train Loss: 0.7949542277018229\n",
      "Epoch: [3/10], Step: [2501/3125], 80.0% complete, Train Loss: 0.7939541434884071\n",
      "Train loss: 0.7898409975528717\n",
      "Val loss: 0.7896868977695704\n",
      "Train acc: 64.789\n",
      "Val acc: 64.4\n",
      "Epoch: [4/10], Step: [626/3125], 20.0% complete, Train Loss: 0.764088587474823\n",
      "Epoch: [4/10], Step: [1251/3125], 40.0% complete, Train Loss: 0.7595355985879898\n",
      "Epoch: [4/10], Step: [1876/3125], 60.0% complete, Train Loss: 0.7580600595633189\n",
      "Epoch: [4/10], Step: [2501/3125], 80.0% complete, Train Loss: 0.7545543741941452\n",
      "Train loss: 0.7511821095561981\n",
      "Val loss: 0.7808978036046028\n",
      "Train acc: 67.021\n",
      "Val acc: 64.9\n",
      "Epoch: [5/10], Step: [626/3125], 20.0% complete, Train Loss: 0.7243312904834748\n",
      "Epoch: [5/10], Step: [1251/3125], 40.0% complete, Train Loss: 0.7226296669244766\n",
      "Epoch: [5/10], Step: [1876/3125], 60.0% complete, Train Loss: 0.7240117355505625\n",
      "Epoch: [5/10], Step: [2501/3125], 80.0% complete, Train Loss: 0.7215754039883614\n",
      "Train loss: 0.7212214827060699\n",
      "Val loss: 0.7853649742901325\n",
      "Train acc: 68.817\n",
      "Val acc: 67.1\n",
      "Epoch: [6/10], Step: [626/3125], 20.0% complete, Train Loss: 0.6915768768787384\n",
      "Epoch: [6/10], Step: [1251/3125], 40.0% complete, Train Loss: 0.6937924770832061\n",
      "Epoch: [6/10], Step: [1876/3125], 60.0% complete, Train Loss: 0.6956343204975128\n",
      "Epoch: [6/10], Step: [2501/3125], 80.0% complete, Train Loss: 0.6956263800501823\n",
      "Train loss: 0.6960206781291962\n",
      "Val loss: 0.7589303515851498\n",
      "Train acc: 70.062\n",
      "Val acc: 67.5\n",
      "Epoch: [7/10], Step: [626/3125], 20.0% complete, Train Loss: 0.6666506031513214\n",
      "Epoch: [7/10], Step: [1251/3125], 40.0% complete, Train Loss: 0.6666841098308564\n",
      "Epoch: [7/10], Step: [1876/3125], 60.0% complete, Train Loss: 0.6704485239028931\n",
      "Epoch: [7/10], Step: [2501/3125], 80.0% complete, Train Loss: 0.671712038898468\n",
      "Train loss: 0.6726082316207885\n",
      "Val loss: 0.7693483512848616\n",
      "Train acc: 71.339\n",
      "Val acc: 67.7\n",
      "Epoch: [8/10], Step: [626/3125], 20.0% complete, Train Loss: 0.6498317239284516\n",
      "Epoch: [8/10], Step: [1251/3125], 40.0% complete, Train Loss: 0.6479663861036301\n",
      "Epoch: [8/10], Step: [1876/3125], 60.0% complete, Train Loss: 0.650218359486262\n",
      "Epoch: [8/10], Step: [2501/3125], 80.0% complete, Train Loss: 0.650450668156147\n",
      "Train loss: 0.6505537521457672\n",
      "Val loss: 0.7485753959044814\n",
      "Train acc: 72.4\n",
      "Val acc: 68.0\n",
      "Epoch: [9/10], Step: [626/3125], 20.0% complete, Train Loss: 0.617968851852417\n",
      "Epoch: [9/10], Step: [1251/3125], 40.0% complete, Train Loss: 0.6197085874080658\n",
      "Epoch: [9/10], Step: [1876/3125], 60.0% complete, Train Loss: 0.6252439814090729\n",
      "Epoch: [9/10], Step: [2501/3125], 80.0% complete, Train Loss: 0.6278583182573318\n",
      "Train loss: 0.626565447511673\n",
      "Val loss: 0.7471646955236793\n",
      "Train acc: 73.578\n",
      "Val acc: 67.7\n",
      "Epoch: [10/10], Step: [626/3125], 20.0% complete, Train Loss: 0.5941722843647003\n",
      "Epoch: [10/10], Step: [1251/3125], 40.0% complete, Train Loss: 0.599663317656517\n",
      "Epoch: [10/10], Step: [1876/3125], 60.0% complete, Train Loss: 0.6018327468395234\n",
      "Epoch: [10/10], Step: [2501/3125], 80.0% complete, Train Loss: 0.6019171143889427\n",
      "Train loss: 0.6025859523963928\n",
      "Val loss: 0.7432993212714791\n",
      "Train acc: 74.692\n",
      "Val acc: 68.0\n"
     ]
    },
    {
     "name": "stderr",
     "output_type": "stream",
     "text": [
      "//anaconda/lib/python3.5/site-packages/torch/nn/modules/rnn.py:38: UserWarning: dropout option adds dropout after all but last recurrent layer, so non-zero dropout expects num_layers greater than 1, but got dropout=0.5 and num_layers=1\n",
      "  \"num_layers={}\".format(dropout, num_layers))\n"
     ]
    }
   ],
   "source": [
    "dropout_i=0.5\n",
    "train_loss_hist_dropout_i=[]\n",
    "val_loss_hist_dropout_i=[]\n",
    "train_acc_hist_dropout_i=[]\n",
    "val_acc_hist_dropout_i=[]\n",
    "\n",
    "\n",
    "model3 = TwoFullyConnectedLayers_dropout(embedding_words, hidden_size_GRU=128,\n",
    "                                         hidden_size_linear=128, dropout=dropout_i,num_layers=1)\n",
    "optimizer3 = torch.optim.Adam(model3.parameters(), lr=learning_rate)\n",
    "run_GRU(10,train_loader,val_loader,model3,optimizer3,criterion,val_loss_hist_dropout_i,\n",
    "        train_loss_hist_dropout_i,val_acc_hist_dropout_i,train_acc_hist_dropout_i)\n",
    "\n",
    "sendmail(job='GRU dropout='+str(dropout_i),percentage=100*iteration/3)"
   ]
  },
  {
   "cell_type": "code",
   "execution_count": 122,
   "metadata": {
    "collapsed": false
   },
   "outputs": [],
   "source": [
    "pkl.dump(train_loss_hist_dropout_i,open('train_loss_hist_dropout_i.p','wb'))\n",
    "pkl.dump(val_loss_hist_dropout_i,open('val_loss_hist_dropout_i.p','wb'))\n",
    "pkl.dump(train_acc_hist_dropout_i,open('train_acc_hist_dropout_i.p','wb'))\n",
    "\n",
    "pkl.dump(val_acc_hist_dropout_i,open('val_acc_hist_dropout_i.p','wb'))"
   ]
  },
  {
   "cell_type": "code",
   "execution_count": 68,
   "metadata": {
    "collapsed": false
   },
   "outputs": [],
   "source": [
    "train_loss_hist_dropout_i = pkl.load(open('train_loss_hist_dropout_i.p','rb'))\n",
    "val_loss_hist_dropout_i   = pkl.load(open('val_loss_hist_dropout_i.p','rb'))\n",
    "train_acc_hist_dropout_i  = pkl.load(open('train_acc_hist_dropout_i.p','rb'))\n",
    "val_acc_hist_dropout_i    = pkl.load(open('val_acc_hist_dropout_i.p','rb'))"
   ]
  },
  {
   "cell_type": "code",
   "execution_count": 69,
   "metadata": {
    "collapsed": false
   },
   "outputs": [
    {
     "data": {
      "image/png": "[encoded data removed]",
      "text/plain": [
       "<matplotlib.figure.Figure at 0x13d479780>"
      ]
     },
     "metadata": {},
     "output_type": "display_data"
    }
   ],
   "source": [
    "plt.plot(val_acc_hist_dropout_i,label='0.5')\n",
    "plt.plot(val_acc_hist_dict[(128,128)],label='0')\n",
    "plt.legend(bbox_to_anchor=(1.3, 1))\n",
    "plt.xlabel('Epochs')\n",
    "plt.ylabel('Accuracy')\n",
    "plt.title('Validation curves for different dropout values')\n",
    "plt.show()    "
   ]
  },
  {
   "cell_type": "markdown",
   "metadata": {},
   "source": [
    "We will keep Dropout=0"
   ]
  },
  {
   "cell_type": "markdown",
   "metadata": {},
   "source": [
    "# Let's now build the CNN encoder and the corresponding architecture"
   ]
  },
  {
   "cell_type": "code",
   "execution_count": 60,
   "metadata": {
    "collapsed": true
   },
   "outputs": [],
   "source": [
    "class CNN(nn.Module):\n",
    "    def __init__(self, ft_embeddings, hidden_size, num_layers,kernel_dim,padding=1 ):\n",
    "\n",
    "        super(CNN, self).__init__()\n",
    "\n",
    "        self.num_layers, self.hidden_size = num_layers, hidden_size\n",
    "        self.embedding = nn.Embedding.from_pretrained(torch.from_numpy(ft_embeddings).float())\n",
    "    \n",
    "        self.conv1 = nn.Conv1d(300, hidden_size, kernel_size=kernel_dim, padding=1)\n",
    "        self.conv2 = nn.Conv1d(hidden_size, hidden_size, kernel_size=kernel_dim, padding=1)\n",
    "\n",
    "\n",
    "    def forward(self, x, lengths):\n",
    "        batch_size, seq_len = x.size()\n",
    "\n",
    "        embed = self.embedding(x)\n",
    "        hidden = self.conv1(embed.transpose(1,2)).transpose(1,2)\n",
    "        hidden = nn.functional.relu(hidden.contiguous().view(-1, hidden.size(-1))).view(batch_size, seq_len, hidden.size(-1))\n",
    "\n",
    "        hidden = self.conv2(hidden.transpose(1,2)).transpose(1,2)\n",
    "        hidden = nn.functional.relu(hidden.contiguous().view(-1, hidden.size(-1))).view(batch_size, seq_len, hidden.size(-1))\n",
    "\n",
    "        hidden = torch.sum(hidden, dim=1)\n",
    "\n",
    "        return hidden"
   ]
  },
  {
   "cell_type": "code",
   "execution_count": 61,
   "metadata": {
    "collapsed": false
   },
   "outputs": [],
   "source": [
    "class TwoFullyConnectedLayers_CNN(nn.Module):\n",
    "    def __init__(self, ft_embeddings, hidden_size_CNN,hidden_size_linear,kernel_dim,num_layers,padding=1,num_classes=3):\n",
    "        super().__init__()\n",
    "\n",
    "        self.conv_premise=CNN(ft_embeddings, hidden_size_CNN,num_layers,kernel_dim,padding=padding)\n",
    "        self.conv_hypothesis=CNN(ft_embeddings, hidden_size_CNN,num_layers,kernel_dim,padding=padding)\n",
    "\n",
    "        self.linear1=nn.Linear((2*hidden_size_CNN),hidden_size_linear)  \n",
    "        self.linear2=nn.Linear(hidden_size_linear,num_classes)\n",
    "        \n",
    "        \n",
    "    def forward(self, premise,length_premise,hypothesis,length_hypothesis):\n",
    "        # reset hidden state\n",
    "        \n",
    "        output_premise=self.conv_premise(premise,length_premise)\n",
    "        output_hypothesis=self.conv_hypothesis(hypothesis,length_hypothesis)\n",
    "        \n",
    "        output=torch.cat((output_premise,output_hypothesis),dim=1)\n",
    "        output = output.view(output.size(0), -1)\n",
    "        x=self.linear1(output)\n",
    "        x=nn.functional.relu(x)\n",
    "        x=self.linear2(x)\n",
    "        \n",
    "        return x"
   ]
  },
  {
   "cell_type": "code",
   "execution_count": 62,
   "metadata": {
    "collapsed": true
   },
   "outputs": [],
   "source": [
    "def run_CNN(num_epochs,train_loader,val_loader,model,optimizer,criterion,\n",
    "            val_loss_hist,train_loss_hist,val_acc_hist,train_acc_hist,epochs_already_made=0):\n",
    "    train_loss=0\n",
    "    val_loss=0\n",
    "    for epoch in range(num_epochs):\n",
    "        total=0\n",
    "        correct=0\n",
    "        for i, batch in enumerate(train_loader):\n",
    "            data_premise=batch[0]\n",
    "            data_hypothesis=batch[1]\n",
    "            length_premise=batch[2]\n",
    "            length_hypothesis=batch[3]\n",
    "            labels=batch[4]\n",
    "        \n",
    "        \n",
    "            model.train()\n",
    "            optimizer.zero_grad()\n",
    "        \n",
    "\n",
    "            # Forward pass\n",
    "            outputs = model(data_premise, length_premise,data_hypothesis,length_hypothesis)\n",
    "            loss=criterion(outputs,labels)\n",
    "            loss.backward()\n",
    "            optimizer.step()\n",
    "            train_loss+=loss.item()\n",
    "            predicted = outputs.max(1, keepdim=True)[1]\n",
    "\n",
    "            total += labels.size(0)\n",
    "            correct += predicted.eq(labels.view_as(predicted)).sum().item()\n",
    "            \n",
    "            if i > 0 and i % 625 == 0:\n",
    "    \n",
    "                # validate\n",
    "                print('Epoch: [{}/{}], Step: [{}/{}], {}% complete, Train Loss: {}'.format(\n",
    "                    epoch+epochs_already_made+1, num_epochs+epochs_already_made, \n",
    "                    i+1, len(train_loader),100*i/len(train_loader), train_loss/i))\n",
    "    \n",
    "        val_acc,val_loss= test_model(val_loader, model,val_loss)\n",
    "        train_acc=(100 * correct / total)\n",
    "    \n",
    "        print('Train loss: '+str(train_loss/len(train_loader)))\n",
    "        print('Val loss: '+str(val_loss))\n",
    "        print('Train acc: '+str(train_acc))\n",
    "        print('Val acc: '+str(val_acc))\n",
    "        val_loss_hist.append(val_loss)\n",
    "        train_loss_hist.append(train_loss/len(train_loader))\n",
    "        val_acc_hist.append(val_acc)\n",
    "        train_acc_hist.append(train_acc)\n",
    "    \n",
    "        train_loss=0\n",
    "        val_loss=0"
   ]
  },
  {
   "cell_type": "code",
   "execution_count": null,
   "metadata": {
    "collapsed": false
   },
   "outputs": [],
   "source": []
  },
  {
   "cell_type": "code",
   "execution_count": 189,
   "metadata": {
    "collapsed": false
   },
   "outputs": [
    {
     "name": "stdout",
     "output_type": "stream",
     "text": [
      "Epoch: [1/10], Step: [626/3125], 20.0% complete, Train Loss: 0.9864598099708557\n",
      "Epoch: [1/10], Step: [1251/3125], 40.0% complete, Train Loss: 0.935823431968689\n",
      "Epoch: [1/10], Step: [1876/3125], 60.0% complete, Train Loss: 0.9098875854174296\n",
      "Epoch: [1/10], Step: [2501/3125], 80.0% complete, Train Loss: 0.890300645327568\n",
      "Train loss: 0.874419735622406\n",
      "Val loss: 0.8301022369414568\n",
      "Train acc: 59.386\n",
      "Val acc: 63.2\n",
      "Epoch: [2/10], Step: [626/3125], 20.0% complete, Train Loss: 0.7803836817741394\n",
      "Epoch: [2/10], Step: [1251/3125], 40.0% complete, Train Loss: 0.7750780759334565\n",
      "Epoch: [2/10], Step: [1876/3125], 60.0% complete, Train Loss: 0.7702866414546966\n",
      "Epoch: [2/10], Step: [2501/3125], 80.0% complete, Train Loss: 0.7701415434241294\n",
      "Train loss: 0.7667774828910827\n",
      "Val loss: 0.797573110088706\n",
      "Train acc: 66.267\n",
      "Val acc: 65.0\n",
      "Epoch: [3/10], Step: [626/3125], 20.0% complete, Train Loss: 0.7124189651966095\n",
      "Epoch: [3/10], Step: [1251/3125], 40.0% complete, Train Loss: 0.7164032210588456\n",
      "Epoch: [3/10], Step: [1876/3125], 60.0% complete, Train Loss: 0.7164120692888896\n",
      "Epoch: [3/10], Step: [2501/3125], 80.0% complete, Train Loss: 0.7161940157055855\n",
      "Train loss: 0.7148594392204285\n",
      "Val loss: 0.7929401816800237\n",
      "Train acc: 69.175\n",
      "Val acc: 64.4\n",
      "Epoch: [4/10], Step: [626/3125], 20.0% complete, Train Loss: 0.6630742713451385\n",
      "Epoch: [4/10], Step: [1251/3125], 40.0% complete, Train Loss: 0.6663923363685608\n",
      "Epoch: [4/10], Step: [1876/3125], 60.0% complete, Train Loss: 0.6651068077723186\n",
      "Epoch: [4/10], Step: [2501/3125], 80.0% complete, Train Loss: 0.6677840504527092\n",
      "Train loss: 0.6694753368759155\n",
      "Val loss: 0.7811199836432934\n",
      "Train acc: 71.58\n",
      "Val acc: 65.5\n",
      "Epoch: [5/10], Step: [626/3125], 20.0% complete, Train Loss: 0.6162989709854126\n",
      "Epoch: [5/10], Step: [1251/3125], 40.0% complete, Train Loss: 0.6142532580375671\n",
      "Epoch: [5/10], Step: [1876/3125], 60.0% complete, Train Loss: 0.6192427910645802\n",
      "Epoch: [5/10], Step: [2501/3125], 80.0% complete, Train Loss: 0.6207632186055183\n",
      "Train loss: 0.6210757782363892\n",
      "Val loss: 0.7819704413414001\n",
      "Train acc: 74.167\n",
      "Val acc: 66.2\n",
      "Epoch: [6/10], Step: [626/3125], 20.0% complete, Train Loss: 0.5562945125818253\n",
      "Epoch: [6/10], Step: [1251/3125], 40.0% complete, Train Loss: 0.566292075073719\n",
      "Epoch: [6/10], Step: [1876/3125], 60.0% complete, Train Loss: 0.5721785185893377\n",
      "Epoch: [6/10], Step: [2501/3125], 80.0% complete, Train Loss: 0.5758580333292485\n",
      "Train loss: 0.5775430456781387\n",
      "Val loss: 0.8231707373633981\n",
      "Train acc: 76.189\n",
      "Val acc: 67.2\n",
      "Epoch: [7/10], Step: [626/3125], 20.0% complete, Train Loss: 0.5200385904788971\n",
      "Epoch: [7/10], Step: [1251/3125], 40.0% complete, Train Loss: 0.5242268948316574\n",
      "Epoch: [7/10], Step: [1876/3125], 60.0% complete, Train Loss: 0.5268494774103165\n",
      "Epoch: [7/10], Step: [2501/3125], 80.0% complete, Train Loss: 0.5306934186339378\n",
      "Train loss: 0.533324829120636\n",
      "Val loss: 0.8475095881149173\n",
      "Train acc: 78.357\n",
      "Val acc: 65.8\n",
      "Epoch: [8/10], Step: [626/3125], 20.0% complete, Train Loss: 0.4710088639974594\n",
      "Epoch: [8/10], Step: [1251/3125], 40.0% complete, Train Loss: 0.47291532328128816\n",
      "Epoch: [8/10], Step: [1876/3125], 60.0% complete, Train Loss: 0.48017846602598824\n",
      "Epoch: [8/10], Step: [2501/3125], 80.0% complete, Train Loss: 0.483290220195055\n",
      "Train loss: 0.48930007195949554\n",
      "Val loss: 0.835559600032866\n",
      "Train acc: 80.437\n",
      "Val acc: 67.2\n",
      "Epoch: [9/10], Step: [626/3125], 20.0% complete, Train Loss: 0.4209100291728973\n",
      "Epoch: [9/10], Step: [1251/3125], 40.0% complete, Train Loss: 0.426372266638279\n",
      "Epoch: [9/10], Step: [1876/3125], 60.0% complete, Train Loss: 0.43506342578728996\n",
      "Epoch: [9/10], Step: [2501/3125], 80.0% complete, Train Loss: 0.4429427019715309\n",
      "Train loss: 0.44834216572761537\n",
      "Val loss: 0.9984435196965933\n",
      "Train acc: 82.168\n",
      "Val acc: 65.2\n",
      "Epoch: [10/10], Step: [626/3125], 20.0% complete, Train Loss: 0.3828608695626259\n",
      "Epoch: [10/10], Step: [1251/3125], 40.0% complete, Train Loss: 0.38976273705363274\n",
      "Epoch: [10/10], Step: [1876/3125], 60.0% complete, Train Loss: 0.3978889322400093\n",
      "Epoch: [10/10], Step: [2501/3125], 80.0% complete, Train Loss: 0.4027054593473673\n",
      "Train loss: 0.40885074420690537\n",
      "Val loss: 0.9776945970952511\n",
      "Train acc: 83.966\n",
      "Val acc: 66.7\n"
     ]
    }
   ],
   "source": [
    "model_CNN = TwoFullyConnectedLayers_CNN(embedding_words, hidden_size_CNN=128, \n",
    "                                        hidden_size_linear=128,kernel_dim=3,num_layers=2)\n",
    "learning_rate = 3e-4\n",
    "num_epochs = 10 # number epoch to train\n",
    "criterion = torch.nn.CrossEntropyLoss()\n",
    "optimizer_CNN = torch.optim.Adam(model_CNN.parameters(), lr=learning_rate)\n",
    "\n",
    "# Train the model\n",
    "total_step = len(train_loader)\n",
    "train_loss_hist_CNN=[]\n",
    "val_loss_hist_CNN=[]\n",
    "train_acc_hist_CNN=[]\n",
    "val_acc_hist_CNN=[]\n",
    "\n",
    "run_CNN(10,train_loader,val_loader,model_CNN,optimizer_CNN,criterion,val_loss_hist_CNN,\n",
    "        train_loss_hist_CNN,val_acc_hist_CNN,train_acc_hist_CNN)"
   ]
  },
  {
   "cell_type": "code",
   "execution_count": 190,
   "metadata": {
    "collapsed": true
   },
   "outputs": [],
   "source": [
    "sendmail(job='CNN')"
   ]
  },
  {
   "cell_type": "markdown",
   "metadata": {},
   "source": [
    "### (I had to shutdown the kernel as some function I was trying made it crash, thankfully I printed all the losses and accuracies at each epoch so I just had to copy paste them)"
   ]
  },
  {
   "cell_type": "code",
   "execution_count": 125,
   "metadata": {
    "collapsed": false
   },
   "outputs": [],
   "source": [
    "train_loss_hist_CNN =[0.874419735622406,0.7667774828910827,0.7148594392204285,0.6694753368759155,\n",
    "                      0.6210757782363892,0.5775430456781387,0.533324829120636,0.48930007195949554,\n",
    "                      0.44834216572761537,0.40885074420690537]\n",
    "\n",
    "val_loss_hist_CNN = [0.8301022369414568,0.797573110088706,0.7929401816800237,0.7811199836432934,\n",
    "                     0.7819704413414001,0.8231707373633981,0.8475095881149173,0.835559600032866,\n",
    "                     0.9984435196965933,0.9776945970952511]\n",
    "\n",
    "\n",
    "train_acc_hist_CNN=[59.386,66.267,69.175,71.58,74.167,76.189,78.357,80.437,82.168,83.966]\n",
    "\n",
    "val_acc_hist_CNN=[63.2,65.0,64.4,65.5,66.2,67.2,65.8,67.2,65.2,66.7]"
   ]
  },
  {
   "cell_type": "code",
   "execution_count": 126,
   "metadata": {
    "collapsed": false
   },
   "outputs": [
    {
     "data": {
      "text/plain": [
       "[<matplotlib.lines.Line2D at 0x137fdb4a8>]"
      ]
     },
     "execution_count": 126,
     "metadata": {},
     "output_type": "execute_result"
    },
    {
     "data": {
      "image/png": "[encoded data removed]",
      "text/plain": [
       "<matplotlib.figure.Figure at 0x14b26fbe0>"
      ]
     },
     "metadata": {},
     "output_type": "display_data"
    }
   ],
   "source": [
    "plt.plot(val_loss_hist_CNN)"
   ]
  },
  {
   "cell_type": "markdown",
   "metadata": {},
   "source": [
    "#### It seems that 10 epochs is even too much for CNN, we'll confirm that with the following hyperparameter search"
   ]
  },
  {
   "cell_type": "code",
   "execution_count": 74,
   "metadata": {
    "collapsed": true
   },
   "outputs": [],
   "source": [
    "train_loss_hist_CNN_dict={3: train_loss_hist_CNN}\n",
    "val_loss_hist_CNN_dict={3: val_loss_hist_CNN}\n",
    "train_acc_hist_CNN_dict={3: train_acc_hist_CNN}\n",
    "val_acc_hist_CNN_dict={3: val_acc_hist_CNN}"
   ]
  },
  {
   "cell_type": "markdown",
   "metadata": {},
   "source": [
    "## Element-wise multiplication vs concatenation"
   ]
  },
  {
   "cell_type": "code",
   "execution_count": 63,
   "metadata": {
    "collapsed": true
   },
   "outputs": [],
   "source": [
    "class TwoFullyConnectedLayers_CNN_multiplication(nn.Module):\n",
    "    def __init__(self, ft_embeddings, hidden_size_CNN,hidden_size_linear,kernel_dim,num_layers,padding=1,num_classes=3):\n",
    "        super().__init__()\n",
    "\n",
    "        self.conv_premise=CNN(ft_embeddings, hidden_size_CNN,num_layers,kernel_dim,padding=padding)\n",
    "        self.conv_hypothesis=CNN(ft_embeddings, hidden_size_CNN,num_layers,kernel_dim,padding=padding)\n",
    "\n",
    "        self.linear1=nn.Linear((hidden_size_CNN),hidden_size_linear)  \n",
    "        self.linear2=nn.Linear(hidden_size_linear,num_classes)\n",
    "        \n",
    "        \n",
    "    def forward(self, premise,length_premise,hypothesis,length_hypothesis):\n",
    "        # reset hidden state\n",
    "        \n",
    "        output_premise=self.conv_premise(premise,length_premise)\n",
    "        output_hypothesis=self.conv_hypothesis(hypothesis,length_hypothesis)\n",
    "        \n",
    "        output=output_premise*output_hypothesis\n",
    "        output = output.view(output.size(0), -1)\n",
    "        x=self.linear1(output)\n",
    "        x=nn.functional.relu(x)\n",
    "        x=self.linear2(x)\n",
    "        \n",
    "        return x"
   ]
  },
  {
   "cell_type": "code",
   "execution_count": 117,
   "metadata": {
    "collapsed": false
   },
   "outputs": [
    {
     "name": "stdout",
     "output_type": "stream",
     "text": [
      "Epoch: [1/10], Step: [626/3125], 20.0% complete, Train Loss: 0.974441980934143\n",
      "Epoch: [1/10], Step: [1251/3125], 40.0% complete, Train Loss: 0.930144678735733\n",
      "Epoch: [1/10], Step: [1876/3125], 60.0% complete, Train Loss: 0.9017800320625305\n",
      "Epoch: [1/10], Step: [2501/3125], 80.0% complete, Train Loss: 0.8802479664564132\n",
      "Train loss: 0.8645651511383057\n",
      "Val loss: 0.8168021328747272\n",
      "Train acc: 60.021\n",
      "Val acc: 64.5\n",
      "Epoch: [2/10], Step: [626/3125], 20.0% complete, Train Loss: 0.7592399186134339\n",
      "Epoch: [2/10], Step: [1251/3125], 40.0% complete, Train Loss: 0.7584833955526352\n",
      "Epoch: [2/10], Step: [1876/3125], 60.0% complete, Train Loss: 0.757425253423055\n",
      "Epoch: [2/10], Step: [2501/3125], 80.0% complete, Train Loss: 0.7544688121914863\n",
      "Train loss: 0.7503852749252319\n",
      "Val loss: 0.7816677186638117\n",
      "Train acc: 67.064\n",
      "Val acc: 65.7\n",
      "Epoch: [3/10], Step: [626/3125], 20.0% complete, Train Loss: 0.6870643859863281\n",
      "Epoch: [3/10], Step: [1251/3125], 40.0% complete, Train Loss: 0.6881650052547454\n",
      "Epoch: [3/10], Step: [1876/3125], 60.0% complete, Train Loss: 0.6905244335969289\n",
      "Epoch: [3/10], Step: [2501/3125], 80.0% complete, Train Loss: 0.6924667750716209\n",
      "Train loss: 0.6915604948234558\n",
      "Val loss: 0.7587970951572061\n",
      "Train acc: 70.228\n",
      "Val acc: 65.9\n",
      "Epoch: [4/10], Step: [626/3125], 20.0% complete, Train Loss: 0.6312474324941635\n",
      "Epoch: [4/10], Step: [1251/3125], 40.0% complete, Train Loss: 0.6391376155257225\n",
      "Epoch: [4/10], Step: [1876/3125], 60.0% complete, Train Loss: 0.6409489191293717\n",
      "Epoch: [4/10], Step: [2501/3125], 80.0% complete, Train Loss: 0.6404176467716693\n",
      "Train loss: 0.6414913197660446\n",
      "Val loss: 0.7639528438448906\n",
      "Train acc: 73.089\n",
      "Val acc: 67.7\n",
      "Epoch: [5/10], Step: [626/3125], 20.0% complete, Train Loss: 0.5793732793807983\n",
      "Epoch: [5/10], Step: [1251/3125], 40.0% complete, Train Loss: 0.5871727794885635\n",
      "Epoch: [5/10], Step: [1876/3125], 60.0% complete, Train Loss: 0.5920658140977224\n",
      "Epoch: [5/10], Step: [2501/3125], 80.0% complete, Train Loss: 0.5958690155625344\n",
      "Train loss: 0.5958005265712738\n",
      "Val loss: 0.7973105367273092\n",
      "Train acc: 75.333\n",
      "Val acc: 66.0\n",
      "Epoch: [6/10], Step: [626/3125], 20.0% complete, Train Loss: 0.5379087437868119\n",
      "Epoch: [6/10], Step: [1251/3125], 40.0% complete, Train Loss: 0.5407088653922081\n",
      "Epoch: [6/10], Step: [1876/3125], 60.0% complete, Train Loss: 0.544855119228363\n",
      "Epoch: [6/10], Step: [2501/3125], 80.0% complete, Train Loss: 0.5464072350621223\n",
      "Train loss: 0.5494419771814346\n",
      "Val loss: 0.8281518649309874\n",
      "Train acc: 77.524\n",
      "Val acc: 66.9\n",
      "Epoch: [7/10], Step: [626/3125], 20.0% complete, Train Loss: 0.48672530906200406\n",
      "Epoch: [7/10], Step: [1251/3125], 40.0% complete, Train Loss: 0.4877493114113808\n",
      "Epoch: [7/10], Step: [1876/3125], 60.0% complete, Train Loss: 0.49620916957855227\n",
      "Epoch: [7/10], Step: [2501/3125], 80.0% complete, Train Loss: 0.5013510769486428\n",
      "Train loss: 0.5036110711956024\n",
      "Val loss: 0.8043388603255153\n",
      "Train acc: 79.809\n",
      "Val acc: 67.7\n",
      "Epoch: [8/10], Step: [626/3125], 20.0% complete, Train Loss: 0.439201348733902\n",
      "Epoch: [8/10], Step: [1251/3125], 40.0% complete, Train Loss: 0.44239328776597975\n",
      "Epoch: [8/10], Step: [1876/3125], 60.0% complete, Train Loss: 0.450118102200826\n",
      "Epoch: [8/10], Step: [2501/3125], 80.0% complete, Train Loss: 0.45443635415434835\n",
      "Train loss: 0.45872690222263335\n",
      "Val loss: 0.909891065210104\n",
      "Train acc: 81.706\n",
      "Val acc: 67.9\n",
      "Epoch: [9/10], Step: [626/3125], 20.0% complete, Train Loss: 0.3883358842611313\n",
      "Epoch: [9/10], Step: [1251/3125], 40.0% complete, Train Loss: 0.3993004747748375\n",
      "Epoch: [9/10], Step: [1876/3125], 60.0% complete, Train Loss: 0.4076247720956802\n",
      "Epoch: [9/10], Step: [2501/3125], 80.0% complete, Train Loss: 0.410834696406126\n",
      "Train loss: 0.4125480724310875\n",
      "Val loss: 0.9117194972932339\n",
      "Train acc: 83.738\n",
      "Val acc: 66.7\n",
      "Epoch: [10/10], Step: [626/3125], 20.0% complete, Train Loss: 0.3377066005706787\n",
      "Epoch: [10/10], Step: [1251/3125], 40.0% complete, Train Loss: 0.3521481908023357\n",
      "Epoch: [10/10], Step: [1876/3125], 60.0% complete, Train Loss: 0.36134689383506774\n",
      "Epoch: [10/10], Step: [2501/3125], 80.0% complete, Train Loss: 0.3667548545390367\n",
      "Train loss: 0.368842972471714\n",
      "Val loss: 1.003293459303677\n",
      "Train acc: 85.604\n",
      "Val acc: 69.4\n"
     ]
    }
   ],
   "source": [
    "learning_rate = 3e-4\n",
    "\n",
    "model_CNN_new = TwoFullyConnectedLayers_CNN_multiplication(embedding_words, hidden_size_CNN=128, \n",
    "                                        hidden_size_linear=128,kernel_dim=3,num_layers=2)\n",
    "optimizer_CNN_new = torch.optim.Adam(model_CNN_new.parameters(), lr=learning_rate)\n",
    "\n",
    "train_loss_hist_CNN_new=[]\n",
    "val_loss_hist_CNN_new=[]\n",
    "train_acc_hist_CNN_new=[]\n",
    "val_acc_hist_CNN_new=[]\n",
    "\n",
    "run_CNN(10,train_loader,val_loader,model_CNN_new,optimizer_CNN_new,criterion,val_loss_hist_CNN_new,\n",
    "        train_loss_hist_CNN_new,val_acc_hist_CNN_new,train_acc_hist_CNN_new)\n",
    "\n",
    "sendmail(job='Elementwise mult hyperparameter search')"
   ]
  },
  {
   "cell_type": "code",
   "execution_count": 118,
   "metadata": {
    "collapsed": true
   },
   "outputs": [],
   "source": [
    "pkl.dump(train_loss_hist_CNN_new,open('train_loss_hist_CNN_elementwise_mult.p','wb'))\n",
    "pkl.dump(val_loss_hist_CNN_new,open('val_loss_hist_CNN_elementwise_mult.p','wb'))\n",
    "pkl.dump(train_acc_hist_CNN_new,open('train_acc_hist_CNN_elementwise_mult.p','wb'))\n",
    "\n",
    "pkl.dump(val_acc_hist_CNN_new,open('val_acc_hist_CNN_elementwise_mult.p','wb'))"
   ]
  },
  {
   "cell_type": "code",
   "execution_count": 128,
   "metadata": {
    "collapsed": false
   },
   "outputs": [
    {
     "data": {
      "image/png": "[encoded data removed]",
      "text/plain": [
       "<matplotlib.figure.Figure at 0x137fee630>"
      ]
     },
     "metadata": {},
     "output_type": "display_data"
    }
   ],
   "source": [
    "plt.plot(epochs_tab,val_acc_hist_CNN_new,label='elementwise multiplication')\n",
    "plt.plot(epochs_tab,val_acc_hist_CNN,label='concatenation')\n",
    "plt.legend(bbox_to_anchor=(1.3, 1))\n",
    "plt.xlabel('Epochs')\n",
    "plt.ylabel('Accuracy')\n",
    "plt.title('Validation Accuracy curves for different types of interactions')\n",
    "plt.show()    "
   ]
  },
  {
   "cell_type": "code",
   "execution_count": 133,
   "metadata": {
    "collapsed": false
   },
   "outputs": [
    {
     "data": {
      "image/png": "[encoded data removed]",
      "text/plain": [
       "<matplotlib.figure.Figure at 0x156d882b0>"
      ]
     },
     "metadata": {},
     "output_type": "display_data"
    }
   ],
   "source": [
    "plt.plot(epochs_tab,val_loss_hist_CNN_new,label='Validation, elementwise multiplication')\n",
    "plt.plot(epochs_tab,val_loss_hist_CNN,label='Validation, concatenation')\n",
    "plt.plot(epochs_tab,train_loss_hist_CNN_new,label='Training, elementwise multiplication')\n",
    "plt.plot(epochs_tab,train_loss_hist_CNN,label='Training, concatenation')\n",
    "\n",
    "\n",
    "plt.legend(bbox_to_anchor=(1.3, 1))\n",
    "plt.xlabel('Epochs')\n",
    "plt.ylabel('Loss')\n",
    "plt.title('Loss curves for different types of interactions')\n",
    "plt.show()    "
   ]
  },
  {
   "cell_type": "markdown",
   "metadata": {},
   "source": [
    "It seems that 10 epochs seem to be enough for the model to overfit the data given how the validation loss decreases then increases again. However, 10 epochs seemed to allow a better accuracy. We will therefore go for 7 epochs for CNN, and also will use elementwise multiplication, which seems to yield better results and achieves above 65% accuracy"
   ]
  },
  {
   "cell_type": "code",
   "execution_count": 134,
   "metadata": {
    "collapsed": false
   },
   "outputs": [
    {
     "data": {
      "text/plain": [
       "67.7"
      ]
     },
     "execution_count": 134,
     "metadata": {},
     "output_type": "execute_result"
    }
   ],
   "source": [
    "val_acc_hist_CNN_new[6]"
   ]
  },
  {
   "cell_type": "markdown",
   "metadata": {},
   "source": [
    "## Hidden size hyperparameter tuning"
   ]
  },
  {
   "cell_type": "markdown",
   "metadata": {},
   "source": [
    "We will keep 128 for the linear hidden size and will only play with the CNN hidden size, try a size of 32 and 64 instead of 128"
   ]
  },
  {
   "cell_type": "code",
   "execution_count": 66,
   "metadata": {
    "collapsed": false
   },
   "outputs": [
    {
     "name": "stdout",
     "output_type": "stream",
     "text": [
      "Epoch: [1/7], Step: [626/3125], 20.0% complete, Train Loss: 1.0839206120491027\n",
      "Epoch: [1/7], Step: [1251/3125], 40.0% complete, Train Loss: 1.0071523975372314\n",
      "Epoch: [1/7], Step: [1876/3125], 60.0% complete, Train Loss: 0.9676911164601644\n",
      "Epoch: [1/7], Step: [2501/3125], 80.0% complete, Train Loss: 0.9401409344911575\n",
      "Train loss: 0.9204122310447693\n",
      "Val loss: 0.8795625921338797\n",
      "Train acc: 56.159\n",
      "Val acc: 60.0\n",
      "Epoch: [2/7], Step: [626/3125], 20.0% complete, Train Loss: 0.8109404601573944\n",
      "Epoch: [2/7], Step: [1251/3125], 40.0% complete, Train Loss: 0.8076492828607559\n",
      "Epoch: [2/7], Step: [1876/3125], 60.0% complete, Train Loss: 0.8049521133263906\n",
      "Epoch: [2/7], Step: [2501/3125], 80.0% complete, Train Loss: 0.8011808154821396\n",
      "Train loss: 0.7979427389907837\n",
      "Val loss: 0.8438805416226387\n",
      "Train acc: 64.326\n",
      "Val acc: 62.1\n",
      "Epoch: [3/7], Step: [626/3125], 20.0% complete, Train Loss: 0.7656810951709747\n",
      "Epoch: [3/7], Step: [1251/3125], 40.0% complete, Train Loss: 0.7595814868927002\n",
      "Epoch: [3/7], Step: [1876/3125], 60.0% complete, Train Loss: 0.7575701684951782\n",
      "Epoch: [3/7], Step: [2501/3125], 80.0% complete, Train Loss: 0.7577014960765839\n",
      "Train loss: 0.755981035528183\n",
      "Val loss: 0.8129030503332615\n",
      "Train acc: 66.911\n",
      "Val acc: 64.8\n",
      "Epoch: [4/7], Step: [626/3125], 20.0% complete, Train Loss: 0.7225310649394989\n",
      "Epoch: [4/7], Step: [1251/3125], 40.0% complete, Train Loss: 0.7249092612504959\n",
      "Epoch: [4/7], Step: [1876/3125], 60.0% complete, Train Loss: 0.7234414873917897\n",
      "Epoch: [4/7], Step: [2501/3125], 80.0% complete, Train Loss: 0.7220009144067764\n",
      "Train loss: 0.7228951148223877\n",
      "Val loss: 0.814797536469996\n",
      "Train acc: 68.681\n",
      "Val acc: 65.1\n",
      "Epoch: [5/7], Step: [626/3125], 20.0% complete, Train Loss: 0.7000763359546661\n",
      "Epoch: [5/7], Step: [1251/3125], 40.0% complete, Train Loss: 0.6974436283826828\n",
      "Epoch: [5/7], Step: [1876/3125], 60.0% complete, Train Loss: 0.6980352629025777\n",
      "Epoch: [5/7], Step: [2501/3125], 80.0% complete, Train Loss: 0.697648677778244\n",
      "Train loss: 0.6978571321105957\n",
      "Val loss: 0.8166685327887535\n",
      "Train acc: 70.223\n",
      "Val acc: 64.6\n",
      "Epoch: [6/7], Step: [626/3125], 20.0% complete, Train Loss: 0.6661999608516693\n",
      "Epoch: [6/7], Step: [1251/3125], 40.0% complete, Train Loss: 0.6701376018762588\n",
      "Epoch: [6/7], Step: [1876/3125], 60.0% complete, Train Loss: 0.6746030141830445\n",
      "Epoch: [6/7], Step: [2501/3125], 80.0% complete, Train Loss: 0.6743847328901291\n",
      "Train loss: 0.6755706963729858\n",
      "Val loss: 0.7981169139966369\n",
      "Train acc: 71.216\n",
      "Val acc: 66.8\n",
      "Epoch: [7/7], Step: [626/3125], 20.0% complete, Train Loss: 0.6453220811843872\n",
      "Epoch: [7/7], Step: [1251/3125], 40.0% complete, Train Loss: 0.6493691286802292\n",
      "Epoch: [7/7], Step: [1876/3125], 60.0% complete, Train Loss: 0.6515104117393493\n",
      "Epoch: [7/7], Step: [2501/3125], 80.0% complete, Train Loss: 0.6545626368761063\n",
      "Train loss: 0.6568236010742188\n",
      "Val loss: 0.8205621568486094\n",
      "Train acc: 72.193\n",
      "Val acc: 65.6\n"
     ]
    }
   ],
   "source": [
    "model_CNN_new = TwoFullyConnectedLayers_CNN_multiplication(embedding_words, hidden_size_CNN=32, \n",
    "                                            hidden_size_linear=128,kernel_dim=3,num_layers=2)\n",
    "optimizer_CNN_new = torch.optim.Adam(model_CNN_new.parameters(), lr=learning_rate)\n",
    "\n",
    "train_loss_hist_CNN_32=[]\n",
    "val_loss_hist_CNN_32=[]\n",
    "train_acc_hist_32=[]\n",
    "val_acc_hist_CNN_32=[]\n",
    "\n",
    "run_CNN(7,train_loader,val_loader,model_CNN_new,optimizer_CNN_new,criterion,val_loss_hist_CNN_32,\n",
    "            train_loss_hist_CNN_32,val_acc_hist_CNN_32,train_acc_hist_32)\n",
    "\n",
    "sendmail(job='Hidden size CNN=32')\n"
   ]
  },
  {
   "cell_type": "markdown",
   "metadata": {},
   "source": [
    "#### (Kernel issue again... copy/pasted again)"
   ]
  },
  {
   "cell_type": "code",
   "execution_count": 68,
   "metadata": {
    "collapsed": true
   },
   "outputs": [],
   "source": [
    "val_acc_hist_CNN_128=[64.5,65.7,65.9,67.7,66.0,66.9,67.7]"
   ]
  },
  {
   "cell_type": "code",
   "execution_count": 72,
   "metadata": {
    "collapsed": false
   },
   "outputs": [
    {
     "data": {
      "image/png": "[encoded data removed]",
      "text/plain": [
       "<matplotlib.figure.Figure at 0x1387ccef0>"
      ]
     },
     "metadata": {},
     "output_type": "display_data"
    }
   ],
   "source": [
    "plt.plot(val_acc_hist_CNN_128,label='Hidden=128')\n",
    "plt.plot(val_acc_hist_CNN_32,label='Hidden=32')\n",
    "\n",
    "plt.legend(bbox_to_anchor=(1.3, 1))\n",
    "plt.xlabel('Epochs')\n",
    "plt.ylabel('Accuracy')\n",
    "plt.title('Accuracy curves for different embedding sizes')\n",
    "plt.show()    "
   ]
  },
  {
   "cell_type": "code",
   "execution_count": 70,
   "metadata": {
    "collapsed": false
   },
   "outputs": [
    {
     "name": "stdout",
     "output_type": "stream",
     "text": [
      "Epoch: [1/7], Step: [626/3125], 20.0% complete, Train Loss: 0.9878928596496582\n",
      "Epoch: [1/7], Step: [1251/3125], 40.0% complete, Train Loss: 0.940680060338974\n",
      "Epoch: [1/7], Step: [1876/3125], 60.0% complete, Train Loss: 0.9138473311742147\n",
      "Epoch: [1/7], Step: [2501/3125], 80.0% complete, Train Loss: 0.8942862898945808\n",
      "Train loss: 0.8788442888450623\n",
      "Val loss: 0.8248213827610016\n",
      "Train acc: 59.029\n",
      "Val acc: 64.6\n",
      "Epoch: [2/7], Step: [626/3125], 20.0% complete, Train Loss: 0.7932269283294677\n",
      "Epoch: [2/7], Step: [1251/3125], 40.0% complete, Train Loss: 0.783582415342331\n",
      "Epoch: [2/7], Step: [1876/3125], 60.0% complete, Train Loss: 0.7812625375429789\n",
      "Epoch: [2/7], Step: [2501/3125], 80.0% complete, Train Loss: 0.7776470948815346\n",
      "Train loss: 0.7737949680805206\n",
      "Val loss: 0.7955921608954668\n",
      "Train acc: 65.805\n",
      "Val acc: 65.3\n",
      "Epoch: [3/7], Step: [626/3125], 20.0% complete, Train Loss: 0.732725119638443\n",
      "Epoch: [3/7], Step: [1251/3125], 40.0% complete, Train Loss: 0.7265343331813813\n",
      "Epoch: [3/7], Step: [1876/3125], 60.0% complete, Train Loss: 0.7292473236401876\n",
      "Epoch: [3/7], Step: [2501/3125], 80.0% complete, Train Loss: 0.726167814540863\n",
      "Train loss: 0.7253194443416595\n",
      "Val loss: 0.784720478579402\n",
      "Train acc: 68.547\n",
      "Val acc: 65.0\n",
      "Epoch: [4/7], Step: [626/3125], 20.0% complete, Train Loss: 0.6817702270030975\n",
      "Epoch: [4/7], Step: [1251/3125], 40.0% complete, Train Loss: 0.6791164906263352\n",
      "Epoch: [4/7], Step: [1876/3125], 60.0% complete, Train Loss: 0.6802848306179047\n",
      "Epoch: [4/7], Step: [2501/3125], 80.0% complete, Train Loss: 0.6833085443258285\n",
      "Train loss: 0.6837127785778045\n",
      "Val loss: 0.777811024338007\n",
      "Train acc: 70.746\n",
      "Val acc: 66.7\n",
      "Epoch: [5/7], Step: [626/3125], 20.0% complete, Train Loss: 0.6351538098335267\n",
      "Epoch: [5/7], Step: [1251/3125], 40.0% complete, Train Loss: 0.6440946999788284\n",
      "Epoch: [5/7], Step: [1876/3125], 60.0% complete, Train Loss: 0.644995261780421\n",
      "Epoch: [5/7], Step: [2501/3125], 80.0% complete, Train Loss: 0.645213820040226\n",
      "Train loss: 0.6471642535018921\n",
      "Val loss: 0.7759771719574928\n",
      "Train acc: 72.882\n",
      "Val acc: 66.1\n",
      "Epoch: [6/7], Step: [626/3125], 20.0% complete, Train Loss: 0.5998290419578552\n",
      "Epoch: [6/7], Step: [1251/3125], 40.0% complete, Train Loss: 0.6040568812131881\n",
      "Epoch: [6/7], Step: [1876/3125], 60.0% complete, Train Loss: 0.6088110458056132\n",
      "Epoch: [6/7], Step: [2501/3125], 80.0% complete, Train Loss: 0.6120376658439636\n",
      "Train loss: 0.6136798902273178\n",
      "Val loss: 0.7521366951987147\n",
      "Train acc: 74.4\n",
      "Val acc: 68.8\n",
      "Epoch: [7/7], Step: [626/3125], 20.0% complete, Train Loss: 0.5723506307125091\n",
      "Epoch: [7/7], Step: [1251/3125], 40.0% complete, Train Loss: 0.5764618000984192\n",
      "Epoch: [7/7], Step: [1876/3125], 60.0% complete, Train Loss: 0.5792198845863342\n",
      "Epoch: [7/7], Step: [2501/3125], 80.0% complete, Train Loss: 0.5804277959108353\n",
      "Train loss: 0.5834980528783799\n",
      "Val loss: 0.7780444091185927\n",
      "Train acc: 75.881\n",
      "Val acc: 69.0\n"
     ]
    }
   ],
   "source": [
    "model_CNN_new = TwoFullyConnectedLayers_CNN_multiplication(embedding_words, hidden_size_CNN=64, \n",
    "                                            hidden_size_linear=128,kernel_dim=3,num_layers=2)\n",
    "optimizer_CNN_new = torch.optim.Adam(model_CNN_new.parameters(), lr=learning_rate)\n",
    "\n",
    "train_loss_hist_CNN_64=[]\n",
    "val_loss_hist_CNN_64=[]\n",
    "train_acc_hist_64=[]\n",
    "val_acc_hist_CNN_64=[]\n",
    "\n",
    "run_CNN(7,train_loader,val_loader,model_CNN_new,optimizer_CNN_new,criterion,val_loss_hist_CNN_64,\n",
    "            train_loss_hist_CNN_64,val_acc_hist_CNN_64,train_acc_hist_64)\n",
    "\n",
    "sendmail(job='Hidden size CNN=64')\n",
    "\n"
   ]
  },
  {
   "cell_type": "code",
   "execution_count": 73,
   "metadata": {
    "collapsed": false
   },
   "outputs": [
    {
     "data": {
      "image/png": "[encoded data removed]",
      "text/plain": [
       "<matplotlib.figure.Figure at 0x1278b5550>"
      ]
     },
     "metadata": {},
     "output_type": "display_data"
    }
   ],
   "source": [
    "plt.plot(val_acc_hist_CNN_128,label='Hidden=128')\n",
    "plt.plot(val_acc_hist_CNN_32,label='Hidden=32')\n",
    "plt.plot(val_acc_hist_CNN_64,label='Hidden=64')\n",
    "\n",
    "plt.legend(bbox_to_anchor=(1.3, 1))\n",
    "plt.xlabel('Epochs')\n",
    "plt.ylabel('Accuracy')\n",
    "plt.title('Accuracy curves for different embedding sizes')\n",
    "plt.show()    "
   ]
  },
  {
   "cell_type": "markdown",
   "metadata": {},
   "source": [
    "Therefore, we'll use a hidden size of 64"
   ]
  },
  {
   "cell_type": "markdown",
   "metadata": {},
   "source": [
    "## Hidden size for linear layers"
   ]
  },
  {
   "cell_type": "code",
   "execution_count": 74,
   "metadata": {
    "collapsed": false
   },
   "outputs": [
    {
     "name": "stdout",
     "output_type": "stream",
     "text": [
      "Epoch: [1/7], Step: [626/3125], 20.0% complete, Train Loss: 0.9878030947685241\n",
      "Epoch: [1/7], Step: [1251/3125], 40.0% complete, Train Loss: 0.9421731632232666\n",
      "Epoch: [1/7], Step: [1876/3125], 60.0% complete, Train Loss: 0.9164813541412353\n",
      "Epoch: [1/7], Step: [2501/3125], 80.0% complete, Train Loss: 0.8982973393678665\n",
      "Train loss: 0.8833797476577758\n",
      "Val loss: 0.8336609825491905\n",
      "Train acc: 58.66\n",
      "Val acc: 61.4\n",
      "Epoch: [2/7], Step: [626/3125], 20.0% complete, Train Loss: 0.7967143176078796\n",
      "Epoch: [2/7], Step: [1251/3125], 40.0% complete, Train Loss: 0.7877820464849472\n",
      "Epoch: [2/7], Step: [1876/3125], 60.0% complete, Train Loss: 0.7857418705463409\n",
      "Epoch: [2/7], Step: [2501/3125], 80.0% complete, Train Loss: 0.7814130500912666\n",
      "Train loss: 0.7788263490295411\n",
      "Val loss: 0.8054065592586994\n",
      "Train acc: 65.513\n",
      "Val acc: 64.4\n",
      "Epoch: [3/7], Step: [626/3125], 20.0% complete, Train Loss: 0.7323579814434051\n",
      "Epoch: [3/7], Step: [1251/3125], 40.0% complete, Train Loss: 0.7346533383131028\n",
      "Epoch: [3/7], Step: [1876/3125], 60.0% complete, Train Loss: 0.7337015984694163\n",
      "Epoch: [3/7], Step: [2501/3125], 80.0% complete, Train Loss: 0.7352746958255768\n",
      "Train loss: 0.7329316300868988\n",
      "Val loss: 0.7819080911576748\n",
      "Train acc: 68.201\n",
      "Val acc: 65.3\n",
      "Epoch: [4/7], Step: [626/3125], 20.0% complete, Train Loss: 0.6958790526866913\n",
      "Epoch: [4/7], Step: [1251/3125], 40.0% complete, Train Loss: 0.6978556759834289\n",
      "Epoch: [4/7], Step: [1876/3125], 60.0% complete, Train Loss: 0.6975304589907328\n",
      "Epoch: [4/7], Step: [2501/3125], 80.0% complete, Train Loss: 0.6980169345974923\n",
      "Train loss: 0.6968536005401611\n",
      "Val loss: 0.7764571076259017\n",
      "Train acc: 70.151\n",
      "Val acc: 65.4\n",
      "Epoch: [5/7], Step: [626/3125], 20.0% complete, Train Loss: 0.6495333622932434\n",
      "Epoch: [5/7], Step: [1251/3125], 40.0% complete, Train Loss: 0.6612153822183608\n",
      "Epoch: [5/7], Step: [1876/3125], 60.0% complete, Train Loss: 0.6609361028353373\n",
      "Epoch: [5/7], Step: [2501/3125], 80.0% complete, Train Loss: 0.6628049855470657\n",
      "Train loss: 0.6627899988746643\n",
      "Val loss: 0.7743356106802821\n",
      "Train acc: 71.903\n",
      "Val acc: 67.7\n",
      "Epoch: [6/7], Step: [626/3125], 20.0% complete, Train Loss: 0.6237904983520508\n",
      "Epoch: [6/7], Step: [1251/3125], 40.0% complete, Train Loss: 0.6242699172735214\n",
      "Epoch: [6/7], Step: [1876/3125], 60.0% complete, Train Loss: 0.6298063052813212\n",
      "Epoch: [6/7], Step: [2501/3125], 80.0% complete, Train Loss: 0.6311884588956833\n",
      "Train loss: 0.632396615819931\n",
      "Val loss: 0.8154861312359571\n",
      "Train acc: 73.508\n",
      "Val acc: 65.6\n",
      "Epoch: [7/7], Step: [626/3125], 20.0% complete, Train Loss: 0.5972572214603424\n",
      "Epoch: [7/7], Step: [1251/3125], 40.0% complete, Train Loss: 0.594739870929718\n",
      "Epoch: [7/7], Step: [1876/3125], 60.0% complete, Train Loss: 0.5966521999359131\n",
      "Epoch: [7/7], Step: [2501/3125], 80.0% complete, Train Loss: 0.6005868590414524\n",
      "Train loss: 0.6037053959226608\n",
      "Val loss: 0.7948519298806787\n",
      "Train acc: 74.86\n",
      "Val acc: 67.3\n"
     ]
    }
   ],
   "source": [
    "model_CNN_new = TwoFullyConnectedLayers_CNN_multiplication(embedding_words, hidden_size_CNN=64, \n",
    "                                            hidden_size_linear=32,kernel_dim=3,num_layers=2)\n",
    "optimizer_CNN_new = torch.optim.Adam(model_CNN_new.parameters(), lr=learning_rate)\n",
    "\n",
    "train_loss_hist_CNN_linear32=[]\n",
    "val_loss_hist_CNN_linear32=[]\n",
    "train_acc_hist_linear32=[]\n",
    "val_acc_hist_CNN_linear32=[]\n",
    "\n",
    "run_CNN(7,train_loader,val_loader,model_CNN_new,optimizer_CNN_new,criterion,val_loss_hist_CNN_linear32,\n",
    "            train_loss_hist_CNN_linear32,val_acc_hist_CNN_linear32,train_acc_hist_linear32)\n",
    "\n",
    "sendmail(job='Linear hidden size CNN=32')\n",
    "\n",
    "\n"
   ]
  },
  {
   "cell_type": "code",
   "execution_count": 75,
   "metadata": {
    "collapsed": false
   },
   "outputs": [
    {
     "name": "stdout",
     "output_type": "stream",
     "text": [
      "Epoch: [1/7], Step: [626/3125], 20.0% complete, Train Loss: 0.9892379689216614\n",
      "Epoch: [1/7], Step: [1251/3125], 40.0% complete, Train Loss: 0.941840809392929\n",
      "Epoch: [1/7], Step: [1876/3125], 60.0% complete, Train Loss: 0.9131001475016276\n",
      "Epoch: [1/7], Step: [2501/3125], 80.0% complete, Train Loss: 0.8938878628492355\n",
      "Train loss: 0.8778835157585144\n",
      "Val loss: 0.8225448746234179\n",
      "Train acc: 59.042\n",
      "Val acc: 63.6\n",
      "Epoch: [2/7], Step: [626/3125], 20.0% complete, Train Loss: 0.78622550740242\n",
      "Epoch: [2/7], Step: [1251/3125], 40.0% complete, Train Loss: 0.7803312185525895\n",
      "Epoch: [2/7], Step: [1876/3125], 60.0% complete, Train Loss: 0.7801056182384491\n",
      "Epoch: [2/7], Step: [2501/3125], 80.0% complete, Train Loss: 0.7744271592974663\n",
      "Train loss: 0.7710212256813049\n",
      "Val loss: 0.8085887413471937\n",
      "Train acc: 65.916\n",
      "Val acc: 63.1\n",
      "Epoch: [3/7], Step: [626/3125], 20.0% complete, Train Loss: 0.7243483044147492\n",
      "Epoch: [3/7], Step: [1251/3125], 40.0% complete, Train Loss: 0.7236133959054947\n",
      "Epoch: [3/7], Step: [1876/3125], 60.0% complete, Train Loss: 0.7236567783196767\n",
      "Epoch: [3/7], Step: [2501/3125], 80.0% complete, Train Loss: 0.7232956746459007\n",
      "Train loss: 0.7238073975753784\n",
      "Val loss: 0.7845307271927595\n",
      "Train acc: 68.626\n",
      "Val acc: 66.0\n",
      "Epoch: [4/7], Step: [626/3125], 20.0% complete, Train Loss: 0.6857497779846191\n",
      "Epoch: [4/7], Step: [1251/3125], 40.0% complete, Train Loss: 0.6843855682611465\n",
      "Epoch: [4/7], Step: [1876/3125], 60.0% complete, Train Loss: 0.6868856161594391\n",
      "Epoch: [4/7], Step: [2501/3125], 80.0% complete, Train Loss: 0.6850902146458626\n",
      "Train loss: 0.6857869110393524\n",
      "Val loss: 0.7853696215897799\n",
      "Train acc: 70.688\n",
      "Val acc: 66.9\n",
      "Epoch: [5/7], Step: [626/3125], 20.0% complete, Train Loss: 0.644579001712799\n",
      "Epoch: [5/7], Step: [1251/3125], 40.0% complete, Train Loss: 0.646097740650177\n",
      "Epoch: [5/7], Step: [1876/3125], 60.0% complete, Train Loss: 0.6506611462910971\n",
      "Epoch: [5/7], Step: [2501/3125], 80.0% complete, Train Loss: 0.6523715595364571\n",
      "Train loss: 0.6523414873313904\n",
      "Val loss: 0.7752057109028101\n",
      "Train acc: 72.524\n",
      "Val acc: 66.9\n",
      "Epoch: [6/7], Step: [626/3125], 20.0% complete, Train Loss: 0.608159516954422\n",
      "Epoch: [6/7], Step: [1251/3125], 40.0% complete, Train Loss: 0.6124062065362931\n",
      "Epoch: [6/7], Step: [1876/3125], 60.0% complete, Train Loss: 0.6166014401594798\n",
      "Epoch: [6/7], Step: [2501/3125], 80.0% complete, Train Loss: 0.6205246527254581\n",
      "Train loss: 0.6206980440187454\n",
      "Val loss: 0.7719739619642496\n",
      "Train acc: 74.077\n",
      "Val acc: 67.2\n",
      "Epoch: [7/7], Step: [626/3125], 20.0% complete, Train Loss: 0.5858320869445801\n",
      "Epoch: [7/7], Step: [1251/3125], 40.0% complete, Train Loss: 0.5852656258106231\n",
      "Epoch: [7/7], Step: [1876/3125], 60.0% complete, Train Loss: 0.5872646683057149\n",
      "Epoch: [7/7], Step: [2501/3125], 80.0% complete, Train Loss: 0.5885202410578728\n",
      "Train loss: 0.5904413539218902\n",
      "Val loss: 0.7836758038029075\n",
      "Train acc: 75.451\n",
      "Val acc: 67.7\n"
     ]
    }
   ],
   "source": [
    "model_CNN_new = TwoFullyConnectedLayers_CNN_multiplication(embedding_words, hidden_size_CNN=64, \n",
    "                                            hidden_size_linear=64,kernel_dim=3,num_layers=2)\n",
    "optimizer_CNN_new = torch.optim.Adam(model_CNN_new.parameters(), lr=learning_rate)\n",
    "\n",
    "train_loss_hist_CNN_linear64=[]\n",
    "val_loss_hist_CNN_linear64=[]\n",
    "train_acc_hist_linear64=[]\n",
    "val_acc_hist_CNN_linear64=[]\n",
    "\n",
    "run_CNN(7,train_loader,val_loader,model_CNN_new,optimizer_CNN_new,criterion,val_loss_hist_CNN_linear64,\n",
    "            train_loss_hist_CNN_linear64,val_acc_hist_CNN_linear64,train_acc_hist_linear64)\n",
    "\n",
    "sendmail(job='Linear hidden size CNN=64')"
   ]
  },
  {
   "cell_type": "code",
   "execution_count": 76,
   "metadata": {
    "collapsed": false
   },
   "outputs": [
    {
     "data": {
      "image/png": "[encoded data removed]",
      "text/plain": [
       "<matplotlib.figure.Figure at 0x138a07390>"
      ]
     },
     "metadata": {},
     "output_type": "display_data"
    }
   ],
   "source": [
    "plt.plot(val_acc_hist_CNN_64,label='Hidden_linear=128')\n",
    "plt.plot(val_acc_hist_CNN_linear32,label='Hidden_linear=32')\n",
    "plt.plot(val_acc_hist_CNN_linear64,label='Hidden_linear=64')\n",
    "\n",
    "plt.legend(bbox_to_anchor=(1.3, 1))\n",
    "plt.xlabel('Epochs')\n",
    "plt.ylabel('Accuracy')\n",
    "plt.title('Accuracy curves for different linear embedding sizes')\n",
    "plt.show()    "
   ]
  },
  {
   "cell_type": "markdown",
   "metadata": {},
   "source": [
    "# Let's prepare the MultiNLI validation set"
   ]
  },
  {
   "cell_type": "code",
   "execution_count": 64,
   "metadata": {
    "collapsed": true
   },
   "outputs": [],
   "source": [
    "val_data_mnli=pd.read_csv('mnli_val.tsv',sep='\\t')"
   ]
  },
  {
   "cell_type": "code",
   "execution_count": 65,
   "metadata": {
    "collapsed": false
   },
   "outputs": [
    {
     "data": {
      "text/plain": [
       "array(['fiction', 'telephone', 'slate', 'government', 'travel'],\n",
       "      dtype=object)"
      ]
     },
     "execution_count": 65,
     "metadata": {},
     "output_type": "execute_result"
    }
   ],
   "source": [
    "val_data_mnli['genre'].unique()"
   ]
  },
  {
   "cell_type": "code",
   "execution_count": 66,
   "metadata": {
    "collapsed": true
   },
   "outputs": [],
   "source": [
    "val_data_fiction=val_data_mnli[val_data_mnli['genre']=='fiction']"
   ]
  },
  {
   "cell_type": "code",
   "execution_count": 67,
   "metadata": {
    "collapsed": false,
    "deletable": true,
    "editable": true
   },
   "outputs": [],
   "source": [
    "val_data_telephone=val_data_mnli[val_data_mnli['genre']=='telephone']"
   ]
  },
  {
   "cell_type": "code",
   "execution_count": 68,
   "metadata": {
    "collapsed": false,
    "deletable": true,
    "editable": true
   },
   "outputs": [],
   "source": [
    "val_data_slate=val_data_mnli[val_data_mnli['genre']=='slate']"
   ]
  },
  {
   "cell_type": "code",
   "execution_count": 69,
   "metadata": {
    "collapsed": true,
    "deletable": true,
    "editable": true
   },
   "outputs": [],
   "source": [
    "val_data_gov=val_data_mnli[val_data_mnli['genre']=='government']"
   ]
  },
  {
   "cell_type": "code",
   "execution_count": 70,
   "metadata": {
    "collapsed": true,
    "deletable": true,
    "editable": true
   },
   "outputs": [],
   "source": [
    "val_data_travel=val_data_mnli[val_data_mnli['genre']=='travel']"
   ]
  },
  {
   "cell_type": "code",
   "execution_count": 71,
   "metadata": {
    "collapsed": false
   },
   "outputs": [],
   "source": [
    "def tokenize_dataset_MNLI(dataset):\n",
    "    dataset_premise=dataset['sentence1']\n",
    "    dataset_hypothesis=dataset['sentence2']\n",
    "    # we are keeping track of all tokens in dataset \n",
    "    # in order to create vocabulary later\n",
    "    all_tokens = []\n",
    "    token_dataset_premise=[]\n",
    "    token_dataset_hypothesis=[]\n",
    "    for i in dataset_premise.index:\n",
    "        tokens_premise=tokenize(dataset_premise[i])\n",
    "        tokens_hypothesis=tokenize(dataset_hypothesis[i])\n",
    "        \n",
    "        token_dataset_premise.append(tokens_premise)\n",
    "        token_dataset_hypothesis.append(tokens_hypothesis)\n",
    "        \n",
    "        all_tokens += tokens_premise\n",
    "        all_tokens += tokens_hypothesis\n",
    "        \n",
    "    token_dataset=[token_dataset_premise,token_dataset_hypothesis]\n",
    "    return token_dataset, all_tokens\n",
    "\n",
    "\n"
   ]
  },
  {
   "cell_type": "code",
   "execution_count": 72,
   "metadata": {
    "collapsed": false,
    "deletable": true,
    "editable": true
   },
   "outputs": [],
   "source": [
    "#val_tokens_fiction, _=tokenize_dataset_MNLI(val_data_fiction)"
   ]
  },
  {
   "cell_type": "code",
   "execution_count": 73,
   "metadata": {
    "collapsed": false
   },
   "outputs": [],
   "source": [
    "#val_tokens_telephone, _=tokenize_dataset_MNLI(val_data_telephone)\n",
    "#val_tokens_slate, _=tokenize_dataset_MNLI(val_data_slate)\n",
    "#val_tokens_gov, _=tokenize_dataset_MNLI(val_data_gov)\n",
    "#val_tokens_travel, _=tokenize_dataset_MNLI(val_data_travel)"
   ]
  },
  {
   "cell_type": "code",
   "execution_count": 74,
   "metadata": {
    "collapsed": true
   },
   "outputs": [],
   "source": [
    "#pkl.dump(val_tokens_fiction,open('val_tokens_fiction.p','wb'))\n",
    "#pkl.dump(val_tokens_telephone,open('val_tokens_telephone.p','wb'))\n",
    "#pkl.dump(val_tokens_slate,open('val_tokens_slate.p','wb'))\n",
    "#pkl.dump(val_tokens_gov,open('val_tokens_gov.p','wb'))\n",
    "#pkl.dump(val_tokens_travel,open('val_tokens_travel.p','wb'))"
   ]
  },
  {
   "cell_type": "code",
   "execution_count": 75,
   "metadata": {
    "collapsed": true
   },
   "outputs": [],
   "source": [
    "val_tokens_fiction   = pkl.load(open('val_tokens_fiction.p','rb'))\n",
    "val_tokens_telephone = pkl.load(open('val_tokens_telephone.p','rb'))\n",
    "val_tokens_slate     = pkl.load(open('val_tokens_slate.p','rb'))\n",
    "val_tokens_gov       = pkl.load(open('val_tokens_gov.p','rb'))\n",
    "val_tokens_travel    = pkl.load(open('val_tokens_travel.p','rb'))"
   ]
  },
  {
   "cell_type": "code",
   "execution_count": 76,
   "metadata": {
    "collapsed": false,
    "deletable": true,
    "editable": true
   },
   "outputs": [
    {
     "name": "stdout",
     "output_type": "stream",
     "text": [
      "['overlapping', 'the', 'others']\n",
      "['overlapping', 'the', 'other', 'photos']\n",
      "sentence1          Overlapping the others ?\n",
      "sentence2    Overlapping the other photos ?\n",
      "label                               neutral\n",
      "genre                               fiction\n",
      "Name: 257, dtype: object\n",
      "neutral\n"
     ]
    }
   ],
   "source": [
    "r=random.randint(0,len(val_tokens_fiction[0]))\n",
    "print(val_tokens_fiction[0][r])\n",
    "print(val_tokens_fiction[1][r])\n",
    "print(val_data_fiction.iloc[r])\n",
    "val_target_fiction=val_data_fiction['label']\n",
    "print(val_target_fiction.iloc[r])"
   ]
  },
  {
   "cell_type": "code",
   "execution_count": 77,
   "metadata": {
    "collapsed": false,
    "deletable": true,
    "editable": true
   },
   "outputs": [
    {
     "name": "stdout",
     "output_type": "stream",
     "text": [
      "['yeah', 'so', 'it', \"'s\", 'easy', 'to', 'do', 'i', 'm', 'actually', 'interested', 'in', 'getting', 'one', 'of', 'those', 'kind', 'of', 'my', 'wife', 'has', 'been', 'talking', 'about', 'this', 'in', 'the', 'past', 'couple', 'of', 'years', 'one', 'of', 'those', 'kind', 'of', 'campers', 'that', 'pop', 'up', 'so', 'it', \"'s\", 'about', 'uh', 'maybe', 'eight', 'foot', 'square', 'and', 'but', 'only', 'about', 'two', 'feet', 'tall', 'and', 'when', 'you', 'get', 'to', 'where', 'you', \"'re\", 'going', 'it', 'raises', 'up', 'and', 'there', \"'s\", 'tenting', 'material']\n",
      "['i', 'want', 'to', 'get', 'one', 'of', 'those', 'campers']\n",
      "sentence1    yeah so it 's easy to do i 'm actually interes...\n",
      "sentence2                 I want to get one of those campers .\n",
      "label                                               entailment\n",
      "genre                                                telephone\n",
      "Name: 1480, dtype: object\n",
      "entailment\n"
     ]
    }
   ],
   "source": [
    "r=random.randint(0,len(val_tokens_telephone[0]))\n",
    "print(val_tokens_telephone[0][r])\n",
    "print(val_tokens_telephone[1][r])\n",
    "print(val_data_telephone.iloc[r])\n",
    "val_target_telephone=val_data_telephone['label']\n",
    "print(val_target_telephone.iloc[r])"
   ]
  },
  {
   "cell_type": "code",
   "execution_count": 78,
   "metadata": {
    "collapsed": false,
    "deletable": true,
    "editable": true
   },
   "outputs": [],
   "source": [
    "val_target_gov=val_data_gov['label']\n",
    "val_target_slate=val_data_slate['label']\n",
    "val_target_travel=val_data_travel['label']"
   ]
  },
  {
   "cell_type": "code",
   "execution_count": 79,
   "metadata": {
    "collapsed": true,
    "deletable": true,
    "editable": true
   },
   "outputs": [],
   "source": [
    "val_target_fiction=np.array(val_target_fiction.replace('neutral',0).replace('entailment',1).replace('contradiction',2))\n",
    "val_target_telephone=np.array(val_target_telephone.replace('neutral',0).replace('entailment',1).replace('contradiction',2))\n",
    "val_target_gov=np.array(val_target_gov.replace('neutral',0).replace('entailment',1).replace('contradiction',2))\n",
    "val_target_slate=np.array(val_target_slate.replace('neutral',0).replace('entailment',1).replace('contradiction',2))\n",
    "val_target_travel=np.array(val_target_travel.replace('neutral',0).replace('entailment',1).replace('contradiction',2))"
   ]
  },
  {
   "cell_type": "code",
   "execution_count": 80,
   "metadata": {
    "collapsed": false,
    "deletable": true,
    "editable": true
   },
   "outputs": [],
   "source": [
    "val_fiction_premise_indices=token2index_dataset(val_tokens_fiction[0])\n",
    "val_fiction_hypothesis_indices=token2index_dataset(val_tokens_fiction[1])\n",
    "val_fiction_indices=[]\n",
    "for i in range(len(val_fiction_premise_indices)):\n",
    "    t_i=[val_fiction_premise_indices[i],val_fiction_hypothesis_indices[i]]\n",
    "    val_fiction_indices.append(t_i)\n",
    "    \n",
    "val_fiction_dataset = NewsGroupDataset(val_fiction_indices, val_target_fiction)\n",
    "val_fiction_loader=torch.utils.data.DataLoader(dataset=val_fiction_dataset, \n",
    "                                               batch_size=BATCH_SIZE,\n",
    "                                               collate_fn=newsgroup_collate_func,\n",
    "                                               shuffle=False)"
   ]
  },
  {
   "cell_type": "code",
   "execution_count": 81,
   "metadata": {
    "collapsed": false,
    "deletable": true,
    "editable": true
   },
   "outputs": [],
   "source": [
    "val_telephone_premise_indices=token2index_dataset(val_tokens_telephone[0])\n",
    "val_telephone_hypothesis_indices=token2index_dataset(val_tokens_telephone[1])\n",
    "val_telephone_indices=[]\n",
    "for i in range(len(val_telephone_premise_indices)):\n",
    "    t_i=[val_telephone_premise_indices[i],val_telephone_hypothesis_indices[i]]\n",
    "    val_telephone_indices.append(t_i)\n",
    "    \n",
    "val_telephone_dataset = NewsGroupDataset(val_telephone_indices, val_target_telephone)\n",
    "val_telephone_loader=torch.utils.data.DataLoader(dataset=val_telephone_dataset, \n",
    "                                               batch_size=BATCH_SIZE,\n",
    "                                               collate_fn=newsgroup_collate_func,\n",
    "                                               shuffle=False)"
   ]
  },
  {
   "cell_type": "code",
   "execution_count": 82,
   "metadata": {
    "collapsed": false,
    "deletable": true,
    "editable": true
   },
   "outputs": [],
   "source": [
    "val_gov_premise_indices=token2index_dataset(val_tokens_gov[0])\n",
    "val_gov_hypothesis_indices=token2index_dataset(val_tokens_gov[1])\n",
    "val_gov_indices=[]\n",
    "for i in range(len(val_gov_premise_indices)):\n",
    "    t_i=[val_gov_premise_indices[i],val_gov_hypothesis_indices[i]]\n",
    "    val_gov_indices.append(t_i)\n",
    "    \n",
    "val_gov_dataset = NewsGroupDataset(val_gov_indices, val_target_gov)\n",
    "val_gov_loader=torch.utils.data.DataLoader(dataset=val_gov_dataset, \n",
    "                                               batch_size=BATCH_SIZE,\n",
    "                                               collate_fn=newsgroup_collate_func,\n",
    "                                               shuffle=False)"
   ]
  },
  {
   "cell_type": "code",
   "execution_count": 83,
   "metadata": {
    "collapsed": false,
    "deletable": true,
    "editable": true
   },
   "outputs": [],
   "source": [
    "val_slate_premise_indices=token2index_dataset(val_tokens_slate[0])\n",
    "val_slate_hypothesis_indices=token2index_dataset(val_tokens_slate[1])\n",
    "val_slate_indices=[]\n",
    "for i in range(len(val_slate_premise_indices)):\n",
    "    t_i=[val_slate_premise_indices[i],val_slate_hypothesis_indices[i]]\n",
    "    val_slate_indices.append(t_i)\n",
    "    \n",
    "val_slate_dataset = NewsGroupDataset(val_slate_indices, val_target_slate)\n",
    "val_slate_loader=torch.utils.data.DataLoader(dataset=val_slate_dataset, \n",
    "                                               batch_size=BATCH_SIZE,\n",
    "                                               collate_fn=newsgroup_collate_func,\n",
    "                                               shuffle=False)"
   ]
  },
  {
   "cell_type": "code",
   "execution_count": 84,
   "metadata": {
    "collapsed": true,
    "deletable": true,
    "editable": true
   },
   "outputs": [],
   "source": [
    "val_travel_premise_indices=token2index_dataset(val_tokens_travel[0])\n",
    "val_travel_hypothesis_indices=token2index_dataset(val_tokens_travel[1])\n",
    "val_travel_indices=[]\n",
    "for i in range(len(val_travel_premise_indices)):\n",
    "    t_i=[val_travel_premise_indices[i],val_travel_hypothesis_indices[i]]\n",
    "    val_travel_indices.append(t_i)\n",
    "    \n",
    "val_travel_dataset = NewsGroupDataset(val_travel_indices, val_target_travel)\n",
    "val_travel_loader=torch.utils.data.DataLoader(dataset=val_travel_dataset, \n",
    "                                               batch_size=BATCH_SIZE,\n",
    "                                               collate_fn=newsgroup_collate_func,\n",
    "                                               shuffle=False)"
   ]
  },
  {
   "cell_type": "code",
   "execution_count": null,
   "metadata": {
    "collapsed": true,
    "deletable": true,
    "editable": true
   },
   "outputs": [],
   "source": []
  },
  {
   "cell_type": "code",
   "execution_count": null,
   "metadata": {
    "collapsed": true,
    "deletable": true,
    "editable": true
   },
   "outputs": [],
   "source": []
  },
  {
   "cell_type": "code",
   "execution_count": null,
   "metadata": {
    "collapsed": true,
    "deletable": true,
    "editable": true
   },
   "outputs": [],
   "source": []
  },
  {
   "cell_type": "code",
   "execution_count": null,
   "metadata": {
    "collapsed": true,
    "deletable": true,
    "editable": true
   },
   "outputs": [],
   "source": []
  },
  {
   "cell_type": "code",
   "execution_count": null,
   "metadata": {
    "collapsed": true,
    "deletable": true,
    "editable": true
   },
   "outputs": [],
   "source": []
  },
  {
   "cell_type": "markdown",
   "metadata": {},
   "source": [
    "# We now have our best models, we need to train them again as they're not in memory"
   ]
  },
  {
   "cell_type": "code",
   "execution_count": 85,
   "metadata": {
    "collapsed": false,
    "deletable": true,
    "editable": true
   },
   "outputs": [
    {
     "name": "stdout",
     "output_type": "stream",
     "text": [
      "Epoch: [1/7], Step: [626/3125], 20.0% complete, Train Loss: 0.995209739112854\n",
      "Epoch: [1/7], Step: [1251/3125], 40.0% complete, Train Loss: 0.9442462891578675\n",
      "Epoch: [1/7], Step: [1876/3125], 60.0% complete, Train Loss: 0.9141961489677429\n",
      "Epoch: [1/7], Step: [2501/3125], 80.0% complete, Train Loss: 0.893002503490448\n",
      "Train loss: 0.8775427647399903\n",
      "Val loss: 0.8525524865835905\n",
      "Train acc: 59.239\n",
      "Val acc: 61.9\n",
      "Epoch: [2/7], Step: [626/3125], 20.0% complete, Train Loss: 0.7863816808223725\n",
      "Epoch: [2/7], Step: [1251/3125], 40.0% complete, Train Loss: 0.7799448668956757\n",
      "Epoch: [2/7], Step: [1876/3125], 60.0% complete, Train Loss: 0.7773096520582835\n",
      "Epoch: [2/7], Step: [2501/3125], 80.0% complete, Train Loss: 0.7740726588010788\n",
      "Train loss: 0.771579998626709\n",
      "Val loss: 0.7888204269111156\n",
      "Train acc: 66.003\n",
      "Val acc: 66.2\n",
      "Epoch: [3/7], Step: [626/3125], 20.0% complete, Train Loss: 0.721863131570816\n",
      "Epoch: [3/7], Step: [1251/3125], 40.0% complete, Train Loss: 0.7264705306768418\n",
      "Epoch: [3/7], Step: [1876/3125], 60.0% complete, Train Loss: 0.7258304996013641\n",
      "Epoch: [3/7], Step: [2501/3125], 80.0% complete, Train Loss: 0.7251227427959442\n",
      "Train loss: 0.7234329388237\n",
      "Val loss: 0.7792335832491517\n",
      "Train acc: 68.569\n",
      "Val acc: 66.3\n",
      "Epoch: [4/7], Step: [626/3125], 20.0% complete, Train Loss: 0.6865249813556671\n",
      "Epoch: [4/7], Step: [1251/3125], 40.0% complete, Train Loss: 0.6880196207046508\n",
      "Epoch: [4/7], Step: [1876/3125], 60.0% complete, Train Loss: 0.6849627889792125\n",
      "Epoch: [4/7], Step: [2501/3125], 80.0% complete, Train Loss: 0.6873673964381218\n",
      "Train loss: 0.6858328915023804\n",
      "Val loss: 0.7727869125083089\n",
      "Train acc: 70.548\n",
      "Val acc: 68.0\n",
      "Epoch: [5/7], Step: [626/3125], 20.0% complete, Train Loss: 0.6429288138866425\n",
      "Epoch: [5/7], Step: [1251/3125], 40.0% complete, Train Loss: 0.6461041750907898\n",
      "Epoch: [5/7], Step: [1876/3125], 60.0% complete, Train Loss: 0.6469730723539988\n",
      "Epoch: [5/7], Step: [2501/3125], 80.0% complete, Train Loss: 0.6500996263742447\n",
      "Train loss: 0.6513348295783996\n",
      "Val loss: 0.7792883403599262\n",
      "Train acc: 72.441\n",
      "Val acc: 66.8\n",
      "Epoch: [6/7], Step: [626/3125], 20.0% complete, Train Loss: 0.6061003182888031\n",
      "Epoch: [6/7], Step: [1251/3125], 40.0% complete, Train Loss: 0.6116747499465942\n",
      "Epoch: [6/7], Step: [1876/3125], 60.0% complete, Train Loss: 0.61139811018308\n",
      "Epoch: [6/7], Step: [2501/3125], 80.0% complete, Train Loss: 0.6149968927979469\n",
      "Train loss: 0.6182476804065704\n",
      "Val loss: 0.7949662357568741\n",
      "Train acc: 74.008\n",
      "Val acc: 66.4\n",
      "Epoch: [7/7], Step: [626/3125], 20.0% complete, Train Loss: 0.5757943480730057\n",
      "Epoch: [7/7], Step: [1251/3125], 40.0% complete, Train Loss: 0.5763124441027642\n",
      "Epoch: [7/7], Step: [1876/3125], 60.0% complete, Train Loss: 0.5792089471419652\n",
      "Epoch: [7/7], Step: [2501/3125], 80.0% complete, Train Loss: 0.5830457429170609\n",
      "Train loss: 0.5863001793193817\n",
      "Val loss: 0.7921835388988256\n",
      "Train acc: 75.495\n",
      "Val acc: 68.1\n"
     ]
    }
   ],
   "source": [
    "model_CNN_final = TwoFullyConnectedLayers_CNN_multiplication(embedding_words, hidden_size_CNN=64, \n",
    "                                            hidden_size_linear=128,kernel_dim=3,num_layers=2)\n",
    "optimizer_CNN_final = torch.optim.Adam(model_CNN_final.parameters(), lr=learning_rate)\n",
    "\n",
    "train_loss_hist_CNN_linear128=[]\n",
    "val_loss_hist_CNN_linear128=[]\n",
    "train_acc_hist_linear128=[]\n",
    "val_acc_hist_CNN_linear128=[]\n",
    "\n",
    "run_CNN(7,train_loader,val_loader,model_CNN_final,optimizer_CNN_final,criterion,val_loss_hist_CNN_linear128,\n",
    "            train_loss_hist_CNN_linear128,val_acc_hist_CNN_linear128,train_acc_hist_linear128)\n",
    "\n",
    "sendmail(job='CNN ready')"
   ]
  },
  {
   "cell_type": "code",
   "execution_count": 94,
   "metadata": {
    "collapsed": false
   },
   "outputs": [
    {
     "data": {
      "text/plain": [
       "(45.32663316582914, 1.265489548444748)"
      ]
     },
     "execution_count": 94,
     "metadata": {},
     "output_type": "execute_result"
    }
   ],
   "source": [
    "test_model(val_fiction_loader,model_CNN_final,0)"
   ]
  },
  {
   "cell_type": "code",
   "execution_count": 95,
   "metadata": {
    "collapsed": false,
    "deletable": true,
    "editable": true
   },
   "outputs": [
    {
     "data": {
      "text/plain": [
       "(43.18407960199005, 1.329667329788208)"
      ]
     },
     "execution_count": 95,
     "metadata": {},
     "output_type": "execute_result"
    }
   ],
   "source": [
    "test_model(val_telephone_loader,model_CNN_final,0)"
   ]
  },
  {
   "cell_type": "code",
   "execution_count": 96,
   "metadata": {
    "collapsed": false,
    "deletable": true,
    "editable": true
   },
   "outputs": [
    {
     "data": {
      "text/plain": [
       "(43.30708661417323, 1.9364289678633213)"
      ]
     },
     "execution_count": 96,
     "metadata": {},
     "output_type": "execute_result"
    }
   ],
   "source": [
    "test_model(val_gov_loader,model_CNN_final,0)"
   ]
  },
  {
   "cell_type": "code",
   "execution_count": 97,
   "metadata": {
    "collapsed": false,
    "deletable": true,
    "editable": true
   },
   "outputs": [
    {
     "data": {
      "text/plain": [
       "(42.01596806387226, 1.5951532609760761)"
      ]
     },
     "execution_count": 97,
     "metadata": {},
     "output_type": "execute_result"
    }
   ],
   "source": [
    "test_model(val_slate_loader,model_CNN_final,0)"
   ]
  },
  {
   "cell_type": "code",
   "execution_count": 98,
   "metadata": {
    "collapsed": false,
    "deletable": true,
    "editable": true
   },
   "outputs": [
    {
     "data": {
      "text/plain": [
       "(43.075356415478616, 1.6726741829226095)"
      ]
     },
     "execution_count": 98,
     "metadata": {},
     "output_type": "execute_result"
    }
   ],
   "source": [
    "test_model(val_travel_loader,model_CNN_final,0)"
   ]
  },
  {
   "cell_type": "code",
   "execution_count": 86,
   "metadata": {
    "collapsed": true,
    "deletable": true,
    "editable": true
   },
   "outputs": [],
   "source": [
    "def print3goodbad(loader,model):\n",
    "    model.eval()\n",
    "    for batch in loader:\n",
    "        data_premise=batch[0]\n",
    "        data_hypothesis=batch[1]\n",
    "        length_premise=batch[2]\n",
    "        length_hypothesis=batch[3]\n",
    "        labels=batch[4]\n",
    "        outputs = model(data_premise, length_premise,data_hypothesis,length_hypothesis)\n",
    "        predicted = outputs.max(1, keepdim=True)[1]\n",
    "        break\n",
    "    return data_premise,data_hypothesis,labels,predicted,length_premise,length_hypothesis"
   ]
  },
  {
   "cell_type": "code",
   "execution_count": 87,
   "metadata": {
    "collapsed": false,
    "deletable": true,
    "editable": true
   },
   "outputs": [],
   "source": [
    "predictions_comparison=print3goodbad(val_loader,model_CNN_final)"
   ]
  },
  {
   "cell_type": "code",
   "execution_count": 88,
   "metadata": {
    "collapsed": false,
    "deletable": true,
    "editable": true
   },
   "outputs": [],
   "source": [
    "pkl.dump(predictions_comparison,open('predictions_comparison.p','wb'))"
   ]
  },
  {
   "cell_type": "code",
   "execution_count": null,
   "metadata": {
    "collapsed": false
   },
   "outputs": [],
   "source": []
  },
  {
   "cell_type": "code",
   "execution_count": 105,
   "metadata": {
    "collapsed": false,
    "deletable": true,
    "editable": true
   },
   "outputs": [
    {
     "data": {
      "text/plain": [
       "tensor([[2],\n",
       "        [0],\n",
       "        [1],\n",
       "        [1],\n",
       "        [1],\n",
       "        [2],\n",
       "        [1],\n",
       "        [0],\n",
       "        [0],\n",
       "        [1],\n",
       "        [1],\n",
       "        [2],\n",
       "        [0],\n",
       "        [1],\n",
       "        [1],\n",
       "        [0],\n",
       "        [0],\n",
       "        [0],\n",
       "        [2],\n",
       "        [1],\n",
       "        [1],\n",
       "        [0],\n",
       "        [1],\n",
       "        [2],\n",
       "        [2],\n",
       "        [0],\n",
       "        [1],\n",
       "        [1],\n",
       "        [1],\n",
       "        [0],\n",
       "        [0],\n",
       "        [0]])"
      ]
     },
     "execution_count": 105,
     "metadata": {},
     "output_type": "execute_result"
    }
   ],
   "source": [
    "good=[]\n",
    "bad=[]\n",
    "for i in range(len(predictions_comparison[3])):\n",
    "    if predictions_comparison[3][i][0]==predictions_comparison[2][i]:\n",
    "        good.append([predictions_comparison[0],predictions_comparison[1]])"
   ]
  },
  {
   "cell_type": "code",
   "execution_count": null,
   "metadata": {
    "collapsed": true,
    "deletable": true,
    "editable": true
   },
   "outputs": [],
   "source": []
  },
  {
   "cell_type": "code",
   "execution_count": null,
   "metadata": {
    "collapsed": true,
    "deletable": true,
    "editable": true
   },
   "outputs": [],
   "source": []
  },
  {
   "cell_type": "code",
   "execution_count": null,
   "metadata": {
    "collapsed": true,
    "deletable": true,
    "editable": true
   },
   "outputs": [],
   "source": []
  },
  {
   "cell_type": "code",
   "execution_count": null,
   "metadata": {
    "collapsed": true,
    "deletable": true,
    "editable": true
   },
   "outputs": [],
   "source": []
  },
  {
   "cell_type": "markdown",
   "metadata": {
    "collapsed": true,
    "deletable": true,
    "editable": true
   },
   "source": [
    "## Let's now test the RNN on MNLI"
   ]
  },
  {
   "cell_type": "code",
   "execution_count": 89,
   "metadata": {
    "collapsed": false
   },
   "outputs": [
    {
     "name": "stdout",
     "output_type": "stream",
     "text": [
      "Epoch: [1/10], Step: [626/3125], 20.0% complete, Train Loss: 1.0080081853866578\n",
      "Epoch: [1/10], Step: [1251/3125], 40.0% complete, Train Loss: 0.9749489184856415\n",
      "Epoch: [1/10], Step: [1876/3125], 60.0% complete, Train Loss: 0.9549230902671814\n",
      "Epoch: [1/10], Step: [2501/3125], 80.0% complete, Train Loss: 0.9400469655036926\n",
      "Train loss: 0.9275619176673889\n",
      "Val loss: 0.8760487288236618\n",
      "Train acc: 55.652\n",
      "Val acc: 59.4\n",
      "Epoch: [2/10], Step: [626/3125], 20.0% complete, Train Loss: 0.8639150121688842\n",
      "Epoch: [2/10], Step: [1251/3125], 40.0% complete, Train Loss: 0.8580647765159607\n",
      "Epoch: [2/10], Step: [1876/3125], 60.0% complete, Train Loss: 0.8532452857017517\n",
      "Epoch: [2/10], Step: [2501/3125], 80.0% complete, Train Loss: 0.8493433290958404\n",
      "Train loss: 0.8439044575500488\n",
      "Val loss: 0.8350981213152409\n",
      "Train acc: 61.452\n",
      "Val acc: 61.8\n",
      "Epoch: [3/10], Step: [626/3125], 20.0% complete, Train Loss: 0.8136560930728912\n",
      "Epoch: [3/10], Step: [1251/3125], 40.0% complete, Train Loss: 0.8110045285463333\n",
      "Epoch: [3/10], Step: [1876/3125], 60.0% complete, Train Loss: 0.8063275042374929\n",
      "Epoch: [3/10], Step: [2501/3125], 80.0% complete, Train Loss: 0.8004861064434051\n",
      "Train loss: 0.7974461922550201\n",
      "Val loss: 0.8015802167356014\n",
      "Train acc: 64.274\n",
      "Val acc: 63.7\n",
      "Epoch: [4/10], Step: [626/3125], 20.0% complete, Train Loss: 0.7584076981544494\n",
      "Epoch: [4/10], Step: [1251/3125], 40.0% complete, Train Loss: 0.7596723267555237\n",
      "Epoch: [4/10], Step: [1876/3125], 60.0% complete, Train Loss: 0.7589709708849589\n",
      "Epoch: [4/10], Step: [2501/3125], 80.0% complete, Train Loss: 0.7579624675035477\n",
      "Train loss: 0.7557937906646729\n",
      "Val loss: 0.7848246209323406\n",
      "Train acc: 66.89\n",
      "Val acc: 65.2\n",
      "Epoch: [5/10], Step: [626/3125], 20.0% complete, Train Loss: 0.727651556301117\n",
      "Epoch: [5/10], Step: [1251/3125], 40.0% complete, Train Loss: 0.7266599495410919\n",
      "Epoch: [5/10], Step: [1876/3125], 60.0% complete, Train Loss: 0.7283247561931611\n",
      "Epoch: [5/10], Step: [2501/3125], 80.0% complete, Train Loss: 0.7248967725157738\n",
      "Train loss: 0.7234834389877319\n",
      "Val loss: 0.7675433224067092\n",
      "Train acc: 68.639\n",
      "Val acc: 66.2\n",
      "Epoch: [6/10], Step: [626/3125], 20.0% complete, Train Loss: 0.701850621509552\n",
      "Epoch: [6/10], Step: [1251/3125], 40.0% complete, Train Loss: 0.7019561648607254\n",
      "Epoch: [6/10], Step: [1876/3125], 60.0% complete, Train Loss: 0.7028357279618581\n",
      "Epoch: [6/10], Step: [2501/3125], 80.0% complete, Train Loss: 0.6999102735638618\n",
      "Train loss: 0.6977168576812744\n",
      "Val loss: 0.7559631448239088\n",
      "Train acc: 70.028\n",
      "Val acc: 67.4\n",
      "Epoch: [7/10], Step: [626/3125], 20.0% complete, Train Loss: 0.6689239696502686\n",
      "Epoch: [7/10], Step: [1251/3125], 40.0% complete, Train Loss: 0.6741153819561004\n",
      "Epoch: [7/10], Step: [1876/3125], 60.0% complete, Train Loss: 0.6758853941440582\n",
      "Epoch: [7/10], Step: [2501/3125], 80.0% complete, Train Loss: 0.675933175945282\n",
      "Train loss: 0.67443537358284\n",
      "Val loss: 0.7535514580085874\n",
      "Train acc: 71.277\n",
      "Val acc: 67.7\n",
      "Epoch: [8/10], Step: [626/3125], 20.0% complete, Train Loss: 0.6445063029766083\n",
      "Epoch: [8/10], Step: [1251/3125], 40.0% complete, Train Loss: 0.6463617479801178\n",
      "Epoch: [8/10], Step: [1876/3125], 60.0% complete, Train Loss: 0.649299782594045\n",
      "Epoch: [8/10], Step: [2501/3125], 80.0% complete, Train Loss: 0.6489932706475258\n",
      "Train loss: 0.6503193279075623\n",
      "Val loss: 0.7523782597854733\n",
      "Train acc: 72.367\n",
      "Val acc: 67.4\n",
      "Epoch: [9/10], Step: [626/3125], 20.0% complete, Train Loss: 0.6293780001163483\n",
      "Epoch: [9/10], Step: [1251/3125], 40.0% complete, Train Loss: 0.6260795419216156\n",
      "Epoch: [9/10], Step: [1876/3125], 60.0% complete, Train Loss: 0.6263258217811585\n",
      "Epoch: [9/10], Step: [2501/3125], 80.0% complete, Train Loss: 0.6268935104131699\n",
      "Train loss: 0.6275183553695679\n",
      "Val loss: 0.7603227216750383\n",
      "Train acc: 73.692\n",
      "Val acc: 68.4\n",
      "Epoch: [10/10], Step: [626/3125], 20.0% complete, Train Loss: 0.6005126968383789\n",
      "Epoch: [10/10], Step: [1251/3125], 40.0% complete, Train Loss: 0.6003600805997849\n",
      "Epoch: [10/10], Step: [1876/3125], 60.0% complete, Train Loss: 0.6017518886089325\n",
      "Epoch: [10/10], Step: [2501/3125], 80.0% complete, Train Loss: 0.604166284751892\n",
      "Train loss: 0.6045469239997864\n",
      "Val loss: 0.7433920176699758\n",
      "Train acc: 74.837\n",
      "Val acc: 68.1\n"
     ]
    }
   ],
   "source": [
    "train_loss_hist_hidden_size_i=[]\n",
    "val_loss_hist_hidden_size_i=[]\n",
    "train_acc_hist_hidden_size_i=[]\n",
    "val_acc_hist_hidden_size_i=[]\n",
    "\n",
    "model_RNN = TwoFullyConnectedLayers(embedding_words, hidden_size_GRU=128, \n",
    "                                     hidden_size_linear=128, num_layers=1)\n",
    "optimizer_RNN = torch.optim.Adam(model_RNN.parameters(), lr=learning_rate)\n",
    "\n",
    "run_GRU(10,train_loader,val_loader,model_RNN,optimizer_RNN,criterion,val_loss_hist_hidden_size_i,\n",
    "        train_loss_hist_hidden_size_i,val_acc_hist_hidden_size_i,train_acc_hist_hidden_size_i)\n",
    "\n",
    "sendmail(job='RNN ready')"
   ]
  },
  {
   "cell_type": "code",
   "execution_count": 88,
   "metadata": {
    "collapsed": false,
    "deletable": true,
    "editable": true
   },
   "outputs": [
    {
     "data": {
      "text/plain": [
       "(44.92462311557789, 1.2096670288592577)"
      ]
     },
     "execution_count": 88,
     "metadata": {},
     "output_type": "execute_result"
    }
   ],
   "source": [
    "test_model(val_fiction_loader,model_RNN,0)"
   ]
  },
  {
   "cell_type": "code",
   "execution_count": 89,
   "metadata": {
    "collapsed": false,
    "deletable": true,
    "editable": true
   },
   "outputs": [
    {
     "data": {
      "text/plain": [
       "(43.582089552238806, 1.2268329095095396)"
      ]
     },
     "execution_count": 89,
     "metadata": {},
     "output_type": "execute_result"
    }
   ],
   "source": [
    "test_model(val_telephone_loader,model_RNN,0)"
   ]
  },
  {
   "cell_type": "code",
   "execution_count": 90,
   "metadata": {
    "collapsed": false,
    "deletable": true,
    "editable": true
   },
   "outputs": [
    {
     "data": {
      "text/plain": [
       "(43.40551181102362, 1.2042085491120815)"
      ]
     },
     "execution_count": 90,
     "metadata": {},
     "output_type": "execute_result"
    }
   ],
   "source": [
    "test_model(val_gov_loader,model_RNN,0)"
   ]
  },
  {
   "cell_type": "code",
   "execution_count": 91,
   "metadata": {
    "collapsed": false,
    "deletable": true,
    "editable": true
   },
   "outputs": [
    {
     "data": {
      "text/plain": [
       "(41.91616766467066, 1.238265160471201)"
      ]
     },
     "execution_count": 91,
     "metadata": {},
     "output_type": "execute_result"
    }
   ],
   "source": [
    "test_model(val_slate_loader,model_RNN,0)"
   ]
  },
  {
   "cell_type": "code",
   "execution_count": 92,
   "metadata": {
    "collapsed": false,
    "deletable": true,
    "editable": true
   },
   "outputs": [
    {
     "data": {
      "text/plain": [
       "(43.58452138492871, 1.2367783592593284)"
      ]
     },
     "execution_count": 92,
     "metadata": {},
     "output_type": "execute_result"
    }
   ],
   "source": [
    "test_model(val_travel_loader,model_RNN,0)"
   ]
  },
  {
   "cell_type": "code",
   "execution_count": 90,
   "metadata": {
    "collapsed": true
   },
   "outputs": [],
   "source": [
    "predictions_comparison_rnn=print3goodbad(val_loader,model_RNN)\n",
    "pkl.dump(predictions_comparison_rnn,open('predictions_comparison_rnn.p','wb'))"
   ]
  },
  {
   "cell_type": "markdown",
   "metadata": {},
   "source": [
    "# Let's see three correct and incorrect predictions for each model"
   ]
  },
  {
   "cell_type": "code",
   "execution_count": 164,
   "metadata": {
    "collapsed": true
   },
   "outputs": [],
   "source": [
    "good_CNN=[]\n",
    "bad_CNN=[]\n",
    "for i in range(len(predictions_comparison[3])):\n",
    "    if int(predictions_comparison[3][i])==int(predictions_comparison[2][i]):\n",
    "        good_CNN.append(predictions_comparison[0][i])\n",
    "        good_CNN.append(predictions_comparison[1][i])\n",
    "        good_CNN.append(int(predictions_comparison[3][i]))\n",
    "        good_CNN.append(int(predictions_comparison[2][i]))\n",
    "    else:\n",
    "        bad_CNN.append(predictions_comparison[0][i])\n",
    "        bad_CNN.append(predictions_comparison[1][i])\n",
    "        bad_CNN.append(int(predictions_comparison[3][i]))\n",
    "        bad_CNN.append(int(predictions_comparison[2][i]))\n",
    "\n",
    "\n"
   ]
  },
  {
   "cell_type": "code",
   "execution_count": null,
   "metadata": {
    "collapsed": false
   },
   "outputs": [],
   "source": []
  },
  {
   "cell_type": "code",
   "execution_count": 165,
   "metadata": {
    "collapsed": true
   },
   "outputs": [],
   "source": [
    "good_RNN=[]\n",
    "bad_RNN=[]\n",
    "for i in range(len(predictions_comparison_rnn[3])):\n",
    "    if int(predictions_comparison_rnn[3][i])==int(predictions_comparison_rnn[2][i]):\n",
    "        good_RNN.append(predictions_comparison_rnn[0][i])\n",
    "        good_RNN.append(predictions_comparison_rnn[1][i])\n",
    "        good_RNN.append(int(predictions_comparison_rnn[3][i]))\n",
    "        good_RNN.append(int(predictions_comparison_rnn[2][i]))\n",
    "    else:\n",
    "        bad_RNN.append(predictions_comparison_rnn[0][i])\n",
    "        bad_RNN.append(predictions_comparison_rnn[1][i])\n",
    "        bad_RNN.append(int(predictions_comparison_rnn[3][i]))\n",
    "        bad_RNN.append(int(predictions_comparison_rnn[2][i]))\n",
    "\n"
   ]
  },
  {
   "cell_type": "code",
   "execution_count": 166,
   "metadata": {
    "collapsed": false
   },
   "outputs": [],
   "source": [
    "def decode_ids(seq):\n",
    "    l=[]\n",
    "    for j in range(len(seq)):\n",
    "        if seq[j]!=0:\n",
    "            l.append(id2token[seq[j]])\n",
    "    return l"
   ]
  },
  {
   "cell_type": "code",
   "execution_count": 171,
   "metadata": {
    "collapsed": true
   },
   "outputs": [],
   "source": [
    "d={0: 'neutral',1: 'entailment', 2: 'contradiction'}"
   ]
  },
  {
   "cell_type": "code",
   "execution_count": 172,
   "metadata": {
    "collapsed": false
   },
   "outputs": [],
   "source": [
    "def print_example(list_pred):\n",
    "    r=random.randint(0,len(list_pred)/4)\n",
    "    print(decode_ids(list_pred[4*r]))\n",
    "    print(decode_ids(list_pred[4*r+1]))\n",
    "    print(d[list_pred[4*r+2]])\n",
    "    print(d[list_pred[4*r+3]])\n",
    "\n"
   ]
  },
  {
   "cell_type": "code",
   "execution_count": 173,
   "metadata": {
    "collapsed": false
   },
   "outputs": [
    {
     "name": "stdout",
     "output_type": "stream",
     "text": [
      "['a', 'boy', 'riding', 'on', 'a', 'carnival', 'ride', 'turns', 'around', 'for', 'a', 'photograph']\n",
      "['a', 'human', 'riding']\n",
      "entailment\n",
      "entailment\n"
     ]
    }
   ],
   "source": [
    "print_example(good_CNN)"
   ]
  },
  {
   "cell_type": "code",
   "execution_count": 174,
   "metadata": {
    "collapsed": false
   },
   "outputs": [
    {
     "name": "stdout",
     "output_type": "stream",
     "text": [
      "['a', 'firefighter', 'in', 'full', 'uniform', 'looks', 'off', 'into', 'the', 'distance']\n",
      "['the', 'firefighter', 'is', 'going', 'to', 'put', 'out', 'a', 'fire']\n",
      "neutral\n",
      "neutral\n"
     ]
    }
   ],
   "source": [
    "print_example(good_CNN)"
   ]
  },
  {
   "cell_type": "code",
   "execution_count": 175,
   "metadata": {
    "collapsed": false
   },
   "outputs": [
    {
     "name": "stdout",
     "output_type": "stream",
     "text": [
      "['a', 'man', 'wearing', 'glasses', 'is', 'vacuuming', 'an', 'architects', 'model']\n",
      "['there', 'is', 'a', 'man', '<unk>']\n",
      "entailment\n",
      "entailment\n"
     ]
    }
   ],
   "source": [
    "print_example(good_CNN)"
   ]
  },
  {
   "cell_type": "code",
   "execution_count": 176,
   "metadata": {
    "collapsed": false
   },
   "outputs": [
    {
     "name": "stdout",
     "output_type": "stream",
     "text": [
      "['a', 'red', 'jeep', 'hangs', 'from', 'the', 'edge', 'of', 'a', 'rocky', 'cliff', 'as', 'a', 'girl', 'looks', 'on']\n",
      "['the', 'vehicle', 'is', 'red']\n",
      "neutral\n",
      "entailment\n"
     ]
    }
   ],
   "source": [
    "print_example(bad_CNN)"
   ]
  },
  {
   "cell_type": "markdown",
   "metadata": {},
   "source": [
    "Here the hypothesis is perhaps too short and our CNN probably doesn't capture the similarity between 'vehicle' and 'jeep'"
   ]
  },
  {
   "cell_type": "code",
   "execution_count": 177,
   "metadata": {
    "collapsed": false
   },
   "outputs": [
    {
     "name": "stdout",
     "output_type": "stream",
     "text": [
      "['a', 'man', 'in', 'a', 'dark', 'floral', 'shirt', 'and', 'black', 'jeans', 'walks', 'buy', 'a', 'brightly', 'colored', 'wall', 'painted', 'with', 'a', 'woman', 'with', 'bright', 'green', 'eyes']\n",
      "['a', 'man', 'walks', 'past', 'a', 'newly', 'painted', 'mural', 'of', 'a', 'woman']\n",
      "neutral\n",
      "entailment\n"
     ]
    }
   ],
   "source": [
    "print_example(bad_CNN)"
   ]
  },
  {
   "cell_type": "markdown",
   "metadata": {},
   "source": [
    "The first phrase seems to actually have an error seens it's probably 'walks by' and not 'walk buy'. This word probably would have a certain similarity in the FT embeddings with 'past' and this error may have misled our network. Misled even me in my first reading"
   ]
  },
  {
   "cell_type": "code",
   "execution_count": 180,
   "metadata": {
    "collapsed": false
   },
   "outputs": [
    {
     "name": "stdout",
     "output_type": "stream",
     "text": [
      "['a', 'little', 'boy', 'watches', 'a', 'ferris', 'wheel', 'in', 'motion']\n",
      "['a', 'boy', 'is', 'waiting', 'in', 'line', 'for', 'the', 'ferris', 'wheel']\n",
      "contradiction\n",
      "neutral\n"
     ]
    }
   ],
   "source": [
    "print_example(bad_CNN)"
   ]
  },
  {
   "cell_type": "markdown",
   "metadata": {},
   "source": [
    "The CNN simply sees a big similarity between both sequences and doesn't conclude to a contradiction as the distinction between watches and waiting isn't captured "
   ]
  },
  {
   "cell_type": "code",
   "execution_count": 181,
   "metadata": {
    "collapsed": false
   },
   "outputs": [
    {
     "name": "stdout",
     "output_type": "stream",
     "text": [
      "['a', 'middle', 'aged', 'man', 'is', 'sitting', 'indian', 'style', 'outside', 'holding', 'a', 'folded', 'paper', 'in', 'his', 'hands']\n",
      "['a', 'middle', 'aged', 'man', 'is', 'showing', 'off', 'his', 'origami', 'creation']\n",
      "neutral\n",
      "neutral\n",
      "['a', 'group', 'of', 'numbered', 'participants', 'walk', 'down', 'the', 'street', 'together']\n",
      "['participants', 'wait', 'for', 'the', 'beginning', 'of', 'the', '<unk>']\n",
      "neutral\n",
      "neutral\n",
      "['a', 'firefighter', 'in', 'full', 'uniform', 'looks', 'off', 'into', 'the', 'distance']\n",
      "['the', 'firefighter', 'is', 'going', 'to', 'put', 'out', 'a', 'fire']\n",
      "neutral\n",
      "neutral\n"
     ]
    }
   ],
   "source": [
    "print_example(good_RNN)\n",
    "print_example(good_RNN)\n",
    "print_example(good_RNN)"
   ]
  },
  {
   "cell_type": "code",
   "execution_count": 182,
   "metadata": {
    "collapsed": false
   },
   "outputs": [
    {
     "name": "stdout",
     "output_type": "stream",
     "text": [
      "['a', 'red', 'jeep', 'hangs', 'from', 'the', 'edge', 'of', 'a', 'rocky', 'cliff', 'as', 'a', 'girl', 'looks', 'on']\n",
      "['the', 'vehicle', 'is', 'red']\n",
      "contradiction\n",
      "entailment\n"
     ]
    }
   ],
   "source": [
    "print_example(bad_RNN)"
   ]
  },
  {
   "cell_type": "markdown",
   "metadata": {},
   "source": [
    "Same issue as before, the netwrok doesn't see the similarity between jeep and vehicle"
   ]
  },
  {
   "cell_type": "code",
   "execution_count": 184,
   "metadata": {
    "collapsed": false
   },
   "outputs": [
    {
     "name": "stdout",
     "output_type": "stream",
     "text": [
      "['a', 'woman', 'is', 'sitting', 'in', 'a', 'street', 'market', 'stand', 'where', 'there', 'are', 'various', 'items', 'for', 'sale', 'such', 'as', 'fish']\n",
      "['the', 'woman', 'is', 'in', 'a', 'street', 'market']\n",
      "neutral\n",
      "entailment\n"
     ]
    }
   ],
   "source": [
    "print_example(bad_RNN)"
   ]
  },
  {
   "cell_type": "markdown",
   "metadata": {},
   "source": [
    "Actually here, I find my network to make the right choice since sitting in a market means being in a market. I actually don't agree with that prediction being wrong"
   ]
  },
  {
   "cell_type": "code",
   "execution_count": 185,
   "metadata": {
    "collapsed": false
   },
   "outputs": [
    {
     "name": "stdout",
     "output_type": "stream",
     "text": [
      "['three', 'women', 'on', 'a', 'stage', 'one', 'wearing', 'red', 'shoes', 'black', 'pants', 'and', 'a', 'gray', 'shirt', 'is', 'sitting', 'on', 'a', 'prop', 'another', 'is', 'sitting', 'on', 'the', 'floor', 'and', 'the', 'third', 'wearing', 'a', 'black', 'shirt', 'and', 'pants', 'is', 'standing', 'as', 'a', 'gentleman', 'in', 'the', 'back', 'tunes', 'an', 'instrument']\n",
      "['there', 'are', 'two', 'women', 'standing', 'on', 'the', 'stage']\n",
      "entailment\n",
      "contradiction\n"
     ]
    }
   ],
   "source": [
    "print_example(bad_RNN)"
   ]
  },
  {
   "cell_type": "markdown",
   "metadata": {},
   "source": [
    "Error tha shouldn't really happen since our network should dectect three and two and therefore conclude that those two phrases are in contradiction. However, here the error is probably because the first sentence is complex as two women are sitting and one standing and the contradiction comes from there, something that our network probably has no clue about as he sees women, standing, on, the, stage in the second sentence (i.e. 75% of the second phrase is found in the first one) and therefore concludes that yes this is an entailment."
   ]
  },
  {
   "cell_type": "code",
   "execution_count": null,
   "metadata": {
    "collapsed": true
   },
   "outputs": [],
   "source": []
  }
 ],
 "metadata": {
  "kernelspec": {
   "display_name": "Python 3",
   "language": "python",
   "name": "python3"
  },
  "language_info": {
   "codemirror_mode": {
    "name": "ipython",
    "version": 3
   },
   "file_extension": ".py",
   "mimetype": "text/x-python",
   "name": "python",
   "nbconvert_exporter": "python",
   "pygments_lexer": "ipython3",
   "version": "3.5.4"
  }
 },
 "nbformat": 4,
 "nbformat_minor": 0
}
