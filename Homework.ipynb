{
 "cells": [
  {
   "cell_type": "markdown",
   "metadata": {},
   "source": [
    "# First, we create the Dataset"
   ]
  },
  {
   "cell_type": "code",
   "execution_count": 1,
   "metadata": {
    "collapsed": false,
    "deletable": true,
    "editable": true
   },
   "outputs": [
    {
     "data": {
      "text/plain": [
       "25000"
      ]
     },
     "execution_count": 1,
     "metadata": {},
     "output_type": "execute_result"
    }
   ],
   "source": [
    "import os\n",
    "import random\n",
    "import math\n",
    "import tqdm\n",
    "import numpy as np\n",
    "\n",
    "train_data=[]\n",
    "train_target=[]\n",
    "fol='aclImdb/train/'\n",
    "\n",
    "reviews=[]\n",
    "for e in os.listdir(fol+'pos'):\n",
    "    reviews.append(fol+'pos/'+e)\n",
    "for e in os.listdir(fol+'neg'):\n",
    "    reviews.append(fol+'neg/'+e)\n",
    "\n",
    "len(reviews)"
   ]
  },
  {
   "cell_type": "markdown",
   "metadata": {},
   "source": [
    "We shuffle the set in order to randomly select our training and validation set"
   ]
  },
  {
   "cell_type": "code",
   "execution_count": 10,
   "metadata": {
    "collapsed": false,
    "deletable": true,
    "editable": true
   },
   "outputs": [
    {
     "name": "stderr",
     "output_type": "stream",
     "text": [
      "100%|██████████| 20000/20000 [09:41<00:00, 34.42it/s]\n"
     ]
    }
   ],
   "source": [
    "for i in tqdm.trange(20000):\n",
    "    random.shuffle(reviews)"
   ]
  },
  {
   "cell_type": "markdown",
   "metadata": {},
   "source": [
    "We then pick the 20000-instances training set and 5000-instances validation set"
   ]
  },
  {
   "cell_type": "code",
   "execution_count": 12,
   "metadata": {
    "collapsed": false,
    "deletable": true,
    "editable": true
   },
   "outputs": [
    {
     "name": "stderr",
     "output_type": "stream",
     "text": [
      "100%|██████████| 20000/20000 [00:08<00:00, 2239.99it/s]\n",
      "100%|██████████| 5000/5000 [00:02<00:00, 2239.34it/s]\n"
     ]
    }
   ],
   "source": [
    "train_data=[]\n",
    "train_target=[]\n",
    "val_data=[]\n",
    "val_target=[]\n",
    "\n",
    "for i in tqdm.trange(20000):\n",
    "    e=reviews[i]\n",
    "    train_data.append([line.rstrip('\\n') for line in open(e)][0])\n",
    "    if (int(e.split('_')[1].split('.')[0]))>5:\n",
    "        train_target.append(1)\n",
    "    else:\n",
    "        train_target.append(0)\n",
    "        \n",
    "for i in tqdm.trange(20000,25000):\n",
    "    e=reviews[i]\n",
    "    val_data.append([line.rstrip('\\n') for line in open(e)][0])\n",
    "    if (int(e.split('_')[1].split('.')[0]))>5:\n",
    "        val_target.append(1)\n",
    "    else:\n",
    "        val_target.append(0)"
   ]
  },
  {
   "cell_type": "markdown",
   "metadata": {},
   "source": [
    "We build the test set the same way we built the whole training+validation set"
   ]
  },
  {
   "cell_type": "code",
   "execution_count": 13,
   "metadata": {
    "collapsed": false,
    "deletable": true,
    "editable": true
   },
   "outputs": [
    {
     "name": "stderr",
     "output_type": "stream",
     "text": [
      "100%|██████████| 25000/25000 [00:12<00:00, 2030.35it/s]\n"
     ]
    }
   ],
   "source": [
    "fol_test='aclImdb/test/'\n",
    "test_data = []\n",
    "test_target = []\n",
    "\n",
    "reviews=[]\n",
    "for e in os.listdir(fol_test+'pos'):\n",
    "    reviews.append(fol_test+'pos/'+e)\n",
    "for e in os.listdir(fol_test+'neg'):\n",
    "    reviews.append(fol_test+'neg/'+e)\n",
    "\n",
    "for i in tqdm.trange(len(reviews)):\n",
    "    e=reviews[i]\n",
    "    test_data.append([line.rstrip('\\n') for line in open(e)][0])\n",
    "    if (int(e.split('_')[1].split('.')[0]))>5:\n",
    "        test_target.append(1)\n",
    "    else:\n",
    "        test_target.append(0)"
   ]
  },
  {
   "cell_type": "markdown",
   "metadata": {},
   "source": [
    "We check our sets have the appropriate length"
   ]
  },
  {
   "cell_type": "code",
   "execution_count": 14,
   "metadata": {
    "collapsed": false,
    "deletable": true,
    "editable": true
   },
   "outputs": [
    {
     "name": "stdout",
     "output_type": "stream",
     "text": [
      "Train dataset size is 20000\n",
      "Val dataset size is 5000\n",
      "Test dataset size is 25000\n"
     ]
    }
   ],
   "source": [
    "print (\"Train dataset size is {}\".format(len(train_data)))\n",
    "print (\"Val dataset size is {}\".format(len(val_data)))\n",
    "print (\"Test dataset size is {}\".format(len(test_data)))"
   ]
  },
  {
   "cell_type": "code",
   "execution_count": 15,
   "metadata": {
    "collapsed": false,
    "deletable": true,
    "editable": true
   },
   "outputs": [],
   "source": [
    "import numpy as np\n",
    "\n",
    "train_target=np.array(train_target)\n",
    "val_target=np.array(val_target)\n",
    "test_target = np.array(test_target)"
   ]
  },
  {
   "cell_type": "code",
   "execution_count": 16,
   "metadata": {
    "collapsed": false,
    "deletable": true,
    "editable": true
   },
   "outputs": [
    {
     "name": "stdout",
     "output_type": "stream",
     "text": [
      "Just Cause is one of those films that at first makes you wonder quite why it was so heavily slated when it came out - nothing special but competent enough and with an excellent supporting performance from Ed Harris. Then you hit the last third and everything starts to get increasingly silly until you've got a killer with a flashlight strapped to his forehead threatening to fillet Sean Connery's wife (a typically mannered and unconvincing Kate Capshaw) and kid (a very young Scarlet Johannsen) in an alligator skinner's shack. <br /><br />The kind of movie that's probably best seen on a plane, and even then only once.\n"
     ]
    }
   ],
   "source": [
    "# Random sample from train dataset\n",
    "import random\n",
    "print (train_data[random.randint(0, len(train_data) - 1)])"
   ]
  },
  {
   "cell_type": "markdown",
   "metadata": {},
   "source": [
    "# Tokenization function"
   ]
  },
  {
   "cell_type": "code",
   "execution_count": 2,
   "metadata": {
    "collapsed": false,
    "deletable": true,
    "editable": true
   },
   "outputs": [
    {
     "name": "stdout",
     "output_type": "stream",
     "text": [
      "['apple', 'is', 'looking', 'at', 'buying', 'u.k.', 'startup', 'for', '1', 'billion']\n"
     ]
    }
   ],
   "source": [
    "# Let's write the tokenization function \n",
    "\n",
    "import spacy\n",
    "import string\n",
    "\n",
    "# Load English tokenizer, tagger, parser, NER and word vectors\n",
    "tokenizer = spacy.load('en_core_web_sm')\n",
    "punctuations = string.punctuation\n",
    "\n",
    "# lowercase and remove punctuation\n",
    "def tokenize(sent):\n",
    "    tokens = tokenizer(sent)\n",
    "    return [token.text.lower() for token in tokens if (token.text not in punctuations)]\n",
    "\n",
    "# Example\n",
    "tokens = tokenize(u'Apple is looking at buying U.K. startup for $1 billion')\n",
    "print (tokens)"
   ]
  },
  {
   "cell_type": "markdown",
   "metadata": {},
   "source": [
    "# We tokenize the three datasets"
   ]
  },
  {
   "cell_type": "code",
   "execution_count": 18,
   "metadata": {
    "collapsed": false,
    "deletable": true,
    "editable": true
   },
   "outputs": [
    {
     "name": "stdout",
     "output_type": "stream",
     "text": [
      "Tokenizing val data\n",
      "Tokenizing test data\n",
      "Tokenizing train data\n"
     ]
    }
   ],
   "source": [
    "# This is the code cell that tokenizes train/val/test datasets\n",
    "\n",
    "import pickle as pkl\n",
    "\n",
    "def tokenize_dataset(dataset):\n",
    "    token_dataset = []\n",
    "    # we are keeping track of all tokens in dataset \n",
    "    # in order to create vocabulary later\n",
    "    all_tokens = []\n",
    "    \n",
    "    for sample in dataset:\n",
    "        tokens = tokenize(sample)\n",
    "        token_dataset.append(tokens)\n",
    "        all_tokens += tokens\n",
    "\n",
    "    return token_dataset, all_tokens\n",
    "\n",
    "# val set tokens\n",
    "print (\"Tokenizing val data\")\n",
    "val_data_tokens, _ = tokenize_dataset(val_data)\n",
    "pkl.dump(val_data_tokens, open(\"val_data_tokens.p\", \"wb\"))\n",
    "pkl.dump(val_data,open(\"val_data.p\",'wb'))\n",
    "pkl.dump(val_target,open(\"val_target.p\",\"wb\"))\n",
    "\n",
    "# test set tokens\n",
    "print (\"Tokenizing test data\")\n",
    "test_data_tokens, _ = tokenize_dataset(test_data)\n",
    "pkl.dump(test_data_tokens, open(\"test_data_tokens.p\", \"wb\"))\n",
    "pkl.dump(test_data,open(\"test_data.p\",'wb'))\n",
    "pkl.dump(test_target,open(\"test_target.p\",\"wb\"))\n",
    "\n",
    "\n",
    "\n",
    "# train set tokens\n",
    "print (\"Tokenizing train data\")\n",
    "train_data_tokens, all_train_tokens = tokenize_dataset(train_data)\n",
    "pkl.dump(train_data_tokens, open(\"train_data_tokens.p\", \"wb\"))\n",
    "pkl.dump(all_train_tokens, open(\"all_train_tokens.p\", \"wb\"))\n",
    "pkl.dump(train_data,open(\"train_data.p\",'wb'))\n",
    "pkl.dump(train_target,open(\"train_target.p\",\"wb\"))\n",
    "\n"
   ]
  },
  {
   "cell_type": "markdown",
   "metadata": {},
   "source": [
    "# Loading the datasets (useful to avoid preprocessing all over again)"
   ]
  },
  {
   "cell_type": "code",
   "execution_count": 4,
   "metadata": {
    "collapsed": false,
    "deletable": true,
    "editable": true
   },
   "outputs": [
    {
     "name": "stdout",
     "output_type": "stream",
     "text": [
      "Train dataset size is 20000\n",
      "Val dataset size is 5000\n",
      "Test dataset size is 25000\n",
      "Total number of tokens in train dataset is 4834805\n"
     ]
    }
   ],
   "source": [
    "# We load preprocessed train, val and test datasets\n",
    "import pickle as pkl\n",
    "train_data_tokens = pkl.load(open(\"train_data_tokens.p\", \"rb\"))\n",
    "all_train_tokens = pkl.load(open(\"all_train_tokens.p\", \"rb\"))\n",
    "\n",
    "val_data_tokens = pkl.load(open(\"val_data_tokens.p\", \"rb\"))\n",
    "test_data_tokens = pkl.load(open(\"test_data_tokens.p\", \"rb\"))\n",
    "\n",
    "val_data=pkl.load(open(\"val_data.p\",'rb'))\n",
    "val_target=pkl.load(open(\"val_target.p\",\"rb\"))\n",
    "\n",
    "test_data=pkl.load(open(\"test_data.p\",'rb'))\n",
    "test_target=pkl.load(open(\"test_target.p\",\"rb\"))\n",
    "\n",
    "train_data=pkl.load(open(\"train_data.p\",'rb'))\n",
    "train_target=pkl.load(open(\"train_target.p\",\"rb\"))\n",
    "\n",
    "\n",
    "\n",
    "# double checking\n",
    "print (\"Train dataset size is {}\".format(len(train_data_tokens)))\n",
    "print (\"Val dataset size is {}\".format(len(val_data_tokens)))\n",
    "print (\"Test dataset size is {}\".format(len(test_data_tokens)))\n",
    "\n",
    "print (\"Total number of tokens in train dataset is {}\".format(len(all_train_tokens)))"
   ]
  },
  {
   "cell_type": "markdown",
   "metadata": {
    "deletable": true,
    "editable": true
   },
   "source": [
    "# Create a function in order to play with the hyperparameters"
   ]
  },
  {
   "cell_type": "markdown",
   "metadata": {},
   "source": [
    "Contains the bag of words model and data loader from lab 3."
   ]
  },
  {
   "cell_type": "markdown",
   "metadata": {},
   "source": [
    "The main hyperparameters we'll be playing with first are:\n",
    "\n",
    "1) Vocabulary size\n",
    "\n",
    "2) Max sentence length\n",
    "\n",
    "3) Embedding dimension\n",
    "\n",
    "We'll keep 10 epochs all along and print the evolution of accuracy every 200 iterations.\n",
    "\n",
    "When I first built the function, I included the fact that it would return the test accuracy as this might be useful at the very end. Obviously, this doesn't affect the training (as its done at the end) and wasn't used in any way in our hyperparameters choices."
   ]
  },
  {
   "cell_type": "code",
   "execution_count": 5,
   "metadata": {
    "collapsed": false,
    "deletable": true,
    "editable": true
   },
   "outputs": [],
   "source": [
    "from collections import Counter\n",
    "import os\n",
    "import random\n",
    "import math\n",
    "import tqdm\n",
    "import numpy as np\n",
    "\n",
    "\n",
    "# save index 0 for unk and 1 for pad\n",
    "PAD_IDX = 0\n",
    "UNK_IDX = 1\n",
    "def run(max_vocab_size=10000, MAX_SENTENCE_LENGTH = 200, BATCH_SIZE = 32, \n",
    "        emb_dim = 100, learning_rate = 0.01, num_epochs = 10):\n",
    "\n",
    "\n",
    "    def build_vocab(all_tokens):\n",
    "        # Returns:\n",
    "        # id2token: list of tokens, where id2token[i] returns token that corresponds to token i\n",
    "        # token2id: dictionary where keys represent tokens and corresponding values represent indices\n",
    "        token_counter = Counter(all_tokens)\n",
    "        vocab, count = zip(*token_counter.most_common(max_vocab_size))\n",
    "        id2token = list(vocab)\n",
    "        token2id = dict(zip(vocab, range(2,2+len(vocab)))) \n",
    "        id2token = ['<pad>', '<unk>'] + id2token\n",
    "        token2id['<pad>'] = PAD_IDX \n",
    "        token2id['<unk>'] = UNK_IDX\n",
    "        return token2id, id2token\n",
    "\n",
    "    # convert token to id in the dataset\n",
    "    def token2index_dataset(tokens_data):\n",
    "        indices_data = []\n",
    "        for tokens in tokens_data:\n",
    "            index_list = [token2id[token] if token in token2id else UNK_IDX for token in tokens]\n",
    "            indices_data.append(index_list)\n",
    "        return indices_data\n",
    "\n",
    "\n",
    "    import numpy as np\n",
    "    import torch\n",
    "    from torch.utils.data import Dataset\n",
    "\n",
    "    class NewsGroupDataset(Dataset):\n",
    "        \"\"\"\n",
    "        Class that represents a train/validation/test dataset that's readable for PyTorch\n",
    "        Note that this class inherits torch.utils.data.Dataset\n",
    "        \"\"\"\n",
    "\n",
    "        def __init__(self, data_list, target_list):\n",
    "            \"\"\"\n",
    "            @param data_list: list of newsgroup tokens \n",
    "            @param target_list: list of newsgroup targets \n",
    "\n",
    "            \"\"\"\n",
    "            self.data_list = data_list\n",
    "            self.target_list = target_list\n",
    "            assert (len(self.data_list) == len(self.target_list))\n",
    "\n",
    "        def __len__(self):\n",
    "            return len(self.data_list)\n",
    "\n",
    "        def __getitem__(self, key):\n",
    "            \"\"\"\n",
    "            Triggered when you call dataset[i]\n",
    "            \"\"\"\n",
    "\n",
    "            token_idx = self.data_list[key][:MAX_SENTENCE_LENGTH]\n",
    "            label = self.target_list[key]\n",
    "            return [token_idx, len(token_idx), label]\n",
    "\n",
    "    def newsgroup_collate_func(batch):\n",
    "        \"\"\"\n",
    "        Customized function for DataLoader that dynamically pads the batch so that all \n",
    "        data have the same length\n",
    "        \"\"\"\n",
    "        data_list = []\n",
    "        label_list = []\n",
    "        length_list = []\n",
    "        #print(\"collate batch: \", batch[0][0])\n",
    "        #batch[0][0] = batch[0][0][:MAX_SENTENCE_LENGTH]\n",
    "        for datum in batch:\n",
    "            label_list.append(datum[2])\n",
    "            length_list.append(datum[1])\n",
    "        # padding\n",
    "        for datum in batch:\n",
    "            padded_vec = np.pad(np.array(datum[0]), \n",
    "                                    pad_width=((0,MAX_SENTENCE_LENGTH-datum[1])), \n",
    "                                    mode=\"constant\", constant_values=0)\n",
    "            data_list.append(padded_vec)\n",
    "        return [torch.from_numpy(np.array(data_list)), torch.LongTensor(length_list), torch.LongTensor(label_list)]\n",
    "\n",
    "    token2id, id2token = build_vocab(all_train_tokens)\n",
    "\n",
    "    # convert token to id in the dataset\n",
    "\n",
    "    train_data_indices = token2index_dataset(train_data_tokens)\n",
    "    val_data_indices = token2index_dataset(val_data_tokens)\n",
    "    test_data_indices = token2index_dataset(test_data_tokens)\n",
    "\n",
    "    import numpy as np\n",
    "    import torch\n",
    "    from torch.utils.data import Dataset\n",
    "\n",
    "    class NewsGroupDataset(Dataset):\n",
    "        \"\"\"\n",
    "        Class that represents a train/validation/test dataset that's readable for PyTorch\n",
    "        Note that this class inherits torch.utils.data.Dataset\n",
    "        \"\"\"\n",
    "\n",
    "        def __init__(self, data_list, target_list):\n",
    "            \"\"\"\n",
    "            @param data_list: list of newsgroup tokens \n",
    "            @param target_list: list of newsgroup targets \n",
    "\n",
    "            \"\"\"\n",
    "            self.data_list = data_list\n",
    "            self.target_list = target_list\n",
    "            assert (len(self.data_list) == len(self.target_list))\n",
    "\n",
    "        def __len__(self):\n",
    "            return len(self.data_list)\n",
    "\n",
    "        def __getitem__(self, key):\n",
    "            \"\"\"\n",
    "            Triggered when you call dataset[i]\n",
    "            \"\"\"\n",
    "\n",
    "            token_idx = self.data_list[key][:MAX_SENTENCE_LENGTH]\n",
    "            label = self.target_list[key]\n",
    "            return [token_idx, len(token_idx), label]\n",
    "\n",
    "    def newsgroup_collate_func(batch):\n",
    "        \"\"\"\n",
    "        Customized function for DataLoader that dynamically pads the batch so that all \n",
    "        data have the same length\n",
    "        \"\"\"\n",
    "        data_list = []\n",
    "        label_list = []\n",
    "        length_list = []\n",
    "        #print(\"collate batch: \", batch[0][0])\n",
    "        #batch[0][0] = batch[0][0][:MAX_SENTENCE_LENGTH]\n",
    "        for datum in batch:\n",
    "            label_list.append(datum[2])\n",
    "            length_list.append(datum[1])\n",
    "        # padding\n",
    "        for datum in batch:\n",
    "            padded_vec = np.pad(np.array(datum[0]), \n",
    "                                    pad_width=((0,MAX_SENTENCE_LENGTH-datum[1])), \n",
    "                                    mode=\"constant\", constant_values=0)\n",
    "            data_list.append(padded_vec)\n",
    "        return [torch.from_numpy(np.array(data_list)), torch.LongTensor(length_list), torch.LongTensor(label_list)]\n",
    "\n",
    "    # create pytorch dataloader\n",
    "    #train_loader = NewsGroupDataset(train_data_indices, train_targets)\n",
    "    #val_loader = NewsGroupDataset(val_data_indices, val_targets)\n",
    "    #test_loader = NewsGroupDataset(test_data_indices, test_targets)\n",
    "\n",
    "    train_dataset = NewsGroupDataset(train_data_indices, train_target)\n",
    "    train_loader = torch.utils.data.DataLoader(dataset=train_dataset, \n",
    "                                               batch_size=BATCH_SIZE,\n",
    "                                               collate_fn=newsgroup_collate_func,\n",
    "                                               shuffle=True)\n",
    "\n",
    "    val_dataset = NewsGroupDataset(val_data_indices, val_target)\n",
    "    val_loader = torch.utils.data.DataLoader(dataset=val_dataset, \n",
    "                                               batch_size=BATCH_SIZE,\n",
    "                                               collate_fn=newsgroup_collate_func,\n",
    "                                               shuffle=True)\n",
    "\n",
    "    test_dataset = NewsGroupDataset(test_data_indices, test_target)\n",
    "    test_loader = torch.utils.data.DataLoader(dataset=test_dataset, \n",
    "                                               batch_size=BATCH_SIZE,\n",
    "                                               collate_fn=newsgroup_collate_func,\n",
    "                                               shuffle=False)\n",
    "\n",
    "    # First import torch related libraries\n",
    "    import torch\n",
    "    import torch.nn as nn\n",
    "    import torch.nn.functional as F\n",
    "\n",
    "    class BagOfWords(nn.Module):\n",
    "        \"\"\"\n",
    "        BagOfWords classification model\n",
    "        \"\"\"\n",
    "        def __init__(self, vocab_size, emb_dim):\n",
    "            \"\"\"\n",
    "            @param vocab_size: size of the vocabulary. \n",
    "            @param emb_dim: size of the word embedding\n",
    "            \"\"\"\n",
    "            super(BagOfWords, self).__init__()\n",
    "            # pay attention to padding_idx \n",
    "            self.embed = nn.Embedding(vocab_size, emb_dim, padding_idx=0)\n",
    "            self.linear = nn.Linear(emb_dim,20)\n",
    "\n",
    "        def forward(self, data, length):\n",
    "            \"\"\"\n",
    "\n",
    "            @param data: matrix of size (batch_size, max_sentence_length). Each row in data represents a \n",
    "                review that is represented using n-gram index. Note that they are padded to have same length.\n",
    "            @param length: an int tensor of size (batch_size), which represents the non-trivial (excludes padding)\n",
    "                length of each sentences in the data.\n",
    "            \"\"\"\n",
    "            out = self.embed(data)\n",
    "            out = torch.sum(out, dim=1)\n",
    "            out /= length.view(length.size()[0],1).expand_as(out).float()\n",
    "\n",
    "            # return logits\n",
    "            out = self.linear(out.float())\n",
    "            return out\n",
    "\n",
    "    model = BagOfWords(len(id2token), emb_dim)\n",
    "\n",
    "\n",
    "    # Criterion and Optimizer\n",
    "    criterion = torch.nn.CrossEntropyLoss()  \n",
    "    optimizer = torch.optim.Adam(model.parameters(), lr=learning_rate)\n",
    "\n",
    "    # Function for testing the model\n",
    "    def test_model(loader, model):\n",
    "        \"\"\"\n",
    "        Help function that tests the model's performance on a dataset\n",
    "        @param: loader - data loader for the dataset to test against\n",
    "        \"\"\"\n",
    "        correct = 0\n",
    "        total = 0\n",
    "        model.eval()\n",
    "        for data, lengths, labels in loader:\n",
    "            data_batch, length_batch, label_batch = data, lengths, labels\n",
    "            outputs = F.softmax(model(data_batch, length_batch), dim=1)\n",
    "            predicted = outputs.max(1, keepdim=True)[1]\n",
    "\n",
    "            total += labels.size(0)\n",
    "            correct += predicted.eq(labels.view_as(predicted)).sum().item()\n",
    "        return (100 * correct / total)\n",
    "\n",
    "    for epoch in range(num_epochs):\n",
    "        for i, (data, lengths, labels) in enumerate(train_loader):\n",
    "            model.train()\n",
    "            data_batch, length_batch, label_batch = data, lengths, labels\n",
    "            optimizer.zero_grad()\n",
    "            outputs = model(data_batch, length_batch)\n",
    "            loss = criterion(outputs, label_batch)\n",
    "            loss.backward()\n",
    "            optimizer.step()\n",
    "            # validate every 200 iterations\n",
    "            if i > 0 and i % 200 == 0:\n",
    "                # validate\n",
    "                val_acc = test_model(val_loader, model)\n",
    "                print('Epoch: [{}/{}], Step: [{}/{}], Validation Acc: {}'.format( \n",
    "                           epoch+1, num_epochs, i+1, len(train_loader), val_acc))\n",
    "    return test_model(val_loader, model), test_model(test_loader, model)\n"
   ]
  },
  {
   "cell_type": "markdown",
   "metadata": {},
   "source": [
    "# Vocabulary size"
   ]
  },
  {
   "cell_type": "markdown",
   "metadata": {},
   "source": [
    "We play with the vocabulary size by choosing the $k$ most common tokens."
   ]
  },
  {
   "cell_type": "code",
   "execution_count": 6,
   "metadata": {
    "collapsed": false,
    "deletable": true,
    "editable": true
   },
   "outputs": [],
   "source": [
    "vocabs=[20000,30000,50000,70000,100000,200000]"
   ]
  },
  {
   "cell_type": "code",
   "execution_count": 12,
   "metadata": {
    "collapsed": false,
    "scrolled": true
   },
   "outputs": [
    {
     "name": "stdout",
     "output_type": "stream",
     "text": [
      "Epoch: [1/10], Step: [101/625], Validation Acc: 78.46\n",
      "Epoch: [1/10], Step: [201/625], Validation Acc: 83.38\n",
      "Epoch: [1/10], Step: [301/625], Validation Acc: 83.44\n",
      "Epoch: [1/10], Step: [401/625], Validation Acc: 86.26\n",
      "Epoch: [1/10], Step: [501/625], Validation Acc: 86.44\n",
      "Epoch: [1/10], Step: [601/625], Validation Acc: 86.24\n",
      "Epoch: [2/10], Step: [101/625], Validation Acc: 86.84\n",
      "Epoch: [2/10], Step: [201/625], Validation Acc: 87.12\n",
      "Epoch: [2/10], Step: [301/625], Validation Acc: 86.42\n",
      "Epoch: [2/10], Step: [401/625], Validation Acc: 86.46\n",
      "Epoch: [2/10], Step: [501/625], Validation Acc: 86.52\n",
      "Epoch: [2/10], Step: [601/625], Validation Acc: 86.3\n",
      "Epoch: [3/10], Step: [101/625], Validation Acc: 86.38\n",
      "Epoch: [3/10], Step: [201/625], Validation Acc: 85.84\n",
      "Epoch: [3/10], Step: [301/625], Validation Acc: 86.12\n",
      "Epoch: [3/10], Step: [401/625], Validation Acc: 86.4\n",
      "Epoch: [3/10], Step: [501/625], Validation Acc: 86.1\n",
      "Epoch: [3/10], Step: [601/625], Validation Acc: 86.2\n",
      "Epoch: [4/10], Step: [101/625], Validation Acc: 86.16\n",
      "Epoch: [4/10], Step: [201/625], Validation Acc: 85.78\n",
      "Epoch: [4/10], Step: [301/625], Validation Acc: 85.58\n",
      "Epoch: [4/10], Step: [401/625], Validation Acc: 84.78\n",
      "Epoch: [4/10], Step: [501/625], Validation Acc: 85.28\n",
      "Epoch: [4/10], Step: [601/625], Validation Acc: 84.86\n",
      "Epoch: [5/10], Step: [101/625], Validation Acc: 85.36\n",
      "Epoch: [5/10], Step: [201/625], Validation Acc: 85.18\n",
      "Epoch: [5/10], Step: [301/625], Validation Acc: 85.22\n",
      "Epoch: [5/10], Step: [401/625], Validation Acc: 85.14\n",
      "Epoch: [5/10], Step: [501/625], Validation Acc: 85.0\n",
      "Epoch: [5/10], Step: [601/625], Validation Acc: 84.88\n",
      "Epoch: [6/10], Step: [101/625], Validation Acc: 84.74\n",
      "Epoch: [6/10], Step: [201/625], Validation Acc: 85.18\n",
      "Epoch: [6/10], Step: [301/625], Validation Acc: 85.02\n",
      "Epoch: [6/10], Step: [401/625], Validation Acc: 84.26\n",
      "Epoch: [6/10], Step: [501/625], Validation Acc: 84.34\n",
      "Epoch: [6/10], Step: [601/625], Validation Acc: 84.02\n",
      "Epoch: [7/10], Step: [101/625], Validation Acc: 84.52\n",
      "Epoch: [7/10], Step: [201/625], Validation Acc: 84.38\n",
      "Epoch: [7/10], Step: [301/625], Validation Acc: 84.34\n",
      "Epoch: [7/10], Step: [401/625], Validation Acc: 84.28\n",
      "Epoch: [7/10], Step: [501/625], Validation Acc: 83.44\n",
      "Epoch: [7/10], Step: [601/625], Validation Acc: 84.3\n",
      "Epoch: [8/10], Step: [101/625], Validation Acc: 84.1\n",
      "Epoch: [8/10], Step: [201/625], Validation Acc: 83.92\n",
      "Epoch: [8/10], Step: [301/625], Validation Acc: 83.86\n",
      "Epoch: [8/10], Step: [401/625], Validation Acc: 83.12\n",
      "Epoch: [8/10], Step: [501/625], Validation Acc: 83.92\n",
      "Epoch: [8/10], Step: [601/625], Validation Acc: 84.08\n",
      "Epoch: [9/10], Step: [101/625], Validation Acc: 83.8\n",
      "Epoch: [9/10], Step: [201/625], Validation Acc: 83.72\n",
      "Epoch: [9/10], Step: [301/625], Validation Acc: 83.76\n",
      "Epoch: [9/10], Step: [401/625], Validation Acc: 83.88\n",
      "Epoch: [9/10], Step: [501/625], Validation Acc: 83.8\n",
      "Epoch: [9/10], Step: [601/625], Validation Acc: 83.74\n",
      "Epoch: [10/10], Step: [101/625], Validation Acc: 83.38\n",
      "Epoch: [10/10], Step: [201/625], Validation Acc: 83.3\n",
      "Epoch: [10/10], Step: [301/625], Validation Acc: 83.22\n",
      "Epoch: [10/10], Step: [401/625], Validation Acc: 83.06\n",
      "Epoch: [10/10], Step: [501/625], Validation Acc: 83.58\n",
      "Epoch: [10/10], Step: [601/625], Validation Acc: 83.36\n"
     ]
    },
    {
     "data": {
      "text/plain": [
       "(83.26, 80.364)"
      ]
     },
     "execution_count": 12,
     "metadata": {},
     "output_type": "execute_result"
    }
   ],
   "source": [
    "run()"
   ]
  },
  {
   "cell_type": "code",
   "execution_count": 37,
   "metadata": {
    "collapsed": true
   },
   "outputs": [],
   "source": [
    "val_hist=[83.26]\n",
    "test_hist=[80.364]"
   ]
  },
  {
   "cell_type": "code",
   "execution_count": 39,
   "metadata": {
    "collapsed": false,
    "deletable": true,
    "editable": true
   },
   "outputs": [
    {
     "name": "stderr",
     "output_type": "stream",
     "text": [
      "\n",
      "\n",
      "\n",
      "\n",
      "\n",
      "  0%|          | 0/5 [00:00<?, ?it/s]\u001b[A\u001b[A\u001b[A\u001b[A\u001b[A"
     ]
    },
    {
     "name": "stdout",
     "output_type": "stream",
     "text": [
      "Epoch: [1/10], Step: [201/625], Validation Acc: 83.74\n",
      "Epoch: [1/10], Step: [401/625], Validation Acc: 86.46\n",
      "Epoch: [1/10], Step: [601/625], Validation Acc: 86.54\n",
      "Epoch: [2/10], Step: [201/625], Validation Acc: 87.16\n",
      "Epoch: [2/10], Step: [401/625], Validation Acc: 87.04\n",
      "Epoch: [2/10], Step: [601/625], Validation Acc: 86.7\n",
      "Epoch: [3/10], Step: [201/625], Validation Acc: 86.18\n",
      "Epoch: [3/10], Step: [401/625], Validation Acc: 86.16\n",
      "Epoch: [3/10], Step: [601/625], Validation Acc: 86.46\n",
      "Epoch: [4/10], Step: [201/625], Validation Acc: 86.04\n",
      "Epoch: [4/10], Step: [401/625], Validation Acc: 85.72\n",
      "Epoch: [4/10], Step: [601/625], Validation Acc: 85.58\n",
      "Epoch: [5/10], Step: [201/625], Validation Acc: 85.46\n",
      "Epoch: [5/10], Step: [401/625], Validation Acc: 85.32\n",
      "Epoch: [5/10], Step: [601/625], Validation Acc: 84.92\n",
      "Epoch: [6/10], Step: [201/625], Validation Acc: 85.08\n",
      "Epoch: [6/10], Step: [401/625], Validation Acc: 85.32\n",
      "Epoch: [6/10], Step: [601/625], Validation Acc: 84.92\n",
      "Epoch: [7/10], Step: [201/625], Validation Acc: 85.0\n",
      "Epoch: [7/10], Step: [401/625], Validation Acc: 84.84\n",
      "Epoch: [7/10], Step: [601/625], Validation Acc: 85.12\n",
      "Epoch: [8/10], Step: [201/625], Validation Acc: 84.98\n",
      "Epoch: [8/10], Step: [401/625], Validation Acc: 84.84\n",
      "Epoch: [8/10], Step: [601/625], Validation Acc: 85.04\n",
      "Epoch: [9/10], Step: [201/625], Validation Acc: 85.16\n",
      "Epoch: [9/10], Step: [401/625], Validation Acc: 84.98\n",
      "Epoch: [9/10], Step: [601/625], Validation Acc: 85.06\n",
      "Epoch: [10/10], Step: [201/625], Validation Acc: 85.32\n",
      "Epoch: [10/10], Step: [401/625], Validation Acc: 85.2\n",
      "Epoch: [10/10], Step: [601/625], Validation Acc: 85.24"
     ]
    },
    {
     "name": "stderr",
     "output_type": "stream",
     "text": [
      "\n",
      "\n",
      "\n",
      "\n",
      "\n",
      " 20%|██        | 1/5 [05:29<21:56, 329.23s/it]\u001b[A\u001b[A\u001b[A\u001b[A\u001b[A"
     ]
    },
    {
     "name": "stdout",
     "output_type": "stream",
     "text": [
      "\n",
      "Epoch: [1/10], Step: [201/625], Validation Acc: 83.38\n",
      "Epoch: [1/10], Step: [401/625], Validation Acc: 86.54\n",
      "Epoch: [1/10], Step: [601/625], Validation Acc: 86.74\n",
      "Epoch: [2/10], Step: [201/625], Validation Acc: 87.22\n",
      "Epoch: [2/10], Step: [401/625], Validation Acc: 86.86\n",
      "Epoch: [2/10], Step: [601/625], Validation Acc: 86.74\n",
      "Epoch: [3/10], Step: [201/625], Validation Acc: 87.08\n",
      "Epoch: [3/10], Step: [401/625], Validation Acc: 86.1\n",
      "Epoch: [3/10], Step: [601/625], Validation Acc: 86.1\n",
      "Epoch: [4/10], Step: [201/625], Validation Acc: 85.8\n",
      "Epoch: [4/10], Step: [401/625], Validation Acc: 85.24\n",
      "Epoch: [4/10], Step: [601/625], Validation Acc: 85.46\n",
      "Epoch: [5/10], Step: [201/625], Validation Acc: 84.78\n",
      "Epoch: [5/10], Step: [401/625], Validation Acc: 84.92\n",
      "Epoch: [5/10], Step: [601/625], Validation Acc: 84.14\n",
      "Epoch: [6/10], Step: [201/625], Validation Acc: 85.56\n",
      "Epoch: [6/10], Step: [401/625], Validation Acc: 85.54\n",
      "Epoch: [6/10], Step: [601/625], Validation Acc: 85.04\n",
      "Epoch: [7/10], Step: [201/625], Validation Acc: 85.24\n",
      "Epoch: [7/10], Step: [401/625], Validation Acc: 85.18\n",
      "Epoch: [7/10], Step: [601/625], Validation Acc: 85.2\n",
      "Epoch: [8/10], Step: [201/625], Validation Acc: 85.26\n",
      "Epoch: [8/10], Step: [401/625], Validation Acc: 85.42\n",
      "Epoch: [8/10], Step: [601/625], Validation Acc: 85.22\n",
      "Epoch: [9/10], Step: [201/625], Validation Acc: 85.3\n",
      "Epoch: [9/10], Step: [401/625], Validation Acc: 85.2\n",
      "Epoch: [9/10], Step: [601/625], Validation Acc: 85.42\n",
      "Epoch: [10/10], Step: [201/625], Validation Acc: 85.26\n",
      "Epoch: [10/10], Step: [401/625], Validation Acc: 85.2\n",
      "Epoch: [10/10], Step: [601/625], Validation Acc: 85.36"
     ]
    },
    {
     "name": "stderr",
     "output_type": "stream",
     "text": [
      "\n",
      "\n",
      "\n",
      "\n",
      "\n",
      " 40%|████      | 2/5 [12:11<17:33, 351.01s/it]\u001b[A\u001b[A\u001b[A\u001b[A\u001b[A"
     ]
    },
    {
     "name": "stdout",
     "output_type": "stream",
     "text": [
      "\n",
      "Epoch: [1/10], Step: [201/625], Validation Acc: 84.7\n",
      "Epoch: [1/10], Step: [401/625], Validation Acc: 85.04\n",
      "Epoch: [1/10], Step: [601/625], Validation Acc: 85.58\n",
      "Epoch: [2/10], Step: [201/625], Validation Acc: 87.74\n",
      "Epoch: [2/10], Step: [401/625], Validation Acc: 86.4\n",
      "Epoch: [2/10], Step: [601/625], Validation Acc: 86.24\n",
      "Epoch: [3/10], Step: [201/625], Validation Acc: 87.0\n",
      "Epoch: [3/10], Step: [401/625], Validation Acc: 86.78\n",
      "Epoch: [3/10], Step: [601/625], Validation Acc: 86.28\n",
      "Epoch: [4/10], Step: [201/625], Validation Acc: 86.38\n",
      "Epoch: [4/10], Step: [401/625], Validation Acc: 86.1\n",
      "Epoch: [4/10], Step: [601/625], Validation Acc: 85.32\n",
      "Epoch: [5/10], Step: [201/625], Validation Acc: 85.6\n",
      "Epoch: [5/10], Step: [401/625], Validation Acc: 85.52\n",
      "Epoch: [5/10], Step: [601/625], Validation Acc: 85.28\n",
      "Epoch: [6/10], Step: [201/625], Validation Acc: 85.64\n",
      "Epoch: [6/10], Step: [401/625], Validation Acc: 85.48\n",
      "Epoch: [6/10], Step: [601/625], Validation Acc: 85.72\n",
      "Epoch: [7/10], Step: [201/625], Validation Acc: 85.68\n",
      "Epoch: [7/10], Step: [401/625], Validation Acc: 85.72\n",
      "Epoch: [7/10], Step: [601/625], Validation Acc: 85.74\n",
      "Epoch: [8/10], Step: [201/625], Validation Acc: 85.82\n",
      "Epoch: [8/10], Step: [401/625], Validation Acc: 85.66\n",
      "Epoch: [8/10], Step: [601/625], Validation Acc: 85.58\n",
      "Epoch: [9/10], Step: [201/625], Validation Acc: 85.66\n",
      "Epoch: [9/10], Step: [401/625], Validation Acc: 85.74\n",
      "Epoch: [9/10], Step: [601/625], Validation Acc: 85.6\n",
      "Epoch: [10/10], Step: [201/625], Validation Acc: 85.64\n",
      "Epoch: [10/10], Step: [401/625], Validation Acc: 85.62\n",
      "Epoch: [10/10], Step: [601/625], Validation Acc: 85.62"
     ]
    },
    {
     "name": "stderr",
     "output_type": "stream",
     "text": [
      "\n",
      "\n",
      "\n",
      "\n",
      "\n",
      " 60%|██████    | 3/5 [22:40<14:29, 434.57s/it]\u001b[A\u001b[A\u001b[A\u001b[A\u001b[A"
     ]
    },
    {
     "name": "stdout",
     "output_type": "stream",
     "text": [
      "\n",
      "Epoch: [1/10], Step: [201/625], Validation Acc: 83.88\n",
      "Epoch: [1/10], Step: [401/625], Validation Acc: 86.44\n",
      "Epoch: [1/10], Step: [601/625], Validation Acc: 86.86\n",
      "Epoch: [2/10], Step: [201/625], Validation Acc: 86.92\n",
      "Epoch: [2/10], Step: [401/625], Validation Acc: 87.24\n",
      "Epoch: [2/10], Step: [601/625], Validation Acc: 86.76\n",
      "Epoch: [3/10], Step: [201/625], Validation Acc: 87.16\n",
      "Epoch: [3/10], Step: [401/625], Validation Acc: 86.6\n",
      "Epoch: [3/10], Step: [601/625], Validation Acc: 86.1\n",
      "Epoch: [4/10], Step: [201/625], Validation Acc: 86.32\n",
      "Epoch: [4/10], Step: [401/625], Validation Acc: 86.68\n",
      "Epoch: [4/10], Step: [601/625], Validation Acc: 86.08\n",
      "Epoch: [5/10], Step: [201/625], Validation Acc: 86.14\n",
      "Epoch: [5/10], Step: [401/625], Validation Acc: 85.98\n",
      "Epoch: [5/10], Step: [601/625], Validation Acc: 85.68\n",
      "Epoch: [6/10], Step: [201/625], Validation Acc: 85.82\n",
      "Epoch: [6/10], Step: [401/625], Validation Acc: 85.62\n",
      "Epoch: [6/10], Step: [601/625], Validation Acc: 85.66\n",
      "Epoch: [7/10], Step: [201/625], Validation Acc: 85.7\n",
      "Epoch: [7/10], Step: [401/625], Validation Acc: 85.68\n",
      "Epoch: [7/10], Step: [601/625], Validation Acc: 85.52\n",
      "Epoch: [8/10], Step: [201/625], Validation Acc: 85.66\n",
      "Epoch: [8/10], Step: [401/625], Validation Acc: 85.62\n",
      "Epoch: [8/10], Step: [601/625], Validation Acc: 85.8\n",
      "Epoch: [9/10], Step: [201/625], Validation Acc: 85.68\n",
      "Epoch: [9/10], Step: [401/625], Validation Acc: 85.88\n",
      "Epoch: [9/10], Step: [601/625], Validation Acc: 85.66\n",
      "Epoch: [10/10], Step: [201/625], Validation Acc: 85.76\n",
      "Epoch: [10/10], Step: [401/625], Validation Acc: 85.82\n",
      "Epoch: [10/10], Step: [601/625], Validation Acc: 85.7"
     ]
    },
    {
     "name": "stderr",
     "output_type": "stream",
     "text": [
      "\n",
      "\n",
      "\n",
      "\n",
      "\n",
      " 80%|████████  | 4/5 [37:39<09:33, 573.86s/it]\u001b[A\u001b[A\u001b[A\u001b[A\u001b[A"
     ]
    },
    {
     "name": "stdout",
     "output_type": "stream",
     "text": [
      "\n",
      "Epoch: [1/10], Step: [201/625], Validation Acc: 82.74\n",
      "Epoch: [1/10], Step: [401/625], Validation Acc: 86.58\n",
      "Epoch: [1/10], Step: [601/625], Validation Acc: 87.84\n",
      "Epoch: [2/10], Step: [201/625], Validation Acc: 87.3\n",
      "Epoch: [2/10], Step: [401/625], Validation Acc: 86.84\n",
      "Epoch: [2/10], Step: [601/625], Validation Acc: 87.2\n",
      "Epoch: [3/10], Step: [201/625], Validation Acc: 86.84\n",
      "Epoch: [3/10], Step: [401/625], Validation Acc: 86.16\n",
      "Epoch: [3/10], Step: [601/625], Validation Acc: 86.0\n",
      "Epoch: [4/10], Step: [201/625], Validation Acc: 86.36\n",
      "Epoch: [4/10], Step: [401/625], Validation Acc: 86.12\n",
      "Epoch: [4/10], Step: [601/625], Validation Acc: 85.84\n",
      "Epoch: [5/10], Step: [201/625], Validation Acc: 85.4\n",
      "Epoch: [5/10], Step: [401/625], Validation Acc: 85.84\n",
      "Epoch: [5/10], Step: [601/625], Validation Acc: 85.36\n",
      "Epoch: [6/10], Step: [201/625], Validation Acc: 85.84\n",
      "Epoch: [6/10], Step: [401/625], Validation Acc: 85.9\n",
      "Epoch: [6/10], Step: [601/625], Validation Acc: 85.8\n",
      "Epoch: [7/10], Step: [201/625], Validation Acc: 85.52\n",
      "Epoch: [7/10], Step: [401/625], Validation Acc: 85.72\n",
      "Epoch: [7/10], Step: [601/625], Validation Acc: 85.62\n",
      "Epoch: [8/10], Step: [201/625], Validation Acc: 85.88\n",
      "Epoch: [8/10], Step: [401/625], Validation Acc: 85.94\n",
      "Epoch: [8/10], Step: [601/625], Validation Acc: 85.7\n",
      "Epoch: [9/10], Step: [201/625], Validation Acc: 85.72\n",
      "Epoch: [9/10], Step: [401/625], Validation Acc: 85.74\n",
      "Epoch: [9/10], Step: [601/625], Validation Acc: 85.66\n",
      "Epoch: [10/10], Step: [201/625], Validation Acc: 85.74\n",
      "Epoch: [10/10], Step: [401/625], Validation Acc: 85.66\n",
      "Epoch: [10/10], Step: [601/625], Validation Acc: 85.72"
     ]
    },
    {
     "name": "stderr",
     "output_type": "stream",
     "text": [
      "\n",
      "\n",
      "\n",
      "\n",
      "\n",
      "100%|██████████| 5/5 [57:35<00:00, 760.50s/it]\u001b[A\u001b[A\u001b[A\u001b[A\u001b[A\n",
      "\n",
      "\n",
      "\n",
      "\n",
      "\u001b[A\u001b[A\u001b[A\u001b[A\u001b[A"
     ]
    },
    {
     "name": "stdout",
     "output_type": "stream",
     "text": [
      "\n"
     ]
    }
   ],
   "source": [
    "for i in tqdm.trange(len(vocabs)):\n",
    "    v=vocabs[i]\n",
    "    val_acc, test_acc=run(max_vocab_size=v)\n",
    "    val_hist.append(val_acc)\n",
    "    test_hist.append(test_acc)"
   ]
  },
  {
   "cell_type": "code",
   "execution_count": 41,
   "metadata": {
    "collapsed": false
   },
   "outputs": [],
   "source": [
    "import matplotlib.pyplot as plt\n",
    "%matplotlib inline"
   ]
  },
  {
   "cell_type": "markdown",
   "metadata": {},
   "source": [
    "Added a try with a 200k vocabulary"
   ]
  },
  {
   "cell_type": "code",
   "execution_count": 59,
   "metadata": {
    "collapsed": false
   },
   "outputs": [
    {
     "name": "stdout",
     "output_type": "stream",
     "text": [
      "Epoch: [1/10], Step: [201/625], Validation Acc: 82.66\n",
      "Epoch: [1/10], Step: [401/625], Validation Acc: 86.2\n",
      "Epoch: [1/10], Step: [601/625], Validation Acc: 85.28\n",
      "Epoch: [2/10], Step: [201/625], Validation Acc: 87.64\n",
      "Epoch: [2/10], Step: [401/625], Validation Acc: 86.8\n",
      "Epoch: [2/10], Step: [601/625], Validation Acc: 85.52\n",
      "Epoch: [3/10], Step: [201/625], Validation Acc: 86.3\n",
      "Epoch: [3/10], Step: [401/625], Validation Acc: 85.6\n",
      "Epoch: [3/10], Step: [601/625], Validation Acc: 85.88\n",
      "Epoch: [4/10], Step: [201/625], Validation Acc: 86.2\n",
      "Epoch: [4/10], Step: [401/625], Validation Acc: 86.1\n",
      "Epoch: [4/10], Step: [601/625], Validation Acc: 85.26\n",
      "Epoch: [5/10], Step: [201/625], Validation Acc: 85.68\n",
      "Epoch: [5/10], Step: [401/625], Validation Acc: 85.98\n",
      "Epoch: [5/10], Step: [601/625], Validation Acc: 85.92\n",
      "Epoch: [6/10], Step: [201/625], Validation Acc: 85.9\n",
      "Epoch: [6/10], Step: [401/625], Validation Acc: 86.0\n",
      "Epoch: [6/10], Step: [601/625], Validation Acc: 85.64\n",
      "Epoch: [7/10], Step: [201/625], Validation Acc: 85.82\n",
      "Epoch: [7/10], Step: [401/625], Validation Acc: 85.88\n",
      "Epoch: [7/10], Step: [601/625], Validation Acc: 85.88\n",
      "Epoch: [8/10], Step: [201/625], Validation Acc: 85.82\n",
      "Epoch: [8/10], Step: [401/625], Validation Acc: 85.76\n",
      "Epoch: [8/10], Step: [601/625], Validation Acc: 85.8\n",
      "Epoch: [9/10], Step: [201/625], Validation Acc: 85.84\n",
      "Epoch: [9/10], Step: [401/625], Validation Acc: 85.9\n",
      "Epoch: [9/10], Step: [601/625], Validation Acc: 85.92\n",
      "Epoch: [10/10], Step: [201/625], Validation Acc: 85.86\n",
      "Epoch: [10/10], Step: [401/625], Validation Acc: 85.86\n",
      "Epoch: [10/10], Step: [601/625], Validation Acc: 86.06\n"
     ]
    }
   ],
   "source": [
    "val_acc, test_acc=run(max_vocab_size=200000)\n",
    "val_hist.append(val_acc)\n",
    "test_hist.append(test_acc)"
   ]
  },
  {
   "cell_type": "markdown",
   "metadata": {},
   "source": [
    "We notice that after 8 epochs, the accuracy is stable suggesting that it should be fine to continue with 10 epochs."
   ]
  },
  {
   "cell_type": "markdown",
   "metadata": {},
   "source": [
    "## Accuracy evolution with the vocabulary size"
   ]
  },
  {
   "cell_type": "code",
   "execution_count": 119,
   "metadata": {
    "collapsed": false,
    "scrolled": true
   },
   "outputs": [
    {
     "data": {
      "image/png": "[encoded data removed]",
      "text/plain": [
       "<matplotlib.figure.Figure at 0x1f777c470>"
      ]
     },
     "metadata": {},
     "output_type": "display_data"
    }
   ],
   "source": [
    "vocab=[10000,20000,30000,50000,70000,100000,200000]\n",
    "plt.plot(vocab,val_hist,label='Validation accuracy',marker=\"o\")\n",
    "plt.xlabel('Vocabulary Size')\n",
    "plt.ylabel('Accuracy')\n",
    "plt.title('Accuracy vs Vocabulary size')\n",
    "plt.grid()"
   ]
  },
  {
   "cell_type": "markdown",
   "metadata": {},
   "source": [
    "Here we see that the accuracy grows with the vocabulary size, which makes sense given that we only take a small fraction out of the $4$ million words that appear in the training set. However, when we use the $100.000$ or $200.000$ most frequent tokens, it becomes computationally intensive and therefore, we will continue with $50.000$ for the rest of our experiments. Such a choice offer a rather correct validation accuracy comparable to one achieved with $100.000$ or $200.000$ but with an upside of needing less computational time to get there."
   ]
  },
  {
   "cell_type": "code",
   "execution_count": null,
   "metadata": {
    "collapsed": true
   },
   "outputs": [],
   "source": []
  },
  {
   "cell_type": "markdown",
   "metadata": {},
   "source": [
    "## Learning curve for each vocabulary size we chose"
   ]
  },
  {
   "cell_type": "markdown",
   "metadata": {},
   "source": [
    "The values are the ones we printed during training. (I forgot to include that in the function... I realized that too late and it was just way faster to copy paste the results rather than let that run for another hour again... Not elegant but that happens)"
   ]
  },
  {
   "cell_type": "code",
   "execution_count": 121,
   "metadata": {
    "collapsed": true
   },
   "outputs": [],
   "source": [
    "learning_curve_10k=[83.38, 86.26, 86.24,87.12,86.46,86.3,\n",
    "                    85.84,86.4,86.2,85.78,84.78,84.86,\n",
    "                    85.18,85.14,84.88,85.18,84.26,84.02,\n",
    "                    84.38,84.28,84.3,83.92,83.12,84.08,\n",
    "                    83.72,83.88,83.74,83.3,83.06,83.36,val_hist[0]]\n",
    "\n",
    "learning_curve_20k=[83.74,86.46,86.54,87.16,87.04,86.7,\n",
    "                    86.18,86.16,86.46,86.04,85.72,85.58,\n",
    "                    85.46,85.32,84.92,85.08,85.32,84.92,\n",
    "                    85.0,84.84,85.12,84.98,84.84,85.04,\n",
    "                    85.16,84.98,85.06,85.32,85.2,85.24,val_hist[1]]\n",
    "\n",
    "learning_curve_30k=[83.38,86.54,86.74,87.22,86.86,86.74,\n",
    "                    87.08,86.1,86.1,85.8,85.24,85.46,\n",
    "                    84.78,84.92,84.14,85.56,85.54,85.04,\n",
    "                    85.24,85.18,85.2,85.26,85.42,85.22,\n",
    "                    85.3,85.2,85.42,85.26,85.2,85.36,val_hist[2]]\n",
    "\n",
    "\n",
    "learning_curve_50k=[84.7,85.04,85.58,87.74,86.4,86.24,\n",
    "                    87.0,86.78,86.28,86.38,86.1,85.32,\n",
    "                    85.6,85.52,85.28,85.64,85.48,85.72,\n",
    "                    85.68,85.72,85.74,85.82,85.66,85.58,\n",
    "                    85.66,85.74,85.6,85.64,85.62,85.62,val_hist[3]]\n",
    "\n",
    "\n",
    "learning_curve_70k=[83.88,86.44,86.86,86.92,87.24,86.76,\n",
    "                    87.16,86.6,86.1,86.32,86.68,86.08,\n",
    "                    86.14,85.98,85.68,85.82,85.62,85.66,\n",
    "                    85.7,85.68,85.52,85.66,85.62,85.8,\n",
    "                    85.68,85.88,85.66,85.76,85.82,85.7,val_hist[4]]\n",
    "\n",
    "learning_curve_100k=[82.74,86.58,87.84,87.3,86.84,87.2,\n",
    "                     86.84,86.16,86.0,86.36,86.12,85.84,\n",
    "                     85.4,85.84,85.36,85.84,85.9,85.8,\n",
    "                     85.52,85.72,85.62,85.88,85.94,85.7,\n",
    "                     85.72,85.74,85.66,85.74,85.66,85.72,val_hist[5]]\n",
    "\n",
    "learning_curve_200k=[82.66,86.2,85.28,87.64,86.8,85.52,\n",
    "                     86.3,85.6,85.88,86.2,86.1,85.26,\n",
    "                     85.68,85.98,85.92,85.9,86.0,85.64,\n",
    "                     85.82,85.88,85.88,85.82,85.76,85.8,\n",
    "                     85.84,85.9,85.92,85.86,85.86,86.06,val_hist[6]]\n",
    "\n",
    "learning_curves=[learning_curve_10k,learning_curve_20k,learning_curve_30k,learning_curve_50k,\n",
    "                 learning_curve_70k,learning_curve_100k,learning_curve_200k]"
   ]
  },
  {
   "cell_type": "code",
   "execution_count": 125,
   "metadata": {
    "collapsed": false
   },
   "outputs": [
    {
     "data": {
      "text/plain": [
       "[201,\n",
       " 401,\n",
       " 601,\n",
       " 826,\n",
       " 1026,\n",
       " 1226,\n",
       " 1451,\n",
       " 1651,\n",
       " 1851,\n",
       " 2076,\n",
       " 2276,\n",
       " 2476,\n",
       " 2701,\n",
       " 2901,\n",
       " 3101,\n",
       " 3326,\n",
       " 3526,\n",
       " 3726,\n",
       " 3951,\n",
       " 4151,\n",
       " 4351,\n",
       " 4576,\n",
       " 4776,\n",
       " 4976,\n",
       " 5201,\n",
       " 5401,\n",
       " 5601,\n",
       " 5826,\n",
       " 6026,\n",
       " 6226,\n",
       " 6250]"
      ]
     },
     "execution_count": 125,
     "metadata": {},
     "output_type": "execute_result"
    }
   ],
   "source": [
    "it=0\n",
    "iterations=[]\n",
    "for i in range(0,10):\n",
    "    it=i*625+1\n",
    "    for j in range(3):\n",
    "        it+=200\n",
    "        iterations.append(it)\n",
    "iterations.append(625*10)     \n",
    "iterations"
   ]
  },
  {
   "cell_type": "code",
   "execution_count": 147,
   "metadata": {
    "collapsed": false
   },
   "outputs": [
    {
     "data": {
      "image/png": "[encoded data removed]",
      "text/plain": [
       "<matplotlib.figure.Figure at 0x24203c278>"
      ]
     },
     "metadata": {},
     "output_type": "display_data"
    }
   ],
   "source": [
    "for i in range(len(learning_curves)):\n",
    "    plt.plot(iterations,learning_curves[i],label=str(vocab[i]))\n",
    "plt.legend(bbox_to_anchor=(1.3, 1))\n",
    "plt.xlabel('Iterations')\n",
    "plt.ylabel('Accuracy')\n",
    "plt.title('Learning curves for different vocabulary sizes')\n",
    "plt.show()"
   ]
  },
  {
   "cell_type": "markdown",
   "metadata": {},
   "source": [
    "We can therefore confirm that $50.000$ is a good choice since accuracy is similar to the one achieved with larger vocabularies yet we spare quite some computing time"
   ]
  },
  {
   "cell_type": "markdown",
   "metadata": {},
   "source": [
    "# Embedding dimension"
   ]
  },
  {
   "cell_type": "markdown",
   "metadata": {},
   "source": [
    "We here play with the embedding dimension and see how the $\\textbf{validation}$ accuracy changes with this hyperparameter."
   ]
  },
  {
   "cell_type": "code",
   "execution_count": 62,
   "metadata": {
    "collapsed": false
   },
   "outputs": [
    {
     "name": "stderr",
     "output_type": "stream",
     "text": [
      "\n",
      "\n",
      "\n",
      "\n",
      "\n",
      "  0%|          | 0/6 [00:00<?, ?it/s]\u001b[A\u001b[A\u001b[A\u001b[A\u001b[A"
     ]
    },
    {
     "name": "stdout",
     "output_type": "stream",
     "text": [
      "Epoch: [1/10], Step: [201/625], Validation Acc: 72.74\n",
      "Epoch: [1/10], Step: [401/625], Validation Acc: 82.94\n",
      "Epoch: [1/10], Step: [601/625], Validation Acc: 85.3\n",
      "Epoch: [2/10], Step: [201/625], Validation Acc: 86.46\n",
      "Epoch: [2/10], Step: [401/625], Validation Acc: 86.7\n",
      "Epoch: [2/10], Step: [601/625], Validation Acc: 87.52\n",
      "Epoch: [3/10], Step: [201/625], Validation Acc: 87.7\n",
      "Epoch: [3/10], Step: [401/625], Validation Acc: 87.42\n",
      "Epoch: [3/10], Step: [601/625], Validation Acc: 87.62\n",
      "Epoch: [4/10], Step: [201/625], Validation Acc: 87.5\n",
      "Epoch: [4/10], Step: [401/625], Validation Acc: 87.62\n",
      "Epoch: [4/10], Step: [601/625], Validation Acc: 87.4\n",
      "Epoch: [5/10], Step: [201/625], Validation Acc: 87.24\n",
      "Epoch: [5/10], Step: [401/625], Validation Acc: 86.82\n",
      "Epoch: [5/10], Step: [601/625], Validation Acc: 87.06\n",
      "Epoch: [6/10], Step: [201/625], Validation Acc: 86.94\n",
      "Epoch: [6/10], Step: [401/625], Validation Acc: 86.54\n",
      "Epoch: [6/10], Step: [601/625], Validation Acc: 86.78\n",
      "Epoch: [7/10], Step: [201/625], Validation Acc: 86.64\n",
      "Epoch: [7/10], Step: [401/625], Validation Acc: 86.18\n",
      "Epoch: [7/10], Step: [601/625], Validation Acc: 86.16\n",
      "Epoch: [8/10], Step: [201/625], Validation Acc: 86.04\n",
      "Epoch: [8/10], Step: [401/625], Validation Acc: 85.96\n",
      "Epoch: [8/10], Step: [601/625], Validation Acc: 86.16\n",
      "Epoch: [9/10], Step: [201/625], Validation Acc: 85.86\n",
      "Epoch: [9/10], Step: [401/625], Validation Acc: 86.16\n",
      "Epoch: [9/10], Step: [601/625], Validation Acc: 85.98\n",
      "Epoch: [10/10], Step: [201/625], Validation Acc: 85.8\n",
      "Epoch: [10/10], Step: [401/625], Validation Acc: 85.68\n",
      "Epoch: [10/10], Step: [601/625], Validation Acc: 85.78"
     ]
    },
    {
     "name": "stderr",
     "output_type": "stream",
     "text": [
      "\n",
      "\n",
      "\n",
      "\n",
      "\n",
      " 17%|█▋        | 1/6 [03:29<17:26, 209.30s/it]\u001b[A\u001b[A\u001b[A\u001b[A\u001b[A"
     ]
    },
    {
     "name": "stdout",
     "output_type": "stream",
     "text": [
      "\n",
      "Epoch: [1/10], Step: [201/625], Validation Acc: 80.02\n",
      "Epoch: [1/10], Step: [401/625], Validation Acc: 84.18\n",
      "Epoch: [1/10], Step: [601/625], Validation Acc: 86.92\n",
      "Epoch: [2/10], Step: [201/625], Validation Acc: 86.84\n",
      "Epoch: [2/10], Step: [401/625], Validation Acc: 87.16\n",
      "Epoch: [2/10], Step: [601/625], Validation Acc: 87.22\n",
      "Epoch: [3/10], Step: [201/625], Validation Acc: 86.96\n",
      "Epoch: [3/10], Step: [401/625], Validation Acc: 87.14\n",
      "Epoch: [3/10], Step: [601/625], Validation Acc: 84.22\n",
      "Epoch: [4/10], Step: [201/625], Validation Acc: 86.86\n",
      "Epoch: [4/10], Step: [401/625], Validation Acc: 86.32\n",
      "Epoch: [4/10], Step: [601/625], Validation Acc: 86.44\n",
      "Epoch: [5/10], Step: [201/625], Validation Acc: 86.16\n",
      "Epoch: [5/10], Step: [401/625], Validation Acc: 86.02\n",
      "Epoch: [5/10], Step: [601/625], Validation Acc: 85.92\n",
      "Epoch: [6/10], Step: [201/625], Validation Acc: 86.08\n",
      "Epoch: [6/10], Step: [401/625], Validation Acc: 85.72\n",
      "Epoch: [6/10], Step: [601/625], Validation Acc: 85.48\n",
      "Epoch: [7/10], Step: [201/625], Validation Acc: 85.42\n",
      "Epoch: [7/10], Step: [401/625], Validation Acc: 85.6\n",
      "Epoch: [7/10], Step: [601/625], Validation Acc: 85.5\n",
      "Epoch: [8/10], Step: [201/625], Validation Acc: 85.5\n",
      "Epoch: [8/10], Step: [401/625], Validation Acc: 85.54\n",
      "Epoch: [8/10], Step: [601/625], Validation Acc: 85.26\n",
      "Epoch: [9/10], Step: [201/625], Validation Acc: 85.28\n",
      "Epoch: [9/10], Step: [401/625], Validation Acc: 85.26\n",
      "Epoch: [9/10], Step: [601/625], Validation Acc: 85.36\n",
      "Epoch: [10/10], Step: [201/625], Validation Acc: 85.26\n",
      "Epoch: [10/10], Step: [401/625], Validation Acc: 85.22\n",
      "Epoch: [10/10], Step: [601/625], Validation Acc: 85.28"
     ]
    },
    {
     "name": "stderr",
     "output_type": "stream",
     "text": [
      "\n",
      "\n",
      "\n",
      "\n",
      "\n",
      " 33%|███▎      | 2/6 [08:12<15:25, 231.32s/it]\u001b[A\u001b[A\u001b[A\u001b[A\u001b[A"
     ]
    },
    {
     "name": "stdout",
     "output_type": "stream",
     "text": [
      "\n",
      "Epoch: [1/10], Step: [201/625], Validation Acc: 81.54\n",
      "Epoch: [1/10], Step: [401/625], Validation Acc: 85.96\n",
      "Epoch: [1/10], Step: [601/625], Validation Acc: 86.8\n",
      "Epoch: [2/10], Step: [201/625], Validation Acc: 87.12\n",
      "Epoch: [2/10], Step: [401/625], Validation Acc: 87.34\n",
      "Epoch: [2/10], Step: [601/625], Validation Acc: 87.54\n",
      "Epoch: [3/10], Step: [201/625], Validation Acc: 87.2\n",
      "Epoch: [3/10], Step: [401/625], Validation Acc: 87.1\n",
      "Epoch: [3/10], Step: [601/625], Validation Acc: 86.24\n",
      "Epoch: [4/10], Step: [201/625], Validation Acc: 86.52\n",
      "Epoch: [4/10], Step: [401/625], Validation Acc: 86.6\n",
      "Epoch: [4/10], Step: [601/625], Validation Acc: 86.16\n",
      "Epoch: [5/10], Step: [201/625], Validation Acc: 86.06\n",
      "Epoch: [5/10], Step: [401/625], Validation Acc: 86.0\n",
      "Epoch: [5/10], Step: [601/625], Validation Acc: 85.68\n",
      "Epoch: [6/10], Step: [201/625], Validation Acc: 85.84\n",
      "Epoch: [6/10], Step: [401/625], Validation Acc: 86.28\n",
      "Epoch: [6/10], Step: [601/625], Validation Acc: 86.18\n",
      "Epoch: [7/10], Step: [201/625], Validation Acc: 85.98\n",
      "Epoch: [7/10], Step: [401/625], Validation Acc: 85.8\n",
      "Epoch: [7/10], Step: [601/625], Validation Acc: 85.96\n",
      "Epoch: [8/10], Step: [201/625], Validation Acc: 85.88\n",
      "Epoch: [8/10], Step: [401/625], Validation Acc: 85.78\n",
      "Epoch: [8/10], Step: [601/625], Validation Acc: 85.82\n",
      "Epoch: [9/10], Step: [201/625], Validation Acc: 85.82\n",
      "Epoch: [9/10], Step: [401/625], Validation Acc: 85.88\n",
      "Epoch: [9/10], Step: [601/625], Validation Acc: 85.92\n",
      "Epoch: [10/10], Step: [201/625], Validation Acc: 85.84\n",
      "Epoch: [10/10], Step: [401/625], Validation Acc: 85.74\n",
      "Epoch: [10/10], Step: [601/625], Validation Acc: 85.94"
     ]
    },
    {
     "name": "stderr",
     "output_type": "stream",
     "text": [
      "\n",
      "\n",
      "\n",
      "\n",
      "\n",
      " 50%|█████     | 3/6 [15:32<14:42, 294.01s/it]\u001b[A\u001b[A\u001b[A\u001b[A\u001b[A"
     ]
    },
    {
     "name": "stdout",
     "output_type": "stream",
     "text": [
      "\n",
      "Epoch: [1/10], Step: [201/625], Validation Acc: 83.54\n",
      "Epoch: [1/10], Step: [401/625], Validation Acc: 86.74\n",
      "Epoch: [1/10], Step: [601/625], Validation Acc: 85.24\n",
      "Epoch: [2/10], Step: [201/625], Validation Acc: 86.94\n",
      "Epoch: [2/10], Step: [401/625], Validation Acc: 86.98\n",
      "Epoch: [2/10], Step: [601/625], Validation Acc: 87.16\n",
      "Epoch: [3/10], Step: [201/625], Validation Acc: 86.86\n",
      "Epoch: [3/10], Step: [401/625], Validation Acc: 86.34\n",
      "Epoch: [3/10], Step: [601/625], Validation Acc: 86.9\n",
      "Epoch: [4/10], Step: [201/625], Validation Acc: 86.56\n",
      "Epoch: [4/10], Step: [401/625], Validation Acc: 86.02\n",
      "Epoch: [4/10], Step: [601/625], Validation Acc: 85.84\n",
      "Epoch: [5/10], Step: [201/625], Validation Acc: 86.28\n",
      "Epoch: [5/10], Step: [401/625], Validation Acc: 85.96\n",
      "Epoch: [5/10], Step: [601/625], Validation Acc: 86.04\n",
      "Epoch: [6/10], Step: [201/625], Validation Acc: 86.02\n",
      "Epoch: [6/10], Step: [401/625], Validation Acc: 85.6\n",
      "Epoch: [6/10], Step: [601/625], Validation Acc: 86.08\n",
      "Epoch: [7/10], Step: [201/625], Validation Acc: 85.98\n",
      "Epoch: [7/10], Step: [401/625], Validation Acc: 85.88\n",
      "Epoch: [7/10], Step: [601/625], Validation Acc: 85.76\n",
      "Epoch: [8/10], Step: [201/625], Validation Acc: 85.9\n",
      "Epoch: [8/10], Step: [401/625], Validation Acc: 85.86\n",
      "Epoch: [8/10], Step: [601/625], Validation Acc: 86.02\n",
      "Epoch: [9/10], Step: [201/625], Validation Acc: 86.02\n",
      "Epoch: [9/10], Step: [401/625], Validation Acc: 85.96\n",
      "Epoch: [9/10], Step: [601/625], Validation Acc: 86.0\n",
      "Epoch: [10/10], Step: [201/625], Validation Acc: 85.92\n",
      "Epoch: [10/10], Step: [401/625], Validation Acc: 85.9\n",
      "Epoch: [10/10], Step: [601/625], Validation Acc: 85.94"
     ]
    },
    {
     "name": "stderr",
     "output_type": "stream",
     "text": [
      "\n",
      "\n",
      "\n",
      "\n",
      "\n",
      " 67%|██████▋   | 4/6 [27:41<14:08, 424.47s/it]\u001b[A\u001b[A\u001b[A\u001b[A\u001b[A"
     ]
    },
    {
     "name": "stdout",
     "output_type": "stream",
     "text": [
      "\n",
      "Epoch: [1/10], Step: [201/625], Validation Acc: 85.0\n",
      "Epoch: [1/10], Step: [401/625], Validation Acc: 86.86\n",
      "Epoch: [1/10], Step: [601/625], Validation Acc: 86.94\n",
      "Epoch: [2/10], Step: [201/625], Validation Acc: 85.68\n",
      "Epoch: [2/10], Step: [401/625], Validation Acc: 86.74\n",
      "Epoch: [2/10], Step: [601/625], Validation Acc: 86.54\n",
      "Epoch: [3/10], Step: [201/625], Validation Acc: 86.64\n",
      "Epoch: [3/10], Step: [401/625], Validation Acc: 86.04\n",
      "Epoch: [3/10], Step: [601/625], Validation Acc: 85.66\n",
      "Epoch: [4/10], Step: [201/625], Validation Acc: 85.32\n",
      "Epoch: [4/10], Step: [401/625], Validation Acc: 85.1\n",
      "Epoch: [4/10], Step: [601/625], Validation Acc: 85.86\n",
      "Epoch: [5/10], Step: [201/625], Validation Acc: 85.74\n",
      "Epoch: [5/10], Step: [401/625], Validation Acc: 85.02\n",
      "Epoch: [5/10], Step: [601/625], Validation Acc: 85.24\n",
      "Epoch: [6/10], Step: [201/625], Validation Acc: 84.96\n",
      "Epoch: [6/10], Step: [401/625], Validation Acc: 85.2\n",
      "Epoch: [6/10], Step: [601/625], Validation Acc: 85.3\n",
      "Epoch: [7/10], Step: [201/625], Validation Acc: 85.18\n",
      "Epoch: [7/10], Step: [401/625], Validation Acc: 85.3\n",
      "Epoch: [7/10], Step: [601/625], Validation Acc: 84.8\n",
      "Epoch: [8/10], Step: [201/625], Validation Acc: 85.08\n",
      "Epoch: [8/10], Step: [401/625], Validation Acc: 85.06\n",
      "Epoch: [8/10], Step: [601/625], Validation Acc: 85.18\n",
      "Epoch: [9/10], Step: [201/625], Validation Acc: 85.24\n",
      "Epoch: [9/10], Step: [401/625], Validation Acc: 85.28\n",
      "Epoch: [9/10], Step: [601/625], Validation Acc: 85.18\n",
      "Epoch: [10/10], Step: [201/625], Validation Acc: 85.28\n",
      "Epoch: [10/10], Step: [401/625], Validation Acc: 85.22\n",
      "Epoch: [10/10], Step: [601/625], Validation Acc: 85.3"
     ]
    },
    {
     "name": "stderr",
     "output_type": "stream",
     "text": [
      "\n",
      "\n",
      "\n",
      "\n",
      "\n",
      " 83%|████████▎ | 5/6 [49:14<11:24, 685.00s/it]\u001b[A\u001b[A\u001b[A\u001b[A\u001b[A"
     ]
    },
    {
     "name": "stdout",
     "output_type": "stream",
     "text": [
      "\n",
      "Epoch: [1/10], Step: [201/625], Validation Acc: 82.26\n",
      "Epoch: [1/10], Step: [401/625], Validation Acc: 85.78\n",
      "Epoch: [1/10], Step: [601/625], Validation Acc: 87.64\n",
      "Epoch: [2/10], Step: [201/625], Validation Acc: 86.48\n",
      "Epoch: [2/10], Step: [401/625], Validation Acc: 86.0\n",
      "Epoch: [2/10], Step: [601/625], Validation Acc: 86.86\n",
      "Epoch: [3/10], Step: [201/625], Validation Acc: 86.36\n",
      "Epoch: [3/10], Step: [401/625], Validation Acc: 85.18\n",
      "Epoch: [3/10], Step: [601/625], Validation Acc: 85.16\n",
      "Epoch: [4/10], Step: [201/625], Validation Acc: 85.8\n",
      "Epoch: [4/10], Step: [401/625], Validation Acc: 84.6\n",
      "Epoch: [4/10], Step: [601/625], Validation Acc: 85.82\n",
      "Epoch: [5/10], Step: [201/625], Validation Acc: 85.46\n",
      "Epoch: [5/10], Step: [401/625], Validation Acc: 84.98\n",
      "Epoch: [5/10], Step: [601/625], Validation Acc: 85.4\n",
      "Epoch: [6/10], Step: [201/625], Validation Acc: 85.22\n",
      "Epoch: [6/10], Step: [401/625], Validation Acc: 85.16\n",
      "Epoch: [6/10], Step: [601/625], Validation Acc: 84.7\n",
      "Epoch: [7/10], Step: [201/625], Validation Acc: 84.68\n",
      "Epoch: [7/10], Step: [401/625], Validation Acc: 84.3\n",
      "Epoch: [7/10], Step: [601/625], Validation Acc: 84.08\n",
      "Epoch: [8/10], Step: [201/625], Validation Acc: 84.46\n",
      "Epoch: [8/10], Step: [401/625], Validation Acc: 83.68\n",
      "Epoch: [8/10], Step: [601/625], Validation Acc: 84.08\n",
      "Epoch: [9/10], Step: [201/625], Validation Acc: 84.34\n",
      "Epoch: [9/10], Step: [401/625], Validation Acc: 83.56\n",
      "Epoch: [9/10], Step: [601/625], Validation Acc: 83.74\n",
      "Epoch: [10/10], Step: [201/625], Validation Acc: 84.16\n",
      "Epoch: [10/10], Step: [401/625], Validation Acc: 84.1\n",
      "Epoch: [10/10], Step: [601/625], Validation Acc: 84.16"
     ]
    },
    {
     "name": "stderr",
     "output_type": "stream",
     "text": [
      "\n",
      "\n",
      "\n",
      "\n",
      "\n",
      "100%|██████████| 6/6 [1:28:32<00:00, 1187.10s/it]\u001b[A\u001b[A\u001b[A\u001b[A\u001b[A\n",
      "\n",
      "\n",
      "\n",
      "\n",
      "\u001b[A\u001b[A\u001b[A\u001b[A\u001b[A"
     ]
    },
    {
     "name": "stdout",
     "output_type": "stream",
     "text": [
      "\n"
     ]
    }
   ],
   "source": [
    "embedding_dims=[10,25,50,100,200,400]\n",
    "val_hist_emb=[]\n",
    "test_hist_emb=[]\n",
    "for j in tqdm.trange(len(embedding_dims)):\n",
    "    emb=embedding_dims[j]\n",
    "    val_acc, test_acc=run(max_vocab_size=50000, emb_dim=emb)\n",
    "    val_hist_emb.append(val_acc)\n",
    "    test_hist_emb.append(test_acc)\n"
   ]
  },
  {
   "cell_type": "markdown",
   "metadata": {},
   "source": [
    "## Accuracy evolution with the embedding size"
   ]
  },
  {
   "cell_type": "code",
   "execution_count": 130,
   "metadata": {
    "collapsed": false
   },
   "outputs": [
    {
     "data": {
      "image/png": "[encoded data removed]",
      "text/plain": [
       "<matplotlib.figure.Figure at 0x2421282e8>"
      ]
     },
     "metadata": {},
     "output_type": "display_data"
    }
   ],
   "source": [
    "plt.plot(embedding_dims,val_hist_emb,label='Validation accuracy',marker=\"o\")\n",
    "plt.xlabel('Embedding Size')\n",
    "plt.ylabel('Accuracy')\n",
    "plt.title('Accuracy vs Embedding size')\n",
    "plt.grid()"
   ]
  },
  {
   "cell_type": "markdown",
   "metadata": {},
   "source": [
    "We will therefore choose an embedding size of $100$."
   ]
  },
  {
   "cell_type": "markdown",
   "metadata": {},
   "source": [
    "## Learning curve for each embedding size we chose"
   ]
  },
  {
   "cell_type": "code",
   "execution_count": 141,
   "metadata": {
    "collapsed": false
   },
   "outputs": [],
   "source": [
    "learning_curve_emb10=[72.74,82.94,85.3,86.46,86.7,\n",
    "                   87.52,87.7,87.42,87.62,87.5,\n",
    "                   87.62,87.4,87.24,86.82,87.06,\n",
    "                   86.94,86.54,86.78,86.64,86.18,\n",
    "                   86.16,86.04,85.96,86.16,85.86,\n",
    "                   86.16,85.98,85.8,85.68,85.78, val_hist_emb[0]]\n",
    "\n",
    "\n",
    "learning_curve_emb25=[80.02,84.18,86.92,86.84,87.16,\n",
    "                   87.22,86.96,87.14,84.22,86.86,\n",
    "                   86.32,86.44,86.16,86.02,85.92,\n",
    "                   86.08,85.72,85.48,85.42,85.6,\n",
    "                   85.5,85.5,85.54,85.26,85.28,\n",
    "                   85.26,85.36,85.26,85.22,85.28,val_hist_emb[1]]\n",
    "\n",
    "\n",
    "learning_curve_emb50=[81.54,85.96,86.8,87.12,87.34,\n",
    "                   87.54,87.2,87.1,86.24,86.52,\n",
    "                   86.6,86.16,86.06,86.0,85.68,\n",
    "                   85.84,86.28,86.18,85.98,85.8,\n",
    "                   85.96,85.88,85.78,85.82,85.82,\n",
    "                   85.88,85.92,85.84,85.74,85.94,val_hist_emb[2]]\n",
    "\n",
    "\n",
    "learning_curve_emb100=[83.54,86.74,85.24,86.94,86.98,\n",
    "                    87.16,86.86,86.34,86.9,86.56,\n",
    "                    86.02,85.84,86.28,85.96,86.04,\n",
    "                    86.02,85.6,86.08,85.98,85.88,\n",
    "                    85.76,85.9,85.86,86.02,86.02,\n",
    "                    85.96,86.0,85.92,85.9,85.94,val_hist_emb[3]]\n",
    "\n",
    "learning_curve_emb200=[85.0,86.86,86.94,85.68,86.74,\n",
    "                    86.54,86.64,86.04,85.66,85.32,\n",
    "                    85.1,85.86,85.74,85.02,85.24,\n",
    "                    84.96,85.2,85.3,85.18,85.3,\n",
    "                    84.8,85.08,85.06,85.18,85.24,\n",
    "                    85.28,85.18,85.28,85.22,85.3,val_hist_emb[4]]\n",
    "\n",
    "learning_curve_emb400=[82.26,85.78,87.64,86.48,86.0,\n",
    "                    86.86,86.36,85.18,85.16,85.8,\n",
    "                    84.6,85.82,85.46,84.98,85.4,\n",
    "                    85.22,85.16,84.7,84.68,84.3,\n",
    "                    84.08,84.46,83.68,84.08,84.34,\n",
    "                    83.56,83.74,84.16,84.1,84.16,val_hist_emb[5]]\n",
    "\n",
    "learning_curves_embedding=[learning_curve_emb10,learning_curve_emb25,learning_curve_emb50,\n",
    "                           learning_curve_emb100,learning_curve_emb200,learning_curve_emb400]"
   ]
  },
  {
   "cell_type": "code",
   "execution_count": 146,
   "metadata": {
    "collapsed": false
   },
   "outputs": [
    {
     "data": {
      "image/png": "[encoded data removed]",
      "text/plain": [
       "<matplotlib.figure.Figure at 0x224def6d8>"
      ]
     },
     "metadata": {},
     "output_type": "display_data"
    }
   ],
   "source": [
    "for i in range(len(learning_curves_embedding)):\n",
    "    plt.plot(iterations,learning_curves_embedding[i],label=str(embedding_dims[i]))\n",
    "plt.legend(bbox_to_anchor=(1.3, 1))\n",
    "plt.xlabel('Iterations')\n",
    "plt.ylabel('Accuracy')\n",
    "plt.title('Learning curves for different embedding sizes')\n",
    "plt.show()"
   ]
  },
  {
   "cell_type": "markdown",
   "metadata": {},
   "source": [
    "This confirms that 100 is a good choice since it achieves a better accuracy and accuracy seems to converge faster for this model"
   ]
  },
  {
   "cell_type": "markdown",
   "metadata": {},
   "source": [
    "# Max sentence length"
   ]
  },
  {
   "cell_type": "code",
   "execution_count": 86,
   "metadata": {
    "collapsed": false
   },
   "outputs": [
    {
     "name": "stderr",
     "output_type": "stream",
     "text": [
      "\n",
      "\n",
      "\n",
      "\n",
      "\n",
      "  0%|          | 0/7 [00:00<?, ?it/s]\u001b[A\u001b[A\u001b[A\u001b[A\u001b[A"
     ]
    },
    {
     "name": "stdout",
     "output_type": "stream",
     "text": [
      "Epoch: [1/10], Step: [201/625], Validation Acc: 62.52\n",
      "Epoch: [1/10], Step: [401/625], Validation Acc: 64.54\n",
      "Epoch: [1/10], Step: [601/625], Validation Acc: 63.58\n",
      "Epoch: [2/10], Step: [201/625], Validation Acc: 66.3\n",
      "Epoch: [2/10], Step: [401/625], Validation Acc: 66.82\n",
      "Epoch: [2/10], Step: [601/625], Validation Acc: 67.94\n",
      "Epoch: [3/10], Step: [201/625], Validation Acc: 67.94\n",
      "Epoch: [3/10], Step: [401/625], Validation Acc: 67.24\n",
      "Epoch: [3/10], Step: [601/625], Validation Acc: 67.34\n",
      "Epoch: [4/10], Step: [201/625], Validation Acc: 66.96\n",
      "Epoch: [4/10], Step: [401/625], Validation Acc: 65.74\n",
      "Epoch: [4/10], Step: [601/625], Validation Acc: 67.44\n",
      "Epoch: [5/10], Step: [201/625], Validation Acc: 66.42\n",
      "Epoch: [5/10], Step: [401/625], Validation Acc: 66.94\n",
      "Epoch: [5/10], Step: [601/625], Validation Acc: 67.28\n",
      "Epoch: [6/10], Step: [201/625], Validation Acc: 66.34\n",
      "Epoch: [6/10], Step: [401/625], Validation Acc: 66.32\n",
      "Epoch: [6/10], Step: [601/625], Validation Acc: 67.34\n",
      "Epoch: [7/10], Step: [201/625], Validation Acc: 66.74\n",
      "Epoch: [7/10], Step: [401/625], Validation Acc: 67.2\n",
      "Epoch: [7/10], Step: [601/625], Validation Acc: 65.76\n",
      "Epoch: [8/10], Step: [201/625], Validation Acc: 66.06\n",
      "Epoch: [8/10], Step: [401/625], Validation Acc: 66.64\n",
      "Epoch: [8/10], Step: [601/625], Validation Acc: 65.9\n",
      "Epoch: [9/10], Step: [201/625], Validation Acc: 66.56\n",
      "Epoch: [9/10], Step: [401/625], Validation Acc: 66.14\n",
      "Epoch: [9/10], Step: [601/625], Validation Acc: 66.7\n",
      "Epoch: [10/10], Step: [201/625], Validation Acc: 66.96\n",
      "Epoch: [10/10], Step: [401/625], Validation Acc: 66.12\n",
      "Epoch: [10/10], Step: [601/625], Validation Acc: 66.08"
     ]
    },
    {
     "name": "stderr",
     "output_type": "stream",
     "text": [
      "\n",
      "\n",
      "\n",
      "\n",
      "\n",
      " 14%|█▍        | 1/7 [08:06<48:38, 486.39s/it]\u001b[A\u001b[A\u001b[A\u001b[A\u001b[A"
     ]
    },
    {
     "name": "stdout",
     "output_type": "stream",
     "text": [
      "\n",
      "Epoch: [1/10], Step: [201/625], Validation Acc: 67.74\n",
      "Epoch: [1/10], Step: [401/625], Validation Acc: 71.98\n",
      "Epoch: [1/10], Step: [601/625], Validation Acc: 72.96\n",
      "Epoch: [2/10], Step: [201/625], Validation Acc: 70.8\n",
      "Epoch: [2/10], Step: [401/625], Validation Acc: 71.02\n",
      "Epoch: [2/10], Step: [601/625], Validation Acc: 72.6\n",
      "Epoch: [3/10], Step: [201/625], Validation Acc: 71.44\n",
      "Epoch: [3/10], Step: [401/625], Validation Acc: 71.56\n",
      "Epoch: [3/10], Step: [601/625], Validation Acc: 71.3\n",
      "Epoch: [4/10], Step: [201/625], Validation Acc: 70.46\n",
      "Epoch: [4/10], Step: [401/625], Validation Acc: 71.2\n",
      "Epoch: [4/10], Step: [601/625], Validation Acc: 70.84\n",
      "Epoch: [5/10], Step: [201/625], Validation Acc: 70.6\n",
      "Epoch: [5/10], Step: [401/625], Validation Acc: 69.6\n",
      "Epoch: [5/10], Step: [601/625], Validation Acc: 69.76\n",
      "Epoch: [6/10], Step: [201/625], Validation Acc: 69.64\n",
      "Epoch: [6/10], Step: [401/625], Validation Acc: 70.54\n",
      "Epoch: [6/10], Step: [601/625], Validation Acc: 70.24\n",
      "Epoch: [7/10], Step: [201/625], Validation Acc: 69.58\n",
      "Epoch: [7/10], Step: [401/625], Validation Acc: 69.56\n",
      "Epoch: [7/10], Step: [601/625], Validation Acc: 69.9\n",
      "Epoch: [8/10], Step: [201/625], Validation Acc: 69.2\n",
      "Epoch: [8/10], Step: [401/625], Validation Acc: 68.34\n",
      "Epoch: [8/10], Step: [601/625], Validation Acc: 69.1\n",
      "Epoch: [9/10], Step: [201/625], Validation Acc: 69.18\n",
      "Epoch: [9/10], Step: [401/625], Validation Acc: 69.16\n",
      "Epoch: [9/10], Step: [601/625], Validation Acc: 68.88\n",
      "Epoch: [10/10], Step: [201/625], Validation Acc: 69.02\n",
      "Epoch: [10/10], Step: [401/625], Validation Acc: 68.78\n",
      "Epoch: [10/10], Step: [601/625], Validation Acc: 69.16"
     ]
    },
    {
     "name": "stderr",
     "output_type": "stream",
     "text": [
      "\n",
      "\n",
      "\n",
      "\n",
      "\n",
      " 29%|██▊       | 2/7 [16:52<41:31, 498.20s/it]\u001b[A\u001b[A\u001b[A\u001b[A\u001b[A"
     ]
    },
    {
     "name": "stdout",
     "output_type": "stream",
     "text": [
      "\n",
      "Epoch: [1/10], Step: [201/625], Validation Acc: 74.28\n",
      "Epoch: [1/10], Step: [401/625], Validation Acc: 76.62\n",
      "Epoch: [1/10], Step: [601/625], Validation Acc: 76.94\n",
      "Epoch: [2/10], Step: [201/625], Validation Acc: 77.28\n",
      "Epoch: [2/10], Step: [401/625], Validation Acc: 77.04\n",
      "Epoch: [2/10], Step: [601/625], Validation Acc: 77.24\n",
      "Epoch: [3/10], Step: [201/625], Validation Acc: 76.8\n",
      "Epoch: [3/10], Step: [401/625], Validation Acc: 77.3\n",
      "Epoch: [3/10], Step: [601/625], Validation Acc: 75.92\n",
      "Epoch: [4/10], Step: [201/625], Validation Acc: 76.48\n",
      "Epoch: [4/10], Step: [401/625], Validation Acc: 76.12\n",
      "Epoch: [4/10], Step: [601/625], Validation Acc: 75.14\n",
      "Epoch: [5/10], Step: [201/625], Validation Acc: 75.74\n",
      "Epoch: [5/10], Step: [401/625], Validation Acc: 74.82\n",
      "Epoch: [5/10], Step: [601/625], Validation Acc: 75.58\n",
      "Epoch: [6/10], Step: [201/625], Validation Acc: 74.72\n",
      "Epoch: [6/10], Step: [401/625], Validation Acc: 74.9\n",
      "Epoch: [6/10], Step: [601/625], Validation Acc: 74.08\n",
      "Epoch: [7/10], Step: [201/625], Validation Acc: 74.26\n",
      "Epoch: [7/10], Step: [401/625], Validation Acc: 73.42\n",
      "Epoch: [7/10], Step: [601/625], Validation Acc: 73.66\n",
      "Epoch: [8/10], Step: [201/625], Validation Acc: 74.04\n",
      "Epoch: [8/10], Step: [401/625], Validation Acc: 74.12\n",
      "Epoch: [8/10], Step: [601/625], Validation Acc: 73.7\n",
      "Epoch: [9/10], Step: [201/625], Validation Acc: 73.62\n",
      "Epoch: [9/10], Step: [401/625], Validation Acc: 73.28\n",
      "Epoch: [9/10], Step: [601/625], Validation Acc: 73.66\n",
      "Epoch: [10/10], Step: [201/625], Validation Acc: 73.76\n",
      "Epoch: [10/10], Step: [401/625], Validation Acc: 73.62\n",
      "Epoch: [10/10], Step: [601/625], Validation Acc: 73.42"
     ]
    },
    {
     "name": "stderr",
     "output_type": "stream",
     "text": [
      "\n",
      "\n",
      "\n",
      "\n",
      "\n",
      " 43%|████▎     | 3/7 [26:33<34:52, 523.14s/it]\u001b[A\u001b[A\u001b[A\u001b[A\u001b[A"
     ]
    },
    {
     "name": "stdout",
     "output_type": "stream",
     "text": [
      "\n",
      "Epoch: [1/10], Step: [201/625], Validation Acc: 78.8\n",
      "Epoch: [1/10], Step: [401/625], Validation Acc: 81.92\n",
      "Epoch: [1/10], Step: [601/625], Validation Acc: 83.5\n",
      "Epoch: [2/10], Step: [201/625], Validation Acc: 83.52\n",
      "Epoch: [2/10], Step: [401/625], Validation Acc: 82.64\n",
      "Epoch: [2/10], Step: [601/625], Validation Acc: 82.96\n",
      "Epoch: [3/10], Step: [201/625], Validation Acc: 83.02\n",
      "Epoch: [3/10], Step: [401/625], Validation Acc: 82.44\n",
      "Epoch: [3/10], Step: [601/625], Validation Acc: 81.68\n",
      "Epoch: [4/10], Step: [201/625], Validation Acc: 82.32\n",
      "Epoch: [4/10], Step: [401/625], Validation Acc: 82.42\n",
      "Epoch: [4/10], Step: [601/625], Validation Acc: 81.52\n",
      "Epoch: [5/10], Step: [201/625], Validation Acc: 81.92\n",
      "Epoch: [5/10], Step: [401/625], Validation Acc: 82.02\n",
      "Epoch: [5/10], Step: [601/625], Validation Acc: 81.36\n",
      "Epoch: [6/10], Step: [201/625], Validation Acc: 81.74\n",
      "Epoch: [6/10], Step: [401/625], Validation Acc: 81.74\n",
      "Epoch: [6/10], Step: [601/625], Validation Acc: 81.32\n",
      "Epoch: [7/10], Step: [201/625], Validation Acc: 81.4\n",
      "Epoch: [7/10], Step: [401/625], Validation Acc: 81.24\n",
      "Epoch: [7/10], Step: [601/625], Validation Acc: 81.16\n",
      "Epoch: [8/10], Step: [201/625], Validation Acc: 81.16\n",
      "Epoch: [8/10], Step: [401/625], Validation Acc: 81.32\n",
      "Epoch: [8/10], Step: [601/625], Validation Acc: 81.4\n",
      "Epoch: [9/10], Step: [201/625], Validation Acc: 81.34\n",
      "Epoch: [9/10], Step: [401/625], Validation Acc: 81.32\n",
      "Epoch: [9/10], Step: [601/625], Validation Acc: 81.08\n",
      "Epoch: [10/10], Step: [201/625], Validation Acc: 81.24\n",
      "Epoch: [10/10], Step: [401/625], Validation Acc: 81.28\n",
      "Epoch: [10/10], Step: [601/625], Validation Acc: 81.18"
     ]
    },
    {
     "name": "stderr",
     "output_type": "stream",
     "text": [
      "\n",
      "\n",
      "\n",
      "\n",
      "\n",
      " 57%|█████▋    | 4/7 [38:28<29:02, 580.76s/it]\u001b[A\u001b[A\u001b[A\u001b[A\u001b[A"
     ]
    },
    {
     "name": "stdout",
     "output_type": "stream",
     "text": [
      "\n",
      "Epoch: [1/10], Step: [201/625], Validation Acc: 83.96\n",
      "Epoch: [1/10], Step: [401/625], Validation Acc: 86.54\n",
      "Epoch: [1/10], Step: [601/625], Validation Acc: 88.0\n",
      "Epoch: [2/10], Step: [201/625], Validation Acc: 87.36\n",
      "Epoch: [2/10], Step: [401/625], Validation Acc: 87.06\n",
      "Epoch: [2/10], Step: [601/625], Validation Acc: 86.94\n",
      "Epoch: [3/10], Step: [201/625], Validation Acc: 86.82\n",
      "Epoch: [3/10], Step: [401/625], Validation Acc: 86.52\n",
      "Epoch: [3/10], Step: [601/625], Validation Acc: 85.76\n",
      "Epoch: [4/10], Step: [201/625], Validation Acc: 86.0\n",
      "Epoch: [4/10], Step: [401/625], Validation Acc: 85.92\n",
      "Epoch: [4/10], Step: [601/625], Validation Acc: 85.52\n",
      "Epoch: [5/10], Step: [201/625], Validation Acc: 84.74\n",
      "Epoch: [5/10], Step: [401/625], Validation Acc: 85.34\n",
      "Epoch: [5/10], Step: [601/625], Validation Acc: 85.26\n",
      "Epoch: [6/10], Step: [201/625], Validation Acc: 85.52\n",
      "Epoch: [6/10], Step: [401/625], Validation Acc: 85.56\n",
      "Epoch: [6/10], Step: [601/625], Validation Acc: 85.46\n",
      "Epoch: [7/10], Step: [201/625], Validation Acc: 85.4\n",
      "Epoch: [7/10], Step: [401/625], Validation Acc: 85.42\n",
      "Epoch: [7/10], Step: [601/625], Validation Acc: 85.5\n",
      "Epoch: [8/10], Step: [201/625], Validation Acc: 85.42\n",
      "Epoch: [8/10], Step: [401/625], Validation Acc: 85.44\n",
      "Epoch: [8/10], Step: [601/625], Validation Acc: 85.38\n",
      "Epoch: [9/10], Step: [201/625], Validation Acc: 85.38\n",
      "Epoch: [9/10], Step: [401/625], Validation Acc: 85.32\n",
      "Epoch: [9/10], Step: [601/625], Validation Acc: 85.3\n",
      "Epoch: [10/10], Step: [201/625], Validation Acc: 85.38\n",
      "Epoch: [10/10], Step: [401/625], Validation Acc: 85.4\n",
      "Epoch: [10/10], Step: [601/625], Validation Acc: 85.4"
     ]
    },
    {
     "name": "stderr",
     "output_type": "stream",
     "text": [
      "\n",
      "\n",
      "\n",
      "\n",
      "\n",
      " 71%|███████▏  | 5/7 [51:50<21:33, 646.97s/it]\u001b[A\u001b[A\u001b[A\u001b[A\u001b[A"
     ]
    },
    {
     "name": "stdout",
     "output_type": "stream",
     "text": [
      "\n",
      "Epoch: [1/10], Step: [201/625], Validation Acc: 85.16\n",
      "Epoch: [1/10], Step: [401/625], Validation Acc: 87.78\n",
      "Epoch: [1/10], Step: [601/625], Validation Acc: 88.16\n",
      "Epoch: [2/10], Step: [201/625], Validation Acc: 88.48\n",
      "Epoch: [2/10], Step: [401/625], Validation Acc: 88.64\n",
      "Epoch: [2/10], Step: [601/625], Validation Acc: 88.7\n",
      "Epoch: [3/10], Step: [201/625], Validation Acc: 88.64\n",
      "Epoch: [3/10], Step: [401/625], Validation Acc: 88.12\n",
      "Epoch: [3/10], Step: [601/625], Validation Acc: 88.22\n",
      "Epoch: [4/10], Step: [201/625], Validation Acc: 87.6\n",
      "Epoch: [4/10], Step: [401/625], Validation Acc: 87.14\n",
      "Epoch: [4/10], Step: [601/625], Validation Acc: 87.54\n",
      "Epoch: [5/10], Step: [201/625], Validation Acc: 87.42\n",
      "Epoch: [5/10], Step: [401/625], Validation Acc: 87.22\n",
      "Epoch: [5/10], Step: [601/625], Validation Acc: 87.38\n",
      "Epoch: [6/10], Step: [201/625], Validation Acc: 87.3\n",
      "Epoch: [6/10], Step: [401/625], Validation Acc: 87.28\n",
      "Epoch: [6/10], Step: [601/625], Validation Acc: 87.38\n",
      "Epoch: [7/10], Step: [201/625], Validation Acc: 87.22\n",
      "Epoch: [7/10], Step: [401/625], Validation Acc: 87.22\n",
      "Epoch: [7/10], Step: [601/625], Validation Acc: 87.26\n",
      "Epoch: [8/10], Step: [201/625], Validation Acc: 87.2\n",
      "Epoch: [8/10], Step: [401/625], Validation Acc: 87.42\n",
      "Epoch: [8/10], Step: [601/625], Validation Acc: 87.12\n",
      "Epoch: [9/10], Step: [201/625], Validation Acc: 87.08\n",
      "Epoch: [9/10], Step: [401/625], Validation Acc: 87.26\n",
      "Epoch: [9/10], Step: [601/625], Validation Acc: 87.34\n",
      "Epoch: [10/10], Step: [201/625], Validation Acc: 87.2\n",
      "Epoch: [10/10], Step: [401/625], Validation Acc: 87.24\n",
      "Epoch: [10/10], Step: [601/625], Validation Acc: 87.18"
     ]
    },
    {
     "name": "stderr",
     "output_type": "stream",
     "text": [
      "\n",
      "\n",
      "\n",
      "\n",
      "\n",
      " 86%|████████▌ | 6/7 [1:05:39<11:41, 701.58s/it]\u001b[A\u001b[A\u001b[A\u001b[A\u001b[A"
     ]
    },
    {
     "name": "stdout",
     "output_type": "stream",
     "text": [
      "\n",
      "Epoch: [1/10], Step: [201/625], Validation Acc: 85.9\n",
      "Epoch: [1/10], Step: [401/625], Validation Acc: 86.68\n",
      "Epoch: [1/10], Step: [601/625], Validation Acc: 89.4\n",
      "Epoch: [2/10], Step: [201/625], Validation Acc: 89.34\n",
      "Epoch: [2/10], Step: [401/625], Validation Acc: 88.7\n",
      "Epoch: [2/10], Step: [601/625], Validation Acc: 88.92\n",
      "Epoch: [3/10], Step: [201/625], Validation Acc: 88.42\n",
      "Epoch: [3/10], Step: [401/625], Validation Acc: 88.18\n",
      "Epoch: [3/10], Step: [601/625], Validation Acc: 88.22\n",
      "Epoch: [4/10], Step: [201/625], Validation Acc: 88.1\n",
      "Epoch: [4/10], Step: [401/625], Validation Acc: 88.06\n",
      "Epoch: [4/10], Step: [601/625], Validation Acc: 87.54\n",
      "Epoch: [5/10], Step: [201/625], Validation Acc: 88.04\n",
      "Epoch: [5/10], Step: [401/625], Validation Acc: 87.96\n",
      "Epoch: [5/10], Step: [601/625], Validation Acc: 88.18\n",
      "Epoch: [6/10], Step: [201/625], Validation Acc: 88.06\n",
      "Epoch: [6/10], Step: [401/625], Validation Acc: 87.9\n",
      "Epoch: [6/10], Step: [601/625], Validation Acc: 87.84\n",
      "Epoch: [7/10], Step: [201/625], Validation Acc: 87.98\n",
      "Epoch: [7/10], Step: [401/625], Validation Acc: 87.88\n",
      "Epoch: [7/10], Step: [601/625], Validation Acc: 87.74\n",
      "Epoch: [8/10], Step: [201/625], Validation Acc: 87.88\n",
      "Epoch: [8/10], Step: [401/625], Validation Acc: 87.88\n",
      "Epoch: [8/10], Step: [601/625], Validation Acc: 87.92\n",
      "Epoch: [9/10], Step: [201/625], Validation Acc: 87.86\n",
      "Epoch: [9/10], Step: [401/625], Validation Acc: 87.82\n",
      "Epoch: [9/10], Step: [601/625], Validation Acc: 87.84\n",
      "Epoch: [10/10], Step: [201/625], Validation Acc: 87.88\n",
      "Epoch: [10/10], Step: [401/625], Validation Acc: 87.96\n",
      "Epoch: [10/10], Step: [601/625], Validation Acc: 87.76"
     ]
    },
    {
     "name": "stderr",
     "output_type": "stream",
     "text": [
      "\n",
      "\n",
      "\n",
      "\n",
      "\n",
      "100%|██████████| 7/7 [1:19:30<00:00, 740.39s/it]\u001b[A\u001b[A\u001b[A\u001b[A\u001b[A\n",
      "\n",
      "\n",
      "\n",
      "\n",
      "\u001b[A\u001b[A\u001b[A\u001b[A\u001b[A"
     ]
    },
    {
     "name": "stdout",
     "output_type": "stream",
     "text": [
      "\n"
     ]
    }
   ],
   "source": [
    "sentence_lengths=[10,25,50,100,200,400,800]\n",
    "val_hist_sentence=[]\n",
    "test_hist_sentence=[]\n",
    "for j in tqdm.trange(len(sentence_lengths)):\n",
    "    m=sentence_lengths[j]\n",
    "    val_acc, test_acc=run(max_vocab_size=50000,MAX_SENTENCE_LENGTH=m, emb_dim=100)\n",
    "    val_hist_sentence.append(val_acc)\n",
    "    test_hist_sentence.append(test_acc)\n",
    "\n"
   ]
  },
  {
   "cell_type": "markdown",
   "metadata": {},
   "source": [
    "## Accuracy evolution with the max sentence length"
   ]
  },
  {
   "cell_type": "code",
   "execution_count": 143,
   "metadata": {
    "collapsed": false
   },
   "outputs": [
    {
     "data": {
      "image/png": "[encoded data removed]",
      "text/plain": [
       "<matplotlib.figure.Figure at 0x224c5b198>"
      ]
     },
     "metadata": {},
     "output_type": "display_data"
    }
   ],
   "source": [
    "plt.plot(sentence_lengths,val_hist_sentence,label='Validation accuracy',marker=\"o\")\n",
    "plt.xlabel('Max Sentence length')\n",
    "plt.ylabel('Accuracy')\n",
    "plt.title('Accuracy vs Max Sentence length')\n",
    "plt.grid()"
   ]
  },
  {
   "cell_type": "markdown",
   "metadata": {},
   "source": [
    "Here we make a similar call to the one made for vocabulary size. A max sentence length of 200 allows to get to a decent result without needing as much computational power so we'll go with 200. We could also have chosen 400 since the curve seems to flatten after 400."
   ]
  },
  {
   "cell_type": "markdown",
   "metadata": {},
   "source": [
    "## Learning curve for each sentence length we chose"
   ]
  },
  {
   "cell_type": "code",
   "execution_count": 144,
   "metadata": {
    "collapsed": true
   },
   "outputs": [],
   "source": [
    "learning_curve_sentence10=[62.52,64.54,63.58,66.3,\n",
    "                           66.82,67.94,67.94,67.24,\n",
    "                           67.34,66.96,65.74,67.44,\n",
    "                           66.42,66.94,67.28,66.34,\n",
    "                           66.32,67.34,66.74,67.2,\n",
    "                           65.76,66.06,66.64,65.9,\n",
    "                           66.56,66.14,66.7,66.96,\n",
    "                           66.12,66.08,val_hist_sentence[0]]\n",
    "\n",
    "learning_curve_sentence25=[67.74,71.98,72.96,70.8,\n",
    "                           71.02,72.6,71.44,71.56,\n",
    "                           71.3,70.46,71.2,70.84,\n",
    "                           70.6,69.6,69.76,69.64,\n",
    "                           70.54,70.24,69.58,69.56,\n",
    "                           69.9,69.2,68.34,69.1,69.18,\n",
    "                           69.16,68.88,69.02,68.78,69.16,val_hist_sentence[1]]\n",
    "\n",
    "\n",
    "learning_curve_sentence50=[74.28,76.62,76.94,77.28,\n",
    "                           77.04,77.24,76.8,77.3,\n",
    "                           75.92,76.48,76.12,75.14,\n",
    "                           75.74,74.82,75.58,74.72,\n",
    "                           74.9,74.08,74.26,73.42,\n",
    "                           73.66,74.04,74.12,73.7,\n",
    "                           73.62,73.28,73.66,73.76,\n",
    "                           73.62,73.42,val_hist_sentence[2]]\n",
    "\n",
    "\n",
    "\n",
    "learning_curve_sentence100=[78.8,81.92,83.5,83.52,\n",
    "                            82.64,82.96,83.02,82.44,\n",
    "                            81.68,82.32,82.42,81.52,\n",
    "                            81.92,82.02,81.36,81.74,\n",
    "                            81.74,81.32,81.4,81.24,\n",
    "                            81.16,81.16,81.32,81.4,\n",
    "                            81.34,81.32,81.08,81.24,\n",
    "                            81.28,81.18,val_hist_sentence[3]]\n",
    "\n",
    "learning_curve_sentence200=[83.96,86.54,88.0,87.36,\n",
    "                            87.06,86.94,86.82,86.52,\n",
    "                            85.76,86.0,85.92,85.52,84.74,\n",
    "                            85.34,85.26,85.52,85.56,\n",
    "                            85.46,85.4,85.42,85.5,85.42,\n",
    "                            85.44,85.38,85.38,85.32,85.3,\n",
    "                            85.38,85.4,85.4,val_hist_sentence[4]]\n",
    "\n",
    "learning_curve_sentence400=[85.16,87.78,88.16,88.48,\n",
    "                            88.64,88.7,88.64,88.12,\n",
    "                            88.22,87.6,87.14,87.54,87.42,\n",
    "                            87.22,87.38,87.3,87.28,87.38,\n",
    "                            87.22,87.22,87.26,87.2,87.42,\n",
    "                            87.12,87.08,87.26,87.34,87.2,\n",
    "                            87.24,87.18,val_hist_sentence[5]]\n",
    "\n",
    "learning_curve_sentence800=[85.9,86.68,89.4,89.34,88.7,\n",
    "                            88.92,88.42,88.18,88.22,\n",
    "                            88.1,88.06,87.54,88.04,\n",
    "                            87.96,88.18,88.06,87.9,87.84,\n",
    "                            87.98,87.88,87.74,87.88,\n",
    "                            87.88,87.92,87.86,87.82,87.84,\n",
    "                            87.88,87.96,87.76,val_hist_sentence[6]]\n",
    "learning_curves_sentences=[learning_curve_sentence10,learning_curve_sentence25,learning_curve_sentence50,\n",
    "                          learning_curve_sentence100,learning_curve_sentence200,learning_curve_sentence400,\n",
    "                          learning_curve_sentence800]"
   ]
  },
  {
   "cell_type": "code",
   "execution_count": 145,
   "metadata": {
    "collapsed": false
   },
   "outputs": [
    {
     "data": {
      "image/png": "[encoded data removed]",
      "text/plain": [
       "<matplotlib.figure.Figure at 0x224f2b940>"
      ]
     },
     "metadata": {},
     "output_type": "display_data"
    }
   ],
   "source": [
    "for i in range(len(learning_curves_sentences)):\n",
    "    plt.plot(iterations,learning_curves_sentences[i],label=str(sentence_lengths[i]))\n",
    "plt.legend(bbox_to_anchor=(1.3, 1))\n",
    "plt.xlabel('Iterations')\n",
    "plt.ylabel('Accuracy')\n",
    "plt.title('Learning curves for different sentences length')\n",
    "plt.show()"
   ]
  },
  {
   "cell_type": "markdown",
   "metadata": {},
   "source": [
    "Here for the first time we have a parameter for which learning curves are all separated. However we notice that the differences in accuracy are lower as the sentences length decreases. We will choose 200 to compute faster but for the final test of our model we'll go for 400."
   ]
  },
  {
   "cell_type": "markdown",
   "metadata": {},
   "source": [
    "# 2-grams"
   ]
  },
  {
   "cell_type": "markdown",
   "metadata": {},
   "source": [
    "Here we redo all the previous tokenization we did for 1-gram but for 2 grams, 3 grams and 4 grams"
   ]
  },
  {
   "cell_type": "code",
   "execution_count": 80,
   "metadata": {
    "collapsed": false
   },
   "outputs": [
    {
     "name": "stdout",
     "output_type": "stream",
     "text": [
      "['apple is', 'is looking', 'looking at', 'at buying', 'buying u.k.', 'u.k. startup', 'startup for', 'for 1', '1 billion']\n"
     ]
    }
   ],
   "source": [
    "# Let's write the tokenization function \n",
    "\n",
    "import spacy\n",
    "import string\n",
    "\n",
    "# Load English tokenizer, tagger, parser, NER and word vectors\n",
    "tokenizer = spacy.load('en_core_web_sm')\n",
    "punctuations = string.punctuation\n",
    "\n",
    "def tokenize(sent):\n",
    "    tokens = tokenizer(sent)\n",
    "    return [token.text.lower() for token in tokens if (token.text not in punctuations)]\n",
    "\n",
    "\n",
    "# lowercase and remove punctuation\n",
    "def tokenize_n_grams(sent,n):\n",
    "    tokens = tokenize(sent)\n",
    "    final=[]\n",
    "    for i in range(len(tokens)-n+1):\n",
    "        gram=tokens[i]\n",
    "        for j in range(1,n):\n",
    "            gram=gram+' '+tokens[i+j]\n",
    "        final.append(gram)\n",
    "    return final\n",
    "\n",
    "# Example\n",
    "tokens = tokenize_n_grams(u'Apple is looking at buying U.K. startup for $1 billion',2)\n",
    "print (tokens)"
   ]
  },
  {
   "cell_type": "code",
   "execution_count": 81,
   "metadata": {
    "collapsed": false
   },
   "outputs": [
    {
     "name": "stdout",
     "output_type": "stream",
     "text": [
      "Tokenizing val data\n",
      "Tokenizing test data\n",
      "Tokenizing train data\n"
     ]
    }
   ],
   "source": [
    "import pickle as pkl\n",
    "\n",
    "def tokenize_dataset_ngrams(dataset,n):\n",
    "    token_dataset = []\n",
    "    # we are keeping track of all tokens in dataset \n",
    "    # in order to create vocabulary later\n",
    "    all_tokens = []\n",
    "    \n",
    "    for sample in dataset:\n",
    "        tokens = tokenize_n_grams(sample,n)\n",
    "        token_dataset.append(tokens)\n",
    "        all_tokens += tokens\n",
    "\n",
    "    return token_dataset, all_tokens\n",
    "\n",
    "# val set tokens\n",
    "print (\"Tokenizing val data\")\n",
    "val_data_tokens_2grams, _ = tokenize_dataset_ngrams(val_data,2)\n",
    "pkl.dump(val_data_tokens_2grams, open(\"val_data_tokens_2grams.p\", \"wb\"))\n",
    "\n",
    "# test set tokens\n",
    "print (\"Tokenizing test data\")\n",
    "test_data_tokens_2grams, _ = tokenize_dataset_ngrams(test_data,2)\n",
    "pkl.dump(test_data_tokens_2grams, open(\"test_data_tokens_2grams.p\", \"wb\"))\n",
    "\n",
    "# train set tokens\n",
    "print (\"Tokenizing train data\")\n",
    "train_data_tokens_2grams, all_train_tokens_2grams = tokenize_dataset_ngrams(train_data,2)\n",
    "pkl.dump(train_data_tokens_2grams, open(\"train_data_tokens_2grams.p\", \"wb\"))\n",
    "pkl.dump(all_train_tokens_2grams, open(\"all_train_tokens_2grams.p\", \"wb\"))\n",
    "\n"
   ]
  },
  {
   "cell_type": "code",
   "execution_count": 83,
   "metadata": {
    "collapsed": false
   },
   "outputs": [
    {
     "name": "stdout",
     "output_type": "stream",
     "text": [
      "['apple is looking', 'is looking at', 'looking at buying', 'at buying u.k.', 'buying u.k. startup', 'u.k. startup for', 'startup for 1', 'for 1 billion']\n"
     ]
    }
   ],
   "source": [
    "tokens = tokenize_n_grams(u'Apple is looking at buying U.K. startup for $1 billion',3)\n",
    "print (tokens)"
   ]
  },
  {
   "cell_type": "markdown",
   "metadata": {},
   "source": [
    "# 3 grams"
   ]
  },
  {
   "cell_type": "code",
   "execution_count": 84,
   "metadata": {
    "collapsed": false
   },
   "outputs": [
    {
     "name": "stdout",
     "output_type": "stream",
     "text": [
      "Tokenizing val data\n",
      "Tokenizing test data\n",
      "Tokenizing train data\n"
     ]
    }
   ],
   "source": [
    "\n",
    "# val set tokens\n",
    "print (\"Tokenizing val data\")\n",
    "val_data_tokens_3grams, _ = tokenize_dataset_ngrams(val_data,3)\n",
    "pkl.dump(val_data_tokens_3grams, open(\"val_data_tokens_3grams.p\", \"wb\"))\n",
    "\n",
    "# test set tokens\n",
    "print (\"Tokenizing test data\")\n",
    "test_data_tokens_3grams, _ = tokenize_dataset_ngrams(test_data,3)\n",
    "pkl.dump(test_data_tokens_3grams, open(\"test_data_tokens_3grams.p\", \"wb\"))\n",
    "\n",
    "# train set tokens\n",
    "print (\"Tokenizing train data\")\n",
    "train_data_tokens_3grams, all_train_tokens_3grams = tokenize_dataset_ngrams(train_data,3)\n",
    "pkl.dump(train_data_tokens_3grams, open(\"train_data_tokens_3grams.p\", \"wb\"))\n",
    "pkl.dump(all_train_tokens_3grams, open(\"all_train_tokens_3grams.p\", \"wb\"))\n",
    "\n",
    "\n"
   ]
  },
  {
   "cell_type": "markdown",
   "metadata": {},
   "source": [
    "# 4 grams"
   ]
  },
  {
   "cell_type": "code",
   "execution_count": 85,
   "metadata": {
    "collapsed": false
   },
   "outputs": [
    {
     "name": "stdout",
     "output_type": "stream",
     "text": [
      "Tokenizing val data\n",
      "Tokenizing test data\n",
      "Tokenizing train data\n"
     ]
    }
   ],
   "source": [
    "# val set tokens\n",
    "print (\"Tokenizing val data\")\n",
    "val_data_tokens_4grams, _ = tokenize_dataset_ngrams(val_data,4)\n",
    "pkl.dump(val_data_tokens_4grams, open(\"val_data_tokens_4grams.p\", \"wb\"))\n",
    "\n",
    "# test set tokens\n",
    "print (\"Tokenizing test data\")\n",
    "test_data_tokens_4grams, _ = tokenize_dataset_ngrams(test_data,4)\n",
    "pkl.dump(test_data_tokens_4grams, open(\"test_data_tokens_4grams.p\", \"wb\"))\n",
    "\n",
    "# train set tokens\n",
    "print (\"Tokenizing train data\")\n",
    "train_data_tokens_4grams, all_train_tokens_4grams = tokenize_dataset_ngrams(train_data,4)\n",
    "pkl.dump(train_data_tokens_4grams, open(\"train_data_tokens_4grams.p\", \"wb\"))\n",
    "pkl.dump(all_train_tokens_4grams, open(\"all_train_tokens_4grams.p\", \"wb\"))"
   ]
  },
  {
   "cell_type": "markdown",
   "metadata": {},
   "source": [
    "# Create a function to play with hyperparameters along with n parameter (n-grams)"
   ]
  },
  {
   "cell_type": "code",
   "execution_count": 7,
   "metadata": {
    "collapsed": false
   },
   "outputs": [],
   "source": [
    "from collections import Counter\n",
    "import os\n",
    "import random\n",
    "import math\n",
    "import tqdm\n",
    "import numpy as np\n",
    "\n",
    "\n",
    "# save index 0 for unk and 1 for pad\n",
    "PAD_IDX = 0\n",
    "UNK_IDX = 1\n",
    "def run_ngrams(val_data_tokens_ngrams,train_data_tokens_ngrams,test_data_tokens_ngrams,all_train_tokens_ngrams,\n",
    "               max_vocab_size=50000, MAX_SENTENCE_LENGTH = 200, BATCH_SIZE = 32, \n",
    "               emb_dim = 100, learning_rate = 0.01, num_epochs = 10):\n",
    "\n",
    "\n",
    "    def build_vocab(all_tokens):\n",
    "        # Returns:\n",
    "        # id2token: list of tokens, where id2token[i] returns token that corresponds to token i\n",
    "        # token2id: dictionary where keys represent tokens and corresponding values represent indices\n",
    "        token_counter = Counter(all_tokens)\n",
    "        vocab, count = zip(*token_counter.most_common(max_vocab_size))\n",
    "        id2token = list(vocab)\n",
    "        token2id = dict(zip(vocab, range(2,2+len(vocab)))) \n",
    "        id2token = ['<pad>', '<unk>'] + id2token\n",
    "        token2id['<pad>'] = PAD_IDX \n",
    "        token2id['<unk>'] = UNK_IDX\n",
    "        return token2id, id2token\n",
    "\n",
    "    # convert token to id in the dataset\n",
    "    def token2index_dataset(tokens_data):\n",
    "        indices_data = []\n",
    "        for tokens in tokens_data:\n",
    "            index_list = [token2id[token] if token in token2id else UNK_IDX for token in tokens]\n",
    "            indices_data.append(index_list)\n",
    "        return indices_data\n",
    "\n",
    "\n",
    "    import numpy as np\n",
    "    import torch\n",
    "    from torch.utils.data import Dataset\n",
    "\n",
    "    class NewsGroupDataset(Dataset):\n",
    "        \"\"\"\n",
    "        Class that represents a train/validation/test dataset that's readable for PyTorch\n",
    "        Note that this class inherits torch.utils.data.Dataset\n",
    "        \"\"\"\n",
    "\n",
    "        def __init__(self, data_list, target_list):\n",
    "            \"\"\"\n",
    "            @param data_list: list of newsgroup tokens \n",
    "            @param target_list: list of newsgroup targets \n",
    "\n",
    "            \"\"\"\n",
    "            self.data_list = data_list\n",
    "            self.target_list = target_list\n",
    "            assert (len(self.data_list) == len(self.target_list))\n",
    "\n",
    "        def __len__(self):\n",
    "            return len(self.data_list)\n",
    "\n",
    "        def __getitem__(self, key):\n",
    "            \"\"\"\n",
    "            Triggered when you call dataset[i]\n",
    "            \"\"\"\n",
    "\n",
    "            token_idx = self.data_list[key][:MAX_SENTENCE_LENGTH]\n",
    "            label = self.target_list[key]\n",
    "            return [token_idx, len(token_idx), label]\n",
    "\n",
    "    def newsgroup_collate_func(batch):\n",
    "        \"\"\"\n",
    "        Customized function for DataLoader that dynamically pads the batch so that all \n",
    "        data have the same length\n",
    "        \"\"\"\n",
    "        data_list = []\n",
    "        label_list = []\n",
    "        length_list = []\n",
    "        #print(\"collate batch: \", batch[0][0])\n",
    "        #batch[0][0] = batch[0][0][:MAX_SENTENCE_LENGTH]\n",
    "        for datum in batch:\n",
    "            label_list.append(datum[2])\n",
    "            length_list.append(datum[1])\n",
    "        # padding\n",
    "        for datum in batch:\n",
    "            padded_vec = np.pad(np.array(datum[0]), \n",
    "                                    pad_width=((0,MAX_SENTENCE_LENGTH-datum[1])), \n",
    "                                    mode=\"constant\", constant_values=0)\n",
    "            data_list.append(padded_vec)\n",
    "        return [torch.from_numpy(np.array(data_list)), torch.LongTensor(length_list), torch.LongTensor(label_list)]\n",
    "\n",
    "    \"change here\"\n",
    "    token2id, id2token = build_vocab(all_train_tokens_ngrams)\n",
    "\n",
    "    # Lets check the dictionary by loading random token from it\n",
    "\n",
    "    random_token_id = random.randint(0, len(id2token)-1)\n",
    "    random_token = id2token[random_token_id]\n",
    "\n",
    "    #print (\"Token id {} ; token {}\".format(random_token_id, id2token[random_token_id]))\n",
    "    #print (\"Token {}; token id {}\".format(random_token, token2id[random_token]))\n",
    "\n",
    "    # convert token to id in the dataset\n",
    "    \"change here\"\n",
    "\n",
    "    train_data_indices = token2index_dataset(train_data_tokens_ngrams)\n",
    "    val_data_indices = token2index_dataset(val_data_tokens_ngrams)\n",
    "    test_data_indices = token2index_dataset(test_data_tokens_ngrams)\n",
    "\n",
    "    # double checking\n",
    "    #print (\"Train dataset size is {}\".format(len(train_data_indices)))\n",
    "    #print (\"Val dataset size is {}\".format(len(val_data_indices)))\n",
    "    #print (\"Test dataset size is {}\".format(len(test_data_indices)))\n",
    "\n",
    "    import numpy as np\n",
    "    import torch\n",
    "    from torch.utils.data import Dataset\n",
    "\n",
    "    class NewsGroupDataset(Dataset):\n",
    "        \"\"\"\n",
    "        Class that represents a train/validation/test dataset that's readable for PyTorch\n",
    "        Note that this class inherits torch.utils.data.Dataset\n",
    "        \"\"\"\n",
    "\n",
    "        def __init__(self, data_list, target_list):\n",
    "            \"\"\"\n",
    "            @param data_list: list of newsgroup tokens \n",
    "            @param target_list: list of newsgroup targets \n",
    "\n",
    "            \"\"\"\n",
    "            self.data_list = data_list\n",
    "            self.target_list = target_list\n",
    "            assert (len(self.data_list) == len(self.target_list))\n",
    "\n",
    "        def __len__(self):\n",
    "            return len(self.data_list)\n",
    "\n",
    "        def __getitem__(self, key):\n",
    "            \"\"\"\n",
    "            Triggered when you call dataset[i]\n",
    "            \"\"\"\n",
    "\n",
    "            token_idx = self.data_list[key][:MAX_SENTENCE_LENGTH]\n",
    "            label = self.target_list[key]\n",
    "            return [token_idx, len(token_idx), label]\n",
    "\n",
    "    def newsgroup_collate_func(batch):\n",
    "        \"\"\"\n",
    "        Customized function for DataLoader that dynamically pads the batch so that all \n",
    "        data have the same length\n",
    "        \"\"\"\n",
    "        data_list = []\n",
    "        label_list = []\n",
    "        length_list = []\n",
    "        #print(\"collate batch: \", batch[0][0])\n",
    "        #batch[0][0] = batch[0][0][:MAX_SENTENCE_LENGTH]\n",
    "        for datum in batch:\n",
    "            label_list.append(datum[2])\n",
    "            length_list.append(datum[1])\n",
    "        # padding\n",
    "        for datum in batch:\n",
    "            padded_vec = np.pad(np.array(datum[0]), \n",
    "                                    pad_width=((0,MAX_SENTENCE_LENGTH-datum[1])), \n",
    "                                    mode=\"constant\", constant_values=0)\n",
    "            data_list.append(padded_vec)\n",
    "        return [torch.from_numpy(np.array(data_list)), torch.LongTensor(length_list), torch.LongTensor(label_list)]\n",
    "\n",
    "    # create pytorch dataloader\n",
    "    #train_loader = NewsGroupDataset(train_data_indices, train_targets)\n",
    "    #val_loader = NewsGroupDataset(val_data_indices, val_targets)\n",
    "    #test_loader = NewsGroupDataset(test_data_indices, test_targets)\n",
    "\n",
    "    train_dataset = NewsGroupDataset(train_data_indices, train_target)\n",
    "    train_loader = torch.utils.data.DataLoader(dataset=train_dataset, \n",
    "                                               batch_size=BATCH_SIZE,\n",
    "                                               collate_fn=newsgroup_collate_func,\n",
    "                                               shuffle=True)\n",
    "\n",
    "    val_dataset = NewsGroupDataset(val_data_indices, val_target)\n",
    "    val_loader = torch.utils.data.DataLoader(dataset=val_dataset, \n",
    "                                               batch_size=BATCH_SIZE,\n",
    "                                               collate_fn=newsgroup_collate_func,\n",
    "                                               shuffle=True)\n",
    "\n",
    "    test_dataset = NewsGroupDataset(test_data_indices, test_target)\n",
    "    test_loader = torch.utils.data.DataLoader(dataset=test_dataset, \n",
    "                                               batch_size=BATCH_SIZE,\n",
    "                                               collate_fn=newsgroup_collate_func,\n",
    "                                               shuffle=False)\n",
    "\n",
    "    #for i, (data, lengths, labels) in enumerate(train_loader):\n",
    "    #    print (data)\n",
    "    #    print (labels)\n",
    "    #    break\n",
    "\n",
    "    # First import torch related libraries\n",
    "    import torch\n",
    "    import torch.nn as nn\n",
    "    import torch.nn.functional as F\n",
    "\n",
    "    class BagOfWords(nn.Module):\n",
    "        \"\"\"\n",
    "        BagOfWords classification model\n",
    "        \"\"\"\n",
    "        def __init__(self, vocab_size, emb_dim):\n",
    "            \"\"\"\n",
    "            @param vocab_size: size of the vocabulary. \n",
    "            @param emb_dim: size of the word embedding\n",
    "            \"\"\"\n",
    "            super(BagOfWords, self).__init__()\n",
    "            # pay attention to padding_idx \n",
    "            self.embed = nn.Embedding(vocab_size, emb_dim, padding_idx=0)\n",
    "            self.linear = nn.Linear(emb_dim,20)\n",
    "\n",
    "        def forward(self, data, length):\n",
    "            \"\"\"\n",
    "\n",
    "            @param data: matrix of size (batch_size, max_sentence_length). Each row in data represents a \n",
    "                review that is represented using n-gram index. Note that they are padded to have same length.\n",
    "            @param length: an int tensor of size (batch_size), which represents the non-trivial (excludes padding)\n",
    "                length of each sentences in the data.\n",
    "            \"\"\"\n",
    "            out = self.embed(data)\n",
    "            out = torch.sum(out, dim=1)\n",
    "            out /= length.view(length.size()[0],1).expand_as(out).float()\n",
    "\n",
    "            # return logits\n",
    "            out = self.linear(out.float())\n",
    "            return out\n",
    "\n",
    "    model = BagOfWords(len(id2token), emb_dim)\n",
    "\n",
    "\n",
    "    # Criterion and Optimizer\n",
    "    criterion = torch.nn.CrossEntropyLoss()  \n",
    "    optimizer = torch.optim.Adam(model.parameters(), lr=learning_rate)\n",
    "\n",
    "    # Function for testing the model\n",
    "    def test_model(loader, model):\n",
    "        \"\"\"\n",
    "        Help function that tests the model's performance on a dataset\n",
    "        @param: loader - data loader for the dataset to test against\n",
    "        \"\"\"\n",
    "        correct = 0\n",
    "        total = 0\n",
    "        model.eval()\n",
    "        for data, lengths, labels in loader:\n",
    "            data_batch, length_batch, label_batch = data, lengths, labels\n",
    "            outputs = F.softmax(model(data_batch, length_batch), dim=1)\n",
    "            predicted = outputs.max(1, keepdim=True)[1]\n",
    "\n",
    "            total += labels.size(0)\n",
    "            correct += predicted.eq(labels.view_as(predicted)).sum().item()\n",
    "        return (100 * correct / total)\n",
    "\n",
    "    for epoch in range(num_epochs):\n",
    "        for i, (data, lengths, labels) in enumerate(train_loader):\n",
    "            model.train()\n",
    "            data_batch, length_batch, label_batch = data, lengths, labels\n",
    "            optimizer.zero_grad()\n",
    "            outputs = model(data_batch, length_batch)\n",
    "            loss = criterion(outputs, label_batch)\n",
    "            loss.backward()\n",
    "            optimizer.step()\n",
    "            # validate every 200 iterations\n",
    "            if i > 0 and i % 200 == 0:\n",
    "                # validate\n",
    "                val_acc = test_model(val_loader, model)\n",
    "                print('Epoch: [{}/{}], Step: [{}/{}], Validation Acc: {}'.format( \n",
    "                           epoch+1, num_epochs, i+1, len(train_loader), val_acc))\n",
    "    return test_model(val_loader, model), test_model(test_loader, model)\n",
    "\n"
   ]
  },
  {
   "cell_type": "markdown",
   "metadata": {},
   "source": [
    "# Run the function with the hyperparameters chosen before"
   ]
  },
  {
   "cell_type": "markdown",
   "metadata": {},
   "source": [
    "i.e. \n",
    "\n",
    "1) Vocabulary size $=50.000$\n",
    "\n",
    "2) Embedding size $=100$\n",
    "\n",
    "3) $10$ epochs\n",
    "\n",
    "4) Max sentence length $=200$\n",
    "\n",
    "AND we modify $n$ in $n-$grams "
   ]
  },
  {
   "cell_type": "code",
   "execution_count": 153,
   "metadata": {
    "collapsed": false
   },
   "outputs": [
    {
     "name": "stdout",
     "output_type": "stream",
     "text": [
      "Epoch: [1/10], Step: [201/625], Validation Acc: 82.14\n",
      "Epoch: [1/10], Step: [401/625], Validation Acc: 85.34\n",
      "Epoch: [1/10], Step: [601/625], Validation Acc: 84.76\n",
      "Epoch: [2/10], Step: [201/625], Validation Acc: 85.44\n",
      "Epoch: [2/10], Step: [401/625], Validation Acc: 85.32\n",
      "Epoch: [2/10], Step: [601/625], Validation Acc: 84.62\n",
      "Epoch: [3/10], Step: [201/625], Validation Acc: 85.04\n",
      "Epoch: [3/10], Step: [401/625], Validation Acc: 85.24\n",
      "Epoch: [3/10], Step: [601/625], Validation Acc: 85.42\n",
      "Epoch: [4/10], Step: [201/625], Validation Acc: 85.48\n",
      "Epoch: [4/10], Step: [401/625], Validation Acc: 85.56\n",
      "Epoch: [4/10], Step: [601/625], Validation Acc: 85.44\n",
      "Epoch: [5/10], Step: [201/625], Validation Acc: 85.4\n",
      "Epoch: [5/10], Step: [401/625], Validation Acc: 85.38\n",
      "Epoch: [5/10], Step: [601/625], Validation Acc: 85.44\n",
      "Epoch: [6/10], Step: [201/625], Validation Acc: 85.44\n",
      "Epoch: [6/10], Step: [401/625], Validation Acc: 85.42\n",
      "Epoch: [6/10], Step: [601/625], Validation Acc: 85.46\n",
      "Epoch: [7/10], Step: [201/625], Validation Acc: 85.5\n",
      "Epoch: [7/10], Step: [401/625], Validation Acc: 85.28\n",
      "Epoch: [7/10], Step: [601/625], Validation Acc: 85.26\n",
      "Epoch: [8/10], Step: [201/625], Validation Acc: 85.32\n",
      "Epoch: [8/10], Step: [401/625], Validation Acc: 85.34\n",
      "Epoch: [8/10], Step: [601/625], Validation Acc: 85.22\n",
      "Epoch: [9/10], Step: [201/625], Validation Acc: 85.3\n",
      "Epoch: [9/10], Step: [401/625], Validation Acc: 85.36\n",
      "Epoch: [9/10], Step: [601/625], Validation Acc: 85.2\n",
      "Epoch: [10/10], Step: [201/625], Validation Acc: 85.24\n",
      "Epoch: [10/10], Step: [401/625], Validation Acc: 85.26\n",
      "Epoch: [10/10], Step: [601/625], Validation Acc: 85.22\n"
     ]
    }
   ],
   "source": [
    "val_acc2,test_acc2=run_ngrams(val_data_tokens_2grams,train_data_tokens_2grams,\n",
    "                              test_data_tokens_2grams,all_train_tokens_2grams)"
   ]
  },
  {
   "cell_type": "code",
   "execution_count": 154,
   "metadata": {
    "collapsed": false
   },
   "outputs": [
    {
     "name": "stdout",
     "output_type": "stream",
     "text": [
      "Epoch: [1/10], Step: [201/625], Validation Acc: 76.32\n",
      "Epoch: [1/10], Step: [401/625], Validation Acc: 76.68\n",
      "Epoch: [1/10], Step: [601/625], Validation Acc: 77.14\n",
      "Epoch: [2/10], Step: [201/625], Validation Acc: 81.88\n",
      "Epoch: [2/10], Step: [401/625], Validation Acc: 81.68\n",
      "Epoch: [2/10], Step: [601/625], Validation Acc: 80.16\n",
      "Epoch: [3/10], Step: [201/625], Validation Acc: 81.48\n",
      "Epoch: [3/10], Step: [401/625], Validation Acc: 81.46\n",
      "Epoch: [3/10], Step: [601/625], Validation Acc: 81.18\n",
      "Epoch: [4/10], Step: [201/625], Validation Acc: 80.92\n",
      "Epoch: [4/10], Step: [401/625], Validation Acc: 80.44\n",
      "Epoch: [4/10], Step: [601/625], Validation Acc: 80.6\n",
      "Epoch: [5/10], Step: [201/625], Validation Acc: 80.68\n",
      "Epoch: [5/10], Step: [401/625], Validation Acc: 80.6\n",
      "Epoch: [5/10], Step: [601/625], Validation Acc: 80.52\n",
      "Epoch: [6/10], Step: [201/625], Validation Acc: 80.52\n",
      "Epoch: [6/10], Step: [401/625], Validation Acc: 80.56\n",
      "Epoch: [6/10], Step: [601/625], Validation Acc: 80.46\n",
      "Epoch: [7/10], Step: [201/625], Validation Acc: 80.32\n",
      "Epoch: [7/10], Step: [401/625], Validation Acc: 80.44\n",
      "Epoch: [7/10], Step: [601/625], Validation Acc: 80.48\n",
      "Epoch: [8/10], Step: [201/625], Validation Acc: 80.62\n",
      "Epoch: [8/10], Step: [401/625], Validation Acc: 79.12\n",
      "Epoch: [8/10], Step: [601/625], Validation Acc: 80.58\n",
      "Epoch: [9/10], Step: [201/625], Validation Acc: 80.44\n",
      "Epoch: [9/10], Step: [401/625], Validation Acc: 80.46\n",
      "Epoch: [9/10], Step: [601/625], Validation Acc: 80.22\n",
      "Epoch: [10/10], Step: [201/625], Validation Acc: 80.16\n",
      "Epoch: [10/10], Step: [401/625], Validation Acc: 80.32\n",
      "Epoch: [10/10], Step: [601/625], Validation Acc: 80.36\n"
     ]
    }
   ],
   "source": [
    "val_acc3,test_acc3=run_ngrams(val_data_tokens_3grams,train_data_tokens_3grams,\n",
    "                              test_data_tokens_3grams,all_train_tokens_3grams)"
   ]
  },
  {
   "cell_type": "code",
   "execution_count": 155,
   "metadata": {
    "collapsed": false
   },
   "outputs": [
    {
     "name": "stdout",
     "output_type": "stream",
     "text": [
      "Epoch: [1/10], Step: [201/625], Validation Acc: 51.56\n",
      "Epoch: [1/10], Step: [401/625], Validation Acc: 72.62\n",
      "Epoch: [1/10], Step: [601/625], Validation Acc: 72.22\n",
      "Epoch: [2/10], Step: [201/625], Validation Acc: 75.74\n",
      "Epoch: [2/10], Step: [401/625], Validation Acc: 75.26\n",
      "Epoch: [2/10], Step: [601/625], Validation Acc: 75.98\n",
      "Epoch: [3/10], Step: [201/625], Validation Acc: 75.4\n",
      "Epoch: [3/10], Step: [401/625], Validation Acc: 72.92\n",
      "Epoch: [3/10], Step: [601/625], Validation Acc: 75.24\n",
      "Epoch: [4/10], Step: [201/625], Validation Acc: 74.84\n",
      "Epoch: [4/10], Step: [401/625], Validation Acc: 74.78\n",
      "Epoch: [4/10], Step: [601/625], Validation Acc: 73.54\n",
      "Epoch: [5/10], Step: [201/625], Validation Acc: 74.08\n",
      "Epoch: [5/10], Step: [401/625], Validation Acc: 74.16\n",
      "Epoch: [5/10], Step: [601/625], Validation Acc: 74.44\n",
      "Epoch: [6/10], Step: [201/625], Validation Acc: 73.32\n",
      "Epoch: [6/10], Step: [401/625], Validation Acc: 74.26\n",
      "Epoch: [6/10], Step: [601/625], Validation Acc: 73.8\n",
      "Epoch: [7/10], Step: [201/625], Validation Acc: 74.04\n",
      "Epoch: [7/10], Step: [401/625], Validation Acc: 74.02\n",
      "Epoch: [7/10], Step: [601/625], Validation Acc: 73.88\n",
      "Epoch: [8/10], Step: [201/625], Validation Acc: 71.88\n",
      "Epoch: [8/10], Step: [401/625], Validation Acc: 73.06\n",
      "Epoch: [8/10], Step: [601/625], Validation Acc: 73.86\n",
      "Epoch: [9/10], Step: [201/625], Validation Acc: 73.82\n",
      "Epoch: [9/10], Step: [401/625], Validation Acc: 73.14\n",
      "Epoch: [9/10], Step: [601/625], Validation Acc: 73.28\n",
      "Epoch: [10/10], Step: [201/625], Validation Acc: 71.24\n",
      "Epoch: [10/10], Step: [401/625], Validation Acc: 72.1\n",
      "Epoch: [10/10], Step: [601/625], Validation Acc: 72.94\n"
     ]
    }
   ],
   "source": [
    "val_acc4,test_acc4=run_ngrams(val_data_tokens_4grams,train_data_tokens_4grams,\n",
    "                              test_data_tokens_4grams,all_train_tokens_4grams)"
   ]
  },
  {
   "cell_type": "code",
   "execution_count": 156,
   "metadata": {
    "collapsed": false
   },
   "outputs": [],
   "source": [
    "val_acc=(val_hist_sentence[4]) #value achieved for 1 gram with those same values for the hyperparameters"
   ]
  },
  {
   "cell_type": "code",
   "execution_count": 192,
   "metadata": {
    "collapsed": false
   },
   "outputs": [
    {
     "data": {
      "image/png": "[encoded data removed]",
      "text/plain": [
       "<matplotlib.figure.Figure at 0x24203d518>"
      ]
     },
     "metadata": {},
     "output_type": "display_data"
    }
   ],
   "source": [
    "plt.plot([1,2,3,4],[val_acc,val_acc2,val_acc3,val_acc4],label='Validation accuracy',marker=\"o\")\n",
    "plt.xlabel('n')\n",
    "plt.ylabel('Accuracy')\n",
    "plt.title('Accuracy vs n')\n",
    "plt.grid()"
   ]
  },
  {
   "cell_type": "code",
   "execution_count": 160,
   "metadata": {
    "collapsed": false
   },
   "outputs": [
    {
     "name": "stdout",
     "output_type": "stream",
     "text": [
      "The accuracy achieved with 1gram is: 85.3\n",
      "The accuracy achieved with 2gram is: 85.24\n",
      "The accuracy achieved with 3gram is: 80.36\n",
      "The accuracy achieved with 4gram is: 72.28\n"
     ]
    }
   ],
   "source": [
    "print('The accuracy achieved with 1gram is: '+str(val_acc))\n",
    "print('The accuracy achieved with 2gram is: '+str(val_acc2))\n",
    "print('The accuracy achieved with 3gram is: '+str(val_acc3))\n",
    "print('The accuracy achieved with 4gram is: '+str(val_acc4))"
   ]
  },
  {
   "cell_type": "markdown",
   "metadata": {},
   "source": [
    "We see that 3 and 4 grams don't perform as well and it's a quite significant difference. Therefore, for the follwing hyperparameters, we'll focus on 2-grams and see if 2 grams can outperform 1-gram for some hyperparameters values."
   ]
  },
  {
   "cell_type": "markdown",
   "metadata": {},
   "source": [
    "## Learning curves depending on n"
   ]
  },
  {
   "cell_type": "code",
   "execution_count": 167,
   "metadata": {
    "collapsed": true
   },
   "outputs": [],
   "source": [
    "learning_curve_2grams=[82.14,85.34,84.76,85.44,\n",
    "                       85.32,84.62,85.04,85.24,\n",
    "                       85.42,85.48,85.56,85.44,\n",
    "                       85.4,85.38,85.44,85.44,\n",
    "                       85.42,85.46,85.5,85.28,\n",
    "                       85.26,85.32,85.34,85.22,\n",
    "                       85.3,85.36,85.2,85.24,85.26,85.22,val_acc2]\n",
    "\n",
    "learning_curve_3grams=[76.32,76.68,77.14,81.88,\n",
    "                       81.68,80.16,81.48,81.46,\n",
    "                       81.18,80.92,80.44,80.6,\n",
    "                       80.68,80.6,80.52,80.52,\n",
    "                       80.56,80.46,80.32,80.44,\n",
    "                       80.48,80.62,79.12,80.58,\n",
    "                       80.44,80.46,80.22,80.16,80.32,80.36,val_acc3]\n",
    "\n",
    "learning_curve_4grams=[51.56,72.62,72.22,75.74,75.26,\n",
    "                       75.98,75.4,72.92,75.24,74.84,\n",
    "                       74.78,73.54,74.08,74.16,74.44,\n",
    "                       73.32,74.26,73.8,74.04,74.02,\n",
    "                       73.88,71.88,73.06,73.86,73.82,\n",
    "                       73.14,73.28,71.24,72.1,72.94,val_acc4]\n",
    "\n",
    "curves_ngrams=[learning_curve_sentence200,learning_curve_2grams,learning_curve_3grams,learning_curve_4grams]"
   ]
  },
  {
   "cell_type": "code",
   "execution_count": 168,
   "metadata": {
    "collapsed": false
   },
   "outputs": [
    {
     "data": {
      "image/png": "[encoded data removed]",
      "text/plain": [
       "<matplotlib.figure.Figure at 0x224964ac8>"
      ]
     },
     "metadata": {},
     "output_type": "display_data"
    }
   ],
   "source": [
    "for i in range(len(curves_ngrams)):\n",
    "    plt.plot(iterations,curves_ngrams[i],label='n='+str(i))\n",
    "plt.legend(bbox_to_anchor=(1.3, 1))\n",
    "plt.xlabel('Iterations')\n",
    "plt.ylabel('Accuracy')\n",
    "plt.title('Learning curves for different values of n-grams')\n",
    "plt.show()"
   ]
  },
  {
   "cell_type": "markdown",
   "metadata": {},
   "source": [
    "# Optimization parameters"
   ]
  },
  {
   "cell_type": "markdown",
   "metadata": {},
   "source": [
    "Here we'll first change the learning rate and see the impact of it on the accuracy. We'll do that for 1 gram first."
   ]
  },
  {
   "cell_type": "code",
   "execution_count": 165,
   "metadata": {
    "collapsed": true
   },
   "outputs": [],
   "source": [
    "learning_rates=[0.001,0.005,0.01,0.05,0.1,0.5]"
   ]
  },
  {
   "cell_type": "markdown",
   "metadata": {},
   "source": [
    "## Learning rate"
   ]
  },
  {
   "cell_type": "markdown",
   "metadata": {},
   "source": [
    "### 1gram"
   ]
  },
  {
   "cell_type": "code",
   "execution_count": 170,
   "metadata": {
    "collapsed": false
   },
   "outputs": [
    {
     "name": "stderr",
     "output_type": "stream",
     "text": [
      "\n",
      "\n",
      "\n",
      "\n",
      "\n",
      "\n",
      "\n",
      "  0%|          | 0/6 [00:00<?, ?it/s]\u001b[A\u001b[A\u001b[A\u001b[A\u001b[A\u001b[A\u001b[A"
     ]
    },
    {
     "name": "stdout",
     "output_type": "stream",
     "text": [
      "Epoch: [1/10], Step: [201/625], Validation Acc: 59.3\n",
      "Epoch: [1/10], Step: [401/625], Validation Acc: 60.84\n",
      "Epoch: [1/10], Step: [601/625], Validation Acc: 63.82\n",
      "Epoch: [2/10], Step: [201/625], Validation Acc: 76.74\n",
      "Epoch: [2/10], Step: [401/625], Validation Acc: 79.6\n",
      "Epoch: [2/10], Step: [601/625], Validation Acc: 80.02\n",
      "Epoch: [3/10], Step: [201/625], Validation Acc: 81.82\n",
      "Epoch: [3/10], Step: [401/625], Validation Acc: 83.24\n",
      "Epoch: [3/10], Step: [601/625], Validation Acc: 84.38\n",
      "Epoch: [4/10], Step: [201/625], Validation Acc: 84.42\n",
      "Epoch: [4/10], Step: [401/625], Validation Acc: 84.48\n",
      "Epoch: [4/10], Step: [601/625], Validation Acc: 85.54\n",
      "Epoch: [5/10], Step: [201/625], Validation Acc: 85.3\n",
      "Epoch: [5/10], Step: [401/625], Validation Acc: 85.82\n",
      "Epoch: [5/10], Step: [601/625], Validation Acc: 85.94\n",
      "Epoch: [6/10], Step: [201/625], Validation Acc: 85.9\n",
      "Epoch: [6/10], Step: [401/625], Validation Acc: 86.24\n",
      "Epoch: [6/10], Step: [601/625], Validation Acc: 86.14\n",
      "Epoch: [7/10], Step: [201/625], Validation Acc: 85.82\n",
      "Epoch: [7/10], Step: [401/625], Validation Acc: 85.94\n",
      "Epoch: [7/10], Step: [601/625], Validation Acc: 85.94\n",
      "Epoch: [8/10], Step: [201/625], Validation Acc: 85.88\n",
      "Epoch: [8/10], Step: [401/625], Validation Acc: 86.08\n",
      "Epoch: [8/10], Step: [601/625], Validation Acc: 85.86\n",
      "Epoch: [9/10], Step: [201/625], Validation Acc: 85.94\n",
      "Epoch: [9/10], Step: [401/625], Validation Acc: 85.52\n",
      "Epoch: [9/10], Step: [601/625], Validation Acc: 85.54\n",
      "Epoch: [10/10], Step: [201/625], Validation Acc: 85.76\n",
      "Epoch: [10/10], Step: [401/625], Validation Acc: 85.62\n",
      "Epoch: [10/10], Step: [601/625], Validation Acc: 85.72"
     ]
    },
    {
     "name": "stderr",
     "output_type": "stream",
     "text": [
      "\n",
      "\n",
      "\n",
      "\n",
      "\n",
      "\n",
      "\n",
      " 17%|█▋        | 1/6 [09:54<49:31, 594.29s/it]\u001b[A\u001b[A\u001b[A\u001b[A\u001b[A\u001b[A\u001b[A"
     ]
    },
    {
     "name": "stdout",
     "output_type": "stream",
     "text": [
      "\n",
      "Epoch: [1/10], Step: [201/625], Validation Acc: 75.72\n",
      "Epoch: [1/10], Step: [401/625], Validation Acc: 83.66\n",
      "Epoch: [1/10], Step: [601/625], Validation Acc: 85.34\n",
      "Epoch: [2/10], Step: [201/625], Validation Acc: 86.08\n",
      "Epoch: [2/10], Step: [401/625], Validation Acc: 85.9\n",
      "Epoch: [2/10], Step: [601/625], Validation Acc: 85.88\n",
      "Epoch: [3/10], Step: [201/625], Validation Acc: 86.3\n",
      "Epoch: [3/10], Step: [401/625], Validation Acc: 85.16\n",
      "Epoch: [3/10], Step: [601/625], Validation Acc: 85.36\n",
      "Epoch: [4/10], Step: [201/625], Validation Acc: 85.52\n",
      "Epoch: [4/10], Step: [401/625], Validation Acc: 85.92\n",
      "Epoch: [4/10], Step: [601/625], Validation Acc: 85.72\n",
      "Epoch: [5/10], Step: [201/625], Validation Acc: 85.6\n",
      "Epoch: [5/10], Step: [401/625], Validation Acc: 85.52\n",
      "Epoch: [5/10], Step: [601/625], Validation Acc: 85.38\n",
      "Epoch: [6/10], Step: [201/625], Validation Acc: 85.5\n",
      "Epoch: [6/10], Step: [401/625], Validation Acc: 85.56\n",
      "Epoch: [6/10], Step: [601/625], Validation Acc: 85.56\n",
      "Epoch: [7/10], Step: [201/625], Validation Acc: 85.42\n",
      "Epoch: [7/10], Step: [401/625], Validation Acc: 85.48\n",
      "Epoch: [7/10], Step: [601/625], Validation Acc: 85.5\n",
      "Epoch: [8/10], Step: [201/625], Validation Acc: 85.52\n",
      "Epoch: [8/10], Step: [401/625], Validation Acc: 85.44\n",
      "Epoch: [8/10], Step: [601/625], Validation Acc: 85.46\n",
      "Epoch: [9/10], Step: [201/625], Validation Acc: 85.44\n",
      "Epoch: [9/10], Step: [401/625], Validation Acc: 85.54\n",
      "Epoch: [9/10], Step: [601/625], Validation Acc: 85.48\n",
      "Epoch: [10/10], Step: [201/625], Validation Acc: 85.44\n",
      "Epoch: [10/10], Step: [401/625], Validation Acc: 85.44\n",
      "Epoch: [10/10], Step: [601/625], Validation Acc: 85.36"
     ]
    },
    {
     "name": "stderr",
     "output_type": "stream",
     "text": [
      "\n",
      "\n",
      "\n",
      "\n",
      "\n",
      "\n",
      "\n",
      " 33%|███▎      | 2/6 [19:21<39:04, 586.21s/it]\u001b[A\u001b[A\u001b[A\u001b[A\u001b[A\u001b[A\u001b[A"
     ]
    },
    {
     "name": "stdout",
     "output_type": "stream",
     "text": [
      "\n",
      "Epoch: [1/10], Step: [201/625], Validation Acc: 81.46\n",
      "Epoch: [1/10], Step: [401/625], Validation Acc: 84.92\n",
      "Epoch: [1/10], Step: [601/625], Validation Acc: 85.86\n",
      "Epoch: [2/10], Step: [201/625], Validation Acc: 85.52\n",
      "Epoch: [2/10], Step: [401/625], Validation Acc: 85.5\n",
      "Epoch: [2/10], Step: [601/625], Validation Acc: 85.54\n",
      "Epoch: [3/10], Step: [201/625], Validation Acc: 85.18\n",
      "Epoch: [3/10], Step: [401/625], Validation Acc: 85.18\n",
      "Epoch: [3/10], Step: [601/625], Validation Acc: 85.06\n",
      "Epoch: [4/10], Step: [201/625], Validation Acc: 85.16\n",
      "Epoch: [4/10], Step: [401/625], Validation Acc: 85.16\n",
      "Epoch: [4/10], Step: [601/625], Validation Acc: 85.26\n",
      "Epoch: [5/10], Step: [201/625], Validation Acc: 85.32\n",
      "Epoch: [5/10], Step: [401/625], Validation Acc: 85.26\n",
      "Epoch: [5/10], Step: [601/625], Validation Acc: 85.28\n",
      "Epoch: [6/10], Step: [201/625], Validation Acc: 85.24\n",
      "Epoch: [6/10], Step: [401/625], Validation Acc: 85.26\n",
      "Epoch: [6/10], Step: [601/625], Validation Acc: 85.32\n",
      "Epoch: [7/10], Step: [201/625], Validation Acc: 85.4\n",
      "Epoch: [7/10], Step: [401/625], Validation Acc: 85.14\n",
      "Epoch: [7/10], Step: [601/625], Validation Acc: 85.2\n",
      "Epoch: [8/10], Step: [201/625], Validation Acc: 85.26\n",
      "Epoch: [8/10], Step: [401/625], Validation Acc: 85.18\n",
      "Epoch: [8/10], Step: [601/625], Validation Acc: 85.18\n",
      "Epoch: [9/10], Step: [201/625], Validation Acc: 85.16\n",
      "Epoch: [9/10], Step: [401/625], Validation Acc: 85.14\n",
      "Epoch: [9/10], Step: [601/625], Validation Acc: 85.18\n",
      "Epoch: [10/10], Step: [201/625], Validation Acc: 85.2\n",
      "Epoch: [10/10], Step: [401/625], Validation Acc: 85.16\n",
      "Epoch: [10/10], Step: [601/625], Validation Acc: 85.2"
     ]
    },
    {
     "name": "stderr",
     "output_type": "stream",
     "text": [
      "\n",
      "\n",
      "\n",
      "\n",
      "\n",
      "\n",
      "\n",
      " 50%|█████     | 3/6 [28:52<29:04, 581.58s/it]\u001b[A\u001b[A\u001b[A\u001b[A\u001b[A\u001b[A\u001b[A"
     ]
    },
    {
     "name": "stdout",
     "output_type": "stream",
     "text": [
      "\n",
      "Epoch: [1/10], Step: [201/625], Validation Acc: 82.78\n",
      "Epoch: [1/10], Step: [401/625], Validation Acc: 84.9\n",
      "Epoch: [1/10], Step: [601/625], Validation Acc: 85.36\n",
      "Epoch: [2/10], Step: [201/625], Validation Acc: 84.36\n",
      "Epoch: [2/10], Step: [401/625], Validation Acc: 84.0\n",
      "Epoch: [2/10], Step: [601/625], Validation Acc: 83.38\n",
      "Epoch: [3/10], Step: [201/625], Validation Acc: 83.08\n",
      "Epoch: [3/10], Step: [401/625], Validation Acc: 83.56\n",
      "Epoch: [3/10], Step: [601/625], Validation Acc: 82.74\n",
      "Epoch: [4/10], Step: [201/625], Validation Acc: 82.72\n",
      "Epoch: [4/10], Step: [401/625], Validation Acc: 82.84\n",
      "Epoch: [4/10], Step: [601/625], Validation Acc: 81.98\n",
      "Epoch: [5/10], Step: [201/625], Validation Acc: 82.64\n",
      "Epoch: [5/10], Step: [401/625], Validation Acc: 80.94\n",
      "Epoch: [5/10], Step: [601/625], Validation Acc: 82.44\n",
      "Epoch: [6/10], Step: [201/625], Validation Acc: 82.2\n",
      "Epoch: [6/10], Step: [401/625], Validation Acc: 82.34\n",
      "Epoch: [6/10], Step: [601/625], Validation Acc: 82.5\n",
      "Epoch: [7/10], Step: [201/625], Validation Acc: 82.64\n",
      "Epoch: [7/10], Step: [401/625], Validation Acc: 82.88\n",
      "Epoch: [7/10], Step: [601/625], Validation Acc: 82.78\n",
      "Epoch: [8/10], Step: [201/625], Validation Acc: 82.92\n",
      "Epoch: [8/10], Step: [401/625], Validation Acc: 82.86\n",
      "Epoch: [8/10], Step: [601/625], Validation Acc: 81.02\n",
      "Epoch: [9/10], Step: [201/625], Validation Acc: 82.4\n",
      "Epoch: [9/10], Step: [401/625], Validation Acc: 82.48\n",
      "Epoch: [9/10], Step: [601/625], Validation Acc: 82.5\n",
      "Epoch: [10/10], Step: [201/625], Validation Acc: 82.68\n",
      "Epoch: [10/10], Step: [401/625], Validation Acc: 81.96\n",
      "Epoch: [10/10], Step: [601/625], Validation Acc: 82.1"
     ]
    },
    {
     "name": "stderr",
     "output_type": "stream",
     "text": [
      "\n",
      "\n",
      "\n",
      "\n",
      "\n",
      "\n",
      "\n",
      " 67%|██████▋   | 4/6 [38:30<19:21, 580.65s/it]\u001b[A\u001b[A\u001b[A\u001b[A\u001b[A\u001b[A\u001b[A"
     ]
    },
    {
     "name": "stdout",
     "output_type": "stream",
     "text": [
      "\n",
      "Epoch: [1/10], Step: [201/625], Validation Acc: 82.56\n",
      "Epoch: [1/10], Step: [401/625], Validation Acc: 84.4\n",
      "Epoch: [1/10], Step: [601/625], Validation Acc: 84.64\n",
      "Epoch: [2/10], Step: [201/625], Validation Acc: 83.38\n",
      "Epoch: [2/10], Step: [401/625], Validation Acc: 82.2\n",
      "Epoch: [2/10], Step: [601/625], Validation Acc: 82.26\n",
      "Epoch: [3/10], Step: [201/625], Validation Acc: 81.68\n",
      "Epoch: [3/10], Step: [401/625], Validation Acc: 76.26\n",
      "Epoch: [3/10], Step: [601/625], Validation Acc: 82.5\n",
      "Epoch: [4/10], Step: [201/625], Validation Acc: 82.88\n",
      "Epoch: [4/10], Step: [401/625], Validation Acc: 82.36\n",
      "Epoch: [4/10], Step: [601/625], Validation Acc: 81.78\n",
      "Epoch: [5/10], Step: [201/625], Validation Acc: 82.18\n",
      "Epoch: [5/10], Step: [401/625], Validation Acc: 82.5\n",
      "Epoch: [5/10], Step: [601/625], Validation Acc: 80.74\n",
      "Epoch: [6/10], Step: [201/625], Validation Acc: 82.36\n",
      "Epoch: [6/10], Step: [401/625], Validation Acc: 82.32\n",
      "Epoch: [6/10], Step: [601/625], Validation Acc: 82.58\n",
      "Epoch: [7/10], Step: [201/625], Validation Acc: 82.76\n",
      "Epoch: [7/10], Step: [401/625], Validation Acc: 81.4\n",
      "Epoch: [7/10], Step: [601/625], Validation Acc: 82.14\n",
      "Epoch: [8/10], Step: [201/625], Validation Acc: 82.48\n",
      "Epoch: [8/10], Step: [401/625], Validation Acc: 82.22\n",
      "Epoch: [8/10], Step: [601/625], Validation Acc: 81.88\n",
      "Epoch: [9/10], Step: [201/625], Validation Acc: 82.5\n",
      "Epoch: [9/10], Step: [401/625], Validation Acc: 82.9\n",
      "Epoch: [9/10], Step: [601/625], Validation Acc: 82.32\n",
      "Epoch: [10/10], Step: [201/625], Validation Acc: 82.66\n",
      "Epoch: [10/10], Step: [401/625], Validation Acc: 82.64\n",
      "Epoch: [10/10], Step: [601/625], Validation Acc: 82.3"
     ]
    },
    {
     "name": "stderr",
     "output_type": "stream",
     "text": [
      "\n",
      "\n",
      "\n",
      "\n",
      "\n",
      "\n",
      "\n",
      " 83%|████████▎ | 5/6 [49:22<10:01, 601.85s/it]\u001b[A\u001b[A\u001b[A\u001b[A\u001b[A\u001b[A\u001b[A"
     ]
    },
    {
     "name": "stdout",
     "output_type": "stream",
     "text": [
      "\n",
      "Epoch: [1/10], Step: [201/625], Validation Acc: 72.66\n",
      "Epoch: [1/10], Step: [401/625], Validation Acc: 75.0\n",
      "Epoch: [1/10], Step: [601/625], Validation Acc: 68.5\n",
      "Epoch: [2/10], Step: [201/625], Validation Acc: 81.98\n",
      "Epoch: [2/10], Step: [401/625], Validation Acc: 80.86\n",
      "Epoch: [2/10], Step: [601/625], Validation Acc: 82.26\n",
      "Epoch: [3/10], Step: [201/625], Validation Acc: 82.0\n",
      "Epoch: [3/10], Step: [401/625], Validation Acc: 78.38\n",
      "Epoch: [3/10], Step: [601/625], Validation Acc: 80.64\n",
      "Epoch: [4/10], Step: [201/625], Validation Acc: 79.24\n",
      "Epoch: [4/10], Step: [401/625], Validation Acc: 81.24\n",
      "Epoch: [4/10], Step: [601/625], Validation Acc: 81.64\n",
      "Epoch: [5/10], Step: [201/625], Validation Acc: 82.56\n",
      "Epoch: [5/10], Step: [401/625], Validation Acc: 82.4\n",
      "Epoch: [5/10], Step: [601/625], Validation Acc: 82.62\n",
      "Epoch: [6/10], Step: [201/625], Validation Acc: 83.2\n",
      "Epoch: [6/10], Step: [401/625], Validation Acc: 82.72\n",
      "Epoch: [6/10], Step: [601/625], Validation Acc: 81.1\n",
      "Epoch: [7/10], Step: [201/625], Validation Acc: 82.98\n",
      "Epoch: [7/10], Step: [401/625], Validation Acc: 82.32\n",
      "Epoch: [7/10], Step: [601/625], Validation Acc: 82.74\n",
      "Epoch: [8/10], Step: [201/625], Validation Acc: 82.68\n",
      "Epoch: [8/10], Step: [401/625], Validation Acc: 83.0\n",
      "Epoch: [8/10], Step: [601/625], Validation Acc: 82.92\n",
      "Epoch: [9/10], Step: [201/625], Validation Acc: 82.8\n",
      "Epoch: [9/10], Step: [401/625], Validation Acc: 83.2\n",
      "Epoch: [9/10], Step: [601/625], Validation Acc: 82.18\n",
      "Epoch: [10/10], Step: [201/625], Validation Acc: 82.48\n",
      "Epoch: [10/10], Step: [401/625], Validation Acc: 82.48\n",
      "Epoch: [10/10], Step: [601/625], Validation Acc: 82.7"
     ]
    },
    {
     "name": "stderr",
     "output_type": "stream",
     "text": [
      "\n",
      "\n",
      "\n",
      "\n",
      "\n",
      "\n",
      "\n",
      "100%|██████████| 6/6 [1:18:30<00:00, 945.86s/it]\u001b[A\u001b[A\u001b[A\u001b[A\u001b[A\u001b[A\u001b[A\n",
      "\n",
      "\n",
      "\n",
      "\n",
      "\n",
      "\n",
      "\u001b[A\u001b[A\u001b[A\u001b[A\u001b[A\u001b[A\u001b[A"
     ]
    },
    {
     "name": "stdout",
     "output_type": "stream",
     "text": [
      "\n"
     ]
    }
   ],
   "source": [
    "val_lrates=[]\n",
    "test_lrates=[]\n",
    "for i in tqdm.trange(len(learning_rates)):\n",
    "    lr=learning_rates[i]\n",
    "    val_acc_lr,test_acc_lr=run(max_vocab_size=50000,learning_rate=lr)\n",
    "    val_lrates.append(val_acc_lr)\n",
    "    test_lrates.append(test_acc_lr)"
   ]
  },
  {
   "cell_type": "markdown",
   "metadata": {},
   "source": [
    "#### Accuracy vs learning rate after 10 epochs"
   ]
  },
  {
   "cell_type": "code",
   "execution_count": 176,
   "metadata": {
    "collapsed": false
   },
   "outputs": [
    {
     "data": {
      "image/png": "[encoded data removed]",
      "text/plain": [
       "<matplotlib.figure.Figure at 0x224ee7240>"
      ]
     },
     "metadata": {},
     "output_type": "display_data"
    }
   ],
   "source": [
    "plt.plot((learning_rates),val_lrates,label='Validation accuracy',marker=\"o\")\n",
    "plt.xlabel('learning rate')\n",
    "plt.ylabel('Accuracy')\n",
    "plt.title('Accuracy vs learning rate for 1-grams')\n",
    "plt.grid()"
   ]
  },
  {
   "cell_type": "code",
   "execution_count": 183,
   "metadata": {
    "collapsed": false
   },
   "outputs": [
    {
     "data": {
      "image/png": "[encoded data removed]",
      "text/plain": [
       "<matplotlib.figure.Figure at 0x2426ea2e8>"
      ]
     },
     "metadata": {},
     "output_type": "display_data"
    }
   ],
   "source": [
    "plt.plot(np.log10(learning_rates),val_lrates,label='Validation accuracy',marker=\"o\")\n",
    "plt.xlabel('Log-learning rate')\n",
    "plt.ylabel('Accuracy')\n",
    "plt.title('Accuracy vs learning rate for 1-grams')\n",
    "plt.grid()"
   ]
  },
  {
   "cell_type": "markdown",
   "metadata": {},
   "source": [
    "#### Accuracy vs learning rate during training (training curve)"
   ]
  },
  {
   "cell_type": "code",
   "execution_count": 172,
   "metadata": {
    "collapsed": true
   },
   "outputs": [],
   "source": [
    "lr_1g_001=[59.3,60.84,63.82,76.74,79.6,80.02,81.82,\n",
    "           83.24,84.38,84.42,84.48,85.54,85.3,85.82,\n",
    "           85.94,85.9,86.24,86.14,85.82,85.94,85.94,\n",
    "           85.88,86.08,85.86,85.94,85.52,85.54,85.76,\n",
    "           85.62,85.72,val_lrates[0]]\n",
    "\n",
    "\n",
    "lr_1g_005=[75.72,83.66,85.34,86.08,85.9,85.88,86.3,\n",
    "           85.16,85.36,85.52,85.92,85.72,85.6,85.52,\n",
    "           85.38,85.5,85.56,85.56,85.42,85.48,85.5,\n",
    "           85.52,85.44,85.46,85.44,85.54,85.48,85.44,\n",
    "           85.44,85.36,val_lrates[1]]\n",
    "\n",
    "lr_1g_01=[81.46,84.92,85.86,85.52,85.5,85.54,85.18,\n",
    "          85.18,85.06,85.16,85.16,85.26,85.32,85.26,\n",
    "          85.28,85.24,85.26,85.32,85.4,85.14,85.2,\n",
    "          85.26,85.18,85.18,85.16,85.14,85.18,85.2,\n",
    "          85.16,85.2,val_lrates[2]]\n",
    "\n",
    "\n",
    "lr_1g_05=[82.78,84.9,85.36,84.36,84.0,83.38,83.08,\n",
    "          83.56,82.74,82.72,82.84,81.98,82.64,80.94,\n",
    "          82.44,82.2,82.34,82.5,82.64,82.88,82.78,\n",
    "          82.92,82.86,81.02,82.4,82.48,82.5,82.68,\n",
    "          81.96,82.1,val_lrates[3]]\n",
    "\n",
    "lr_1g_1=[82.56,84.4,84.64,83.38,82.2,82.26,81.68,\n",
    "         76.26,82.5,82.88,82.36,81.78,82.18,82.5,\n",
    "         80.74,82.36,82.32,82.58,82.76,81.4,82.14,\n",
    "         82.48,82.22,81.88,82.5,82.9,82.32,82.66,\n",
    "         82.64,82.3,val_lrates[4]]\n",
    "\n",
    "lr_1g_5=[72.66,75.0,68.5,81.98,80.86,82.26,82.0,\n",
    "         78.38,80.64,79.24,81.24,81.64,82.56,82.4,\n",
    "         82.62,83.2,82.72,81.1,82.98,82.32,82.74,82.68,\n",
    "         83.0,82.92,82.8,83.2,82.18,82.48,82.48,82.7,val_lrates[5]]\n",
    "\n",
    "learning_curves_lr_1g=[lr_1g_001,lr_1g_005,lr_1g_01,lr_1g_05,lr_1g_1,lr_1g_5]"
   ]
  },
  {
   "cell_type": "code",
   "execution_count": 174,
   "metadata": {
    "collapsed": false
   },
   "outputs": [
    {
     "data": {
      "image/png": "[encoded data removed]",
      "text/plain": [
       "<matplotlib.figure.Figure at 0x242076828>"
      ]
     },
     "metadata": {},
     "output_type": "display_data"
    }
   ],
   "source": [
    "for i in range(len(learning_rates)):\n",
    "    plt.plot(iterations,learning_curves_lr_1g[i],label=str(learning_rates[i]))\n",
    "plt.legend(bbox_to_anchor=(1.3, 1))\n",
    "plt.xlabel('Iterations')\n",
    "plt.ylabel('Accuracy')\n",
    "plt.title('Learning curves for 1gram for different learning rates')\n",
    "plt.show()"
   ]
  },
  {
   "cell_type": "markdown",
   "metadata": {},
   "source": [
    "## Optimizer (SGD vs Adam)"
   ]
  },
  {
   "cell_type": "markdown",
   "metadata": {},
   "source": [
    "## We create a new function SGD run where we modify the optimizer (line 209)"
   ]
  },
  {
   "cell_type": "code",
   "execution_count": 185,
   "metadata": {
    "collapsed": true
   },
   "outputs": [],
   "source": [
    "from collections import Counter\n",
    "import os\n",
    "import random\n",
    "import math\n",
    "import tqdm\n",
    "import numpy as np\n",
    "\n",
    "\n",
    "# save index 0 for unk and 1 for pad\n",
    "PAD_IDX = 0\n",
    "UNK_IDX = 1\n",
    "def run_SGD(max_vocab_size=10000, MAX_SENTENCE_LENGTH = 200, BATCH_SIZE = 32, \n",
    "        emb_dim = 100, learning_rate = 0.01, num_epochs = 10):\n",
    "\n",
    "\n",
    "    def build_vocab(all_tokens):\n",
    "        # Returns:\n",
    "        # id2token: list of tokens, where id2token[i] returns token that corresponds to token i\n",
    "        # token2id: dictionary where keys represent tokens and corresponding values represent indices\n",
    "        token_counter = Counter(all_tokens)\n",
    "        vocab, count = zip(*token_counter.most_common(max_vocab_size))\n",
    "        id2token = list(vocab)\n",
    "        token2id = dict(zip(vocab, range(2,2+len(vocab)))) \n",
    "        id2token = ['<pad>', '<unk>'] + id2token\n",
    "        token2id['<pad>'] = PAD_IDX \n",
    "        token2id['<unk>'] = UNK_IDX\n",
    "        return token2id, id2token\n",
    "\n",
    "    # convert token to id in the dataset\n",
    "    def token2index_dataset(tokens_data):\n",
    "        indices_data = []\n",
    "        for tokens in tokens_data:\n",
    "            index_list = [token2id[token] if token in token2id else UNK_IDX for token in tokens]\n",
    "            indices_data.append(index_list)\n",
    "        return indices_data\n",
    "\n",
    "\n",
    "    import numpy as np\n",
    "    import torch\n",
    "    from torch.utils.data import Dataset\n",
    "\n",
    "    class NewsGroupDataset(Dataset):\n",
    "        \"\"\"\n",
    "        Class that represents a train/validation/test dataset that's readable for PyTorch\n",
    "        Note that this class inherits torch.utils.data.Dataset\n",
    "        \"\"\"\n",
    "\n",
    "        def __init__(self, data_list, target_list):\n",
    "            \"\"\"\n",
    "            @param data_list: list of newsgroup tokens \n",
    "            @param target_list: list of newsgroup targets \n",
    "\n",
    "            \"\"\"\n",
    "            self.data_list = data_list\n",
    "            self.target_list = target_list\n",
    "            assert (len(self.data_list) == len(self.target_list))\n",
    "\n",
    "        def __len__(self):\n",
    "            return len(self.data_list)\n",
    "\n",
    "        def __getitem__(self, key):\n",
    "            \"\"\"\n",
    "            Triggered when you call dataset[i]\n",
    "            \"\"\"\n",
    "\n",
    "            token_idx = self.data_list[key][:MAX_SENTENCE_LENGTH]\n",
    "            label = self.target_list[key]\n",
    "            return [token_idx, len(token_idx), label]\n",
    "\n",
    "    def newsgroup_collate_func(batch):\n",
    "        \"\"\"\n",
    "        Customized function for DataLoader that dynamically pads the batch so that all \n",
    "        data have the same length\n",
    "        \"\"\"\n",
    "        data_list = []\n",
    "        label_list = []\n",
    "        length_list = []\n",
    "        #print(\"collate batch: \", batch[0][0])\n",
    "        #batch[0][0] = batch[0][0][:MAX_SENTENCE_LENGTH]\n",
    "        for datum in batch:\n",
    "            label_list.append(datum[2])\n",
    "            length_list.append(datum[1])\n",
    "        # padding\n",
    "        for datum in batch:\n",
    "            padded_vec = np.pad(np.array(datum[0]), \n",
    "                                    pad_width=((0,MAX_SENTENCE_LENGTH-datum[1])), \n",
    "                                    mode=\"constant\", constant_values=0)\n",
    "            data_list.append(padded_vec)\n",
    "        return [torch.from_numpy(np.array(data_list)), torch.LongTensor(length_list), torch.LongTensor(label_list)]\n",
    "\n",
    "    token2id, id2token = build_vocab(all_train_tokens)\n",
    "\n",
    "    # convert token to id in the dataset\n",
    "\n",
    "    train_data_indices = token2index_dataset(train_data_tokens)\n",
    "    val_data_indices = token2index_dataset(val_data_tokens)\n",
    "    test_data_indices = token2index_dataset(test_data_tokens)\n",
    "\n",
    "    import numpy as np\n",
    "    import torch\n",
    "    from torch.utils.data import Dataset\n",
    "\n",
    "    class NewsGroupDataset(Dataset):\n",
    "        \"\"\"\n",
    "        Class that represents a train/validation/test dataset that's readable for PyTorch\n",
    "        Note that this class inherits torch.utils.data.Dataset\n",
    "        \"\"\"\n",
    "\n",
    "        def __init__(self, data_list, target_list):\n",
    "            \"\"\"\n",
    "            @param data_list: list of newsgroup tokens \n",
    "            @param target_list: list of newsgroup targets \n",
    "\n",
    "            \"\"\"\n",
    "            self.data_list = data_list\n",
    "            self.target_list = target_list\n",
    "            assert (len(self.data_list) == len(self.target_list))\n",
    "\n",
    "        def __len__(self):\n",
    "            return len(self.data_list)\n",
    "\n",
    "        def __getitem__(self, key):\n",
    "            \"\"\"\n",
    "            Triggered when you call dataset[i]\n",
    "            \"\"\"\n",
    "\n",
    "            token_idx = self.data_list[key][:MAX_SENTENCE_LENGTH]\n",
    "            label = self.target_list[key]\n",
    "            return [token_idx, len(token_idx), label]\n",
    "\n",
    "    def newsgroup_collate_func(batch):\n",
    "        \"\"\"\n",
    "        Customized function for DataLoader that dynamically pads the batch so that all \n",
    "        data have the same length\n",
    "        \"\"\"\n",
    "        data_list = []\n",
    "        label_list = []\n",
    "        length_list = []\n",
    "        #print(\"collate batch: \", batch[0][0])\n",
    "        #batch[0][0] = batch[0][0][:MAX_SENTENCE_LENGTH]\n",
    "        for datum in batch:\n",
    "            label_list.append(datum[2])\n",
    "            length_list.append(datum[1])\n",
    "        # padding\n",
    "        for datum in batch:\n",
    "            padded_vec = np.pad(np.array(datum[0]), \n",
    "                                    pad_width=((0,MAX_SENTENCE_LENGTH-datum[1])), \n",
    "                                    mode=\"constant\", constant_values=0)\n",
    "            data_list.append(padded_vec)\n",
    "        return [torch.from_numpy(np.array(data_list)), torch.LongTensor(length_list), torch.LongTensor(label_list)]\n",
    "\n",
    "    train_dataset = NewsGroupDataset(train_data_indices, train_target)\n",
    "    train_loader = torch.utils.data.DataLoader(dataset=train_dataset, \n",
    "                                               batch_size=BATCH_SIZE,\n",
    "                                               collate_fn=newsgroup_collate_func,\n",
    "                                               shuffle=True)\n",
    "\n",
    "    val_dataset = NewsGroupDataset(val_data_indices, val_target)\n",
    "    val_loader = torch.utils.data.DataLoader(dataset=val_dataset, \n",
    "                                               batch_size=BATCH_SIZE,\n",
    "                                               collate_fn=newsgroup_collate_func,\n",
    "                                               shuffle=True)\n",
    "\n",
    "    test_dataset = NewsGroupDataset(test_data_indices, test_target)\n",
    "    test_loader = torch.utils.data.DataLoader(dataset=test_dataset, \n",
    "                                               batch_size=BATCH_SIZE,\n",
    "                                               collate_fn=newsgroup_collate_func,\n",
    "                                               shuffle=False)\n",
    "\n",
    "    import torch\n",
    "    import torch.nn as nn\n",
    "    import torch.nn.functional as F\n",
    "\n",
    "    class BagOfWords(nn.Module):\n",
    "        \"\"\"\n",
    "        BagOfWords classification model\n",
    "        \"\"\"\n",
    "        def __init__(self, vocab_size, emb_dim):\n",
    "            \"\"\"\n",
    "            @param vocab_size: size of the vocabulary. \n",
    "            @param emb_dim: size of the word embedding\n",
    "            \"\"\"\n",
    "            super(BagOfWords, self).__init__()\n",
    "            # pay attention to padding_idx \n",
    "            self.embed = nn.Embedding(vocab_size, emb_dim, padding_idx=0)\n",
    "            self.linear = nn.Linear(emb_dim,20)\n",
    "\n",
    "        def forward(self, data, length):\n",
    "            \"\"\"\n",
    "\n",
    "            @param data: matrix of size (batch_size, max_sentence_length). Each row in data represents a \n",
    "                review that is represented using n-gram index. Note that they are padded to have same length.\n",
    "            @param length: an int tensor of size (batch_size), which represents the non-trivial (excludes padding)\n",
    "                length of each sentences in the data.\n",
    "            \"\"\"\n",
    "            out = self.embed(data)\n",
    "            out = torch.sum(out, dim=1)\n",
    "            out /= length.view(length.size()[0],1).expand_as(out).float()\n",
    "\n",
    "            # return logits\n",
    "            out = self.linear(out.float())\n",
    "            return out\n",
    "\n",
    "    model = BagOfWords(len(id2token), emb_dim)\n",
    "\n",
    "\n",
    "    # Criterion and Optimizer\n",
    "    criterion = torch.nn.CrossEntropyLoss()  \n",
    "    optimizer = torch.optim.SGD(model.parameters(), lr=learning_rate)\n",
    "\n",
    "    # Function for testing the model\n",
    "    def test_model(loader, model):\n",
    "        \"\"\"\n",
    "        Help function that tests the model's performance on a dataset\n",
    "        @param: loader - data loader for the dataset to test against\n",
    "        \"\"\"\n",
    "        correct = 0\n",
    "        total = 0\n",
    "        model.eval()\n",
    "        for data, lengths, labels in loader:\n",
    "            data_batch, length_batch, label_batch = data, lengths, labels\n",
    "            outputs = F.softmax(model(data_batch, length_batch), dim=1)\n",
    "            predicted = outputs.max(1, keepdim=True)[1]\n",
    "\n",
    "            total += labels.size(0)\n",
    "            correct += predicted.eq(labels.view_as(predicted)).sum().item()\n",
    "        return (100 * correct / total)\n",
    "    val_hist=[]\n",
    "    for epoch in range(num_epochs):\n",
    "        for i, (data, lengths, labels) in enumerate(train_loader):\n",
    "            model.train()\n",
    "            data_batch, length_batch, label_batch = data, lengths, labels\n",
    "            optimizer.zero_grad()\n",
    "            outputs = model(data_batch, length_batch)\n",
    "            loss = criterion(outputs, label_batch)\n",
    "            loss.backward()\n",
    "            optimizer.step()\n",
    "            # validate every 200 iterations\n",
    "            if i > 0 and i % 200 == 0:\n",
    "                # validate\n",
    "                val_acc = test_model(val_loader, model)\n",
    "                val_hist.append(val_acc)\n",
    "                print('Epoch: [{}/{}], Step: [{}/{}], Validation Acc: {}'.format( \n",
    "                           epoch+1, num_epochs, i+1, len(train_loader), val_acc))\n",
    "    return test_model(val_loader, model), test_model(test_loader, model),val_hist\n",
    "\n"
   ]
  },
  {
   "cell_type": "code",
   "execution_count": 187,
   "metadata": {
    "collapsed": false
   },
   "outputs": [
    {
     "name": "stdout",
     "output_type": "stream",
     "text": [
      "Epoch: [1/10], Step: [201/625], Validation Acc: 51.44\n",
      "Epoch: [1/10], Step: [401/625], Validation Acc: 53.16\n",
      "Epoch: [1/10], Step: [601/625], Validation Acc: 56.44\n",
      "Epoch: [2/10], Step: [201/625], Validation Acc: 57.9\n",
      "Epoch: [2/10], Step: [401/625], Validation Acc: 58.6\n",
      "Epoch: [2/10], Step: [601/625], Validation Acc: 59.14\n",
      "Epoch: [3/10], Step: [201/625], Validation Acc: 60.38\n",
      "Epoch: [3/10], Step: [401/625], Validation Acc: 60.8\n",
      "Epoch: [3/10], Step: [601/625], Validation Acc: 60.9\n",
      "Epoch: [4/10], Step: [201/625], Validation Acc: 61.38\n",
      "Epoch: [4/10], Step: [401/625], Validation Acc: 61.34\n",
      "Epoch: [4/10], Step: [601/625], Validation Acc: 62.04\n",
      "Epoch: [5/10], Step: [201/625], Validation Acc: 62.3\n",
      "Epoch: [5/10], Step: [401/625], Validation Acc: 62.5\n",
      "Epoch: [5/10], Step: [601/625], Validation Acc: 62.72\n",
      "Epoch: [6/10], Step: [201/625], Validation Acc: 62.7\n",
      "Epoch: [6/10], Step: [401/625], Validation Acc: 63.02\n",
      "Epoch: [6/10], Step: [601/625], Validation Acc: 63.26\n",
      "Epoch: [7/10], Step: [201/625], Validation Acc: 63.2\n",
      "Epoch: [7/10], Step: [401/625], Validation Acc: 63.28\n",
      "Epoch: [7/10], Step: [601/625], Validation Acc: 63.36\n",
      "Epoch: [8/10], Step: [201/625], Validation Acc: 63.4\n",
      "Epoch: [8/10], Step: [401/625], Validation Acc: 63.54\n",
      "Epoch: [8/10], Step: [601/625], Validation Acc: 63.66\n",
      "Epoch: [9/10], Step: [201/625], Validation Acc: 63.5\n",
      "Epoch: [9/10], Step: [401/625], Validation Acc: 63.66\n",
      "Epoch: [9/10], Step: [601/625], Validation Acc: 63.8\n",
      "Epoch: [10/10], Step: [201/625], Validation Acc: 64.04\n",
      "Epoch: [10/10], Step: [401/625], Validation Acc: 63.94\n",
      "Epoch: [10/10], Step: [601/625], Validation Acc: 64.38\n"
     ]
    }
   ],
   "source": [
    "val_acc_SGD,test_acc_SGD,acc_hist_SGD=run_SGD(max_vocab_size=50000,learning_rate=0.01)"
   ]
  },
  {
   "cell_type": "code",
   "execution_count": 190,
   "metadata": {
    "collapsed": false
   },
   "outputs": [
    {
     "name": "stdout",
     "output_type": "stream",
     "text": [
      "Epoch: [1/10], Step: [201/625], Validation Acc: 81.8\n",
      "Epoch: [1/10], Step: [401/625], Validation Acc: 84.58\n",
      "Epoch: [1/10], Step: [601/625], Validation Acc: 86.2\n",
      "Epoch: [2/10], Step: [201/625], Validation Acc: 85.6\n",
      "Epoch: [2/10], Step: [401/625], Validation Acc: 85.46\n",
      "Epoch: [2/10], Step: [601/625], Validation Acc: 85.56\n",
      "Epoch: [3/10], Step: [201/625], Validation Acc: 85.3\n",
      "Epoch: [3/10], Step: [401/625], Validation Acc: 85.28\n",
      "Epoch: [3/10], Step: [601/625], Validation Acc: 84.68\n",
      "Epoch: [4/10], Step: [201/625], Validation Acc: 85.26\n",
      "Epoch: [4/10], Step: [401/625], Validation Acc: 85.3\n",
      "Epoch: [4/10], Step: [601/625], Validation Acc: 85.36\n",
      "Epoch: [5/10], Step: [201/625], Validation Acc: 85.32\n",
      "Epoch: [5/10], Step: [401/625], Validation Acc: 85.4\n",
      "Epoch: [5/10], Step: [601/625], Validation Acc: 85.46\n",
      "Epoch: [6/10], Step: [201/625], Validation Acc: 85.42\n",
      "Epoch: [6/10], Step: [401/625], Validation Acc: 85.52\n",
      "Epoch: [6/10], Step: [601/625], Validation Acc: 85.36\n",
      "Epoch: [7/10], Step: [201/625], Validation Acc: 85.46\n",
      "Epoch: [7/10], Step: [401/625], Validation Acc: 85.42\n",
      "Epoch: [7/10], Step: [601/625], Validation Acc: 85.44\n",
      "Epoch: [8/10], Step: [201/625], Validation Acc: 85.4\n",
      "Epoch: [8/10], Step: [401/625], Validation Acc: 85.46\n",
      "Epoch: [8/10], Step: [601/625], Validation Acc: 85.3\n",
      "Epoch: [9/10], Step: [201/625], Validation Acc: 85.42\n",
      "Epoch: [9/10], Step: [401/625], Validation Acc: 85.42\n",
      "Epoch: [9/10], Step: [601/625], Validation Acc: 85.34\n",
      "Epoch: [10/10], Step: [201/625], Validation Acc: 85.34\n",
      "Epoch: [10/10], Step: [401/625], Validation Acc: 85.38\n",
      "Epoch: [10/10], Step: [601/625], Validation Acc: 85.36\n"
     ]
    }
   ],
   "source": [
    "val_acc_ADAM,test_acc_ADAM=run()"
   ]
  },
  {
   "cell_type": "code",
   "execution_count": 191,
   "metadata": {
    "collapsed": false
   },
   "outputs": [
    {
     "name": "stdout",
     "output_type": "stream",
     "text": [
      "85.34\n",
      "64.36\n"
     ]
    }
   ],
   "source": [
    "print(val_acc_ADAM)\n",
    "print(val_acc_SGD)"
   ]
  },
  {
   "cell_type": "markdown",
   "metadata": {},
   "source": [
    "# FINAL MODEL"
   ]
  },
  {
   "cell_type": "code",
   "execution_count": 12,
   "metadata": {
    "collapsed": false
   },
   "outputs": [
    {
     "name": "stdout",
     "output_type": "stream",
     "text": [
      "Epoch: [1/10], Step: [201/625], Validation Acc: 86.04\n",
      "Epoch: [1/10], Step: [401/625], Validation Acc: 87.56\n",
      "Epoch: [1/10], Step: [601/625], Validation Acc: 88.28\n",
      "Epoch: [2/10], Step: [201/625], Validation Acc: 88.74\n",
      "Epoch: [2/10], Step: [401/625], Validation Acc: 89.0\n",
      "Epoch: [2/10], Step: [601/625], Validation Acc: 87.92\n",
      "Epoch: [3/10], Step: [201/625], Validation Acc: 88.22\n",
      "Epoch: [3/10], Step: [401/625], Validation Acc: 87.78\n",
      "Epoch: [3/10], Step: [601/625], Validation Acc: 87.26\n",
      "Epoch: [4/10], Step: [201/625], Validation Acc: 87.94\n",
      "Epoch: [4/10], Step: [401/625], Validation Acc: 87.78\n",
      "Epoch: [4/10], Step: [601/625], Validation Acc: 87.68\n",
      "Epoch: [5/10], Step: [201/625], Validation Acc: 87.54\n",
      "Epoch: [5/10], Step: [401/625], Validation Acc: 87.56\n",
      "Epoch: [5/10], Step: [601/625], Validation Acc: 87.54\n",
      "Epoch: [6/10], Step: [201/625], Validation Acc: 87.38\n",
      "Epoch: [6/10], Step: [401/625], Validation Acc: 87.5\n",
      "Epoch: [6/10], Step: [601/625], Validation Acc: 87.24\n",
      "Epoch: [7/10], Step: [201/625], Validation Acc: 87.32\n",
      "Epoch: [7/10], Step: [401/625], Validation Acc: 87.38\n",
      "Epoch: [7/10], Step: [601/625], Validation Acc: 87.34\n",
      "Epoch: [8/10], Step: [201/625], Validation Acc: 87.4\n",
      "Epoch: [8/10], Step: [401/625], Validation Acc: 87.42\n",
      "Epoch: [8/10], Step: [601/625], Validation Acc: 87.36\n",
      "Epoch: [9/10], Step: [201/625], Validation Acc: 87.26\n",
      "Epoch: [9/10], Step: [401/625], Validation Acc: 87.42\n",
      "Epoch: [9/10], Step: [601/625], Validation Acc: 87.38\n",
      "Epoch: [10/10], Step: [201/625], Validation Acc: 87.4\n",
      "Epoch: [10/10], Step: [401/625], Validation Acc: 87.4\n",
      "Epoch: [10/10], Step: [601/625], Validation Acc: 87.3\n"
     ]
    },
    {
     "data": {
      "text/plain": [
       "(87.4, 84.976)"
      ]
     },
     "execution_count": 12,
     "metadata": {},
     "output_type": "execute_result"
    }
   ],
   "source": [
    "run(max_vocab_size=50000,MAX_SENTENCE_LENGTH=400)"
   ]
  },
  {
   "cell_type": "code",
   "execution_count": 13,
   "metadata": {
    "collapsed": true
   },
   "outputs": [],
   "source": [
    "test_accuracy=84.976"
   ]
  },
  {
   "cell_type": "markdown",
   "metadata": {},
   "source": [
    "So the test accuracy we get is 84.976"
   ]
  },
  {
   "cell_type": "code",
   "execution_count": null,
   "metadata": {
    "collapsed": true
   },
   "outputs": [],
   "source": []
  }
 ],
 "metadata": {
  "anaconda-cloud": {},
  "celltoolbar": "Raw Cell Format",
  "kernelspec": {
   "display_name": "Python 3",
   "language": "python",
   "name": "python3"
  },
  "language_info": {
   "codemirror_mode": {
    "name": "ipython",
    "version": 3
   },
   "file_extension": ".py",
   "mimetype": "text/x-python",
   "name": "python",
   "nbconvert_exporter": "python",
   "pygments_lexer": "ipython3",
   "version": "3.5.4"
  }
 },
 "nbformat": 4,
 "nbformat_minor": 1
}
